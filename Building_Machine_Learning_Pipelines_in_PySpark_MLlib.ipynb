{
  "nbformat": 4,
  "nbformat_minor": 0,
  "metadata": {
    "colab": {
      "name": "Building Machine Learning Pipelines in PySpark MLlib.ipynb",
      "provenance": [],
      "collapsed_sections": [],
      "include_colab_link": true
    },
    "kernelspec": {
      "display_name": "Python 3",
      "language": "python",
      "name": "python3"
    },
    "language_info": {
      "codemirror_mode": {
        "name": "ipython",
        "version": 3
      },
      "file_extension": ".py",
      "mimetype": "text/x-python",
      "name": "python",
      "nbconvert_exporter": "python",
      "pygments_lexer": "ipython3",
      "version": "3.6.9"
    }
  },
  "cells": [
    {
      "cell_type": "markdown",
      "metadata": {
        "id": "view-in-github",
        "colab_type": "text"
      },
      "source": [
        "<a href=\"https://colab.research.google.com/github/ROARMarketingConcepts/Machine-Learning-Projects/blob/master/Building_Machine_Learning_Pipelines_in_PySpark_MLlib.ipynb\" target=\"_parent\"><img src=\"https://colab.research.google.com/assets/colab-badge.svg\" alt=\"Open In Colab\"/></a>"
      ]
    },
    {
      "cell_type": "markdown",
      "metadata": {
        "id": "furYNSqvb1B_"
      },
      "source": [
        "Task 1 - Install Spark, load required libraries, set environment variables, initiate Spark, load file"
      ]
    },
    {
      "cell_type": "markdown",
      "metadata": {
        "id": "58Wxyz9kdA38"
      },
      "source": [
        "Mount my Google drive where input files are located..."
      ]
    },
    {
      "cell_type": "code",
      "metadata": {
        "colab": {
          "base_uri": "https://localhost:8080/"
        },
        "id": "LcocpavZdGVY",
        "outputId": "759b2bed-4880-4bb1-bc93-d72c71fce1ed"
      },
      "source": [
        "from google.colab import drive\n",
        "drive.mount('/gdrive')"
      ],
      "execution_count": 1,
      "outputs": [
        {
          "output_type": "stream",
          "text": [
            "Drive already mounted at /gdrive; to attempt to forcibly remount, call drive.mount(\"/gdrive\", force_remount=True).\n"
          ],
          "name": "stdout"
        }
      ]
    },
    {
      "cell_type": "code",
      "metadata": {
        "id": "lh5NCoc8fsSO"
      },
      "source": [
        "!apt-get install openjdk-8-jdk-headless -qq > /dev/null\n",
        "!wget -q https://downloads.apache.org/spark/spark-2.4.8/spark-2.4.8-bin-hadoop2.7.tgz\n",
        "!tar xf spark-2.4.8-bin-hadoop2.7.tgz\n",
        "!pip install -q findspark"
      ],
      "execution_count": 2,
      "outputs": []
    },
    {
      "cell_type": "code",
      "metadata": {
        "id": "v1b8k_OVf2QF"
      },
      "source": [
        "import os\n",
        "os.environ[\"JAVA_HOME\"] = \"/usr/lib/jvm/java-8-openjdk-amd64\"\n",
        "os.environ[\"SPARK_HOME\"] = \"/content/spark-2.4.8-bin-hadoop2.7\"\n",
        "import findspark\n",
        "findspark.init()\n",
        "from google.colab import files\n",
        "from pyspark.sql import SparkSession\n",
        "from pyspark.ml.feature import VectorAssembler\n",
        "from pyspark.sql.functions import isnan, when, count, col, lit\n",
        "from pyspark.ml.regression import RandomForestRegressor\n",
        "from pyspark.ml.evaluation import RegressionEvaluator\n",
        "from pyspark.ml import Pipeline\n",
        "from pyspark.ml.tuning import CrossValidator\n",
        "from pyspark.ml.evaluation import RegressionEvaluator\n",
        "from pyspark.ml.tuning import ParamGridBuilder\n"
      ],
      "execution_count": 3,
      "outputs": []
    },
    {
      "cell_type": "code",
      "metadata": {
        "id": "7ohvwzGG9Mbd"
      },
      "source": [
        "sc=SparkSession.builder.master(\"local[*]\").getOrCreate()"
      ],
      "execution_count": 4,
      "outputs": []
    },
    {
      "cell_type": "code",
      "metadata": {
        "colab": {
          "base_uri": "https://localhost:8080/"
        },
        "id": "Nx_mu3Vi65rh",
        "outputId": "0e77a3af-937a-445b-cf9d-e41cea8a9514"
      },
      "source": [
        "!ls"
      ],
      "execution_count": 5,
      "outputs": [
        {
          "output_type": "stream",
          "text": [
            "data.csv  sample_data\t\t     spark-2.4.8-bin-hadoop2.7.tgz\n",
            "pipeline  spark-2.4.8-bin-hadoop2.7  spark-2.4.8-bin-hadoop2.7.tgz.1\n"
          ],
          "name": "stdout"
        }
      ]
    },
    {
      "cell_type": "markdown",
      "metadata": {
        "id": "QEQyyDXObatw"
      },
      "source": [
        "Read in the \"data.csv\" file..."
      ]
    },
    {
      "cell_type": "code",
      "metadata": {
        "id": "YF-g910D7LaW"
      },
      "source": [
        "data=sc.read.csv('/content/data.csv',inferSchema=True,header=True)"
      ],
      "execution_count": 6,
      "outputs": []
    },
    {
      "cell_type": "markdown",
      "metadata": {
        "id": "zBDLT7SXbtME"
      },
      "source": [
        "Quickly examine the dataframe..."
      ]
    },
    {
      "cell_type": "code",
      "metadata": {
        "colab": {
          "base_uri": "https://localhost:8080/",
          "height": 882
        },
        "id": "-yBAwrqn7bh3",
        "outputId": "5577f69e-5386-469d-f238-7472b33d30ad"
      },
      "source": [
        "data.printSchema()\n",
        "data.describe().toPandas().transpose()"
      ],
      "execution_count": 7,
      "outputs": [
        {
          "output_type": "stream",
          "text": [
            "root\n",
            " |-- Make: string (nullable = true)\n",
            " |-- Model: string (nullable = true)\n",
            " |-- Year: integer (nullable = true)\n",
            " |-- Engine Fuel Type: string (nullable = true)\n",
            " |-- Engine HP: integer (nullable = true)\n",
            " |-- Engine Cylinders: integer (nullable = true)\n",
            " |-- Transmission Type: string (nullable = true)\n",
            " |-- Driven_Wheels: string (nullable = true)\n",
            " |-- Number of Doors: integer (nullable = true)\n",
            " |-- Market Category: string (nullable = true)\n",
            " |-- Vehicle Size: string (nullable = true)\n",
            " |-- Vehicle Style: string (nullable = true)\n",
            " |-- highway MPG: integer (nullable = true)\n",
            " |-- city mpg: integer (nullable = true)\n",
            " |-- Popularity: integer (nullable = true)\n",
            " |-- MSRP: integer (nullable = true)\n",
            "\n"
          ],
          "name": "stdout"
        },
        {
          "output_type": "execute_result",
          "data": {
            "text/html": [
              "<div>\n",
              "<style scoped>\n",
              "    .dataframe tbody tr th:only-of-type {\n",
              "        vertical-align: middle;\n",
              "    }\n",
              "\n",
              "    .dataframe tbody tr th {\n",
              "        vertical-align: top;\n",
              "    }\n",
              "\n",
              "    .dataframe thead th {\n",
              "        text-align: right;\n",
              "    }\n",
              "</style>\n",
              "<table border=\"1\" class=\"dataframe\">\n",
              "  <thead>\n",
              "    <tr style=\"text-align: right;\">\n",
              "      <th></th>\n",
              "      <th>0</th>\n",
              "      <th>1</th>\n",
              "      <th>2</th>\n",
              "      <th>3</th>\n",
              "      <th>4</th>\n",
              "    </tr>\n",
              "  </thead>\n",
              "  <tbody>\n",
              "    <tr>\n",
              "      <th>summary</th>\n",
              "      <td>count</td>\n",
              "      <td>mean</td>\n",
              "      <td>stddev</td>\n",
              "      <td>min</td>\n",
              "      <td>max</td>\n",
              "    </tr>\n",
              "    <tr>\n",
              "      <th>Make</th>\n",
              "      <td>11914</td>\n",
              "      <td>None</td>\n",
              "      <td>None</td>\n",
              "      <td>Acura</td>\n",
              "      <td>Volvo</td>\n",
              "    </tr>\n",
              "    <tr>\n",
              "      <th>Model</th>\n",
              "      <td>11914</td>\n",
              "      <td>745.5822222222222</td>\n",
              "      <td>1490.8280590623795</td>\n",
              "      <td>1 Series</td>\n",
              "      <td>xD</td>\n",
              "    </tr>\n",
              "    <tr>\n",
              "      <th>Year</th>\n",
              "      <td>11914</td>\n",
              "      <td>2010.384337753903</td>\n",
              "      <td>7.5797398875957995</td>\n",
              "      <td>1990</td>\n",
              "      <td>2017</td>\n",
              "    </tr>\n",
              "    <tr>\n",
              "      <th>Engine Fuel Type</th>\n",
              "      <td>11911</td>\n",
              "      <td>None</td>\n",
              "      <td>None</td>\n",
              "      <td>diesel</td>\n",
              "      <td>regular unleaded</td>\n",
              "    </tr>\n",
              "    <tr>\n",
              "      <th>Engine HP</th>\n",
              "      <td>11845</td>\n",
              "      <td>249.38607007176023</td>\n",
              "      <td>109.19187025917194</td>\n",
              "      <td>55</td>\n",
              "      <td>1001</td>\n",
              "    </tr>\n",
              "    <tr>\n",
              "      <th>Engine Cylinders</th>\n",
              "      <td>11884</td>\n",
              "      <td>5.628828677213059</td>\n",
              "      <td>1.78055934824622</td>\n",
              "      <td>0</td>\n",
              "      <td>16</td>\n",
              "    </tr>\n",
              "    <tr>\n",
              "      <th>Transmission Type</th>\n",
              "      <td>11914</td>\n",
              "      <td>None</td>\n",
              "      <td>None</td>\n",
              "      <td>AUTOMATED_MANUAL</td>\n",
              "      <td>UNKNOWN</td>\n",
              "    </tr>\n",
              "    <tr>\n",
              "      <th>Driven_Wheels</th>\n",
              "      <td>11914</td>\n",
              "      <td>None</td>\n",
              "      <td>None</td>\n",
              "      <td>all wheel drive</td>\n",
              "      <td>rear wheel drive</td>\n",
              "    </tr>\n",
              "    <tr>\n",
              "      <th>Number of Doors</th>\n",
              "      <td>11908</td>\n",
              "      <td>3.4360933825999327</td>\n",
              "      <td>0.8813153865835529</td>\n",
              "      <td>2</td>\n",
              "      <td>4</td>\n",
              "    </tr>\n",
              "    <tr>\n",
              "      <th>Market Category</th>\n",
              "      <td>11914</td>\n",
              "      <td>None</td>\n",
              "      <td>None</td>\n",
              "      <td>Crossover</td>\n",
              "      <td>Performance,Hybrid</td>\n",
              "    </tr>\n",
              "    <tr>\n",
              "      <th>Vehicle Size</th>\n",
              "      <td>11914</td>\n",
              "      <td>None</td>\n",
              "      <td>None</td>\n",
              "      <td>Compact</td>\n",
              "      <td>Midsize</td>\n",
              "    </tr>\n",
              "    <tr>\n",
              "      <th>Vehicle Style</th>\n",
              "      <td>11914</td>\n",
              "      <td>None</td>\n",
              "      <td>None</td>\n",
              "      <td>2dr Hatchback</td>\n",
              "      <td>Wagon</td>\n",
              "    </tr>\n",
              "    <tr>\n",
              "      <th>highway MPG</th>\n",
              "      <td>11914</td>\n",
              "      <td>26.637485311398354</td>\n",
              "      <td>8.863000766979422</td>\n",
              "      <td>12</td>\n",
              "      <td>354</td>\n",
              "    </tr>\n",
              "    <tr>\n",
              "      <th>city mpg</th>\n",
              "      <td>11914</td>\n",
              "      <td>19.73325499412456</td>\n",
              "      <td>8.987798160299237</td>\n",
              "      <td>7</td>\n",
              "      <td>137</td>\n",
              "    </tr>\n",
              "    <tr>\n",
              "      <th>Popularity</th>\n",
              "      <td>11914</td>\n",
              "      <td>1554.9111969111968</td>\n",
              "      <td>1441.8553466274648</td>\n",
              "      <td>2</td>\n",
              "      <td>5657</td>\n",
              "    </tr>\n",
              "    <tr>\n",
              "      <th>MSRP</th>\n",
              "      <td>11914</td>\n",
              "      <td>40594.737032063116</td>\n",
              "      <td>60109.10360365422</td>\n",
              "      <td>2000</td>\n",
              "      <td>2065902</td>\n",
              "    </tr>\n",
              "  </tbody>\n",
              "</table>\n",
              "</div>"
            ],
            "text/plain": [
              "                       0  ...                   4\n",
              "summary            count  ...                 max\n",
              "Make               11914  ...               Volvo\n",
              "Model              11914  ...                  xD\n",
              "Year               11914  ...                2017\n",
              "Engine Fuel Type   11911  ...    regular unleaded\n",
              "Engine HP          11845  ...                1001\n",
              "Engine Cylinders   11884  ...                  16\n",
              "Transmission Type  11914  ...             UNKNOWN\n",
              "Driven_Wheels      11914  ...    rear wheel drive\n",
              "Number of Doors    11908  ...                   4\n",
              "Market Category    11914  ...  Performance,Hybrid\n",
              "Vehicle Size       11914  ...             Midsize\n",
              "Vehicle Style      11914  ...               Wagon\n",
              "highway MPG        11914  ...                 354\n",
              "city mpg           11914  ...                 137\n",
              "Popularity         11914  ...                5657\n",
              "MSRP               11914  ...             2065902\n",
              "\n",
              "[17 rows x 5 columns]"
            ]
          },
          "metadata": {
            "tags": []
          },
          "execution_count": 7
        }
      ]
    },
    {
      "cell_type": "markdown",
      "metadata": {
        "id": "ByrTclfXNKCf"
      },
      "source": [
        "Define a function to replace 'N/A's in the dataset columns with null values"
      ]
    },
    {
      "cell_type": "code",
      "metadata": {
        "id": "zpKpO_K_Mi4_"
      },
      "source": [
        "def replace(column,value):\n",
        "  return when(column!=value,column).otherwise(lit(None))\n",
        "\n",
        "data=data.withColumn(\"Market Category\",replace(col(\"Market Category\"),\"N/A\"))"
      ],
      "execution_count": 8,
      "outputs": []
    },
    {
      "cell_type": "markdown",
      "metadata": {
        "id": "Y-EY5Q5sQ2LJ"
      },
      "source": [
        "Let's get a count of the null values in each column..."
      ]
    },
    {
      "cell_type": "code",
      "metadata": {
        "colab": {
          "base_uri": "https://localhost:8080/"
        },
        "id": "Jsgp6pQzQ-Lh",
        "outputId": "fdee1f0c-16f3-4b5f-8003-b6bab009ba77"
      },
      "source": [
        "data.select([count(when(isnan(c)|col(c).isNull(),c)).alias(c) for c in data.columns]).show()"
      ],
      "execution_count": 9,
      "outputs": [
        {
          "output_type": "stream",
          "text": [
            "+----+-----+----+----------------+---------+----------------+-----------------+-------------+---------------+---------------+------------+-------------+-----------+--------+----------+----+\n",
            "|Make|Model|Year|Engine Fuel Type|Engine HP|Engine Cylinders|Transmission Type|Driven_Wheels|Number of Doors|Market Category|Vehicle Size|Vehicle Style|highway MPG|city mpg|Popularity|MSRP|\n",
            "+----+-----+----+----------------+---------+----------------+-----------------+-------------+---------------+---------------+------------+-------------+-----------+--------+----------+----+\n",
            "|   0|    0|   0|               3|       69|              30|                0|            0|              6|           3742|           0|            0|          0|       0|         0|   0|\n",
            "+----+-----+----+----------------+---------+----------------+-----------------+-------------+---------------+---------------+------------+-------------+-----------+--------+----------+----+\n",
            "\n"
          ],
          "name": "stdout"
        }
      ]
    },
    {
      "cell_type": "code",
      "metadata": {
        "colab": {
          "base_uri": "https://localhost:8080/"
        },
        "id": "gQ4_9AbhSshM",
        "outputId": "d867ec26-ca64-4395-e5f6-406ac9eb80c9"
      },
      "source": [
        "data=data.drop(\"Market Category\")\n",
        "data=data.na.drop()\n",
        "print((data.count(),len(data.columns)))"
      ],
      "execution_count": 10,
      "outputs": [
        {
          "output_type": "stream",
          "text": [
            "(11812, 15)\n"
          ],
          "name": "stdout"
        }
      ]
    },
    {
      "cell_type": "markdown",
      "metadata": {
        "id": "LD72EltcUWlL"
      },
      "source": [
        "Form the feature matrix \"Attributes\" for training a Random Forest regressor. The output vector will be \"MSRP\". "
      ]
    },
    {
      "cell_type": "code",
      "metadata": {
        "colab": {
          "base_uri": "https://localhost:8080/"
        },
        "id": "z1mFTvuUUUnD",
        "outputId": "fa758764-7b79-45de-b137-712aaffde3e1"
      },
      "source": [
        "assembler = VectorAssembler(inputCols=[\"Year\",\"Engine HP\",\"Engine Cylinders\",\"Number of Doors\",\"highway MPG\",\n",
        "                                       \"city MPG\",\"Popularity\"],outputCol=\"Attributes\")\n",
        "\n",
        "regressor = RandomForestRegressor(featuresCol=\"Attributes\",labelCol=\"MSRP\")\n",
        "pipeline = Pipeline(stages=[assembler,regressor])\n",
        "pipeline.write().overwrite().save('pipeline')   # ensure that we overwrite old pipelines\n",
        "!ls"
      ],
      "execution_count": 11,
      "outputs": [
        {
          "output_type": "stream",
          "text": [
            "data.csv  sample_data\t\t     spark-2.4.8-bin-hadoop2.7.tgz\n",
            "pipeline  spark-2.4.8-bin-hadoop2.7  spark-2.4.8-bin-hadoop2.7.tgz.1\n"
          ],
          "name": "stdout"
        }
      ]
    }
  ]
}