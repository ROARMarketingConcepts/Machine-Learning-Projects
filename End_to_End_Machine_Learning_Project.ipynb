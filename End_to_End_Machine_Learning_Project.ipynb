{
  "nbformat": 4,
  "nbformat_minor": 0,
  "metadata": {
    "colab": {
      "name": "End-to-End Machine Learning Project.ipynb",
      "version": "0.3.2",
      "provenance": [],
      "collapsed_sections": [],
      "include_colab_link": true
    },
    "kernelspec": {
      "name": "python3",
      "display_name": "Python 3"
    }
  },
  "cells": [
    {
      "cell_type": "markdown",
      "metadata": {
        "id": "view-in-github",
        "colab_type": "text"
      },
      "source": [
        "<a href=\"https://colab.research.google.com/github/ROARMarketingConcepts/Machine-Learning-Projects/blob/master/End_to_End_Machine_Learning_Project.ipynb\" target=\"_parent\"><img src=\"https://colab.research.google.com/assets/colab-badge.svg\" alt=\"Open In Colab\"/></a>"
      ]
    },
    {
      "metadata": {
        "id": "btsw0QdYz4KB",
        "colab_type": "code",
        "outputId": "8781529d-6ce9-44fd-c4d2-1fd15cfcdf6f",
        "colab": {
          "base_uri": "https://localhost:8080/",
          "height": 61
        }
      },
      "cell_type": "code",
      "source": [
        "from google.colab import drive\n",
        "drive.mount('/content/drive/')"
      ],
      "execution_count": 0,
      "outputs": [
        {
          "output_type": "stream",
          "text": [
            "Drive already mounted at /content/drive/; to attempt to forcibly remount, call drive.mount(\"/content/drive/\", force_remount=True).\n"
          ],
          "name": "stdout"
        }
      ]
    },
    {
      "metadata": {
        "id": "pf15xwmBbxvp",
        "colab_type": "text"
      },
      "cell_type": "markdown",
      "source": [
        "## Set up the programming enviroment"
      ]
    },
    {
      "metadata": {
        "id": "8upvJ9atbjsT",
        "colab_type": "code",
        "outputId": "04247a6f-fcea-40c9-8f21-979026e9d012",
        "colab": {
          "base_uri": "https://localhost:8080/",
          "height": 133
        }
      },
      "cell_type": "code",
      "source": [
        "# To support both python 2 and python 3\n",
        "from __future__ import division, print_function, unicode_literals\n",
        "\n",
        "# Common imports\n",
        "import numpy as np\n",
        "import os\n",
        "import tarfile\n",
        "import hashlib\n",
        "import pandas as pd\n",
        "from six.moves import urllib\n",
        "!pip install -U scikit-learn\n",
        "\n",
        "# to make this notebook's output stable across runs\n",
        "np.random.seed(42)\n",
        "\n",
        "# To plot pretty figures\n",
        "%matplotlib inline\n",
        "import matplotlib\n",
        "import matplotlib.pyplot as plt\n",
        "plt.rcParams['axes.labelsize'] = 14\n",
        "plt.rcParams['xtick.labelsize'] = 12\n",
        "plt.rcParams['ytick.labelsize'] = 12\n",
        "\n",
        "# Where to save the figures\n",
        "PROJECT_ROOT_DIR = \".\"\n",
        "CHAPTER_ID = \"end_to_end_project\"\n",
        "IMAGES_PATH = os.path.join(PROJECT_ROOT_DIR, \"images\", CHAPTER_ID)\n",
        "\n",
        "def save_fig(fig_id, tight_layout=True, fig_extension=\"png\", resolution=300):\n",
        "    path = os.path.join(IMAGES_PATH, fig_id + \".\" + fig_extension)\n",
        "    print(\"Saving figure\", fig_id)\n",
        "    if tight_layout:\n",
        "        plt.tight_layout()\n",
        "    plt.savefig(path, format=fig_extension, dpi=resolution)\n",
        "\n",
        "# Ignore useless warnings (see SciPy issue #5998)\n",
        "import warnings\n",
        "warnings.filterwarnings(action=\"ignore\", message=\"^internal gelsd\")"
      ],
      "execution_count": 0,
      "outputs": [
        {
          "output_type": "stream",
          "text": [
            "Requirement already up-to-date: scikit-learn in /usr/local/lib/python3.6/dist-packages (0.20.1)\n",
            "Requirement already satisfied, skipping upgrade: scipy>=0.13.3 in /usr/local/lib/python3.6/dist-packages (from scikit-learn) (1.1.0)\n",
            "Requirement already satisfied, skipping upgrade: numpy>=1.8.2 in /usr/local/lib/python3.6/dist-packages (from scikit-learn) (1.14.6)\n"
          ],
          "name": "stdout"
        }
      ]
    },
    {
      "metadata": {
        "id": "6eZ5-8UrwJ8v",
        "colab_type": "text"
      },
      "cell_type": "markdown",
      "source": [
        "## Get the data...\n",
        "\n",
        "\n",
        "Specify the directory path where the data is located..."
      ]
    },
    {
      "metadata": {
        "id": "GFxYFaERcV2o",
        "colab_type": "code",
        "colab": {}
      },
      "cell_type": "code",
      "source": [
        "DOWNLOAD_ROOT = \"https://raw.githubusercontent.com/ageron/handson-ml/master/\"\n",
        "HOUSING_PATH = os.path.join(\"datasets\", \"housing\")\n",
        "HOUSING_URL = DOWNLOAD_ROOT + \"datasets/housing/housing.tgz\"\n",
        "\n",
        "def fetch_housing_data(housing_url=HOUSING_URL, housing_path=HOUSING_PATH):\n",
        "    if not os.path.isdir(housing_path):\n",
        "        os.makedirs(housing_path)\n",
        "    tgz_path = os.path.join(housing_path, \"housing.tgz\")\n",
        "    urllib.request.urlretrieve(housing_url, tgz_path)\n",
        "    housing_tgz = tarfile.open(tgz_path)\n",
        "    housing_tgz.extractall(path=housing_path)\n",
        "    housing_tgz.close()"
      ],
      "execution_count": 0,
      "outputs": []
    },
    {
      "metadata": {
        "id": "GplsW9ElctLC",
        "colab_type": "code",
        "colab": {}
      },
      "cell_type": "code",
      "source": [
        "fetch_housing_data()"
      ],
      "execution_count": 0,
      "outputs": []
    },
    {
      "metadata": {
        "id": "BhuMsHHBwhl_",
        "colab_type": "text"
      },
      "cell_type": "markdown",
      "source": [
        "Define a routine to read the 'housing.csv' file."
      ]
    },
    {
      "metadata": {
        "id": "xdongOvMqMUq",
        "colab_type": "code",
        "colab": {}
      },
      "cell_type": "code",
      "source": [
        "def load_housing_data(housing_path = HOUSING_PATH): \n",
        "  csv_path = os.path.join( housing_path, \"housing.csv\") \n",
        "  return pd.read_csv(csv_path)"
      ],
      "execution_count": 0,
      "outputs": []
    },
    {
      "metadata": {
        "id": "19041bQwwyX0",
        "colab_type": "text"
      },
      "cell_type": "markdown",
      "source": [
        "Load and preview the 'housing.csv' file..\n"
      ]
    },
    {
      "metadata": {
        "id": "nwCV9SgedF0X",
        "colab_type": "code",
        "outputId": "3cc8b273-e1ab-4231-e038-78d759a009e8",
        "colab": {
          "base_uri": "https://localhost:8080/",
          "height": 228
        }
      },
      "cell_type": "code",
      "source": [
        "housing = load_housing_data()\n",
        "housing.head()"
      ],
      "execution_count": 0,
      "outputs": [
        {
          "output_type": "execute_result",
          "data": {
            "text/html": [
              "<div>\n",
              "<style scoped>\n",
              "    .dataframe tbody tr th:only-of-type {\n",
              "        vertical-align: middle;\n",
              "    }\n",
              "\n",
              "    .dataframe tbody tr th {\n",
              "        vertical-align: top;\n",
              "    }\n",
              "\n",
              "    .dataframe thead th {\n",
              "        text-align: right;\n",
              "    }\n",
              "</style>\n",
              "<table border=\"1\" class=\"dataframe\">\n",
              "  <thead>\n",
              "    <tr style=\"text-align: right;\">\n",
              "      <th></th>\n",
              "      <th>longitude</th>\n",
              "      <th>latitude</th>\n",
              "      <th>housing_median_age</th>\n",
              "      <th>total_rooms</th>\n",
              "      <th>total_bedrooms</th>\n",
              "      <th>population</th>\n",
              "      <th>households</th>\n",
              "      <th>median_income</th>\n",
              "      <th>median_house_value</th>\n",
              "      <th>ocean_proximity</th>\n",
              "    </tr>\n",
              "  </thead>\n",
              "  <tbody>\n",
              "    <tr>\n",
              "      <th>0</th>\n",
              "      <td>-122.23</td>\n",
              "      <td>37.88</td>\n",
              "      <td>41.0</td>\n",
              "      <td>880.0</td>\n",
              "      <td>129.0</td>\n",
              "      <td>322.0</td>\n",
              "      <td>126.0</td>\n",
              "      <td>8.3252</td>\n",
              "      <td>452600.0</td>\n",
              "      <td>NEAR BAY</td>\n",
              "    </tr>\n",
              "    <tr>\n",
              "      <th>1</th>\n",
              "      <td>-122.22</td>\n",
              "      <td>37.86</td>\n",
              "      <td>21.0</td>\n",
              "      <td>7099.0</td>\n",
              "      <td>1106.0</td>\n",
              "      <td>2401.0</td>\n",
              "      <td>1138.0</td>\n",
              "      <td>8.3014</td>\n",
              "      <td>358500.0</td>\n",
              "      <td>NEAR BAY</td>\n",
              "    </tr>\n",
              "    <tr>\n",
              "      <th>2</th>\n",
              "      <td>-122.24</td>\n",
              "      <td>37.85</td>\n",
              "      <td>52.0</td>\n",
              "      <td>1467.0</td>\n",
              "      <td>190.0</td>\n",
              "      <td>496.0</td>\n",
              "      <td>177.0</td>\n",
              "      <td>7.2574</td>\n",
              "      <td>352100.0</td>\n",
              "      <td>NEAR BAY</td>\n",
              "    </tr>\n",
              "    <tr>\n",
              "      <th>3</th>\n",
              "      <td>-122.25</td>\n",
              "      <td>37.85</td>\n",
              "      <td>52.0</td>\n",
              "      <td>1274.0</td>\n",
              "      <td>235.0</td>\n",
              "      <td>558.0</td>\n",
              "      <td>219.0</td>\n",
              "      <td>5.6431</td>\n",
              "      <td>341300.0</td>\n",
              "      <td>NEAR BAY</td>\n",
              "    </tr>\n",
              "    <tr>\n",
              "      <th>4</th>\n",
              "      <td>-122.25</td>\n",
              "      <td>37.85</td>\n",
              "      <td>52.0</td>\n",
              "      <td>1627.0</td>\n",
              "      <td>280.0</td>\n",
              "      <td>565.0</td>\n",
              "      <td>259.0</td>\n",
              "      <td>3.8462</td>\n",
              "      <td>342200.0</td>\n",
              "      <td>NEAR BAY</td>\n",
              "    </tr>\n",
              "  </tbody>\n",
              "</table>\n",
              "</div>"
            ],
            "text/plain": [
              "   longitude  latitude  housing_median_age  total_rooms  total_bedrooms  \\\n",
              "0    -122.23     37.88                41.0        880.0           129.0   \n",
              "1    -122.22     37.86                21.0       7099.0          1106.0   \n",
              "2    -122.24     37.85                52.0       1467.0           190.0   \n",
              "3    -122.25     37.85                52.0       1274.0           235.0   \n",
              "4    -122.25     37.85                52.0       1627.0           280.0   \n",
              "\n",
              "   population  households  median_income  median_house_value ocean_proximity  \n",
              "0       322.0       126.0         8.3252            452600.0        NEAR BAY  \n",
              "1      2401.0      1138.0         8.3014            358500.0        NEAR BAY  \n",
              "2       496.0       177.0         7.2574            352100.0        NEAR BAY  \n",
              "3       558.0       219.0         5.6431            341300.0        NEAR BAY  \n",
              "4       565.0       259.0         3.8462            342200.0        NEAR BAY  "
            ]
          },
          "metadata": {
            "tags": []
          },
          "execution_count": 20
        }
      ]
    },
    {
      "metadata": {
        "id": "8w6Nm9Tw3sgK",
        "colab_type": "text"
      },
      "cell_type": "markdown",
      "source": [
        "Info about each of the attributes. Notice that the 'total_bedrooms' attribute has only 20,433 non-null values, meaning that 207 districts are missing this feature. We will need to take care of this later.\n",
        "\n"
      ]
    },
    {
      "metadata": {
        "id": "-cYM5iAj3sDo",
        "colab_type": "code",
        "outputId": "f0a3d995-c8aa-4dac-d3e8-2367051bbf5d",
        "colab": {
          "base_uri": "https://localhost:8080/",
          "height": 266
        }
      },
      "cell_type": "code",
      "source": [
        "housing.info()"
      ],
      "execution_count": 0,
      "outputs": [
        {
          "output_type": "stream",
          "text": [
            "<class 'pandas.core.frame.DataFrame'>\n",
            "RangeIndex: 20640 entries, 0 to 20639\n",
            "Data columns (total 10 columns):\n",
            "longitude             20640 non-null float64\n",
            "latitude              20640 non-null float64\n",
            "housing_median_age    20640 non-null float64\n",
            "total_rooms           20640 non-null float64\n",
            "total_bedrooms        20433 non-null float64\n",
            "population            20640 non-null float64\n",
            "households            20640 non-null float64\n",
            "median_income         20640 non-null float64\n",
            "median_house_value    20640 non-null float64\n",
            "ocean_proximity       20640 non-null object\n",
            "dtypes: float64(9), object(1)\n",
            "memory usage: 1.6+ MB\n"
          ],
          "name": "stdout"
        }
      ]
    },
    {
      "metadata": {
        "id": "V5Jlwh3q4srA",
        "colab_type": "code",
        "outputId": "28da8f66-bf5d-46cd-f113-f1407a925104",
        "colab": {
          "base_uri": "https://localhost:8080/",
          "height": 118
        }
      },
      "cell_type": "code",
      "source": [
        "housing['ocean_proximity'].value_counts()"
      ],
      "execution_count": 0,
      "outputs": [
        {
          "output_type": "execute_result",
          "data": {
            "text/plain": [
              "<1H OCEAN     9136\n",
              "INLAND        6551\n",
              "NEAR OCEAN    2658\n",
              "NEAR BAY      2290\n",
              "ISLAND           5\n",
              "Name: ocean_proximity, dtype: int64"
            ]
          },
          "metadata": {
            "tags": []
          },
          "execution_count": 22
        }
      ]
    },
    {
      "metadata": {
        "id": "hIp_8QZg5ySV",
        "colab_type": "code",
        "outputId": "c56df87a-4f51-42eb-8333-fe3f25959bac",
        "colab": {
          "base_uri": "https://localhost:8080/",
          "height": 320
        }
      },
      "cell_type": "code",
      "source": [
        "housing.describe()"
      ],
      "execution_count": 0,
      "outputs": [
        {
          "output_type": "execute_result",
          "data": {
            "text/html": [
              "<div>\n",
              "<style scoped>\n",
              "    .dataframe tbody tr th:only-of-type {\n",
              "        vertical-align: middle;\n",
              "    }\n",
              "\n",
              "    .dataframe tbody tr th {\n",
              "        vertical-align: top;\n",
              "    }\n",
              "\n",
              "    .dataframe thead th {\n",
              "        text-align: right;\n",
              "    }\n",
              "</style>\n",
              "<table border=\"1\" class=\"dataframe\">\n",
              "  <thead>\n",
              "    <tr style=\"text-align: right;\">\n",
              "      <th></th>\n",
              "      <th>longitude</th>\n",
              "      <th>latitude</th>\n",
              "      <th>housing_median_age</th>\n",
              "      <th>total_rooms</th>\n",
              "      <th>total_bedrooms</th>\n",
              "      <th>population</th>\n",
              "      <th>households</th>\n",
              "      <th>median_income</th>\n",
              "      <th>median_house_value</th>\n",
              "    </tr>\n",
              "  </thead>\n",
              "  <tbody>\n",
              "    <tr>\n",
              "      <th>count</th>\n",
              "      <td>20640.000000</td>\n",
              "      <td>20640.000000</td>\n",
              "      <td>20640.000000</td>\n",
              "      <td>20640.000000</td>\n",
              "      <td>20433.000000</td>\n",
              "      <td>20640.000000</td>\n",
              "      <td>20640.000000</td>\n",
              "      <td>20640.000000</td>\n",
              "      <td>20640.000000</td>\n",
              "    </tr>\n",
              "    <tr>\n",
              "      <th>mean</th>\n",
              "      <td>-119.569704</td>\n",
              "      <td>35.631861</td>\n",
              "      <td>28.639486</td>\n",
              "      <td>2635.763081</td>\n",
              "      <td>537.870553</td>\n",
              "      <td>1425.476744</td>\n",
              "      <td>499.539680</td>\n",
              "      <td>3.870671</td>\n",
              "      <td>206855.816909</td>\n",
              "    </tr>\n",
              "    <tr>\n",
              "      <th>std</th>\n",
              "      <td>2.003532</td>\n",
              "      <td>2.135952</td>\n",
              "      <td>12.585558</td>\n",
              "      <td>2181.615252</td>\n",
              "      <td>421.385070</td>\n",
              "      <td>1132.462122</td>\n",
              "      <td>382.329753</td>\n",
              "      <td>1.899822</td>\n",
              "      <td>115395.615874</td>\n",
              "    </tr>\n",
              "    <tr>\n",
              "      <th>min</th>\n",
              "      <td>-124.350000</td>\n",
              "      <td>32.540000</td>\n",
              "      <td>1.000000</td>\n",
              "      <td>2.000000</td>\n",
              "      <td>1.000000</td>\n",
              "      <td>3.000000</td>\n",
              "      <td>1.000000</td>\n",
              "      <td>0.499900</td>\n",
              "      <td>14999.000000</td>\n",
              "    </tr>\n",
              "    <tr>\n",
              "      <th>25%</th>\n",
              "      <td>-121.800000</td>\n",
              "      <td>33.930000</td>\n",
              "      <td>18.000000</td>\n",
              "      <td>1447.750000</td>\n",
              "      <td>296.000000</td>\n",
              "      <td>787.000000</td>\n",
              "      <td>280.000000</td>\n",
              "      <td>2.563400</td>\n",
              "      <td>119600.000000</td>\n",
              "    </tr>\n",
              "    <tr>\n",
              "      <th>50%</th>\n",
              "      <td>-118.490000</td>\n",
              "      <td>34.260000</td>\n",
              "      <td>29.000000</td>\n",
              "      <td>2127.000000</td>\n",
              "      <td>435.000000</td>\n",
              "      <td>1166.000000</td>\n",
              "      <td>409.000000</td>\n",
              "      <td>3.534800</td>\n",
              "      <td>179700.000000</td>\n",
              "    </tr>\n",
              "    <tr>\n",
              "      <th>75%</th>\n",
              "      <td>-118.010000</td>\n",
              "      <td>37.710000</td>\n",
              "      <td>37.000000</td>\n",
              "      <td>3148.000000</td>\n",
              "      <td>647.000000</td>\n",
              "      <td>1725.000000</td>\n",
              "      <td>605.000000</td>\n",
              "      <td>4.743250</td>\n",
              "      <td>264725.000000</td>\n",
              "    </tr>\n",
              "    <tr>\n",
              "      <th>max</th>\n",
              "      <td>-114.310000</td>\n",
              "      <td>41.950000</td>\n",
              "      <td>52.000000</td>\n",
              "      <td>39320.000000</td>\n",
              "      <td>6445.000000</td>\n",
              "      <td>35682.000000</td>\n",
              "      <td>6082.000000</td>\n",
              "      <td>15.000100</td>\n",
              "      <td>500001.000000</td>\n",
              "    </tr>\n",
              "  </tbody>\n",
              "</table>\n",
              "</div>"
            ],
            "text/plain": [
              "          longitude      latitude  housing_median_age   total_rooms  \\\n",
              "count  20640.000000  20640.000000        20640.000000  20640.000000   \n",
              "mean    -119.569704     35.631861           28.639486   2635.763081   \n",
              "std        2.003532      2.135952           12.585558   2181.615252   \n",
              "min     -124.350000     32.540000            1.000000      2.000000   \n",
              "25%     -121.800000     33.930000           18.000000   1447.750000   \n",
              "50%     -118.490000     34.260000           29.000000   2127.000000   \n",
              "75%     -118.010000     37.710000           37.000000   3148.000000   \n",
              "max     -114.310000     41.950000           52.000000  39320.000000   \n",
              "\n",
              "       total_bedrooms    population    households  median_income  \\\n",
              "count    20433.000000  20640.000000  20640.000000   20640.000000   \n",
              "mean       537.870553   1425.476744    499.539680       3.870671   \n",
              "std        421.385070   1132.462122    382.329753       1.899822   \n",
              "min          1.000000      3.000000      1.000000       0.499900   \n",
              "25%        296.000000    787.000000    280.000000       2.563400   \n",
              "50%        435.000000   1166.000000    409.000000       3.534800   \n",
              "75%        647.000000   1725.000000    605.000000       4.743250   \n",
              "max       6445.000000  35682.000000   6082.000000      15.000100   \n",
              "\n",
              "       median_house_value  \n",
              "count        20640.000000  \n",
              "mean        206855.816909  \n",
              "std         115395.615874  \n",
              "min          14999.000000  \n",
              "25%         119600.000000  \n",
              "50%         179700.000000  \n",
              "75%         264725.000000  \n",
              "max         500001.000000  "
            ]
          },
          "metadata": {
            "tags": []
          },
          "execution_count": 23
        }
      ]
    },
    {
      "metadata": {
        "id": "Cf0qtvXj8EFB",
        "colab_type": "code",
        "outputId": "22f8979c-b09e-4076-f9ea-72c154ce70f2",
        "colab": {
          "base_uri": "https://localhost:8080/",
          "height": 1066
        }
      },
      "cell_type": "code",
      "source": [
        "housing.hist(bins=50,figsize=(20,15))\n",
        "# plt.show()"
      ],
      "execution_count": 0,
      "outputs": [
        {
          "output_type": "execute_result",
          "data": {
            "text/plain": [
              "array([[<matplotlib.axes._subplots.AxesSubplot object at 0x7f88188db5c0>,\n",
              "        <matplotlib.axes._subplots.AxesSubplot object at 0x7f88188adbe0>,\n",
              "        <matplotlib.axes._subplots.AxesSubplot object at 0x7f8818864cc0>],\n",
              "       [<matplotlib.axes._subplots.AxesSubplot object at 0x7f881881cd30>,\n",
              "        <matplotlib.axes._subplots.AxesSubplot object at 0x7f88187ce940>,\n",
              "        <matplotlib.axes._subplots.AxesSubplot object at 0x7f88187ce978>],\n",
              "       [<matplotlib.axes._subplots.AxesSubplot object at 0x7f881873dcc0>,\n",
              "        <matplotlib.axes._subplots.AxesSubplot object at 0x7f88186fd2b0>,\n",
              "        <matplotlib.axes._subplots.AxesSubplot object at 0x7f8818710048>]],\n",
              "      dtype=object)"
            ]
          },
          "metadata": {
            "tags": []
          },
          "execution_count": 24
        },
        {
          "output_type": "display_data",
          "data": {
            "image/png": "[encoded data removed]",
            "text/plain": [
              "<matplotlib.figure.Figure at 0x7f881891c978>"
            ]
          },
          "metadata": {
            "tags": []
          }
        }
      ]
    },
    {
      "metadata": {
        "id": "uAWO1Wc19rKD",
        "colab_type": "text"
      },
      "cell_type": "markdown",
      "source": [
        "Now we need to set aside 20% of the dataset as our test set."
      ]
    },
    {
      "metadata": {
        "id": "GK1qjpiu9_2X",
        "colab_type": "code",
        "colab": {}
      },
      "cell_type": "code",
      "source": [
        "def split_train_test(data, test_ratio): \n",
        "  np.random.seed(42)                                               # Ensure we generate the same shuffled indices\n",
        "  shuffled_indices = np.random.permutation(len(data))              # Shuffle the indices of the dataset\n",
        "  test_set_size = int(len(data)*test_ratio)                        # Determine size of test set\n",
        "  test_indices = shuffled_indices[:test_set_size]                  # Determine indices of test set\n",
        "  train_indices = shuffled_indices[test_set_size:]                 # Training set has the remaining indices\n",
        "  return data.iloc[train_indices], data.iloc[test_indices]         # Populate the training/test sets using the appropriate indices"
      ],
      "execution_count": 0,
      "outputs": []
    },
    {
      "metadata": {
        "id": "Al3RZso0_0jo",
        "colab_type": "code",
        "outputId": "53d17a98-b891-4e98-e451-1a8e15664d2f",
        "colab": {
          "base_uri": "https://localhost:8080/",
          "height": 34
        }
      },
      "cell_type": "code",
      "source": [
        "train_set, test_set = split_train_test(housing,test_ratio=0.2)\n",
        "print(len(train_set), len(test_set))"
      ],
      "execution_count": 0,
      "outputs": [
        {
          "output_type": "stream",
          "text": [
            "16512 4128\n"
          ],
          "name": "stdout"
        }
      ]
    },
    {
      "metadata": {
        "id": "1j0yBK8eE8mK",
        "colab_type": "text"
      },
      "cell_type": "markdown",
      "source": [
        "The following code ensures that, when we get new data, we add the appropriate amounts to the train and test sets. It also makes sure we don't move previous training samples over to the test set."
      ]
    },
    {
      "metadata": {
        "id": "e-yRF6avCXEk",
        "colab_type": "code",
        "colab": {}
      },
      "cell_type": "code",
      "source": [
        "def test_set_check(identifier, test_ratio, hash): \n",
        "  return hash(np.int64(identifier)).digest()[-1] < 256 * test_ratio "
      ],
      "execution_count": 0,
      "outputs": []
    },
    {
      "metadata": {
        "id": "b9GRnhCuCoek",
        "colab_type": "code",
        "colab": {}
      },
      "cell_type": "code",
      "source": [
        "def split_train_test_by_id(data,test_ratio,id_column,hash = hashlib.md5): \n",
        "  ids = data[id_column] \n",
        "  in_test_set = ids.apply(lambda id_: test_set_check(id_,test_ratio,hash)) \n",
        "  return data.loc[ ~ in_test_set], data.loc[ in_test_set]"
      ],
      "execution_count": 0,
      "outputs": []
    },
    {
      "metadata": {
        "id": "SzNMJCCKE3MY",
        "colab_type": "code",
        "colab": {}
      },
      "cell_type": "code",
      "source": [
        "housing_with_id = housing.reset_index()          # adds an ` index ` column \n",
        "train_set, test_set = split_train_test_by_id(housing_with_id, 0.2, \"index\")"
      ],
      "execution_count": 0,
      "outputs": []
    },
    {
      "metadata": {
        "id": "gUoXitcxF02t",
        "colab_type": "text"
      },
      "cell_type": "markdown",
      "source": [
        "If we use the row index as a unique identifier, we need to make sure that new data gets appended to the end of the dataset, and no row ever gets deleted. If this is not possible, then we can try to use the most stable features to build a unique identifier. For example, a district’s latitude and longitude are guaranteed to be stable for a few million years, so we could combine them to create a unique ID like so:\n",
        "\n"
      ]
    },
    {
      "metadata": {
        "id": "EupwWel9IX0r",
        "colab_type": "code",
        "colab": {}
      },
      "cell_type": "code",
      "source": [
        "housing_with_id[\"id\"] = housing[\"longitude\"]*1000 + housing[\"latitude\"] \n",
        "train_set, test_set = split_train_test_by_id(housing_with_id, 0.2, \"id\")"
      ],
      "execution_count": 0,
      "outputs": []
    },
    {
      "metadata": {
        "id": "lsO1R7IRMHpD",
        "colab_type": "text"
      },
      "cell_type": "markdown",
      "source": [
        "Or...we could call the 'train_test_split' routine from sklearn to parse our data."
      ]
    },
    {
      "metadata": {
        "id": "vttENDORL_3I",
        "colab_type": "code",
        "colab": {}
      },
      "cell_type": "code",
      "source": [
        "from sklearn.model_selection import train_test_split \n",
        "train_set, test_set = train_test_split(housing, test_size = 0.2, random_state = 42)"
      ],
      "execution_count": 0,
      "outputs": []
    },
    {
      "metadata": {
        "id": "drmMTgCrlflh",
        "colab_type": "text"
      },
      "cell_type": "markdown",
      "source": [
        "We have been told that the 'median_income' attribute is very important when predicting median housing prices.  Let's look at that attribute in more detail."
      ]
    },
    {
      "metadata": {
        "id": "E6mGdbKol6ja",
        "colab_type": "code",
        "outputId": "c961c93d-e5fe-4ada-8954-d810dd1b4a0f",
        "colab": {
          "base_uri": "https://localhost:8080/",
          "height": 166
        }
      },
      "cell_type": "code",
      "source": [
        "housing['median_income'].describe()"
      ],
      "execution_count": 0,
      "outputs": [
        {
          "output_type": "execute_result",
          "data": {
            "text/plain": [
              "count    20640.000000\n",
              "mean         3.870671\n",
              "std          1.899822\n",
              "min          0.499900\n",
              "25%          2.563400\n",
              "50%          3.534800\n",
              "75%          4.743250\n",
              "max         15.000100\n",
              "Name: median_income, dtype: float64"
            ]
          },
          "metadata": {
            "tags": []
          },
          "execution_count": 32
        }
      ]
    },
    {
      "metadata": {
        "id": "Hl8dEZjem9YQ",
        "colab_type": "text"
      },
      "cell_type": "markdown",
      "source": [
        "The following code creates an income category attribute by dividing the median income by 1.5 to limit the number of income categories.  "
      ]
    },
    {
      "metadata": {
        "id": "yNx7f8o5msAt",
        "colab_type": "code",
        "outputId": "298226ce-9dfc-4210-8f73-17e49db450ff",
        "colab": {
          "base_uri": "https://localhost:8080/",
          "height": 475
        }
      },
      "cell_type": "code",
      "source": [
        "housing['income_cat'] = np.ceil(housing['median_income']/1.5)\n",
        "housing['income_cat'].value_counts()\n",
        "housing['income_cat'].hist(bins=50,figsize=(10,7.5))"
      ],
      "execution_count": 0,
      "outputs": [
        {
          "output_type": "execute_result",
          "data": {
            "text/plain": [
              "<matplotlib.axes._subplots.AxesSubplot at 0x7f88141c29e8>"
            ]
          },
          "metadata": {
            "tags": []
          },
          "execution_count": 33
        },
        {
          "output_type": "display_data",
          "data": {
            "image/png": "[encoded data removed]",
            "text/plain": [
              "<matplotlib.figure.Figure at 0x7f88188bd128>"
            ]
          },
          "metadata": {
            "tags": []
          }
        }
      ]
    },
    {
      "metadata": {
        "id": "Zfzd4KE0oCEd",
        "colab_type": "text"
      },
      "cell_type": "markdown",
      "source": [
        "Next, we will round up using ceil (to have discrete categories), and then merging all the categories greater than 5 into category 5:"
      ]
    },
    {
      "metadata": {
        "id": "SbyZ9ueUoIkK",
        "colab_type": "code",
        "outputId": "dde8f011-cb06-4f13-9036-8f6351e0e294",
        "colab": {
          "base_uri": "https://localhost:8080/",
          "height": 479
        }
      },
      "cell_type": "code",
      "source": [
        "# Keep all values < 5 and replace all values > 5 with the number 5.\n",
        "\n",
        "housing['income_cat'].where(housing['income_cat'] < 5, 5.0, inplace=True) \n",
        "housing['income_cat'].hist(bins=50,figsize=(10,7.5))\n",
        "plt.axis([0.5, 5, 0, 8000])"
      ],
      "execution_count": 0,
      "outputs": [
        {
          "output_type": "execute_result",
          "data": {
            "text/plain": [
              "[0.5, 5, 0, 8000]"
            ]
          },
          "metadata": {
            "tags": []
          },
          "execution_count": 34
        },
        {
          "output_type": "display_data",
          "data": {
            "image/png": "[encoded data removed]",
            "text/plain": [
              "<matplotlib.figure.Figure at 0x7f88141c20f0>"
            ]
          },
          "metadata": {
            "tags": []
          }
        }
      ]
    },
    {
      "metadata": {
        "id": "wRXPla4ixqtW",
        "colab_type": "text"
      },
      "cell_type": "markdown",
      "source": [
        "Let's apply the Stratified ShuffleSplit cross-validator from sklearn. It provides train/test indices to split data in train/test sets."
      ]
    },
    {
      "metadata": {
        "id": "wldkfQjssUHg",
        "colab_type": "code",
        "colab": {}
      },
      "cell_type": "code",
      "source": [
        "from sklearn.model_selection import StratifiedShuffleSplit \n",
        "\n",
        "split = StratifiedShuffleSplit(n_splits = 1, test_size = 0.2, random_state = 42)\n",
        "\n",
        "for train_index, test_index in split.split(housing, housing['income_cat']): \n",
        "  strat_train_set = housing.loc[train_index] \n",
        "  strat_test_set = housing.loc[test_index]"
      ],
      "execution_count": 0,
      "outputs": []
    },
    {
      "metadata": {
        "id": "ciVJUNI5yCEX",
        "colab_type": "text"
      },
      "cell_type": "markdown",
      "source": [
        "Let’s see if this worked as expected. We can start by looking at the income category proportions in the test set:\n"
      ]
    },
    {
      "metadata": {
        "id": "jICRNFRryMRW",
        "colab_type": "code",
        "outputId": "09577717-8813-4578-e297-183744bced29",
        "colab": {
          "base_uri": "https://localhost:8080/",
          "height": 118
        }
      },
      "cell_type": "code",
      "source": [
        "strat_test_set['income_cat'].value_counts()/len(strat_test_set) "
      ],
      "execution_count": 0,
      "outputs": [
        {
          "output_type": "execute_result",
          "data": {
            "text/plain": [
              "3.0    0.350533\n",
              "2.0    0.318798\n",
              "4.0    0.176357\n",
              "5.0    0.114583\n",
              "1.0    0.039729\n",
              "Name: income_cat, dtype: float64"
            ]
          },
          "metadata": {
            "tags": []
          },
          "execution_count": 36
        }
      ]
    },
    {
      "metadata": {
        "id": "vXV2ripC17dh",
        "colab_type": "text"
      },
      "cell_type": "markdown",
      "source": [
        "Let's repeat this analysis to measure the income category proportions in the full dataset. We will see that the value distribution of the total dataset is correctly represented in the stratified test set.  **StratifiedShuffleSplit** is a great function!!"
      ]
    },
    {
      "metadata": {
        "id": "QdJift1z3IIs",
        "colab_type": "code",
        "outputId": "a1de71a5-ec8c-4ed3-c855-478b5558c95d",
        "colab": {
          "base_uri": "https://localhost:8080/",
          "height": 118
        }
      },
      "cell_type": "code",
      "source": [
        "housing['income_cat'].value_counts()/len(housing)"
      ],
      "execution_count": 0,
      "outputs": [
        {
          "output_type": "execute_result",
          "data": {
            "text/plain": [
              "3.0    0.350581\n",
              "2.0    0.318847\n",
              "4.0    0.176308\n",
              "5.0    0.114438\n",
              "1.0    0.039826\n",
              "Name: income_cat, dtype: float64"
            ]
          },
          "metadata": {
            "tags": []
          },
          "execution_count": 37
        }
      ]
    },
    {
      "metadata": {
        "id": "7-jz-2yj7MC_",
        "colab_type": "text"
      },
      "cell_type": "markdown",
      "source": [
        "We're done looking at the 'income_cat' attribute, so let's delete it and get the 'housing' dataframe back to its original shape."
      ]
    },
    {
      "metadata": {
        "id": "twXtd1OS_5pJ",
        "colab_type": "code",
        "outputId": "8196b353-bc09-48f0-aaba-bf6c281dab6d",
        "colab": {
          "base_uri": "https://localhost:8080/",
          "height": 200
        }
      },
      "cell_type": "code",
      "source": [
        "list(housing.columns.values)"
      ],
      "execution_count": 0,
      "outputs": [
        {
          "output_type": "execute_result",
          "data": {
            "text/plain": [
              "['longitude',\n",
              " 'latitude',\n",
              " 'housing_median_age',\n",
              " 'total_rooms',\n",
              " 'total_bedrooms',\n",
              " 'population',\n",
              " 'households',\n",
              " 'median_income',\n",
              " 'median_house_value',\n",
              " 'ocean_proximity',\n",
              " 'income_cat']"
            ]
          },
          "metadata": {
            "tags": []
          },
          "execution_count": 38
        }
      ]
    },
    {
      "metadata": {
        "id": "PNnwlcRg7hoa",
        "colab_type": "code",
        "colab": {}
      },
      "cell_type": "code",
      "source": [
        "housing = housing.drop('income_cat',axis=1)     # delete the attribute 'income_cat'\n",
        "  "
      ],
      "execution_count": 0,
      "outputs": []
    },
    {
      "metadata": {
        "id": "XDpC8WWE_PFE",
        "colab_type": "text"
      },
      "cell_type": "markdown",
      "source": [
        "We verify that the attribute 'income_cat' has been deleted (and it has...)."
      ]
    },
    {
      "metadata": {
        "id": "VNP9yvIK7xew",
        "colab_type": "code",
        "outputId": "f3d43b10-9908-4d44-b2ae-c57203f04a91",
        "colab": {
          "base_uri": "https://localhost:8080/",
          "height": 183
        }
      },
      "cell_type": "code",
      "source": [
        "list(housing.columns.values)"
      ],
      "execution_count": 0,
      "outputs": [
        {
          "output_type": "execute_result",
          "data": {
            "text/plain": [
              "['longitude',\n",
              " 'latitude',\n",
              " 'housing_median_age',\n",
              " 'total_rooms',\n",
              " 'total_bedrooms',\n",
              " 'population',\n",
              " 'households',\n",
              " 'median_income',\n",
              " 'median_house_value',\n",
              " 'ocean_proximity']"
            ]
          },
          "metadata": {
            "tags": []
          },
          "execution_count": 40
        }
      ]
    },
    {
      "metadata": {
        "id": "c1f8M4MqJN5-",
        "colab_type": "text"
      },
      "cell_type": "markdown",
      "source": [
        "So far we have only taken a quick glance at the data to get a general understanding of the kind of data we are manipulating. Now the goal is to go a little bit more in depth. First, let's make sure we have put the test set aside and we are only exploring the training set. Also, if the training set is very large, we may want to sample an exploration set, to make manipulations easy and fast. In our case, the set is quite small so we can just work directly on the full set. Let’s create a copy so we can play with it without harming the training set:\n"
      ]
    },
    {
      "metadata": {
        "id": "AV73fA-jJg58",
        "colab_type": "code",
        "outputId": "665e2819-2176-4977-b3a1-4bca7074df59",
        "colab": {
          "base_uri": "https://localhost:8080/",
          "height": 320
        }
      },
      "cell_type": "code",
      "source": [
        "housing=strat_train_set.copy()\n",
        "housing = housing.drop('income_cat',axis=1)     # delete the attribute 'income_cat'\n",
        "housing.describe()"
      ],
      "execution_count": 0,
      "outputs": [
        {
          "output_type": "execute_result",
          "data": {
            "text/html": [
              "<div>\n",
              "<style scoped>\n",
              "    .dataframe tbody tr th:only-of-type {\n",
              "        vertical-align: middle;\n",
              "    }\n",
              "\n",
              "    .dataframe tbody tr th {\n",
              "        vertical-align: top;\n",
              "    }\n",
              "\n",
              "    .dataframe thead th {\n",
              "        text-align: right;\n",
              "    }\n",
              "</style>\n",
              "<table border=\"1\" class=\"dataframe\">\n",
              "  <thead>\n",
              "    <tr style=\"text-align: right;\">\n",
              "      <th></th>\n",
              "      <th>longitude</th>\n",
              "      <th>latitude</th>\n",
              "      <th>housing_median_age</th>\n",
              "      <th>total_rooms</th>\n",
              "      <th>total_bedrooms</th>\n",
              "      <th>population</th>\n",
              "      <th>households</th>\n",
              "      <th>median_income</th>\n",
              "      <th>median_house_value</th>\n",
              "    </tr>\n",
              "  </thead>\n",
              "  <tbody>\n",
              "    <tr>\n",
              "      <th>count</th>\n",
              "      <td>16512.000000</td>\n",
              "      <td>16512.000000</td>\n",
              "      <td>16512.000000</td>\n",
              "      <td>16512.000000</td>\n",
              "      <td>16354.000000</td>\n",
              "      <td>16512.000000</td>\n",
              "      <td>16512.000000</td>\n",
              "      <td>16512.000000</td>\n",
              "      <td>16512.000000</td>\n",
              "    </tr>\n",
              "    <tr>\n",
              "      <th>mean</th>\n",
              "      <td>-119.575834</td>\n",
              "      <td>35.639577</td>\n",
              "      <td>28.653101</td>\n",
              "      <td>2622.728319</td>\n",
              "      <td>534.973890</td>\n",
              "      <td>1419.790819</td>\n",
              "      <td>497.060380</td>\n",
              "      <td>3.875589</td>\n",
              "      <td>206990.920724</td>\n",
              "    </tr>\n",
              "    <tr>\n",
              "      <th>std</th>\n",
              "      <td>2.001860</td>\n",
              "      <td>2.138058</td>\n",
              "      <td>12.574726</td>\n",
              "      <td>2138.458419</td>\n",
              "      <td>412.699041</td>\n",
              "      <td>1115.686241</td>\n",
              "      <td>375.720845</td>\n",
              "      <td>1.904950</td>\n",
              "      <td>115703.014830</td>\n",
              "    </tr>\n",
              "    <tr>\n",
              "      <th>min</th>\n",
              "      <td>-124.350000</td>\n",
              "      <td>32.540000</td>\n",
              "      <td>1.000000</td>\n",
              "      <td>6.000000</td>\n",
              "      <td>2.000000</td>\n",
              "      <td>3.000000</td>\n",
              "      <td>2.000000</td>\n",
              "      <td>0.499900</td>\n",
              "      <td>14999.000000</td>\n",
              "    </tr>\n",
              "    <tr>\n",
              "      <th>25%</th>\n",
              "      <td>-121.800000</td>\n",
              "      <td>33.940000</td>\n",
              "      <td>18.000000</td>\n",
              "      <td>1443.000000</td>\n",
              "      <td>295.000000</td>\n",
              "      <td>784.000000</td>\n",
              "      <td>279.000000</td>\n",
              "      <td>2.566775</td>\n",
              "      <td>119800.000000</td>\n",
              "    </tr>\n",
              "    <tr>\n",
              "      <th>50%</th>\n",
              "      <td>-118.510000</td>\n",
              "      <td>34.260000</td>\n",
              "      <td>29.000000</td>\n",
              "      <td>2119.500000</td>\n",
              "      <td>433.000000</td>\n",
              "      <td>1164.000000</td>\n",
              "      <td>408.000000</td>\n",
              "      <td>3.540900</td>\n",
              "      <td>179500.000000</td>\n",
              "    </tr>\n",
              "    <tr>\n",
              "      <th>75%</th>\n",
              "      <td>-118.010000</td>\n",
              "      <td>37.720000</td>\n",
              "      <td>37.000000</td>\n",
              "      <td>3141.000000</td>\n",
              "      <td>644.000000</td>\n",
              "      <td>1719.250000</td>\n",
              "      <td>602.000000</td>\n",
              "      <td>4.744475</td>\n",
              "      <td>263900.000000</td>\n",
              "    </tr>\n",
              "    <tr>\n",
              "      <th>max</th>\n",
              "      <td>-114.310000</td>\n",
              "      <td>41.950000</td>\n",
              "      <td>52.000000</td>\n",
              "      <td>39320.000000</td>\n",
              "      <td>6210.000000</td>\n",
              "      <td>35682.000000</td>\n",
              "      <td>5358.000000</td>\n",
              "      <td>15.000100</td>\n",
              "      <td>500001.000000</td>\n",
              "    </tr>\n",
              "  </tbody>\n",
              "</table>\n",
              "</div>"
            ],
            "text/plain": [
              "          longitude      latitude  housing_median_age   total_rooms  \\\n",
              "count  16512.000000  16512.000000        16512.000000  16512.000000   \n",
              "mean    -119.575834     35.639577           28.653101   2622.728319   \n",
              "std        2.001860      2.138058           12.574726   2138.458419   \n",
              "min     -124.350000     32.540000            1.000000      6.000000   \n",
              "25%     -121.800000     33.940000           18.000000   1443.000000   \n",
              "50%     -118.510000     34.260000           29.000000   2119.500000   \n",
              "75%     -118.010000     37.720000           37.000000   3141.000000   \n",
              "max     -114.310000     41.950000           52.000000  39320.000000   \n",
              "\n",
              "       total_bedrooms    population    households  median_income  \\\n",
              "count    16354.000000  16512.000000  16512.000000   16512.000000   \n",
              "mean       534.973890   1419.790819    497.060380       3.875589   \n",
              "std        412.699041   1115.686241    375.720845       1.904950   \n",
              "min          2.000000      3.000000      2.000000       0.499900   \n",
              "25%        295.000000    784.000000    279.000000       2.566775   \n",
              "50%        433.000000   1164.000000    408.000000       3.540900   \n",
              "75%        644.000000   1719.250000    602.000000       4.744475   \n",
              "max       6210.000000  35682.000000   5358.000000      15.000100   \n",
              "\n",
              "       median_house_value  \n",
              "count        16512.000000  \n",
              "mean        206990.920724  \n",
              "std         115703.014830  \n",
              "min          14999.000000  \n",
              "25%         119800.000000  \n",
              "50%         179500.000000  \n",
              "75%         263900.000000  \n",
              "max         500001.000000  "
            ]
          },
          "metadata": {
            "tags": []
          },
          "execution_count": 41
        }
      ]
    },
    {
      "metadata": {
        "id": "_jij2VFzJ-WH",
        "colab_type": "text"
      },
      "cell_type": "markdown",
      "source": [
        "Let's plot the geographical data..."
      ]
    },
    {
      "metadata": {
        "id": "DSCT_fv3KBnn",
        "colab_type": "code",
        "outputId": "161dc599-872f-4bb6-cfd5-bf0b0cd40bcc",
        "colab": {
          "base_uri": "https://localhost:8080/",
          "height": 302
        }
      },
      "cell_type": "code",
      "source": [
        "housing.plot(kind =\"scatter\", x =\"longitude\", y =\"latitude\") "
      ],
      "execution_count": 0,
      "outputs": [
        {
          "output_type": "execute_result",
          "data": {
            "text/plain": [
              "<matplotlib.axes._subplots.AxesSubplot at 0x7f8813d88978>"
            ]
          },
          "metadata": {
            "tags": []
          },
          "execution_count": 42
        },
        {
          "output_type": "display_data",
          "data": {
            "image/png": "[encoded data removed]",
            "text/plain": [
              "<matplotlib.figure.Figure at 0x7f8813e30f60>"
            ]
          },
          "metadata": {
            "tags": []
          }
        }
      ]
    },
    {
      "metadata": {
        "id": "7C76ZHW6KWZz",
        "colab_type": "code",
        "outputId": "434c6a62-604c-4b84-8b43-25f5b52e2e86",
        "colab": {
          "base_uri": "https://localhost:8080/",
          "height": 302
        }
      },
      "cell_type": "code",
      "source": [
        "housing.plot(kind =\"scatter\", x =\"longitude\", y =\"latitude\",alpha=0.1)"
      ],
      "execution_count": 0,
      "outputs": [
        {
          "output_type": "execute_result",
          "data": {
            "text/plain": [
              "<matplotlib.axes._subplots.AxesSubplot at 0x7f8815a29470>"
            ]
          },
          "metadata": {
            "tags": []
          },
          "execution_count": 43
        },
        {
          "output_type": "display_data",
          "data": {
            "image/png": "[encoded data removed]",
            "text/plain": [
              "<matplotlib.figure.Figure at 0x7f8813d8ab70>"
            ]
          },
          "metadata": {
            "tags": []
          }
        }
      ]
    },
    {
      "metadata": {
        "id": "6eP0OACZThCF",
        "colab_type": "text"
      },
      "cell_type": "markdown",
      "source": [
        "Now let’s look at the housing prices. The radius of each circle represents the district’s population (option s), and the color represents the price (option c). We will use a predefined color map (option cmap) called jet, which ranges from blue (low values) to red (high values).\n"
      ]
    },
    {
      "metadata": {
        "id": "razlEjuTK0JS",
        "colab_type": "code",
        "outputId": "1a88a734-9ab5-46a1-dfde-4d2134539b9c",
        "colab": {
          "base_uri": "https://localhost:8080/",
          "height": 433
        }
      },
      "cell_type": "code",
      "source": [
        "housing.plot(kind =\"scatter\", x =\"longitude\", y =\"latitude\", \n",
        "             alpha = 0.4, s=housing[\"population\"]/100, label =\"population\", \n",
        "             figsize =(10,7), c =\"median_house_value\", cmap=plt.get_cmap(\"jet\"), \n",
        "             colorbar = True,) \n",
        "plt.legend()"
      ],
      "execution_count": 0,
      "outputs": [
        {
          "output_type": "execute_result",
          "data": {
            "text/plain": [
              "<matplotlib.legend.Legend at 0x7f8813d20c50>"
            ]
          },
          "metadata": {
            "tags": []
          },
          "execution_count": 44
        },
        {
          "output_type": "display_data",
          "data": {
            "image/png": "[encoded data removed]",
            "text/plain": [
              "<matplotlib.figure.Figure at 0x7f8813d201d0>"
            ]
          },
          "metadata": {
            "tags": []
          }
        }
      ]
    },
    {
      "metadata": {
        "id": "6iAdRJVjLxSy",
        "colab_type": "text"
      },
      "cell_type": "markdown",
      "source": [
        "Since the dataset is not too large, we can easily compute the standard correlation coefficient (also called Pearson’s r) between every pair of attributes using the corr() method:"
      ]
    },
    {
      "metadata": {
        "id": "3oJBT6cuL5Wk",
        "colab_type": "code",
        "colab": {}
      },
      "cell_type": "code",
      "source": [
        "corr_matrix = housing.corr()"
      ],
      "execution_count": 0,
      "outputs": []
    },
    {
      "metadata": {
        "id": "XBaSxt6zMGq7",
        "colab_type": "text"
      },
      "cell_type": "markdown",
      "source": [
        "Now let’s look at how much each attribute correlates with the median house value:"
      ]
    },
    {
      "metadata": {
        "id": "XoagNwzMMP4b",
        "colab_type": "code",
        "outputId": "7988f125-901b-4a36-dd10-63f21f136832",
        "colab": {
          "base_uri": "https://localhost:8080/",
          "height": 183
        }
      },
      "cell_type": "code",
      "source": [
        "corr_matrix['median_house_value'].sort_values(ascending=False)"
      ],
      "execution_count": 0,
      "outputs": [
        {
          "output_type": "execute_result",
          "data": {
            "text/plain": [
              "median_house_value    1.000000\n",
              "median_income         0.687160\n",
              "total_rooms           0.135097\n",
              "housing_median_age    0.114110\n",
              "households            0.064506\n",
              "total_bedrooms        0.047689\n",
              "population           -0.026920\n",
              "longitude            -0.047432\n",
              "latitude             -0.142724\n",
              "Name: median_house_value, dtype: float64"
            ]
          },
          "metadata": {
            "tags": []
          },
          "execution_count": 46
        }
      ]
    },
    {
      "metadata": {
        "id": "DfZsfmRMUqDe",
        "colab_type": "text"
      },
      "cell_type": "markdown",
      "source": [
        "Another way to check for correlation between attributes is to use Pandas’ scatter_matrix function, which plots every numerical attribute against every other numerical attribute. Since there are now 11 numerical attributes, we would get $(11)^2 = 121$ plots, which would not fit on a page, so let’s just focus on a few promising attributes that seem most correlated with the median housing value.\n",
        " "
      ]
    },
    {
      "metadata": {
        "id": "kGJw0u_2VK5_",
        "colab_type": "code",
        "outputId": "c50a944a-2e8c-4dab-b2cc-6acd566ef351",
        "colab": {
          "base_uri": "https://localhost:8080/",
          "height": 811
        }
      },
      "cell_type": "code",
      "source": [
        "from pandas.plotting import scatter_matrix \n",
        "attributes = ['median_house_value', 'median_income', 'total_rooms', 'housing_median_age'] \n",
        "scatter_matrix(housing[attributes], figsize =( 12, 8)) "
      ],
      "execution_count": 0,
      "outputs": [
        {
          "output_type": "execute_result",
          "data": {
            "text/plain": [
              "array([[<matplotlib.axes._subplots.AxesSubplot object at 0x7f8813c87550>,\n",
              "        <matplotlib.axes._subplots.AxesSubplot object at 0x7f8813e3be48>,\n",
              "        <matplotlib.axes._subplots.AxesSubplot object at 0x7f8813e26630>,\n",
              "        <matplotlib.axes._subplots.AxesSubplot object at 0x7f8813c0ceb8>],\n",
              "       [<matplotlib.axes._subplots.AxesSubplot object at 0x7f8813e4aa58>,\n",
              "        <matplotlib.axes._subplots.AxesSubplot object at 0x7f8813e4a9e8>,\n",
              "        <matplotlib.axes._subplots.AxesSubplot object at 0x7f88123e0c18>,\n",
              "        <matplotlib.axes._subplots.AxesSubplot object at 0x7f88123a0278>],\n",
              "       [<matplotlib.axes._subplots.AxesSubplot object at 0x7f8812352dd8>,\n",
              "        <matplotlib.axes._subplots.AxesSubplot object at 0x7f881235ce10>,\n",
              "        <matplotlib.axes._subplots.AxesSubplot object at 0x7f88122c3048>,\n",
              "        <matplotlib.axes._subplots.AxesSubplot object at 0x7f88122f9668>],\n",
              "       [<matplotlib.axes._subplots.AxesSubplot object at 0x7f88122b7208>,\n",
              "        <matplotlib.axes._subplots.AxesSubplot object at 0x7f881226d828>,\n",
              "        <matplotlib.axes._subplots.AxesSubplot object at 0x7f881221f2e8>,\n",
              "        <matplotlib.axes._subplots.AxesSubplot object at 0x7f88121d5828>]],\n",
              "      dtype=object)"
            ]
          },
          "metadata": {
            "tags": []
          },
          "execution_count": 47
        },
        {
          "output_type": "display_data",
          "data": {
            "image/png": "[encoded data removed]",
            "text/plain": [
              "<matplotlib.figure.Figure at 0x7f8813cba550>"
            ]
          },
          "metadata": {
            "tags": []
          }
        }
      ]
    },
    {
      "metadata": {
        "id": "gUqOjQq4V71X",
        "colab_type": "code",
        "outputId": "78f35572-f0c2-4a58-98da-6cb3b083fcf9",
        "colab": {
          "base_uri": "https://localhost:8080/",
          "height": 302
        }
      },
      "cell_type": "code",
      "source": [
        "housing.plot(kind =\"scatter\", x =\"median_income\", y =\"median_house_value\", alpha = 0.1) "
      ],
      "execution_count": 0,
      "outputs": [
        {
          "output_type": "execute_result",
          "data": {
            "text/plain": [
              "<matplotlib.axes._subplots.AxesSubplot at 0x7f88121a9860>"
            ]
          },
          "metadata": {
            "tags": []
          },
          "execution_count": 48
        },
        {
          "output_type": "display_data",
          "data": {
            "image/png": "[encoded data removed]",
            "text/plain": [
              "<matplotlib.figure.Figure at 0x7f8813cba898>"
            ]
          },
          "metadata": {
            "tags": []
          }
        }
      ]
    },
    {
      "metadata": {
        "id": "Pzui4oZDWVl9",
        "colab_type": "text"
      },
      "cell_type": "markdown",
      "source": [
        "This plot reveals a few things. First, the correlation is indeed very strong; we can clearly see the upward trend and the points are not too dispersed. Second, the price cap that we noticed earlier is clearly visible as a horizontal line at USD 500,000. But this plot reveals other less obvious straight lines: a horizontal line around USD 450,000, another around USD 350,000, perhaps one around USD 280,000, and a few more below that. We may want to try removing the corresponding districts to prevent our algorithms from learning to reproduce these data quirks.\n",
        "\n",
        "Let's look at some other newly-generated attributes..."
      ]
    },
    {
      "metadata": {
        "id": "0zcJwDh5XUtT",
        "colab_type": "code",
        "colab": {}
      },
      "cell_type": "code",
      "source": [
        "housing[\"rooms_per_household\"] = housing[\"total_rooms\"]/ housing[\"households\"] \n",
        "housing[\"bedrooms_per_room\"] = housing[\"total_bedrooms\"]/ housing[\"total_rooms\"] \n",
        "housing[\"population_per_household\"] = housing[\"population\"]/housing[\"households\"]\n",
        " "
      ],
      "execution_count": 0,
      "outputs": []
    },
    {
      "metadata": {
        "id": "QfRIjmWHXubG",
        "colab_type": "text"
      },
      "cell_type": "markdown",
      "source": [
        "Recalculate the correlation matrix..."
      ]
    },
    {
      "metadata": {
        "id": "LnfiOsH-X0RP",
        "colab_type": "code",
        "colab": {}
      },
      "cell_type": "code",
      "source": [
        "corr_matrix = housing.corr()"
      ],
      "execution_count": 0,
      "outputs": []
    },
    {
      "metadata": {
        "id": "7vcthqH3X8aB",
        "colab_type": "code",
        "outputId": "261b1cec-4a4b-4015-b6d3-1ed00d249e29",
        "colab": {
          "base_uri": "https://localhost:8080/",
          "height": 233
        }
      },
      "cell_type": "code",
      "source": [
        "corr_matrix['median_house_value'].sort_values(ascending=False)"
      ],
      "execution_count": 0,
      "outputs": [
        {
          "output_type": "execute_result",
          "data": {
            "text/plain": [
              "median_house_value          1.000000\n",
              "median_income               0.687160\n",
              "rooms_per_household         0.146285\n",
              "total_rooms                 0.135097\n",
              "housing_median_age          0.114110\n",
              "households                  0.064506\n",
              "total_bedrooms              0.047689\n",
              "population_per_household   -0.021985\n",
              "population                 -0.026920\n",
              "longitude                  -0.047432\n",
              "latitude                   -0.142724\n",
              "bedrooms_per_room          -0.259984\n",
              "Name: median_house_value, dtype: float64"
            ]
          },
          "metadata": {
            "tags": []
          },
          "execution_count": 51
        }
      ]
    },
    {
      "metadata": {
        "id": "SxkIhb34YYov",
        "colab_type": "text"
      },
      "cell_type": "markdown",
      "source": [
        "The new 'bedrooms_per_room attribute' is much more correlated with the median house value than the total number of rooms or bedrooms. Apparently houses with a lower bedroom/room ratio tend to be more expensive. The number of 'rooms per household' is also more informative than the total number of rooms in a district — obviously the larger the houses, the more expensive they are. This round of exploration does not have to be absolutely thorough; the point is to start off on the right foot and quickly gain insights that will help us get a first reasonably good prototype. But this is an iterative process: once we get a prototype up and running, we can analyze its output to gain more insights and come back to this exploration step."
      ]
    },
    {
      "metadata": {
        "id": "D5rUPNQ4iu9M",
        "colab_type": "text"
      },
      "cell_type": "markdown",
      "source": [
        "First let’s revert to a clean training set (by copying strat_train_set once again), and let’s separate the predictors and the labels since we don’t necessarily want to apply the same transformations to the predictors and the target values (note that drop() creates a copy of the data and does not affect strat_train_set):\n"
      ]
    },
    {
      "metadata": {
        "id": "5A77xjaWYXxi",
        "colab_type": "code",
        "outputId": "cae49051-64b5-4a12-e3a5-de527a3eb936",
        "colab": {
          "base_uri": "https://localhost:8080/",
          "height": 320
        }
      },
      "cell_type": "code",
      "source": [
        "housing = strat_train_set.drop(\"income_cat\", axis = 1)              # Remove the 'income_cat' attribute\n",
        "housing = housing.drop(\"median_house_value\", axis = 1)              # Remove the 'median_house_value' attribute\n",
        "housing_labels = strat_train_set[\"median_house_value\"].copy()\n",
        "housing.describe()"
      ],
      "execution_count": 0,
      "outputs": [
        {
          "output_type": "execute_result",
          "data": {
            "text/html": [
              "<div>\n",
              "<style scoped>\n",
              "    .dataframe tbody tr th:only-of-type {\n",
              "        vertical-align: middle;\n",
              "    }\n",
              "\n",
              "    .dataframe tbody tr th {\n",
              "        vertical-align: top;\n",
              "    }\n",
              "\n",
              "    .dataframe thead th {\n",
              "        text-align: right;\n",
              "    }\n",
              "</style>\n",
              "<table border=\"1\" class=\"dataframe\">\n",
              "  <thead>\n",
              "    <tr style=\"text-align: right;\">\n",
              "      <th></th>\n",
              "      <th>longitude</th>\n",
              "      <th>latitude</th>\n",
              "      <th>housing_median_age</th>\n",
              "      <th>total_rooms</th>\n",
              "      <th>total_bedrooms</th>\n",
              "      <th>population</th>\n",
              "      <th>households</th>\n",
              "      <th>median_income</th>\n",
              "    </tr>\n",
              "  </thead>\n",
              "  <tbody>\n",
              "    <tr>\n",
              "      <th>count</th>\n",
              "      <td>16512.000000</td>\n",
              "      <td>16512.000000</td>\n",
              "      <td>16512.000000</td>\n",
              "      <td>16512.000000</td>\n",
              "      <td>16354.000000</td>\n",
              "      <td>16512.000000</td>\n",
              "      <td>16512.000000</td>\n",
              "      <td>16512.000000</td>\n",
              "    </tr>\n",
              "    <tr>\n",
              "      <th>mean</th>\n",
              "      <td>-119.575834</td>\n",
              "      <td>35.639577</td>\n",
              "      <td>28.653101</td>\n",
              "      <td>2622.728319</td>\n",
              "      <td>534.973890</td>\n",
              "      <td>1419.790819</td>\n",
              "      <td>497.060380</td>\n",
              "      <td>3.875589</td>\n",
              "    </tr>\n",
              "    <tr>\n",
              "      <th>std</th>\n",
              "      <td>2.001860</td>\n",
              "      <td>2.138058</td>\n",
              "      <td>12.574726</td>\n",
              "      <td>2138.458419</td>\n",
              "      <td>412.699041</td>\n",
              "      <td>1115.686241</td>\n",
              "      <td>375.720845</td>\n",
              "      <td>1.904950</td>\n",
              "    </tr>\n",
              "    <tr>\n",
              "      <th>min</th>\n",
              "      <td>-124.350000</td>\n",
              "      <td>32.540000</td>\n",
              "      <td>1.000000</td>\n",
              "      <td>6.000000</td>\n",
              "      <td>2.000000</td>\n",
              "      <td>3.000000</td>\n",
              "      <td>2.000000</td>\n",
              "      <td>0.499900</td>\n",
              "    </tr>\n",
              "    <tr>\n",
              "      <th>25%</th>\n",
              "      <td>-121.800000</td>\n",
              "      <td>33.940000</td>\n",
              "      <td>18.000000</td>\n",
              "      <td>1443.000000</td>\n",
              "      <td>295.000000</td>\n",
              "      <td>784.000000</td>\n",
              "      <td>279.000000</td>\n",
              "      <td>2.566775</td>\n",
              "    </tr>\n",
              "    <tr>\n",
              "      <th>50%</th>\n",
              "      <td>-118.510000</td>\n",
              "      <td>34.260000</td>\n",
              "      <td>29.000000</td>\n",
              "      <td>2119.500000</td>\n",
              "      <td>433.000000</td>\n",
              "      <td>1164.000000</td>\n",
              "      <td>408.000000</td>\n",
              "      <td>3.540900</td>\n",
              "    </tr>\n",
              "    <tr>\n",
              "      <th>75%</th>\n",
              "      <td>-118.010000</td>\n",
              "      <td>37.720000</td>\n",
              "      <td>37.000000</td>\n",
              "      <td>3141.000000</td>\n",
              "      <td>644.000000</td>\n",
              "      <td>1719.250000</td>\n",
              "      <td>602.000000</td>\n",
              "      <td>4.744475</td>\n",
              "    </tr>\n",
              "    <tr>\n",
              "      <th>max</th>\n",
              "      <td>-114.310000</td>\n",
              "      <td>41.950000</td>\n",
              "      <td>52.000000</td>\n",
              "      <td>39320.000000</td>\n",
              "      <td>6210.000000</td>\n",
              "      <td>35682.000000</td>\n",
              "      <td>5358.000000</td>\n",
              "      <td>15.000100</td>\n",
              "    </tr>\n",
              "  </tbody>\n",
              "</table>\n",
              "</div>"
            ],
            "text/plain": [
              "          longitude      latitude  housing_median_age   total_rooms  \\\n",
              "count  16512.000000  16512.000000        16512.000000  16512.000000   \n",
              "mean    -119.575834     35.639577           28.653101   2622.728319   \n",
              "std        2.001860      2.138058           12.574726   2138.458419   \n",
              "min     -124.350000     32.540000            1.000000      6.000000   \n",
              "25%     -121.800000     33.940000           18.000000   1443.000000   \n",
              "50%     -118.510000     34.260000           29.000000   2119.500000   \n",
              "75%     -118.010000     37.720000           37.000000   3141.000000   \n",
              "max     -114.310000     41.950000           52.000000  39320.000000   \n",
              "\n",
              "       total_bedrooms    population    households  median_income  \n",
              "count    16354.000000  16512.000000  16512.000000   16512.000000  \n",
              "mean       534.973890   1419.790819    497.060380       3.875589  \n",
              "std        412.699041   1115.686241    375.720845       1.904950  \n",
              "min          2.000000      3.000000      2.000000       0.499900  \n",
              "25%        295.000000    784.000000    279.000000       2.566775  \n",
              "50%        433.000000   1164.000000    408.000000       3.540900  \n",
              "75%        644.000000   1719.250000    602.000000       4.744475  \n",
              "max       6210.000000  35682.000000   5358.000000      15.000100  "
            ]
          },
          "metadata": {
            "tags": []
          },
          "execution_count": 52
        }
      ]
    },
    {
      "metadata": {
        "id": "Fdk-m0kxmN1j",
        "colab_type": "text"
      },
      "cell_type": "markdown",
      "source": [
        "Now we need to deal with missing data in the dataset. Scikit-Learn provides a handy class to take care of missing values: **Imputer**. Here is how to use it. First, we need to create an Imputer instance, specifying that we want to replace each attribute’s missing values with the median of that attribute:\n",
        "\n"
      ]
    },
    {
      "metadata": {
        "id": "n6v2_41KocuT",
        "colab_type": "code",
        "colab": {}
      },
      "cell_type": "code",
      "source": [
        "from sklearn.impute import SimpleImputer\n",
        "imputer = SimpleImputer(strategy =\"median\")"
      ],
      "execution_count": 0,
      "outputs": []
    },
    {
      "metadata": {
        "id": "73jM8DzBouW2",
        "colab_type": "text"
      },
      "cell_type": "markdown",
      "source": [
        "Since the median can only be computed on numerical attributes, we need to create a copy of the data without the text attribute 'ocean_proximity':\n"
      ]
    },
    {
      "metadata": {
        "id": "d1Djit7lozPy",
        "colab_type": "code",
        "outputId": "a4c2e310-c840-460c-a3d9-1211c96c2d48",
        "colab": {
          "base_uri": "https://localhost:8080/",
          "height": 52
        }
      },
      "cell_type": "code",
      "source": [
        "housing_num=housing.drop('ocean_proximity',axis=1)\n",
        "imputer.fit(housing_num)"
      ],
      "execution_count": 0,
      "outputs": [
        {
          "output_type": "execute_result",
          "data": {
            "text/plain": [
              "SimpleImputer(copy=True, fill_value=None, missing_values=nan,\n",
              "       strategy='median', verbose=0)"
            ]
          },
          "metadata": {
            "tags": []
          },
          "execution_count": 54
        }
      ]
    },
    {
      "metadata": {
        "id": "jy_49sHhpyW7",
        "colab_type": "code",
        "outputId": "b1f491d4-e08c-449c-83c8-4ee4ae1c71be",
        "colab": {
          "base_uri": "https://localhost:8080/",
          "height": 52
        }
      },
      "cell_type": "code",
      "source": [
        "imputer.statistics_"
      ],
      "execution_count": 0,
      "outputs": [
        {
          "output_type": "execute_result",
          "data": {
            "text/plain": [
              "array([-118.51  ,   34.26  ,   29.    , 2119.5   ,  433.    , 1164.    ,\n",
              "        408.    ,    3.5409])"
            ]
          },
          "metadata": {
            "tags": []
          },
          "execution_count": 55
        }
      ]
    },
    {
      "metadata": {
        "id": "Sop7A3glp-aV",
        "colab_type": "code",
        "outputId": "4c347ada-e9e9-48bf-c2fe-ebfc49ff3b01",
        "colab": {
          "base_uri": "https://localhost:8080/",
          "height": 52
        }
      },
      "cell_type": "code",
      "source": [
        "housing_num.median().values"
      ],
      "execution_count": 0,
      "outputs": [
        {
          "output_type": "execute_result",
          "data": {
            "text/plain": [
              "array([-118.51  ,   34.26  ,   29.    , 2119.5   ,  433.    , 1164.    ,\n",
              "        408.    ,    3.5409])"
            ]
          },
          "metadata": {
            "tags": []
          },
          "execution_count": 56
        }
      ]
    },
    {
      "metadata": {
        "id": "L4UYELFWqZR8",
        "colab_type": "text"
      },
      "cell_type": "markdown",
      "source": [
        "Now we can use this “trained” imputer to transform the training set by replacing missing values by the learned medians: The result is a plain Numpy array containing the transformed features.  \n"
      ]
    },
    {
      "metadata": {
        "id": "uJjs8QHeqfv9",
        "colab_type": "code",
        "colab": {}
      },
      "cell_type": "code",
      "source": [
        "X = imputer.transform(housing_num) "
      ],
      "execution_count": 0,
      "outputs": []
    },
    {
      "metadata": {
        "id": "W5ec49zmqpvH",
        "colab_type": "text"
      },
      "cell_type": "markdown",
      "source": [
        "If we want to put it back into a Pandas DataFrame, it’s simple:"
      ]
    },
    {
      "metadata": {
        "id": "gMdPS-YGqy-I",
        "colab_type": "code",
        "colab": {}
      },
      "cell_type": "code",
      "source": [
        "housing_tr = pd.DataFrame(X,columns = housing_num.columns)"
      ],
      "execution_count": 0,
      "outputs": []
    },
    {
      "metadata": {
        "id": "HO31P3BerXWA",
        "colab_type": "text"
      },
      "cell_type": "markdown",
      "source": [
        "Earlier we left out the categorical attribute ocean_proximity because it is a text attribute so we cannot compute its median:"
      ]
    },
    {
      "metadata": {
        "id": "2aBxxHChreGa",
        "colab_type": "code",
        "outputId": "5e1e4c0e-989c-42af-8bef-4193c6a3ee73",
        "colab": {
          "base_uri": "https://localhost:8080/",
          "height": 200
        }
      },
      "cell_type": "code",
      "source": [
        "housing_cat=housing['ocean_proximity']\n",
        "housing_cat.head(10)"
      ],
      "execution_count": 0,
      "outputs": [
        {
          "output_type": "execute_result",
          "data": {
            "text/plain": [
              "17606     <1H OCEAN\n",
              "18632     <1H OCEAN\n",
              "14650    NEAR OCEAN\n",
              "3230         INLAND\n",
              "3555      <1H OCEAN\n",
              "19480        INLAND\n",
              "8879      <1H OCEAN\n",
              "13685        INLAND\n",
              "4937      <1H OCEAN\n",
              "4861      <1H OCEAN\n",
              "Name: ocean_proximity, dtype: object"
            ]
          },
          "metadata": {
            "tags": []
          },
          "execution_count": 59
        }
      ]
    },
    {
      "metadata": {
        "id": "Q7I2WV4FsVtr",
        "colab_type": "text"
      },
      "cell_type": "markdown",
      "source": [
        "Let’s convert these categories from text to numbers. For this, we can use the sklearn function **OrdinalEncoder** which encodes categorical features as an integer array."
      ]
    },
    {
      "metadata": {
        "id": "dU3DklOmKODz",
        "colab_type": "code",
        "colab": {}
      },
      "cell_type": "code",
      "source": [
        "from sklearn.preprocessing import OrdinalEncoder"
      ],
      "execution_count": 0,
      "outputs": []
    },
    {
      "metadata": {
        "id": "U2m-obXW2pDG",
        "colab_type": "code",
        "outputId": "5f7ea646-b832-4709-a354-4fa5f694c340",
        "colab": {
          "base_uri": "https://localhost:8080/",
          "height": 243
        }
      },
      "cell_type": "code",
      "source": [
        "housing_cat=housing_cat.reshape(-1,1)\n",
        "ordinal_encoder = OrdinalEncoder()\n",
        "housing_cat_encoded = ordinal_encoder.fit_transform(housing_cat)\n",
        "housing_cat_encoded[:10]\n",
        " "
      ],
      "execution_count": 0,
      "outputs": [
        {
          "output_type": "stream",
          "text": [
            "/usr/local/lib/python3.6/dist-packages/ipykernel_launcher.py:1: FutureWarning: reshape is deprecated and will raise in a subsequent release. Please use .values.reshape(...) instead\n",
            "  \"\"\"Entry point for launching an IPython kernel.\n"
          ],
          "name": "stderr"
        },
        {
          "output_type": "execute_result",
          "data": {
            "text/plain": [
              "array([[0.],\n",
              "       [0.],\n",
              "       [4.],\n",
              "       [1.],\n",
              "       [0.],\n",
              "       [1.],\n",
              "       [0.],\n",
              "       [1.],\n",
              "       [0.],\n",
              "       [0.]])"
            ]
          },
          "metadata": {
            "tags": []
          },
          "execution_count": 61
        }
      ]
    },
    {
      "metadata": {
        "id": "VLhKGCRPQhI_",
        "colab_type": "code",
        "outputId": "03a05b95-c42d-413d-d1b6-6d15fb297d05",
        "colab": {
          "base_uri": "https://localhost:8080/",
          "height": 52
        }
      },
      "cell_type": "code",
      "source": [
        "ordinal_encoder.categories_"
      ],
      "execution_count": 0,
      "outputs": [
        {
          "output_type": "execute_result",
          "data": {
            "text/plain": [
              "[array(['<1H OCEAN', 'INLAND', 'ISLAND', 'NEAR BAY', 'NEAR OCEAN'],\n",
              "       dtype=object)]"
            ]
          },
          "metadata": {
            "tags": []
          },
          "execution_count": 62
        }
      ]
    },
    {
      "metadata": {
        "id": "8GXtRCoztOqI",
        "colab_type": "text"
      },
      "cell_type": "markdown",
      "source": [
        "Scikit-Learn provides a **OneHotEncoder** encoder to convert integer categorical values into one-hot vectors. Let’s encode the categories as one-hot vectors:\n"
      ]
    },
    {
      "metadata": {
        "id": "3J2pVkgjtOG9",
        "colab_type": "code",
        "outputId": "ab01d14b-76f9-4056-800c-cd4636ca6299",
        "colab": {
          "base_uri": "https://localhost:8080/",
          "height": 52
        }
      },
      "cell_type": "code",
      "source": [
        "from sklearn.preprocessing import OneHotEncoder\n",
        "\n",
        "encoder = OneHotEncoder(categories='auto')\n",
        "housing_cat_1hot = encoder.fit_transform(housing_cat_encoded.reshape(-1,1))\n",
        "housing_cat_1hot"
      ],
      "execution_count": 0,
      "outputs": [
        {
          "output_type": "execute_result",
          "data": {
            "text/plain": [
              "<16512x5 sparse matrix of type '<class 'numpy.float64'>'\n",
              "\twith 16512 stored elements in Compressed Sparse Row format>"
            ]
          },
          "metadata": {
            "tags": []
          },
          "execution_count": 63
        }
      ]
    },
    {
      "metadata": {
        "id": "qoRZleBJvMB8",
        "colab_type": "text"
      },
      "cell_type": "markdown",
      "source": [
        "Note that fit_transform() expects a 2D array, but housing_cat_encoded is a 1D array, so we need to reshape it. Also, notice that the output is a SciPy sparse matrix, instead of a NumPy array. This is very useful when we have categorical attributes with thousands of categories. After one-hot encoding we get a matrix with thousands of columns, and the matrix is full of zeros except for a single 1 per row. Using up tons of memory mostly to store zeros would be very wasteful, so instead, a sparse matrix only stores the location of the nonzero elements. We can use it mostly like a normal 2D array,  but if you really want to convert it to a (dense) NumPy array, just call the toarray() method:\n",
        " \n"
      ]
    },
    {
      "metadata": {
        "id": "qNJ57SlXv2OO",
        "colab_type": "code",
        "outputId": "f4890dfd-ca94-48fb-e187-e60a52c8a5a4",
        "colab": {
          "base_uri": "https://localhost:8080/",
          "height": 133
        }
      },
      "cell_type": "code",
      "source": [
        "housing_cat_1hot.toarray()"
      ],
      "execution_count": 0,
      "outputs": [
        {
          "output_type": "execute_result",
          "data": {
            "text/plain": [
              "array([[1., 0., 0., 0., 0.],\n",
              "       [1., 0., 0., 0., 0.],\n",
              "       [0., 0., 0., 0., 1.],\n",
              "       ...,\n",
              "       [0., 1., 0., 0., 0.],\n",
              "       [1., 0., 0., 0., 0.],\n",
              "       [0., 0., 0., 1., 0.]])"
            ]
          },
          "metadata": {
            "tags": []
          },
          "execution_count": 64
        }
      ]
    },
    {
      "metadata": {
        "id": "7mYrSe9BAiS_",
        "colab_type": "text"
      },
      "cell_type": "markdown",
      "source": [
        "Although Scikit-Learn provides many useful transformers, we will need to write our own for tasks such as custom cleanup operations or combining specific attributes. We will want our transformer to work seamlessly with Scikit-Learn functionalities (such as pipelines), and since Scikit-Learn relies on duck typing (not inheritance), all we need is to create a class and implement three methods: fit() (returning self), transform(), and fit_transform(). You can get the last one for free by simply adding TransformerMixin as a base class. Also, if you add BaseEstimator as a base class (and avoid *args and ** kargs in your constructor) you will get two extra methods (get_params() and set_params()) that will be useful for automatic hyperparameter tuning. For example, here is a small transformer class that adds the combined attributes we discussed earlier:"
      ]
    },
    {
      "metadata": {
        "id": "tdE1zVVZ4OWj",
        "colab_type": "code",
        "colab": {}
      },
      "cell_type": "code",
      "source": [
        "from sklearn.base import BaseEstimator, TransformerMixin\n",
        "rooms_ix, bedrooms_ix, population_ix, household_ix = 3, 4, 5, 6  # column indices of these attributes"
      ],
      "execution_count": 0,
      "outputs": []
    },
    {
      "metadata": {
        "id": "Y6U74Qko4pEi",
        "colab_type": "text"
      },
      "cell_type": "markdown",
      "source": [
        "In this example the transformer has one hyperparameter, add_bedrooms_per_room, set to True by default (it is often helpful to provide sensible defaults). This hyperparameter will allow you to easily find out whether adding this attribute helps the Machine Learning algorithms or not. More generally, we can add a hyperparameter to gate any data preparation step that we are not 100% sure about. The more we automate these data preparation steps, the more combinations we can automatically try out, making it much more likely that we will find a great combination (and saving us a lot of time).\n",
        "\n"
      ]
    },
    {
      "metadata": {
        "id": "sOC3uYxV45CZ",
        "colab_type": "code",
        "colab": {}
      },
      "cell_type": "code",
      "source": [
        "class CombinedAttributesAdder(BaseEstimator, TransformerMixin):\n",
        "  \n",
        "    def __init__(self, add_bedrooms_per_room = True): # no *args or **kargs\n",
        "        self.add_bedrooms_per_room = add_bedrooms_per_room\n",
        "        \n",
        "    def fit(self, X, y=None):\n",
        "        return self                                   # nothing else to do\n",
        "      \n",
        "    def transform(self, X, y=None):\n",
        "        rooms_per_household = X[:,rooms_ix] /X[:,household_ix]\n",
        "        population_per_household = X[:,population_ix]/X[:,household_ix]\n",
        "        \n",
        "        if self.add_bedrooms_per_room:\n",
        "            bedrooms_per_room = X[:,bedrooms_ix]/X[:,rooms_ix]\n",
        "            return np.c_[X,rooms_per_household,population_per_household,\n",
        "                         bedrooms_per_room]\n",
        "        else:\n",
        "            return np.c_[X, rooms_per_household, population_per_household]\n",
        "\n",
        "attr_adder = CombinedAttributesAdder(add_bedrooms_per_room=False)\n",
        "housing_extra_attribs = attr_adder.transform(housing.values)"
      ],
      "execution_count": 0,
      "outputs": []
    },
    {
      "metadata": {
        "id": "w6cImkbZ_CpG",
        "colab_type": "text"
      },
      "cell_type": "markdown",
      "source": [
        "We create a dataframe with the newly-created attributes 'rooms_per_household' and 'population_per_household'."
      ]
    },
    {
      "metadata": {
        "id": "tMS2hu4M96Bf",
        "colab_type": "code",
        "outputId": "fd438255-a970-46ad-c87a-280ae55ec64d",
        "colab": {
          "base_uri": "https://localhost:8080/",
          "height": 228
        }
      },
      "cell_type": "code",
      "source": [
        "housing_extra_attribs = pd.DataFrame(housing_extra_attribs,\n",
        "    columns=list(housing.columns)+[\"rooms_per_household\", \"population_per_household\"])\n",
        "housing_extra_attribs.head()"
      ],
      "execution_count": 0,
      "outputs": [
        {
          "output_type": "execute_result",
          "data": {
            "text/html": [
              "<div>\n",
              "<style scoped>\n",
              "    .dataframe tbody tr th:only-of-type {\n",
              "        vertical-align: middle;\n",
              "    }\n",
              "\n",
              "    .dataframe tbody tr th {\n",
              "        vertical-align: top;\n",
              "    }\n",
              "\n",
              "    .dataframe thead th {\n",
              "        text-align: right;\n",
              "    }\n",
              "</style>\n",
              "<table border=\"1\" class=\"dataframe\">\n",
              "  <thead>\n",
              "    <tr style=\"text-align: right;\">\n",
              "      <th></th>\n",
              "      <th>longitude</th>\n",
              "      <th>latitude</th>\n",
              "      <th>housing_median_age</th>\n",
              "      <th>total_rooms</th>\n",
              "      <th>total_bedrooms</th>\n",
              "      <th>population</th>\n",
              "      <th>households</th>\n",
              "      <th>median_income</th>\n",
              "      <th>ocean_proximity</th>\n",
              "      <th>rooms_per_household</th>\n",
              "      <th>population_per_household</th>\n",
              "    </tr>\n",
              "  </thead>\n",
              "  <tbody>\n",
              "    <tr>\n",
              "      <th>0</th>\n",
              "      <td>-121.89</td>\n",
              "      <td>37.29</td>\n",
              "      <td>38</td>\n",
              "      <td>1568</td>\n",
              "      <td>351</td>\n",
              "      <td>710</td>\n",
              "      <td>339</td>\n",
              "      <td>2.7042</td>\n",
              "      <td>&lt;1H OCEAN</td>\n",
              "      <td>4.62537</td>\n",
              "      <td>2.0944</td>\n",
              "    </tr>\n",
              "    <tr>\n",
              "      <th>1</th>\n",
              "      <td>-121.93</td>\n",
              "      <td>37.05</td>\n",
              "      <td>14</td>\n",
              "      <td>679</td>\n",
              "      <td>108</td>\n",
              "      <td>306</td>\n",
              "      <td>113</td>\n",
              "      <td>6.4214</td>\n",
              "      <td>&lt;1H OCEAN</td>\n",
              "      <td>6.00885</td>\n",
              "      <td>2.70796</td>\n",
              "    </tr>\n",
              "    <tr>\n",
              "      <th>2</th>\n",
              "      <td>-117.2</td>\n",
              "      <td>32.77</td>\n",
              "      <td>31</td>\n",
              "      <td>1952</td>\n",
              "      <td>471</td>\n",
              "      <td>936</td>\n",
              "      <td>462</td>\n",
              "      <td>2.8621</td>\n",
              "      <td>NEAR OCEAN</td>\n",
              "      <td>4.22511</td>\n",
              "      <td>2.02597</td>\n",
              "    </tr>\n",
              "    <tr>\n",
              "      <th>3</th>\n",
              "      <td>-119.61</td>\n",
              "      <td>36.31</td>\n",
              "      <td>25</td>\n",
              "      <td>1847</td>\n",
              "      <td>371</td>\n",
              "      <td>1460</td>\n",
              "      <td>353</td>\n",
              "      <td>1.8839</td>\n",
              "      <td>INLAND</td>\n",
              "      <td>5.23229</td>\n",
              "      <td>4.13598</td>\n",
              "    </tr>\n",
              "    <tr>\n",
              "      <th>4</th>\n",
              "      <td>-118.59</td>\n",
              "      <td>34.23</td>\n",
              "      <td>17</td>\n",
              "      <td>6592</td>\n",
              "      <td>1525</td>\n",
              "      <td>4459</td>\n",
              "      <td>1463</td>\n",
              "      <td>3.0347</td>\n",
              "      <td>&lt;1H OCEAN</td>\n",
              "      <td>4.50581</td>\n",
              "      <td>3.04785</td>\n",
              "    </tr>\n",
              "  </tbody>\n",
              "</table>\n",
              "</div>"
            ],
            "text/plain": [
              "  longitude latitude housing_median_age total_rooms total_bedrooms population  \\\n",
              "0   -121.89    37.29                 38        1568            351        710   \n",
              "1   -121.93    37.05                 14         679            108        306   \n",
              "2    -117.2    32.77                 31        1952            471        936   \n",
              "3   -119.61    36.31                 25        1847            371       1460   \n",
              "4   -118.59    34.23                 17        6592           1525       4459   \n",
              "\n",
              "  households median_income ocean_proximity rooms_per_household  \\\n",
              "0        339        2.7042       <1H OCEAN             4.62537   \n",
              "1        113        6.4214       <1H OCEAN             6.00885   \n",
              "2        462        2.8621      NEAR OCEAN             4.22511   \n",
              "3        353        1.8839          INLAND             5.23229   \n",
              "4       1463        3.0347       <1H OCEAN             4.50581   \n",
              "\n",
              "  population_per_household  \n",
              "0                   2.0944  \n",
              "1                  2.70796  \n",
              "2                  2.02597  \n",
              "3                  4.13598  \n",
              "4                  3.04785  "
            ]
          },
          "metadata": {
            "tags": []
          },
          "execution_count": 67
        }
      ]
    },
    {
      "metadata": {
        "id": "w7c11uDPBQOt",
        "colab_type": "text"
      },
      "cell_type": "markdown",
      "source": [
        "There are many data transformation steps that need to be executed in the right order. Fortunately, Scikit-Learn provides the Pipeline class to help with such sequences of transformations. Here is a small pipeline for the numerical attributes:"
      ]
    },
    {
      "metadata": {
        "id": "Fwc24RR5BlwG",
        "colab_type": "code",
        "colab": {}
      },
      "cell_type": "code",
      "source": [
        "from sklearn.impute import SimpleImputer\n",
        "from sklearn.pipeline import Pipeline\n",
        "from sklearn.preprocessing import StandardScaler\n",
        "\n",
        "num_pipeline = Pipeline([\n",
        "        ('imputer', SimpleImputer(strategy=\"median\")),\n",
        "        ('attribs_adder', CombinedAttributesAdder()),\n",
        "        ('std_scaler', StandardScaler()),\n",
        "    ])\n",
        "\n",
        "housing_num_tr = num_pipeline.fit_transform(housing_num)"
      ],
      "execution_count": 0,
      "outputs": []
    },
    {
      "metadata": {
        "id": "rDBmnaLJCOF0",
        "colab_type": "code",
        "outputId": "f97da70d-8572-4e11-f65a-99d611e33fa7",
        "colab": {
          "base_uri": "https://localhost:8080/",
          "height": 233
        }
      },
      "cell_type": "code",
      "source": [
        "housing_num_tr"
      ],
      "execution_count": 0,
      "outputs": [
        {
          "output_type": "execute_result",
          "data": {
            "text/plain": [
              "array([[-1.15604281,  0.77194962,  0.74333089, ..., -0.31205452,\n",
              "        -0.08649871,  0.15531753],\n",
              "       [-1.17602483,  0.6596948 , -1.1653172 , ...,  0.21768338,\n",
              "        -0.03353391, -0.83628902],\n",
              "       [ 1.18684903, -1.34218285,  0.18664186, ..., -0.46531516,\n",
              "        -0.09240499,  0.4222004 ],\n",
              "       ...,\n",
              "       [ 1.58648943, -0.72478134, -1.56295222, ...,  0.3469342 ,\n",
              "        -0.03055414, -0.52177644],\n",
              "       [ 0.78221312, -0.85106801,  0.18664186, ...,  0.02499488,\n",
              "         0.06150916, -0.30340741],\n",
              "       [-1.43579109,  0.99645926,  1.85670895, ..., -0.22852947,\n",
              "        -0.09586294,  0.10180567]])"
            ]
          },
          "metadata": {
            "tags": []
          },
          "execution_count": 69
        }
      ]
    },
    {
      "metadata": {
        "id": "NXjrHo6OC3lT",
        "colab_type": "text"
      },
      "cell_type": "markdown",
      "source": [
        "Now it would be nice if we could feed a Pandas DataFrame containing non-numerical columns directly into our pipeline, instead of having to first manually extract the numerical columns into a NumPy array. Now we can use the recently-introduced sklearn function **'ColumnTransformer'** to do this work for us."
      ]
    },
    {
      "metadata": {
        "id": "_OBYLkaBDFx5",
        "colab_type": "code",
        "colab": {}
      },
      "cell_type": "code",
      "source": [
        "from sklearn.compose import ColumnTransformer"
      ],
      "execution_count": 0,
      "outputs": []
    },
    {
      "metadata": {
        "id": "EK6H-tYyEDHV",
        "colab_type": "code",
        "colab": {}
      },
      "cell_type": "code",
      "source": [
        "num_attribs = list(housing_num) \n",
        "cat_attribs = [\"ocean_proximity\"] "
      ],
      "execution_count": 0,
      "outputs": []
    },
    {
      "metadata": {
        "id": "w4xKpfkiEXGX",
        "colab_type": "code",
        "colab": {}
      },
      "cell_type": "code",
      "source": [
        "full_pipeline = ColumnTransformer([\n",
        "        (\"num\", num_pipeline, num_attribs),\n",
        "        (\"cat\", OneHotEncoder(), cat_attribs),\n",
        "    ])\n",
        "\n",
        "housing_prepared = full_pipeline.fit_transform(housing)"
      ],
      "execution_count": 0,
      "outputs": []
    },
    {
      "metadata": {
        "id": "pr3LBnrp9WHd",
        "colab_type": "code",
        "outputId": "7d2887f6-a190-4972-9b08-41139107533d",
        "colab": {
          "base_uri": "https://localhost:8080/",
          "height": 233
        }
      },
      "cell_type": "code",
      "source": [
        "housing_prepared"
      ],
      "execution_count": 0,
      "outputs": [
        {
          "output_type": "execute_result",
          "data": {
            "text/plain": [
              "array([[-1.15604281,  0.77194962,  0.74333089, ...,  0.        ,\n",
              "         0.        ,  0.        ],\n",
              "       [-1.17602483,  0.6596948 , -1.1653172 , ...,  0.        ,\n",
              "         0.        ,  0.        ],\n",
              "       [ 1.18684903, -1.34218285,  0.18664186, ...,  0.        ,\n",
              "         0.        ,  1.        ],\n",
              "       ...,\n",
              "       [ 1.58648943, -0.72478134, -1.56295222, ...,  0.        ,\n",
              "         0.        ,  0.        ],\n",
              "       [ 0.78221312, -0.85106801,  0.18664186, ...,  0.        ,\n",
              "         0.        ,  0.        ],\n",
              "       [-1.43579109,  0.99645926,  1.85670895, ...,  0.        ,\n",
              "         1.        ,  0.        ]])"
            ]
          },
          "metadata": {
            "tags": []
          },
          "execution_count": 73
        }
      ]
    },
    {
      "metadata": {
        "id": "pexGlJRmATwK",
        "colab_type": "text"
      },
      "cell_type": "markdown",
      "source": [
        "Our feature matrix X (independent variables)"
      ]
    },
    {
      "metadata": {
        "id": "gKlu7N4h9skS",
        "colab_type": "code",
        "outputId": "67a14d9b-d872-4612-801e-b74b395a36c8",
        "colab": {
          "base_uri": "https://localhost:8080/",
          "height": 34
        }
      },
      "cell_type": "code",
      "source": [
        "housing_prepared.shape"
      ],
      "execution_count": 0,
      "outputs": [
        {
          "output_type": "execute_result",
          "data": {
            "text/plain": [
              "(16512, 16)"
            ]
          },
          "metadata": {
            "tags": []
          },
          "execution_count": 74
        }
      ]
    },
    {
      "metadata": {
        "id": "VUflxrcLAc0a",
        "colab_type": "text"
      },
      "cell_type": "markdown",
      "source": [
        "Our output matrix y (dependent variable)"
      ]
    },
    {
      "metadata": {
        "id": "AgNqMf0X_1ht",
        "colab_type": "code",
        "outputId": "24ca8de0-1c65-41b9-9638-d1c8ac06d289",
        "colab": {
          "base_uri": "https://localhost:8080/",
          "height": 34
        }
      },
      "cell_type": "code",
      "source": [
        "housing_labels.shape"
      ],
      "execution_count": 0,
      "outputs": [
        {
          "output_type": "execute_result",
          "data": {
            "text/plain": [
              "(16512,)"
            ]
          },
          "metadata": {
            "tags": []
          },
          "execution_count": 75
        }
      ]
    },
    {
      "metadata": {
        "id": "lyX9lf4w-eyT",
        "colab_type": "text"
      },
      "cell_type": "markdown",
      "source": [
        "## Select and train a ML algorithm. #\n",
        "Let's first look at a linear regression."
      ]
    },
    {
      "metadata": {
        "id": "kQcRnQIBA0iU",
        "colab_type": "code",
        "outputId": "ab2f1df3-64e9-4b95-d96a-dd99f97422a8",
        "colab": {
          "base_uri": "https://localhost:8080/",
          "height": 52
        }
      },
      "cell_type": "code",
      "source": [
        "from sklearn.linear_model import LinearRegression \n",
        "lin_reg = LinearRegression() \n",
        "lin_reg.fit(housing_prepared,housing_labels)\n",
        " "
      ],
      "execution_count": 0,
      "outputs": [
        {
          "output_type": "execute_result",
          "data": {
            "text/plain": [
              "LinearRegression(copy_X=True, fit_intercept=True, n_jobs=None,\n",
              "         normalize=False)"
            ]
          },
          "metadata": {
            "tags": []
          },
          "execution_count": 76
        }
      ]
    },
    {
      "metadata": {
        "id": "8FMwF9a-BE17",
        "colab_type": "text"
      },
      "cell_type": "markdown",
      "source": [
        "Done! We now have a working Linear Regression model. Let’s try it out on a few instances from the training set:\n"
      ]
    },
    {
      "metadata": {
        "id": "D7PXNP9NBEY0",
        "colab_type": "code",
        "outputId": "217a7ddc-0080-41d0-d8ee-8b15346f6c50",
        "colab": {
          "base_uri": "https://localhost:8080/",
          "height": 52
        }
      },
      "cell_type": "code",
      "source": [
        "# Let's try the full preprocessing pipeline on a few training instances\n",
        "\n",
        "some_data = housing.iloc[:5]\n",
        "some_labels = housing_labels.iloc[:5]\n",
        "some_data_prepared = full_pipeline.transform(some_data)\n",
        "\n",
        "print(\"Predictions:\", lin_reg.predict(some_data_prepared))"
      ],
      "execution_count": 0,
      "outputs": [
        {
          "output_type": "stream",
          "text": [
            "Predictions: [210644.60459286 317768.80697211 210956.43331178  59218.98886849\n",
            " 189747.55849879]\n"
          ],
          "name": "stdout"
        }
      ]
    },
    {
      "metadata": {
        "id": "EHIFZOspB2g0",
        "colab_type": "text"
      },
      "cell_type": "markdown",
      "source": [
        "Let's compare these predictions against the labelled values..."
      ]
    },
    {
      "metadata": {
        "id": "S-nTDZ8MB-cm",
        "colab_type": "code",
        "outputId": "017eb7fb-0454-4581-ffea-f417a5273e3a",
        "colab": {
          "base_uri": "https://localhost:8080/",
          "height": 118
        }
      },
      "cell_type": "code",
      "source": [
        "print(some_labels)"
      ],
      "execution_count": 0,
      "outputs": [
        {
          "output_type": "stream",
          "text": [
            "17606    286600.0\n",
            "18632    340600.0\n",
            "14650    196900.0\n",
            "3230      46300.0\n",
            "3555     254500.0\n",
            "Name: median_house_value, dtype: float64\n"
          ],
          "name": "stdout"
        }
      ]
    },
    {
      "metadata": {
        "id": "keAqfuCGCTg6",
        "colab_type": "text"
      },
      "cell_type": "markdown",
      "source": [
        "Let’s measure this regression model’s **RMSE** on the whole training set using **Scikit-Learn’s mean_squared_error function**:\n"
      ]
    },
    {
      "metadata": {
        "id": "bRFuM9PcCfsm",
        "colab_type": "code",
        "outputId": "b941fe45-3f20-4bac-9e44-d12a8839e291",
        "colab": {
          "base_uri": "https://localhost:8080/",
          "height": 34
        }
      },
      "cell_type": "code",
      "source": [
        "from sklearn.metrics import mean_squared_error\n",
        "\n",
        "housing_predictions = lin_reg.predict(housing_prepared)\n",
        "lin_mse = mean_squared_error(housing_labels, housing_predictions)\n",
        "lin_rmse = np.sqrt(lin_mse)\n",
        "lin_rmse"
      ],
      "execution_count": 0,
      "outputs": [
        {
          "output_type": "execute_result",
          "data": {
            "text/plain": [
              "68628.19819848923"
            ]
          },
          "metadata": {
            "tags": []
          },
          "execution_count": 79
        }
      ]
    },
    {
      "metadata": {
        "id": "I58VCO3PC_Ao",
        "colab_type": "text"
      },
      "cell_type": "markdown",
      "source": [
        "Okay, this is better than nothing but clearly not a great score: most districts’ median_housing_values range between USD 120,000 and USD 265,000, so a typical prediction error of USD 68,628 is not very satisfying. This is an example of a model underfitting the training data.\n",
        "\n",
        "Let's now calculate the **mean absolute error**.\n",
        "\n"
      ]
    },
    {
      "metadata": {
        "id": "sufnExkBDbKj",
        "colab_type": "code",
        "outputId": "e9bcffe0-f332-48ba-8740-704d5f7f7324",
        "colab": {
          "base_uri": "https://localhost:8080/",
          "height": 34
        }
      },
      "cell_type": "code",
      "source": [
        "from sklearn.metrics import mean_absolute_error\n",
        "\n",
        "lin_mae = mean_absolute_error(housing_labels, housing_predictions)\n",
        "lin_mae"
      ],
      "execution_count": 0,
      "outputs": [
        {
          "output_type": "execute_result",
          "data": {
            "text/plain": [
              "49439.89599001897"
            ]
          },
          "metadata": {
            "tags": []
          },
          "execution_count": 80
        }
      ]
    },
    {
      "metadata": {
        "id": "Pnl1cquXD5MY",
        "colab_type": "text"
      },
      "cell_type": "markdown",
      "source": [
        "Let’s train a **DecisionTreeRegressor.** This is a powerful model, capable of finding complex nonlinear relationships in the data.\n",
        "\n"
      ]
    },
    {
      "metadata": {
        "id": "d7smvhH_D4hN",
        "colab_type": "code",
        "outputId": "2d9c6879-c590-4c5e-8a9c-db8f03a47a7b",
        "colab": {
          "base_uri": "https://localhost:8080/",
          "height": 100
        }
      },
      "cell_type": "code",
      "source": [
        "from sklearn.tree import DecisionTreeRegressor \n",
        "tree_reg = DecisionTreeRegressor() \n",
        "tree_reg.fit(housing_prepared,housing_labels) "
      ],
      "execution_count": 0,
      "outputs": [
        {
          "output_type": "execute_result",
          "data": {
            "text/plain": [
              "DecisionTreeRegressor(criterion='mse', max_depth=None, max_features=None,\n",
              "           max_leaf_nodes=None, min_impurity_decrease=0.0,\n",
              "           min_impurity_split=None, min_samples_leaf=1,\n",
              "           min_samples_split=2, min_weight_fraction_leaf=0.0,\n",
              "           presort=False, random_state=None, splitter='best')"
            ]
          },
          "metadata": {
            "tags": []
          },
          "execution_count": 81
        }
      ]
    },
    {
      "metadata": {
        "id": "Q5qKUhULEhzf",
        "colab_type": "text"
      },
      "cell_type": "markdown",
      "source": [
        "Now that the DecisionTree model is trained, let’s evaluate it on the training set:\n",
        "\n"
      ]
    },
    {
      "metadata": {
        "id": "ENSR0iz4E7qb",
        "colab_type": "code",
        "outputId": "004af20a-eed3-4ad6-ee1d-c6da60669e48",
        "colab": {
          "base_uri": "https://localhost:8080/",
          "height": 34
        }
      },
      "cell_type": "code",
      "source": [
        "housing_predictions = tree_reg.predict(housing_prepared)\n",
        "lin_mse = mean_squared_error(housing_labels, housing_predictions)\n",
        "lin_rmse = np.sqrt(lin_mse)\n",
        "lin_rmse"
      ],
      "execution_count": 0,
      "outputs": [
        {
          "output_type": "execute_result",
          "data": {
            "text/plain": [
              "0.0"
            ]
          },
          "metadata": {
            "tags": []
          },
          "execution_count": 82
        }
      ]
    },
    {
      "metadata": {
        "id": "pfSQsePYFcqP",
        "colab_type": "text"
      },
      "cell_type": "markdown",
      "source": [
        "No error at all? Could this model really be absolutely perfect? No, it is much more likely that the model has badly overfit the data.\n",
        "\n",
        "One way to evaluate the Decision Tree model would be to use the train_test_split function to split the training set into a smaller training set and a validation set, then train our models against the smaller training set and evaluate them against the validation set. It’s a bit of work, but nothing too difficult and it would work fairly well.\n",
        "\n",
        "A great alternative is to use** Scikit-Learn’s cross-validation** feature. The following code performs K-fold cross-validation: it randomly splits the training set into 10 distinct subsets called folds, then it trains and evaluates the Decision Tree model 10 times, picking a different fold for evaluation every time and training on the other 9 folds. The result is an array containing the 10 evaluation scores:"
      ]
    },
    {
      "metadata": {
        "id": "TEKw1CnDG2Ch",
        "colab_type": "code",
        "colab": {}
      },
      "cell_type": "code",
      "source": [
        "from sklearn.model_selection import cross_val_score\n",
        "\n",
        "scores = cross_val_score(tree_reg,housing_prepared,housing_labels,scoring=\"neg_mean_squared_error\", cv=10)\n",
        "tree_rmse_scores = np.sqrt(-scores)"
      ],
      "execution_count": 0,
      "outputs": []
    },
    {
      "metadata": {
        "id": "sTKJwdp4HHhZ",
        "colab_type": "code",
        "outputId": "49d6976a-10d0-44e5-9d27-a2f46a99325e",
        "colab": {
          "base_uri": "https://localhost:8080/",
          "height": 100
        }
      },
      "cell_type": "code",
      "source": [
        "def display_scores(scores):\n",
        "    print(\"Scores:\", scores)\n",
        "    print(\"Mean:\", scores.mean())\n",
        "    print(\"Standard deviation:\", scores.std())\n",
        "\n",
        "display_scores(tree_rmse_scores)"
      ],
      "execution_count": 0,
      "outputs": [
        {
          "output_type": "stream",
          "text": [
            "Scores: [69327.01708558 65486.39211857 71358.25563341 69091.37509104\n",
            " 70570.20267046 75529.94622521 69895.20650652 70660.14247357\n",
            " 75843.74719231 68905.17669382]\n",
            "Mean: 70666.74616904806\n",
            "Standard deviation: 2928.322738055112\n"
          ],
          "name": "stdout"
        }
      ]
    },
    {
      "metadata": {
        "id": "5mgdXQIiHig1",
        "colab_type": "text"
      },
      "cell_type": "markdown",
      "source": [
        "Now the Decision Tree doesn’t look as good as it did earlier. **In fact, it seems to perform worse than the Linear Regression model!** Notice that cross-validation allows us to get not only an estimate of the performance of our model, but also a measure of how precise this estimate is (i.e., its standard deviation). The Decision Tree has a score of approximately 71,379, generally ± 2,458. We would not have this information if we just used one validation set. But cross-validation comes at the cost of training the model several times, so it is not always possible.\n"
      ]
    },
    {
      "metadata": {
        "id": "LqOnkSNMH7AR",
        "colab_type": "text"
      },
      "cell_type": "markdown",
      "source": [
        "Let’s compute the same scores for the Linear Regression model just to be sure:\n"
      ]
    },
    {
      "metadata": {
        "id": "AfYWCiNvHiFI",
        "colab_type": "code",
        "outputId": "a7f39435-0797-439a-f164-78e3fe2100c4",
        "colab": {
          "base_uri": "https://localhost:8080/",
          "height": 100
        }
      },
      "cell_type": "code",
      "source": [
        "lin_scores = cross_val_score(lin_reg, housing_prepared, housing_labels,scoring=\"neg_mean_squared_error\", cv=10)\n",
        "lin_rmse_scores = np.sqrt(-lin_scores)\n",
        "display_scores(lin_rmse_scores)"
      ],
      "execution_count": 0,
      "outputs": [
        {
          "output_type": "stream",
          "text": [
            "Scores: [66782.73843989 66960.118071   70347.95244419 74739.57052552\n",
            " 68031.13388938 71193.84183426 64969.63056405 68281.61137997\n",
            " 71552.91566558 67665.10082067]\n",
            "Mean: 69052.46136345083\n",
            "Standard deviation: 2731.674001798344\n"
          ],
          "name": "stdout"
        }
      ]
    },
    {
      "metadata": {
        "id": "ynKthl0aIXyK",
        "colab_type": "text"
      },
      "cell_type": "markdown",
      "source": [
        "**We have verified that the Decision Tree model is overfitting so badly that it performs worse than the Linear Regression model.**\n"
      ]
    },
    {
      "metadata": {
        "id": "3Ew1uHg_IrbC",
        "colab_type": "text"
      },
      "cell_type": "markdown",
      "source": [
        "Let's try one more model: the **RandomForestRegressor**. Random Forests work by training many Decision Trees on random subsets of the features, then averaging out their predictions. **Building a model on top of many other models is called Ensemble Learning , and it is often a great way to push ML algorithms even further.**\n"
      ]
    },
    {
      "metadata": {
        "id": "bl2u0Ha_JL5q",
        "colab_type": "code",
        "outputId": "ff76298a-b54c-42bc-e3af-43837c7b1a16",
        "colab": {
          "base_uri": "https://localhost:8080/",
          "height": 178
        }
      },
      "cell_type": "code",
      "source": [
        "from sklearn.ensemble import RandomForestRegressor\n",
        "\n",
        "forest_reg = RandomForestRegressor(random_state=42)\n",
        "forest_reg.fit(housing_prepared, housing_labels)"
      ],
      "execution_count": 0,
      "outputs": [
        {
          "output_type": "stream",
          "text": [
            "/usr/local/lib/python3.6/dist-packages/sklearn/ensemble/forest.py:246: FutureWarning: The default value of n_estimators will change from 10 in version 0.20 to 100 in 0.22.\n",
            "  \"10 in version 0.20 to 100 in 0.22.\", FutureWarning)\n"
          ],
          "name": "stderr"
        },
        {
          "output_type": "execute_result",
          "data": {
            "text/plain": [
              "RandomForestRegressor(bootstrap=True, criterion='mse', max_depth=None,\n",
              "           max_features='auto', max_leaf_nodes=None,\n",
              "           min_impurity_decrease=0.0, min_impurity_split=None,\n",
              "           min_samples_leaf=1, min_samples_split=2,\n",
              "           min_weight_fraction_leaf=0.0, n_estimators=10, n_jobs=None,\n",
              "           oob_score=False, random_state=42, verbose=0, warm_start=False)"
            ]
          },
          "metadata": {
            "tags": []
          },
          "execution_count": 86
        }
      ]
    },
    {
      "metadata": {
        "id": "4vJ6ToN0JZ-o",
        "colab_type": "code",
        "outputId": "b4aef4a3-7b84-4d01-e9b4-be9e95c51f7b",
        "colab": {
          "base_uri": "https://localhost:8080/",
          "height": 34
        }
      },
      "cell_type": "code",
      "source": [
        "housing_predictions = forest_reg.predict(housing_prepared)\n",
        "forest_mse = mean_squared_error(housing_labels, housing_predictions)\n",
        "forest_rmse = np.sqrt(forest_mse)\n",
        "forest_rmse"
      ],
      "execution_count": 0,
      "outputs": [
        {
          "output_type": "execute_result",
          "data": {
            "text/plain": [
              "21933.31414779769"
            ]
          },
          "metadata": {
            "tags": []
          },
          "execution_count": 87
        }
      ]
    },
    {
      "metadata": {
        "id": "4MexrqieJkab",
        "colab_type": "code",
        "outputId": "f089b69c-685f-4f57-cda8-58eaa8c80a3b",
        "colab": {
          "base_uri": "https://localhost:8080/",
          "height": 100
        }
      },
      "cell_type": "code",
      "source": [
        "forest_scores = cross_val_score(forest_reg, housing_prepared, housing_labels,scoring=\"neg_mean_squared_error\", cv=10)\n",
        "forest_rmse_scores = np.sqrt(-forest_scores)\n",
        "display_scores(forest_rmse_scores)"
      ],
      "execution_count": 0,
      "outputs": [
        {
          "output_type": "stream",
          "text": [
            "Scores: [51646.44545909 48940.60114882 53050.86323649 54408.98730149\n",
            " 50922.14870785 56482.50703987 51864.52025526 49760.85037653\n",
            " 55434.21627933 53326.10093303]\n",
            "Mean: 52583.72407377466\n",
            "Standard deviation: 2298.353351147122\n"
          ],
          "name": "stdout"
        }
      ]
    },
    {
      "metadata": {
        "id": "qOuBvdATKDOW",
        "colab_type": "text"
      },
      "cell_type": "markdown",
      "source": [
        "Wow, this is much better: Random Forests look very promising. However, note that the score on the training set is still much lower than on the validation sets, meaning that the model is still overfitting the training set. Possible solutions for overfitting are to simplify the model, constrain it (i.e., regularize it), or get a lot more training data.\n"
      ]
    },
    {
      "metadata": {
        "id": "KciMbWGKLY3o",
        "colab_type": "text"
      },
      "cell_type": "markdown",
      "source": [
        "### Fine-tuning the model using GridSearchCV"
      ]
    },
    {
      "metadata": {
        "id": "WnpXakARKCwG",
        "colab_type": "code",
        "outputId": "e75afdd9-224b-4179-f1a3-3bf45810a891",
        "colab": {
          "base_uri": "https://localhost:8080/",
          "height": 234
        }
      },
      "cell_type": "code",
      "source": [
        "from sklearn.model_selection import GridSearchCV\n",
        "\n",
        "param_grid = [\n",
        "    # try 12 (3×4) combinations of hyperparameters\n",
        "    {'n_estimators': [3, 10, 30], 'max_features': [2, 4, 6, 8]},\n",
        "    # then try 6 (2×3) combinations with bootstrap set as False\n",
        "    {'bootstrap': [False], 'n_estimators': [3, 10], 'max_features': [2, 3, 4]},\n",
        "  ]\n",
        "\n",
        "forest_reg = RandomForestRegressor(random_state=42)\n",
        "\n",
        "# train across 5 folds, that's a total of (12+6)*5=90 rounds of training \n",
        "grid_search = GridSearchCV(forest_reg, param_grid, cv=5,scoring='neg_mean_squared_error', return_train_score=True)\n",
        "grid_search.fit(housing_prepared, housing_labels)"
      ],
      "execution_count": 0,
      "outputs": [
        {
          "output_type": "execute_result",
          "data": {
            "text/plain": [
              "GridSearchCV(cv=5, error_score='raise-deprecating',\n",
              "       estimator=RandomForestRegressor(bootstrap=True, criterion='mse', max_depth=None,\n",
              "           max_features='auto', max_leaf_nodes=None,\n",
              "           min_impurity_decrease=0.0, min_impurity_split=None,\n",
              "           min_samples_leaf=1, min_samples_split=2,\n",
              "           min_weight_fraction_leaf=0.0, n_estimators='warn', n_jobs=None,\n",
              "           oob_score=False, random_state=42, verbose=0, warm_start=False),\n",
              "       fit_params=None, iid='warn', n_jobs=None,\n",
              "       param_grid=[{'n_estimators': [3, 10, 30], 'max_features': [2, 4, 6, 8]}, {'bootstrap': [False], 'n_estimators': [3, 10], 'max_features': [2, 3, 4]}],\n",
              "       pre_dispatch='2*n_jobs', refit=True, return_train_score=True,\n",
              "       scoring='neg_mean_squared_error', verbose=0)"
            ]
          },
          "metadata": {
            "tags": []
          },
          "execution_count": 89
        }
      ]
    },
    {
      "metadata": {
        "id": "tNNjuTOaMrmr",
        "colab_type": "text"
      },
      "cell_type": "markdown",
      "source": [
        "\n",
        "The best hyperparameter combination found:"
      ]
    },
    {
      "metadata": {
        "id": "6svCQJ4KMt-L",
        "colab_type": "code",
        "outputId": "47748b79-5bd4-4b50-98c9-d12026137528",
        "colab": {
          "base_uri": "https://localhost:8080/",
          "height": 34
        }
      },
      "cell_type": "code",
      "source": [
        "grid_search.best_params_"
      ],
      "execution_count": 0,
      "outputs": [
        {
          "output_type": "execute_result",
          "data": {
            "text/plain": [
              "{'max_features': 8, 'n_estimators': 30}"
            ]
          },
          "metadata": {
            "tags": []
          },
          "execution_count": 90
        }
      ]
    },
    {
      "metadata": {
        "id": "UmaHCjSfM9vv",
        "colab_type": "text"
      },
      "cell_type": "markdown",
      "source": [
        "Since 8 and 30 are the maximum values that were evaluated, we should probably try searching again with higher values, since the score may continue to improve.\n"
      ]
    },
    {
      "metadata": {
        "id": "v9heXWnLNQzP",
        "colab_type": "code",
        "outputId": "50474f35-1efc-4308-c03d-6d0e3093b6fe",
        "colab": {
          "base_uri": "https://localhost:8080/",
          "height": 118
        }
      },
      "cell_type": "code",
      "source": [
        "grid_search.best_estimator_ "
      ],
      "execution_count": 0,
      "outputs": [
        {
          "output_type": "execute_result",
          "data": {
            "text/plain": [
              "RandomForestRegressor(bootstrap=True, criterion='mse', max_depth=None,\n",
              "           max_features=8, max_leaf_nodes=None, min_impurity_decrease=0.0,\n",
              "           min_impurity_split=None, min_samples_leaf=1,\n",
              "           min_samples_split=2, min_weight_fraction_leaf=0.0,\n",
              "           n_estimators=30, n_jobs=None, oob_score=False, random_state=42,\n",
              "           verbose=0, warm_start=False)"
            ]
          },
          "metadata": {
            "tags": []
          },
          "execution_count": 91
        }
      ]
    },
    {
      "metadata": {
        "id": "-OBLvN3gNgiL",
        "colab_type": "text"
      },
      "cell_type": "markdown",
      "source": [
        "If GridSearchCV is initialized with refit = True (which is the default), then once it finds the best estimator using cross-validation, it retrains it on the whole training set. This is usually a good idea since feeding it more data will likely improve its performance.\n",
        "\n",
        "Let's look at the score of each hyperparameter combination tested during the grid search:\n"
      ]
    },
    {
      "metadata": {
        "id": "SyJoAZgOOBBg",
        "colab_type": "code",
        "outputId": "09ea19c2-7902-47b3-a38f-91bd428685b2",
        "colab": {
          "base_uri": "https://localhost:8080/",
          "height": 315
        }
      },
      "cell_type": "code",
      "source": [
        "cvres = grid_search.cv_results_\n",
        "for mean_score, params in zip(cvres[\"mean_test_score\"], cvres[\"params\"]):\n",
        "    print(np.sqrt(-mean_score), params)"
      ],
      "execution_count": 0,
      "outputs": [
        {
          "output_type": "stream",
          "text": [
            "63669.05791727153 {'max_features': 2, 'n_estimators': 3}\n",
            "55627.16171305252 {'max_features': 2, 'n_estimators': 10}\n",
            "53384.57867637289 {'max_features': 2, 'n_estimators': 30}\n",
            "60965.99185930139 {'max_features': 4, 'n_estimators': 3}\n",
            "52740.98248528835 {'max_features': 4, 'n_estimators': 10}\n",
            "50377.344409590376 {'max_features': 4, 'n_estimators': 30}\n",
            "58663.84733372485 {'max_features': 6, 'n_estimators': 3}\n",
            "52006.15355973719 {'max_features': 6, 'n_estimators': 10}\n",
            "50146.465964159885 {'max_features': 6, 'n_estimators': 30}\n",
            "57869.25504027614 {'max_features': 8, 'n_estimators': 3}\n",
            "51711.09443660957 {'max_features': 8, 'n_estimators': 10}\n",
            "49682.25345942335 {'max_features': 8, 'n_estimators': 30}\n",
            "62895.088889905004 {'bootstrap': False, 'max_features': 2, 'n_estimators': 3}\n",
            "54658.14484390074 {'bootstrap': False, 'max_features': 2, 'n_estimators': 10}\n",
            "59470.399594730654 {'bootstrap': False, 'max_features': 3, 'n_estimators': 3}\n",
            "52725.01091081235 {'bootstrap': False, 'max_features': 3, 'n_estimators': 10}\n",
            "57490.612956065226 {'bootstrap': False, 'max_features': 4, 'n_estimators': 3}\n",
            "51009.51445842374 {'bootstrap': False, 'max_features': 4, 'n_estimators': 10}\n"
          ],
          "name": "stdout"
        }
      ]
    },
    {
      "metadata": {
        "id": "lIrSPgffOM88",
        "colab_type": "text"
      },
      "cell_type": "markdown",
      "source": [
        "In this example, we obtain the best solution by setting the max_features hyperparameter to 8, and the n_estimators hyperparameter to 30. The RMSE score for this combination is 49,694, which is slightly better than the score we got earlier using the default hyperparameter values (which was 52,564).** Hooray, we have successfully fine-tuned our best model!**\n"
      ]
    },
    {
      "metadata": {
        "id": "v2p8tOZLtavR",
        "colab_type": "text"
      },
      "cell_type": "markdown",
      "source": [
        "### Fine-tuning the model using Randomized Search\n",
        "\n",
        "The grid search approach is fine when you are exploring relatively few combinations, like in the previous example, but when the hyperparameter search space is large, it is often preferable to use RandomizedSearchCV instead.\n"
      ]
    },
    {
      "metadata": {
        "id": "DCFamOFguR47",
        "colab_type": "code",
        "outputId": "8d95203e-8ff8-44b3-d700-fe4fe8187523",
        "colab": {
          "base_uri": "https://localhost:8080/",
          "height": 243
        }
      },
      "cell_type": "code",
      "source": [
        "from sklearn.model_selection import RandomizedSearchCV\n",
        "from scipy.stats import randint\n",
        "\n",
        "param_distribs = {\n",
        "        'n_estimators': randint(low=1, high=200),\n",
        "        'max_features': randint(low=1, high=8),\n",
        "    }\n",
        "\n",
        "forest_reg = RandomForestRegressor(random_state=42)\n",
        "rnd_search = RandomizedSearchCV(forest_reg, param_distributions=param_distribs,n_iter=10, cv=5, scoring='neg_mean_squared_error', random_state=42)\n",
        "rnd_search.fit(housing_prepared, housing_labels)"
      ],
      "execution_count": 0,
      "outputs": [
        {
          "output_type": "execute_result",
          "data": {
            "text/plain": [
              "RandomizedSearchCV(cv=5, error_score='raise-deprecating',\n",
              "          estimator=RandomForestRegressor(bootstrap=True, criterion='mse', max_depth=None,\n",
              "           max_features='auto', max_leaf_nodes=None,\n",
              "           min_impurity_decrease=0.0, min_impurity_split=None,\n",
              "           min_samples_leaf=1, min_samples_split=2,\n",
              "           min_weight_fraction_leaf=0.0, n_estimators='warn', n_jobs=None,\n",
              "           oob_score=False, random_state=42, verbose=0, warm_start=False),\n",
              "          fit_params=None, iid='warn', n_iter=10, n_jobs=None,\n",
              "          param_distributions={'n_estimators': <scipy.stats._distn_infrastructure.rv_frozen object at 0x7f880c81e5f8>, 'max_features': <scipy.stats._distn_infrastructure.rv_frozen object at 0x7f880c81ec50>},\n",
              "          pre_dispatch='2*n_jobs', random_state=42, refit=True,\n",
              "          return_train_score='warn', scoring='neg_mean_squared_error',\n",
              "          verbose=0)"
            ]
          },
          "metadata": {
            "tags": []
          },
          "execution_count": 95
        }
      ]
    },
    {
      "metadata": {
        "id": "RGBeytkRyyYE",
        "colab_type": "text"
      },
      "cell_type": "markdown",
      "source": [
        "And the best hyperparameter combination found by RandomizedSearchCV is:"
      ]
    },
    {
      "metadata": {
        "id": "SiPqfkuJyxzl",
        "colab_type": "code",
        "outputId": "56841a58-76a7-4d61-f735-35831268d396",
        "colab": {
          "base_uri": "https://localhost:8080/",
          "height": 34
        }
      },
      "cell_type": "code",
      "source": [
        "rnd_search.best_params_"
      ],
      "execution_count": 0,
      "outputs": [
        {
          "output_type": "execute_result",
          "data": {
            "text/plain": [
              "{'max_features': 7, 'n_estimators': 180}"
            ]
          },
          "metadata": {
            "tags": []
          },
          "execution_count": 96
        }
      ]
    },
    {
      "metadata": {
        "id": "wCbPJSWLzMqJ",
        "colab_type": "code",
        "outputId": "4dae293c-3df5-4bee-e0de-391eaa22996a",
        "colab": {
          "base_uri": "https://localhost:8080/",
          "height": 118
        }
      },
      "cell_type": "code",
      "source": [
        "rnd_search.best_estimator_ "
      ],
      "execution_count": 0,
      "outputs": [
        {
          "output_type": "execute_result",
          "data": {
            "text/plain": [
              "RandomForestRegressor(bootstrap=True, criterion='mse', max_depth=None,\n",
              "           max_features=7, max_leaf_nodes=None, min_impurity_decrease=0.0,\n",
              "           min_impurity_split=None, min_samples_leaf=1,\n",
              "           min_samples_split=2, min_weight_fraction_leaf=0.0,\n",
              "           n_estimators=180, n_jobs=None, oob_score=False, random_state=42,\n",
              "           verbose=0, warm_start=False)"
            ]
          },
          "metadata": {
            "tags": []
          },
          "execution_count": 97
        }
      ]
    },
    {
      "metadata": {
        "id": "uE33LrP2zgPA",
        "colab_type": "text"
      },
      "cell_type": "markdown",
      "source": [
        "Let's look at the score of each hyperparameter combination tested during the randomized search:\n"
      ]
    },
    {
      "metadata": {
        "id": "2xyWP49Jzooq",
        "colab_type": "code",
        "outputId": "441b242e-b7e7-41ed-c074-e7edf4a4d9b9",
        "colab": {
          "base_uri": "https://localhost:8080/",
          "height": 183
        }
      },
      "cell_type": "code",
      "source": [
        "cvres_rnd = rnd_search.cv_results_\n",
        "for mean_score, params in zip(cvres_rnd[\"mean_test_score\"], cvres_rnd[\"params\"]):\n",
        "    print(np.sqrt(-mean_score), params)"
      ],
      "execution_count": 0,
      "outputs": [
        {
          "output_type": "stream",
          "text": [
            "49150.657232934034 {'max_features': 7, 'n_estimators': 180}\n",
            "51389.85295710133 {'max_features': 5, 'n_estimators': 15}\n",
            "50796.12045980556 {'max_features': 3, 'n_estimators': 72}\n",
            "50835.09932039744 {'max_features': 5, 'n_estimators': 21}\n",
            "49280.90117886215 {'max_features': 7, 'n_estimators': 122}\n",
            "50774.86679035961 {'max_features': 3, 'n_estimators': 75}\n",
            "50682.75001237282 {'max_features': 3, 'n_estimators': 88}\n",
            "49608.94061293652 {'max_features': 5, 'n_estimators': 100}\n",
            "50473.57642831875 {'max_features': 3, 'n_estimators': 150}\n",
            "64429.763804893395 {'max_features': 5, 'n_estimators': 2}\n"
          ],
          "name": "stdout"
        }
      ]
    },
    {
      "metadata": {
        "id": "UGWQzeiM1D5x",
        "colab_type": "text"
      },
      "cell_type": "markdown",
      "source": [
        "For the randomized search, we obtain the best solution by setting the max_features hyperparameter to 7, and the n_estimators hyperparameter to 180. The RMSE score for this combination is 49,151, which is slightly better than the score we got earlier using the default hyperparameter values (which was 52,564).** Hooray, we have successfully fine-tuned our best model!**"
      ]
    },
    {
      "metadata": {
        "id": "AUP6raKj2vCW",
        "colab_type": "text"
      },
      "cell_type": "markdown",
      "source": [
        "We will often gain good insights on the problem by inspecting the best models. For example, the RandomForestRegressor can indicate the relative importance of each attribute for making accurate predictions:\n"
      ]
    },
    {
      "metadata": {
        "id": "3dS2nV_p2_NZ",
        "colab_type": "code",
        "outputId": "d9a7e7f5-4df6-4399-ff86-285b17fa7a57",
        "colab": {
          "base_uri": "https://localhost:8080/",
          "height": 85
        }
      },
      "cell_type": "code",
      "source": [
        "grid_feature_importances = grid_search.best_estimator_.feature_importances_\n",
        "grid_feature_importances"
      ],
      "execution_count": 0,
      "outputs": [
        {
          "output_type": "execute_result",
          "data": {
            "text/plain": [
              "array([7.33442355e-02, 6.29090705e-02, 4.11437985e-02, 1.46726854e-02,\n",
              "       1.41064835e-02, 1.48742809e-02, 1.42575993e-02, 3.66158981e-01,\n",
              "       5.64191792e-02, 1.08792957e-01, 5.33510773e-02, 1.03114883e-02,\n",
              "       1.64780994e-01, 6.02803867e-05, 1.96041560e-03, 2.85647464e-03])"
            ]
          },
          "metadata": {
            "tags": []
          },
          "execution_count": 102
        }
      ]
    },
    {
      "metadata": {
        "id": "X9MDGnRv3sQX",
        "colab_type": "text"
      },
      "cell_type": "markdown",
      "source": [
        "Let’s display these grid feature importance scores next to their corresponding attribute names:"
      ]
    },
    {
      "metadata": {
        "id": "61bTxdRG4FUX",
        "colab_type": "code",
        "outputId": "11b9550c-8250-403c-d37f-cf5d4cb19b23",
        "colab": {
          "base_uri": "https://localhost:8080/",
          "height": 282
        }
      },
      "cell_type": "code",
      "source": [
        "extra_attribs = [\"rooms_per_hhold\", \"pop_per_hhold\", \"bedrooms_per_room\"]\n",
        "cat_encoder = full_pipeline.named_transformers_[\"cat\"]\n",
        "cat_one_hot_attribs = list(cat_encoder.categories_[0])\n",
        "attributes = num_attribs + extra_attribs + cat_one_hot_attribs\n",
        "sorted(zip(feature_importances, attributes), reverse = True)\n"
      ],
      "execution_count": 0,
      "outputs": [
        {
          "output_type": "execute_result",
          "data": {
            "text/plain": [
              "[(0.3661589806181342, 'median_income'),\n",
              " (0.1647809935615905, 'INLAND'),\n",
              " (0.10879295677551573, 'pop_per_hhold'),\n",
              " (0.07334423551601242, 'longitude'),\n",
              " (0.0629090704826203, 'latitude'),\n",
              " (0.05641917918195401, 'rooms_per_hhold'),\n",
              " (0.05335107734767581, 'bedrooms_per_room'),\n",
              " (0.041143798478729635, 'housing_median_age'),\n",
              " (0.014874280890402767, 'population'),\n",
              " (0.014672685420543237, 'total_rooms'),\n",
              " (0.014257599323407807, 'households'),\n",
              " (0.014106483453584102, 'total_bedrooms'),\n",
              " (0.010311488326303787, '<1H OCEAN'),\n",
              " (0.002856474637320158, 'NEAR OCEAN'),\n",
              " (0.00196041559947807, 'NEAR BAY'),\n",
              " (6.028038672736599e-05, 'ISLAND')]"
            ]
          },
          "metadata": {
            "tags": []
          },
          "execution_count": 105
        }
      ]
    },
    {
      "metadata": {
        "id": "RKf2O-tc5bZ-",
        "colab_type": "text"
      },
      "cell_type": "markdown",
      "source": [
        "With this information, we may want to try dropping some of the less useful features (e.g., apparently only one 'ocean_proximity' category is really useful ('INLAND'), so we could try dropping the others). We should also look at the specific errors that our system makes, then try to understand why it makes them and what could fix the problem (adding extra features or, on the contrary, getting rid of uninformative ones, cleaning up outliers, etc.).\n",
        "\n",
        " "
      ]
    },
    {
      "metadata": {
        "id": "aqfbNzis3Ucs",
        "colab_type": "code",
        "outputId": "1e6fddf5-8bb7-493b-b0f4-27e6062903e9",
        "colab": {
          "base_uri": "https://localhost:8080/",
          "height": 85
        }
      },
      "cell_type": "code",
      "source": [
        "rnd_feature_importances = rnd_search.best_estimator_.feature_importances_\n",
        "rnd_feature_importances"
      ],
      "execution_count": 0,
      "outputs": [
        {
          "output_type": "execute_result",
          "data": {
            "text/plain": [
              "array([7.24699052e-02, 6.38080322e-02, 4.27504395e-02, 1.65343807e-02,\n",
              "       1.56100762e-02, 1.60929106e-02, 1.52149598e-02, 3.45178404e-01,\n",
              "       5.74445360e-02, 1.08468449e-01, 7.05907498e-02, 8.77441303e-03,\n",
              "       1.60563229e-01, 6.10403994e-05, 3.08961266e-03, 3.34886200e-03])"
            ]
          },
          "metadata": {
            "tags": []
          },
          "execution_count": 103
        }
      ]
    },
    {
      "metadata": {
        "id": "RQq1QkVB6RWh",
        "colab_type": "text"
      },
      "cell_type": "markdown",
      "source": [
        "### Now it is time to evaluate the final model on the test set.\n",
        "\n",
        "First we must transform the test data...\n",
        "\n"
      ]
    },
    {
      "metadata": {
        "id": "q4GMgOyW3UvD",
        "colab_type": "code",
        "colab": {}
      },
      "cell_type": "code",
      "source": [
        "X_test = strat_test_set.drop(\"median_house_value\", axis = 1) \n",
        "y_test = strat_test_set[\"median_house_value\"].copy() \n",
        "X_test_prepared = full_pipeline.transform(X_test) "
      ],
      "execution_count": 0,
      "outputs": []
    },
    {
      "metadata": {
        "id": "pdxQ3too8b0t",
        "colab_type": "text"
      },
      "cell_type": "markdown",
      "source": [
        "Then, we process the transformed data through the optimized model based on grid search."
      ]
    },
    {
      "metadata": {
        "id": "vcbh6HHF8aZW",
        "colab_type": "code",
        "outputId": "7df19d2a-b3a1-4d37-ec29-21475a24038f",
        "colab": {
          "base_uri": "https://localhost:8080/",
          "height": 34
        }
      },
      "cell_type": "code",
      "source": [
        "final_model_grid = grid_search.best_estimator_ \n",
        "final_predictions_grid = final_model_grid.predict(X_test_prepared) \n",
        "final_mse_grid = mean_squared_error(y_test, final_predictions_grid) \n",
        "final_rmse_grid = np.sqrt(final_mse_grid) \n",
        "print(final_rmse_grid)"
      ],
      "execution_count": 0,
      "outputs": [
        {
          "output_type": "stream",
          "text": [
            "47730.22690385927\n"
          ],
          "name": "stdout"
        }
      ]
    },
    {
      "metadata": {
        "id": "WHDvanoz9Pmz",
        "colab_type": "text"
      },
      "cell_type": "markdown",
      "source": [
        "Let's process the transformed data through the optimized model based on random search."
      ]
    },
    {
      "metadata": {
        "id": "uPuRILk29Knh",
        "colab_type": "code",
        "outputId": "a59c930c-eab8-4095-87ed-4debbc6bc6f2",
        "colab": {
          "base_uri": "https://localhost:8080/",
          "height": 34
        }
      },
      "cell_type": "code",
      "source": [
        "final_model_rnd = rnd_search.best_estimator_ \n",
        "final_predictions_rnd = final_model_rnd.predict(X_test_prepared) \n",
        "final_mse_rnd = mean_squared_error(y_test, final_predictions_rnd) \n",
        "final_rmse_rnd = np.sqrt(final_mse_rnd) \n",
        "print(final_rmse_rnd) "
      ],
      "execution_count": 0,
      "outputs": [
        {
          "output_type": "stream",
          "text": [
            "46910.92117024934\n"
          ],
          "name": "stdout"
        }
      ]
    },
    {
      "metadata": {
        "id": "S-K6crW99lpQ",
        "colab_type": "text"
      },
      "cell_type": "markdown",
      "source": [
        "Let's write a function to compute a 95% confidence interval for the test RMSE:"
      ]
    },
    {
      "metadata": {
        "id": "7egnGL4292By",
        "colab_type": "code",
        "colab": {}
      },
      "cell_type": "code",
      "source": [
        "from scipy import stats\n",
        "\n",
        "def ComputeConfidenceInterval(final_predictions):\n",
        "  confidence = 0.95\n",
        "  squared_errors = (final_predictions - y_test) ** 2\n",
        "  mean = squared_errors.mean()\n",
        "  m = len(squared_errors)\n",
        "  return np.sqrt(stats.t.interval(confidence, m - 1,loc=np.mean(squared_errors),\n",
        "                         scale=stats.sem(squared_errors)))"
      ],
      "execution_count": 0,
      "outputs": []
    },
    {
      "metadata": {
        "id": "c-8cHQW6_pfV",
        "colab_type": "code",
        "outputId": "f0d4114d-716f-4b50-e08a-15f38d1db160",
        "colab": {
          "base_uri": "https://localhost:8080/",
          "height": 34
        }
      },
      "cell_type": "code",
      "source": [
        "conf_interval_grid = ComputeConfidenceInterval(final_predictions_grid)\n",
        "print(conf_interval_grid)"
      ],
      "execution_count": 0,
      "outputs": [
        {
          "output_type": "stream",
          "text": [
            "[45685.10470776 49691.25001878]\n"
          ],
          "name": "stdout"
        }
      ]
    },
    {
      "metadata": {
        "id": "UPpIiAGVAlix",
        "colab_type": "code",
        "outputId": "ed64df54-2274-4cb2-9bfc-34b8c5ffa06a",
        "colab": {
          "base_uri": "https://localhost:8080/",
          "height": 34
        }
      },
      "cell_type": "code",
      "source": [
        "conf_interval_rnd = ComputeConfidenceInterval(final_predictions_rnd)\n",
        "print(conf_interval_rnd)"
      ],
      "execution_count": 0,
      "outputs": [
        {
          "output_type": "stream",
          "text": [
            "[44945.41068188 48797.32686039]\n"
          ],
          "name": "stdout"
        }
      ]
    },
    {
      "metadata": {
        "id": "wraGFP4wCSsH",
        "colab_type": "text"
      },
      "cell_type": "markdown",
      "source": [
        "### Compute Confidence Interval Using T-Scores..."
      ]
    },
    {
      "metadata": {
        "id": "MmP3dPy7BEY9",
        "colab_type": "code",
        "colab": {}
      },
      "cell_type": "code",
      "source": [
        "def ComputeConfidenceTScore(final_predictions):\n",
        "  confidence = 0.95\n",
        "  squared_errors = (final_predictions - y_test) ** 2\n",
        "  mean = squared_errors.mean()\n",
        "  m = len(squared_errors)\n",
        "  tscore = stats.t.ppf((1 + confidence) / 2, df=m - 1)\n",
        "  tmargin = tscore * squared_errors.std(ddof=1) / np.sqrt(m)\n",
        "  return np.sqrt(mean - tmargin), np.sqrt(mean + tmargin)"
      ],
      "execution_count": 0,
      "outputs": []
    },
    {
      "metadata": {
        "id": "Twg15IROB3pK",
        "colab_type": "code",
        "outputId": "9f7d8e54-ee96-42bd-e5b3-07b7c6dd1de3",
        "colab": {
          "base_uri": "https://localhost:8080/",
          "height": 34
        }
      },
      "cell_type": "code",
      "source": [
        "conf_interval_t_grid = ComputeConfidenceTScore(final_predictions_grid)\n",
        "print(conf_interval_t_grid)"
      ],
      "execution_count": 0,
      "outputs": [
        {
          "output_type": "stream",
          "text": [
            "(45685.10470776014, 49691.25001877871)\n"
          ],
          "name": "stdout"
        }
      ]
    },
    {
      "metadata": {
        "id": "en7CD-ioCIAj",
        "colab_type": "code",
        "outputId": "100bd708-0033-4c2e-d829-3a2d9825e595",
        "colab": {
          "base_uri": "https://localhost:8080/",
          "height": 34
        }
      },
      "cell_type": "code",
      "source": [
        "conf_interval_t_rnd = ComputeConfidenceTScore(final_predictions_rnd)\n",
        "print(conf_interval_t_rnd)"
      ],
      "execution_count": 0,
      "outputs": [
        {
          "output_type": "stream",
          "text": [
            "(44945.41068187694, 48797.32686039388)\n"
          ],
          "name": "stdout"
        }
      ]
    },
    {
      "metadata": {
        "id": "tdZMJDcICnW1",
        "colab_type": "text"
      },
      "cell_type": "markdown",
      "source": [
        "### Compute Confidence Interval Using z-scores..."
      ]
    },
    {
      "metadata": {
        "id": "vXUvCa-sClPk",
        "colab_type": "code",
        "colab": {}
      },
      "cell_type": "code",
      "source": [
        "def ComputeConfidenceZScore(final_predictions):\n",
        "  confidence = 0.95\n",
        "  squared_errors = (final_predictions - y_test) ** 2\n",
        "  mean = squared_errors.mean()\n",
        "  m = len(squared_errors)\n",
        "  zscore = stats.norm.ppf((1 + confidence)/ 2)\n",
        "  zmargin = zscore * squared_errors.std(ddof=1)/np.sqrt(m)\n",
        "  return np.sqrt(mean - zmargin),np.sqrt(mean + zmargin)"
      ],
      "execution_count": 0,
      "outputs": []
    },
    {
      "metadata": {
        "id": "RGlZrCD5DUY7",
        "colab_type": "code",
        "outputId": "c8bf625e-d8de-4242-8277-65b976d5678e",
        "colab": {
          "base_uri": "https://localhost:8080/",
          "height": 34
        }
      },
      "cell_type": "code",
      "source": [
        "conf_interval_z_grid = ComputeConfidenceZScore(final_predictions_grid)\n",
        "print(conf_interval_z_grid)"
      ],
      "execution_count": 0,
      "outputs": [
        {
          "output_type": "stream",
          "text": [
            "(45685.717918136594, 49690.68623889426)\n"
          ],
          "name": "stdout"
        }
      ]
    },
    {
      "metadata": {
        "id": "fvQ24fz0Dccu",
        "colab_type": "code",
        "outputId": "b1dc3299-c854-4ceb-8b42-8245ac041723",
        "colab": {
          "base_uri": "https://localhost:8080/",
          "height": 34
        }
      },
      "cell_type": "code",
      "source": [
        "conf_interval_z_rnd = ComputeConfidenceZScore(final_predictions_rnd)\n",
        "print(conf_interval_z_rnd)"
      ],
      "execution_count": 0,
      "outputs": [
        {
          "output_type": "stream",
          "text": [
            "(44945.99972335555, 48796.78430953027)\n"
          ],
          "name": "stdout"
        }
      ]
    }
  ]
}