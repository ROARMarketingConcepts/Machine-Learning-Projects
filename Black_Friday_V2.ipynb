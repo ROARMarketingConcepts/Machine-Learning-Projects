{
  "nbformat": 4,
  "nbformat_minor": 0,
  "metadata": {
    "colab": {
      "name": "Black Friday V2.ipynb",
      "version": "0.3.2",
      "provenance": [],
      "include_colab_link": true
    },
    "kernelspec": {
      "name": "python3",
      "display_name": "Python 3"
    },
    "accelerator": "TPU"
  },
  "cells": [
    {
      "cell_type": "markdown",
      "metadata": {
        "id": "view-in-github",
        "colab_type": "text"
      },
      "source": [
        "<a href=\"https://colab.research.google.com/github/ROARMarketingConcepts/Machine-Learning-Projects/blob/master/Black_Friday_V2.ipynb\" target=\"_parent\"><img src=\"https://colab.research.google.com/assets/colab-badge.svg\" alt=\"Open In Colab\"/></a>"
      ]
    },
    {
      "metadata": {
        "id": "xrdB4Pvew0ah",
        "colab_type": "text"
      },
      "cell_type": "markdown",
      "source": [
        "## Black Friday Dataset - Data Regression Problem\n",
        "\n",
        "Performed by\n",
        "Ken Wood\n",
        "\n",
        "ROAR Marketing Concepts LLC\n",
        "\n",
        "ken@roarmarketingconcepts.com\n"
      ]
    },
    {
      "metadata": {
        "id": "Q_Brip-8tdjE",
        "colab_type": "text"
      },
      "cell_type": "markdown",
      "source": [
        "### We will apply three sklearn regression models to the Black Friday dataset.  They are the LinearRegression, DecisionTreeRegressor, and RandomForestRegressor.  We will train each model on 80% of the Black Friday dataset and use the remaining 20% for test.  Our metric for gauging a model's effectiveness is the Root Mean Square Error (RMSE) of the model predictions $\\hat{y}$, as compared with the actual label values $y$ (Purchase)."
      ]
    },
    {
      "metadata": {
        "id": "9ALCkfYuqrTZ",
        "colab_type": "text"
      },
      "cell_type": "markdown",
      "source": [
        "### Mount my Google Drive where the BlackFriday.csv dataset is located..."
      ]
    },
    {
      "metadata": {
        "id": "JyLPUciaJavv",
        "colab_type": "code",
        "outputId": "ffde2e02-abfe-4906-ee0e-536f8e8c75ab",
        "colab": {
          "base_uri": "https://localhost:8080/",
          "height": 34
        }
      },
      "cell_type": "code",
      "source": [
        "from google.colab import drive\n",
        "drive.mount('/content/drive/')"
      ],
      "execution_count": 0,
      "outputs": [
        {
          "output_type": "stream",
          "text": [
            "Drive already mounted at /content/drive/; to attempt to forcibly remount, call drive.mount(\"/content/drive/\", force_remount=True).\n"
          ],
          "name": "stdout"
        }
      ]
    },
    {
      "metadata": {
        "id": "CaqrF3-Zq2PC",
        "colab_type": "text"
      },
      "cell_type": "markdown",
      "source": [
        "### Install some necessary packages to perform the required analysis..."
      ]
    },
    {
      "metadata": {
        "id": "fXW19Ug6MF-W",
        "colab_type": "code",
        "outputId": "24bb1eb2-eb4f-4156-aea8-ac501f1dab90",
        "colab": {
          "base_uri": "https://localhost:8080/",
          "height": 167
        }
      },
      "cell_type": "code",
      "source": [
        "!pip install -U scikit-learn\n",
        "!pip install --user --upgrade tables\n",
        "import pandas as pd\n",
        "import numpy as np\n",
        "import sklearn\n",
        "import scipy\n",
        "\n",
        "import matplotlib.pyplot as plt\n",
        "from matplotlib import interactive\n",
        "plt.rc(\"font\", size=14)\n",
        "from pylab import scatter, show, legend, xlabel, ylabel\n",
        "\n",
        "import seaborn as sns\n",
        "sns.set(style=\"white\")\n",
        "sns.set(style=\"whitegrid\", color_codes=True)\n",
        "\n",
        "# Ignore useless warnings (see SciPy issue #5998)\n",
        "import warnings\n",
        "warnings.filterwarnings(action=\"ignore\", message=\"^internal gelsd\")"
      ],
      "execution_count": 0,
      "outputs": [
        {
          "output_type": "stream",
          "text": [
            "Requirement already up-to-date: scikit-learn in /usr/local/lib/python3.6/dist-packages (0.20.2)\n",
            "Requirement already satisfied, skipping upgrade: scipy>=0.13.3 in /usr/local/lib/python3.6/dist-packages (from scikit-learn) (1.1.0)\n",
            "Requirement already satisfied, skipping upgrade: numpy>=1.8.2 in /usr/local/lib/python3.6/dist-packages (from scikit-learn) (1.14.6)\n",
            "Requirement already up-to-date: tables in /usr/local/lib/python3.6/dist-packages (3.4.4)\n",
            "Requirement already satisfied, skipping upgrade: numexpr>=2.5.2 in /usr/local/lib/python3.6/dist-packages (from tables) (2.6.9)\n",
            "Requirement already satisfied, skipping upgrade: numpy>=1.8.0 in /usr/local/lib/python3.6/dist-packages (from tables) (1.14.6)\n",
            "Requirement already satisfied, skipping upgrade: six>=1.9.0 in /usr/local/lib/python3.6/dist-packages (from tables) (1.11.0)\n"
          ],
          "name": "stdout"
        }
      ]
    },
    {
      "metadata": {
        "id": "YsUIKTNDq_JY",
        "colab_type": "text"
      },
      "cell_type": "markdown",
      "source": [
        "### Load the Black Friday dataset..."
      ]
    },
    {
      "metadata": {
        "id": "RpQYnzQpMOTm",
        "colab_type": "code",
        "outputId": "2f9c6a07-2052-4f6a-a4b3-2228c1383ad2",
        "colab": {
          "base_uri": "https://localhost:8080/",
          "height": 297
        }
      },
      "cell_type": "code",
      "source": [
        "bf_data = pd.read_csv('/content/drive/My Drive/Colab Notebooks/Black Friday Dataset/BlackFriday.csv')\n",
        "bf_data.head()"
      ],
      "execution_count": 0,
      "outputs": [
        {
          "output_type": "execute_result",
          "data": {
            "text/html": [
              "<div>\n",
              "<style scoped>\n",
              "    .dataframe tbody tr th:only-of-type {\n",
              "        vertical-align: middle;\n",
              "    }\n",
              "\n",
              "    .dataframe tbody tr th {\n",
              "        vertical-align: top;\n",
              "    }\n",
              "\n",
              "    .dataframe thead th {\n",
              "        text-align: right;\n",
              "    }\n",
              "</style>\n",
              "<table border=\"1\" class=\"dataframe\">\n",
              "  <thead>\n",
              "    <tr style=\"text-align: right;\">\n",
              "      <th></th>\n",
              "      <th>User_ID</th>\n",
              "      <th>Product_ID</th>\n",
              "      <th>Gender</th>\n",
              "      <th>Age</th>\n",
              "      <th>Occupation</th>\n",
              "      <th>City_Category</th>\n",
              "      <th>Stay_In_Current_City_Years</th>\n",
              "      <th>Marital_Status</th>\n",
              "      <th>Product_Category_1</th>\n",
              "      <th>Product_Category_2</th>\n",
              "      <th>Product_Category_3</th>\n",
              "      <th>Purchase</th>\n",
              "    </tr>\n",
              "  </thead>\n",
              "  <tbody>\n",
              "    <tr>\n",
              "      <th>0</th>\n",
              "      <td>1000001</td>\n",
              "      <td>P00069042</td>\n",
              "      <td>F</td>\n",
              "      <td>0-17</td>\n",
              "      <td>10</td>\n",
              "      <td>A</td>\n",
              "      <td>2</td>\n",
              "      <td>0</td>\n",
              "      <td>3</td>\n",
              "      <td>NaN</td>\n",
              "      <td>NaN</td>\n",
              "      <td>8370</td>\n",
              "    </tr>\n",
              "    <tr>\n",
              "      <th>1</th>\n",
              "      <td>1000001</td>\n",
              "      <td>P00248942</td>\n",
              "      <td>F</td>\n",
              "      <td>0-17</td>\n",
              "      <td>10</td>\n",
              "      <td>A</td>\n",
              "      <td>2</td>\n",
              "      <td>0</td>\n",
              "      <td>1</td>\n",
              "      <td>6.0</td>\n",
              "      <td>14.0</td>\n",
              "      <td>15200</td>\n",
              "    </tr>\n",
              "    <tr>\n",
              "      <th>2</th>\n",
              "      <td>1000001</td>\n",
              "      <td>P00087842</td>\n",
              "      <td>F</td>\n",
              "      <td>0-17</td>\n",
              "      <td>10</td>\n",
              "      <td>A</td>\n",
              "      <td>2</td>\n",
              "      <td>0</td>\n",
              "      <td>12</td>\n",
              "      <td>NaN</td>\n",
              "      <td>NaN</td>\n",
              "      <td>1422</td>\n",
              "    </tr>\n",
              "    <tr>\n",
              "      <th>3</th>\n",
              "      <td>1000001</td>\n",
              "      <td>P00085442</td>\n",
              "      <td>F</td>\n",
              "      <td>0-17</td>\n",
              "      <td>10</td>\n",
              "      <td>A</td>\n",
              "      <td>2</td>\n",
              "      <td>0</td>\n",
              "      <td>12</td>\n",
              "      <td>14.0</td>\n",
              "      <td>NaN</td>\n",
              "      <td>1057</td>\n",
              "    </tr>\n",
              "    <tr>\n",
              "      <th>4</th>\n",
              "      <td>1000002</td>\n",
              "      <td>P00285442</td>\n",
              "      <td>M</td>\n",
              "      <td>55+</td>\n",
              "      <td>16</td>\n",
              "      <td>C</td>\n",
              "      <td>4+</td>\n",
              "      <td>0</td>\n",
              "      <td>8</td>\n",
              "      <td>NaN</td>\n",
              "      <td>NaN</td>\n",
              "      <td>7969</td>\n",
              "    </tr>\n",
              "  </tbody>\n",
              "</table>\n",
              "</div>"
            ],
            "text/plain": [
              "   User_ID Product_ID Gender   Age  Occupation City_Category  \\\n",
              "0  1000001  P00069042      F  0-17          10             A   \n",
              "1  1000001  P00248942      F  0-17          10             A   \n",
              "2  1000001  P00087842      F  0-17          10             A   \n",
              "3  1000001  P00085442      F  0-17          10             A   \n",
              "4  1000002  P00285442      M   55+          16             C   \n",
              "\n",
              "  Stay_In_Current_City_Years  Marital_Status  Product_Category_1  \\\n",
              "0                          2               0                   3   \n",
              "1                          2               0                   1   \n",
              "2                          2               0                  12   \n",
              "3                          2               0                  12   \n",
              "4                         4+               0                   8   \n",
              "\n",
              "   Product_Category_2  Product_Category_3  Purchase  \n",
              "0                 NaN                 NaN      8370  \n",
              "1                 6.0                14.0     15200  \n",
              "2                 NaN                 NaN      1422  \n",
              "3                14.0                 NaN      1057  \n",
              "4                 NaN                 NaN      7969  "
            ]
          },
          "metadata": {
            "tags": []
          },
          "execution_count": 3
        }
      ]
    },
    {
      "metadata": {
        "id": "_XpoAyf2rFaL",
        "colab_type": "text"
      },
      "cell_type": "markdown",
      "source": [
        "### Let's look at some properties of the Black Friday dataset..."
      ]
    },
    {
      "metadata": {
        "id": "rz_LftjrQoZh",
        "colab_type": "code",
        "outputId": "78c08316-5b3a-4cf8-c9d8-afaa31adfe07",
        "colab": {
          "base_uri": "https://localhost:8080/",
          "height": 306
        }
      },
      "cell_type": "code",
      "source": [
        "bf_data.info()"
      ],
      "execution_count": 0,
      "outputs": [
        {
          "output_type": "stream",
          "text": [
            "<class 'pandas.core.frame.DataFrame'>\n",
            "RangeIndex: 537577 entries, 0 to 537576\n",
            "Data columns (total 12 columns):\n",
            "User_ID                       537577 non-null int64\n",
            "Product_ID                    537577 non-null object\n",
            "Gender                        537577 non-null object\n",
            "Age                           537577 non-null object\n",
            "Occupation                    537577 non-null int64\n",
            "City_Category                 537577 non-null object\n",
            "Stay_In_Current_City_Years    537577 non-null object\n",
            "Marital_Status                537577 non-null int64\n",
            "Product_Category_1            537577 non-null int64\n",
            "Product_Category_2            370591 non-null float64\n",
            "Product_Category_3            164278 non-null float64\n",
            "Purchase                      537577 non-null int64\n",
            "dtypes: float64(2), int64(5), object(5)\n",
            "memory usage: 49.2+ MB\n"
          ],
          "name": "stdout"
        }
      ]
    },
    {
      "metadata": {
        "id": "sOa-KMef4FJo",
        "colab_type": "code",
        "outputId": "916bacde-fa8b-4021-8d05-f2187ee61fe1",
        "colab": {
          "base_uri": "https://localhost:8080/",
          "height": 1071
        }
      },
      "cell_type": "code",
      "source": [
        "bf_data['Product_ID'].value_counts()"
      ],
      "execution_count": 0,
      "outputs": [
        {
          "output_type": "execute_result",
          "data": {
            "text/plain": [
              "P00265242    1858\n",
              "P00110742    1591\n",
              "P00025442    1586\n",
              "P00112142    1539\n",
              "P00057642    1430\n",
              "P00184942    1424\n",
              "P00046742    1417\n",
              "P00058042    1396\n",
              "P00059442    1384\n",
              "P00145042    1384\n",
              "P00237542    1374\n",
              "P00255842    1354\n",
              "P00117942    1346\n",
              "P00110942    1336\n",
              "P00010742    1331\n",
              "P00110842    1260\n",
              "P00220442    1253\n",
              "P00051442    1233\n",
              "P00102642    1228\n",
              "P00117442    1227\n",
              "P00278642    1213\n",
              "P00242742    1194\n",
              "P00034742    1188\n",
              "P00080342    1186\n",
              "P00148642    1179\n",
              "P00028842    1172\n",
              "P00031042    1168\n",
              "P00251242    1167\n",
              "P00114942    1162\n",
              "P00270942    1141\n",
              "             ... \n",
              "P00012342       1\n",
              "P00357542       1\n",
              "P00291642       1\n",
              "P00352042       1\n",
              "P00106342       1\n",
              "P00074842       1\n",
              "P00056342       1\n",
              "P00074742       1\n",
              "P00070142       1\n",
              "P00204442       1\n",
              "P00065142       1\n",
              "P00312542       1\n",
              "P00013842       1\n",
              "P00167242       1\n",
              "P00132742       1\n",
              "P00339142       1\n",
              "P00206942       1\n",
              "P00068342       1\n",
              "P00056542       1\n",
              "P00104342       1\n",
              "P00228842       1\n",
              "P00300742       1\n",
              "P00053242       1\n",
              "P00285142       1\n",
              "P00062342       1\n",
              "P00038842       1\n",
              "P00348142       1\n",
              "P00309042       1\n",
              "P00081342       1\n",
              "P00069742       1\n",
              "Name: Product_ID, Length: 3623, dtype: int64"
            ]
          },
          "metadata": {
            "tags": []
          },
          "execution_count": 5
        }
      ]
    },
    {
      "metadata": {
        "id": "MLkj-4EMow2b",
        "colab_type": "text"
      },
      "cell_type": "markdown",
      "source": [
        "### Notice that the number of male shoppers in nearly 4x the number of female shoppers!"
      ]
    },
    {
      "metadata": {
        "id": "t372o6OjSF3_",
        "colab_type": "code",
        "outputId": "9f300cbb-6adc-47be-b5d2-dde5a111b105",
        "colab": {
          "base_uri": "https://localhost:8080/",
          "height": 68
        }
      },
      "cell_type": "code",
      "source": [
        "bf_data['Gender'].value_counts()"
      ],
      "execution_count": 0,
      "outputs": [
        {
          "output_type": "execute_result",
          "data": {
            "text/plain": [
              "M    405380\n",
              "F    132197\n",
              "Name: Gender, dtype: int64"
            ]
          },
          "metadata": {
            "tags": []
          },
          "execution_count": 6
        }
      ]
    },
    {
      "metadata": {
        "id": "PbtUC_MySR0b",
        "colab_type": "code",
        "outputId": "a2ebd8b8-3b3e-46ee-cbd9-62774f046c3e",
        "colab": {
          "base_uri": "https://localhost:8080/",
          "height": 153
        }
      },
      "cell_type": "code",
      "source": [
        "bf_data['Age'].value_counts()"
      ],
      "execution_count": 0,
      "outputs": [
        {
          "output_type": "execute_result",
          "data": {
            "text/plain": [
              "26-35    214690\n",
              "36-45    107499\n",
              "18-25     97634\n",
              "46-50     44526\n",
              "51-55     37618\n",
              "55+       20903\n",
              "0-17      14707\n",
              "Name: Age, dtype: int64"
            ]
          },
          "metadata": {
            "tags": []
          },
          "execution_count": 7
        }
      ]
    },
    {
      "metadata": {
        "id": "4YLh79CXSfsl",
        "colab_type": "code",
        "outputId": "74176158-ce1a-4866-e1d7-e7c951437aa7",
        "colab": {
          "base_uri": "https://localhost:8080/",
          "height": 85
        }
      },
      "cell_type": "code",
      "source": [
        "bf_data['City_Category'].value_counts()"
      ],
      "execution_count": 0,
      "outputs": [
        {
          "output_type": "execute_result",
          "data": {
            "text/plain": [
              "B    226493\n",
              "C    166446\n",
              "A    144638\n",
              "Name: City_Category, dtype: int64"
            ]
          },
          "metadata": {
            "tags": []
          },
          "execution_count": 8
        }
      ]
    },
    {
      "metadata": {
        "id": "VCWsFkLSSuSh",
        "colab_type": "code",
        "outputId": "f7f40018-e8e3-418b-ca9c-b8b27a4d7d04",
        "colab": {
          "base_uri": "https://localhost:8080/",
          "height": 119
        }
      },
      "cell_type": "code",
      "source": [
        "bf_data['Stay_In_Current_City_Years'].value_counts()"
      ],
      "execution_count": 0,
      "outputs": [
        {
          "output_type": "execute_result",
          "data": {
            "text/plain": [
              "1     189192\n",
              "2      99459\n",
              "3      93312\n",
              "4+     82889\n",
              "0      72725\n",
              "Name: Stay_In_Current_City_Years, dtype: int64"
            ]
          },
          "metadata": {
            "tags": []
          },
          "execution_count": 9
        }
      ]
    },
    {
      "metadata": {
        "id": "FkPYhur1N7yc",
        "colab_type": "text"
      },
      "cell_type": "markdown",
      "source": [
        "### Let's check for missing values."
      ]
    },
    {
      "metadata": {
        "id": "06urEQiyOe_u",
        "colab_type": "code",
        "outputId": "bef21047-24a4-4852-bbe1-c8b17a531158",
        "colab": {
          "base_uri": "https://localhost:8080/",
          "height": 258
        }
      },
      "cell_type": "code",
      "source": [
        "bf_data.isnull().sum()"
      ],
      "execution_count": 0,
      "outputs": [
        {
          "output_type": "execute_result",
          "data": {
            "text/plain": [
              "User_ID                            0\n",
              "Product_ID                         0\n",
              "Gender                             0\n",
              "Age                                0\n",
              "Occupation                         0\n",
              "City_Category                      0\n",
              "Stay_In_Current_City_Years         0\n",
              "Marital_Status                     0\n",
              "Product_Category_1                 0\n",
              "Product_Category_2            166986\n",
              "Product_Category_3            373299\n",
              "Purchase                           0\n",
              "dtype: int64"
            ]
          },
          "metadata": {
            "tags": []
          },
          "execution_count": 10
        }
      ]
    },
    {
      "metadata": {
        "id": "AC6rggazoVOj",
        "colab_type": "text"
      },
      "cell_type": "markdown",
      "source": [
        "### Info about products"
      ]
    },
    {
      "metadata": {
        "id": "iWLEO0cDnU1F",
        "colab_type": "code",
        "outputId": "cbd6004a-3cf2-4132-bfed-c3f26a46d9f2",
        "colab": {
          "base_uri": "https://localhost:8080/",
          "height": 88
        }
      },
      "cell_type": "code",
      "source": [
        "print('Number of products:',bf_data['Product_ID'].nunique())\n",
        "print('Number of categories:',bf_data['Product_Category_1'].unique().max())\n",
        "print('Highest and lowest purchase:',\n",
        "      bf_data['Purchase'].max(),',',bf_data['Purchase'].min())"
      ],
      "execution_count": 0,
      "outputs": [
        {
          "output_type": "stream",
          "text": [
            "Number of products: 3623\n",
            "Number of categories: 18\n",
            "Highest and lowest purchase: 23961 , 185\n"
          ],
          "name": "stdout"
        }
      ]
    },
    {
      "metadata": {
        "id": "G0hMEl82odKi",
        "colab_type": "text"
      },
      "cell_type": "markdown",
      "source": [
        "### Info about shoppers"
      ]
    },
    {
      "metadata": {
        "id": "ECMT_O01oDcN",
        "colab_type": "code",
        "outputId": "37c540d8-5bfa-4c9d-f897-ded8fb9e7c86",
        "colab": {
          "base_uri": "https://localhost:8080/",
          "height": 88
        }
      },
      "cell_type": "code",
      "source": [
        "print('Number of shoppers:',bf_data['User_ID'].nunique())\n",
        "print('Years in city:',bf_data['Stay_In_Current_City_Years'].unique())\n",
        "print('Age Groups:',bf_data['Age'].unique())"
      ],
      "execution_count": 0,
      "outputs": [
        {
          "output_type": "stream",
          "text": [
            "Number of shoppers: 5891\n",
            "Years in city: ['2' '4+' '3' '1' '0']\n",
            "Age Groups: ['0-17' '55+' '26-35' '46-50' '51-55' '36-45' '18-25']\n"
          ],
          "name": "stdout"
        }
      ]
    },
    {
      "metadata": {
        "id": "wkBYbYTWqVeE",
        "colab_type": "text"
      },
      "cell_type": "markdown",
      "source": [
        "Lets see how much each gender spent per individual:"
      ]
    },
    {
      "metadata": {
        "id": "2T9W3aVyqeut",
        "colab_type": "code",
        "outputId": "546e0c59-c2da-4975-bfeb-d93d60afa285",
        "colab": {
          "base_uri": "https://localhost:8080/",
          "height": 71
        }
      },
      "cell_type": "code",
      "source": [
        "count_male = bf_data[bf_data['Gender']=='M'].count()[0]\n",
        "count_female = bf_data[bf_data['Gender']=='F'].count()[0]\n",
        "\n",
        "print('Female Purchases:',round(bf_data[bf_data['Gender']=='F']['Purchase'].sum()/count_female,3))\n",
        "print('Male Purchases:',round(bf_data[bf_data['Gender']=='M']['Purchase'].sum()/count_male,3))"
      ],
      "execution_count": 0,
      "outputs": [
        {
          "output_type": "stream",
          "text": [
            "Female Purchases: 8809.761\n",
            "Male Purchases: 9504.772\n"
          ],
          "name": "stdout"
        }
      ]
    },
    {
      "metadata": {
        "id": "-H0WfcRrsVDJ",
        "colab_type": "code",
        "outputId": "a14681e3-9b61-421e-8363-ed98eba694bb",
        "colab": {
          "base_uri": "https://localhost:8080/",
          "height": 365
        }
      },
      "cell_type": "code",
      "source": [
        "plt.pie(bf_data.groupby('Gender')['Product_ID'].nunique(),labels=['Male','Female'],\n",
        "       shadow=True, autopct='%1.1f%%',colors=['blue','red'])\n",
        "plt.title('Unique Item Purchases by Gender')\n",
        "plt.show()"
      ],
      "execution_count": 0,
      "outputs": [
        {
          "output_type": "display_data",
          "data": {
            "image/png": "[encoded data removed]",
            "text/plain": [
              "<matplotlib.figure.Figure at 0x7efc87e3db00>"
            ]
          },
          "metadata": {
            "tags": []
          }
        }
      ]
    },
    {
      "metadata": {
        "id": "NV_nOlwNs6ja",
        "colab_type": "code",
        "colab": {}
      },
      "cell_type": "code",
      "source": [
        "# Individual groupby dataframes for each gender\n",
        "gb_gender_m = bf_data[bf_data['Gender']=='M'][['Product_Category_1','Gender']].groupby(by='Product_Category_1').count()\n",
        "gb_gender_f = bf_data[bf_data['Gender']=='F'][['Product_Category_1','Gender']].groupby(by='Product_Category_1').count()\n",
        "\n",
        "# Concatenate and change column names\n",
        "cat_bygender = pd.concat([gb_gender_m,gb_gender_f],axis=1)\n",
        "cat_bygender.columns = ['M ratio','F ratio']\n",
        "\n",
        "# Adjust to reflect ratios\n",
        "cat_bygender['M ratio'] = cat_bygender['M ratio']/bf_data[bf_data['Gender']=='M'].count()[0]\n",
        "cat_bygender['F ratio'] = cat_bygender['F ratio']/bf_data[bf_data['Gender']=='F'].count()[0]\n",
        "\n",
        "# Create likelihood of one gender to buy over the other\n",
        "cat_bygender['Likelihood (M/F)'] = cat_bygender['M ratio']/cat_bygender['F ratio']\n",
        "\n",
        "cat_bygender['Total Ratio'] = cat_bygender['M ratio']+cat_bygender['F ratio']"
      ],
      "execution_count": 0,
      "outputs": []
    },
    {
      "metadata": {
        "id": "-t6_vbKztaQw",
        "colab_type": "code",
        "outputId": "7d6ef2a1-3776-48eb-f0ac-69018259e4f5",
        "colab": {
          "base_uri": "https://localhost:8080/",
          "height": 675
        }
      },
      "cell_type": "code",
      "source": [
        "cat_bygender.sort_values(by='Likelihood (M/F)',ascending=False)"
      ],
      "execution_count": 0,
      "outputs": [
        {
          "output_type": "execute_result",
          "data": {
            "text/html": [
              "<div>\n",
              "<style scoped>\n",
              "    .dataframe tbody tr th:only-of-type {\n",
              "        vertical-align: middle;\n",
              "    }\n",
              "\n",
              "    .dataframe tbody tr th {\n",
              "        vertical-align: top;\n",
              "    }\n",
              "\n",
              "    .dataframe thead th {\n",
              "        text-align: right;\n",
              "    }\n",
              "</style>\n",
              "<table border=\"1\" class=\"dataframe\">\n",
              "  <thead>\n",
              "    <tr style=\"text-align: right;\">\n",
              "      <th></th>\n",
              "      <th>M ratio</th>\n",
              "      <th>F ratio</th>\n",
              "      <th>Likelihood (M/F)</th>\n",
              "      <th>Total Ratio</th>\n",
              "    </tr>\n",
              "    <tr>\n",
              "      <th>Product_Category_1</th>\n",
              "      <th></th>\n",
              "      <th></th>\n",
              "      <th></th>\n",
              "      <th></th>\n",
              "    </tr>\n",
              "  </thead>\n",
              "  <tbody>\n",
              "    <tr>\n",
              "      <th>17</th>\n",
              "      <td>0.001248</td>\n",
              "      <td>0.000461</td>\n",
              "      <td>2.705079</td>\n",
              "      <td>0.001710</td>\n",
              "    </tr>\n",
              "    <tr>\n",
              "      <th>18</th>\n",
              "      <td>0.006658</td>\n",
              "      <td>0.002844</td>\n",
              "      <td>2.340854</td>\n",
              "      <td>0.009502</td>\n",
              "    </tr>\n",
              "    <tr>\n",
              "      <th>15</th>\n",
              "      <td>0.012778</td>\n",
              "      <td>0.007738</td>\n",
              "      <td>1.651252</td>\n",
              "      <td>0.020517</td>\n",
              "    </tr>\n",
              "    <tr>\n",
              "      <th>9</th>\n",
              "      <td>0.000824</td>\n",
              "      <td>0.000530</td>\n",
              "      <td>1.555993</td>\n",
              "      <td>0.001353</td>\n",
              "    </tr>\n",
              "    <tr>\n",
              "      <th>1</th>\n",
              "      <td>0.281099</td>\n",
              "      <td>0.184581</td>\n",
              "      <td>1.522908</td>\n",
              "      <td>0.465680</td>\n",
              "    </tr>\n",
              "    <tr>\n",
              "      <th>11</th>\n",
              "      <td>0.047612</td>\n",
              "      <td>0.035243</td>\n",
              "      <td>1.350972</td>\n",
              "      <td>0.082855</td>\n",
              "    </tr>\n",
              "    <tr>\n",
              "      <th>6</th>\n",
              "      <td>0.038702</td>\n",
              "      <td>0.033851</td>\n",
              "      <td>1.143303</td>\n",
              "      <td>0.072553</td>\n",
              "    </tr>\n",
              "    <tr>\n",
              "      <th>10</th>\n",
              "      <td>0.009606</td>\n",
              "      <td>0.008608</td>\n",
              "      <td>1.115868</td>\n",
              "      <td>0.018214</td>\n",
              "    </tr>\n",
              "    <tr>\n",
              "      <th>2</th>\n",
              "      <td>0.044220</td>\n",
              "      <td>0.042157</td>\n",
              "      <td>1.048947</td>\n",
              "      <td>0.086377</td>\n",
              "    </tr>\n",
              "    <tr>\n",
              "      <th>16</th>\n",
              "      <td>0.018092</td>\n",
              "      <td>0.017875</td>\n",
              "      <td>1.012130</td>\n",
              "      <td>0.035967</td>\n",
              "    </tr>\n",
              "    <tr>\n",
              "      <th>7</th>\n",
              "      <td>0.006759</td>\n",
              "      <td>0.007020</td>\n",
              "      <td>0.962857</td>\n",
              "      <td>0.013779</td>\n",
              "    </tr>\n",
              "    <tr>\n",
              "      <th>13</th>\n",
              "      <td>0.009897</td>\n",
              "      <td>0.010802</td>\n",
              "      <td>0.916204</td>\n",
              "      <td>0.020699</td>\n",
              "    </tr>\n",
              "    <tr>\n",
              "      <th>5</th>\n",
              "      <td>0.264919</td>\n",
              "      <td>0.311649</td>\n",
              "      <td>0.850058</td>\n",
              "      <td>0.576568</td>\n",
              "    </tr>\n",
              "    <tr>\n",
              "      <th>8</th>\n",
              "      <td>0.195335</td>\n",
              "      <td>0.249227</td>\n",
              "      <td>0.783766</td>\n",
              "      <td>0.444562</td>\n",
              "    </tr>\n",
              "    <tr>\n",
              "      <th>3</th>\n",
              "      <td>0.034474</td>\n",
              "      <td>0.044434</td>\n",
              "      <td>0.775849</td>\n",
              "      <td>0.078908</td>\n",
              "    </tr>\n",
              "    <tr>\n",
              "      <th>4</th>\n",
              "      <td>0.019722</td>\n",
              "      <td>0.027020</td>\n",
              "      <td>0.729905</td>\n",
              "      <td>0.046743</td>\n",
              "    </tr>\n",
              "    <tr>\n",
              "      <th>12</th>\n",
              "      <td>0.005866</td>\n",
              "      <td>0.011324</td>\n",
              "      <td>0.518023</td>\n",
              "      <td>0.017190</td>\n",
              "    </tr>\n",
              "    <tr>\n",
              "      <th>14</th>\n",
              "      <td>0.002188</td>\n",
              "      <td>0.004637</td>\n",
              "      <td>0.471870</td>\n",
              "      <td>0.006825</td>\n",
              "    </tr>\n",
              "  </tbody>\n",
              "</table>\n",
              "</div>"
            ],
            "text/plain": [
              "                     M ratio   F ratio  Likelihood (M/F)  Total Ratio\n",
              "Product_Category_1                                                   \n",
              "17                  0.001248  0.000461          2.705079     0.001710\n",
              "18                  0.006658  0.002844          2.340854     0.009502\n",
              "15                  0.012778  0.007738          1.651252     0.020517\n",
              "9                   0.000824  0.000530          1.555993     0.001353\n",
              "1                   0.281099  0.184581          1.522908     0.465680\n",
              "11                  0.047612  0.035243          1.350972     0.082855\n",
              "6                   0.038702  0.033851          1.143303     0.072553\n",
              "10                  0.009606  0.008608          1.115868     0.018214\n",
              "2                   0.044220  0.042157          1.048947     0.086377\n",
              "16                  0.018092  0.017875          1.012130     0.035967\n",
              "7                   0.006759  0.007020          0.962857     0.013779\n",
              "13                  0.009897  0.010802          0.916204     0.020699\n",
              "5                   0.264919  0.311649          0.850058     0.576568\n",
              "8                   0.195335  0.249227          0.783766     0.444562\n",
              "3                   0.034474  0.044434          0.775849     0.078908\n",
              "4                   0.019722  0.027020          0.729905     0.046743\n",
              "12                  0.005866  0.011324          0.518023     0.017190\n",
              "14                  0.002188  0.004637          0.471870     0.006825"
            ]
          },
          "metadata": {
            "tags": []
          },
          "execution_count": 16
        }
      ]
    },
    {
      "metadata": {
        "id": "elUsRlrLxfX8",
        "colab_type": "code",
        "outputId": "eeb03841-9937-4f53-a9a8-83038c6decb9",
        "colab": {
          "base_uri": "https://localhost:8080/",
          "height": 462
        }
      },
      "cell_type": "code",
      "source": [
        "prod_byage = bf_data.groupby('Age').nunique()['Product_ID']\n",
        "\n",
        "fig,ax = plt.subplots(1,2,figsize=(14,6))\n",
        "ax = ax.ravel()\n",
        "\n",
        "sns.countplot(bf_data['Age'].sort_values(),ax=ax[0], palette=\"Blues_d\")\n",
        "ax[0].set_xlabel('Age Group')\n",
        "ax[0].set_title('Age Group Distribution')\n",
        "sns.barplot(x=prod_byage.index,y=prod_byage.values,ax=ax[1], palette=\"Blues_d\")\n",
        "ax[1].set_xlabel('Age Group')\n",
        "ax[1].set_title('Unique Products by Age')\n",
        "\n",
        "plt.show()"
      ],
      "execution_count": 0,
      "outputs": [
        {
          "output_type": "stream",
          "text": [
            "/usr/local/lib/python3.6/dist-packages/seaborn/categorical.py:1428: FutureWarning: remove_na is deprecated and is a private function. Do not use.\n",
            "  stat_data = remove_na(group_data)\n"
          ],
          "name": "stderr"
        },
        {
          "output_type": "display_data",
          "data": {
            "image/png": "[encoded data removed]",
            "text/plain": [
              "<matplotlib.figure.Figure at 0x7efc87de6080>"
            ]
          },
          "metadata": {
            "tags": []
          }
        }
      ]
    },
    {
      "metadata": {
        "id": "VNUnR_b1ywoB",
        "colab_type": "code",
        "outputId": "e00072d4-01a0-4dfb-addd-e20066ccb245",
        "colab": {
          "base_uri": "https://localhost:8080/",
          "height": 462
        }
      },
      "cell_type": "code",
      "source": [
        "spent_byage = bf_data.groupby(by='Age').sum()['Purchase']\n",
        "plt.figure(figsize=(12,6))\n",
        "\n",
        "sns.barplot(x=spent_byage.index,y=spent_byage.values, palette=\"Blues_d\")\n",
        "plt.title('Mean Purchases per Age Group')\n",
        "plt.show()"
      ],
      "execution_count": 0,
      "outputs": [
        {
          "output_type": "stream",
          "text": [
            "/usr/local/lib/python3.6/dist-packages/seaborn/categorical.py:1428: FutureWarning: remove_na is deprecated and is a private function. Do not use.\n",
            "  stat_data = remove_na(group_data)\n"
          ],
          "name": "stderr"
        },
        {
          "output_type": "display_data",
          "data": {
            "image/png": "[encoded data removed]",
            "text/plain": [
              "<matplotlib.figure.Figure at 0x7efc87e3d828>"
            ]
          },
          "metadata": {
            "tags": []
          }
        }
      ]
    },
    {
      "metadata": {
        "id": "D9l0MEwuzTDS",
        "colab_type": "code",
        "outputId": "df54fe2a-39f0-4740-b1e7-b812742671bd",
        "colab": {
          "base_uri": "https://localhost:8080/",
          "height": 462
        }
      },
      "cell_type": "code",
      "source": [
        "plt.figure(figsize=(12,6))\n",
        "sns.countplot(bf_data['Occupation'])\n",
        "plt.title('Occupation Distribution')\n",
        "plt.show()"
      ],
      "execution_count": 0,
      "outputs": [
        {
          "output_type": "stream",
          "text": [
            "/usr/local/lib/python3.6/dist-packages/seaborn/categorical.py:1428: FutureWarning: remove_na is deprecated and is a private function. Do not use.\n",
            "  stat_data = remove_na(group_data)\n"
          ],
          "name": "stderr"
        },
        {
          "output_type": "display_data",
          "data": {
            "image/png": "[encoded data removed]",
            "text/plain": [
              "<matplotlib.figure.Figure at 0x7efc87dd5d68>"
            ]
          },
          "metadata": {
            "tags": []
          }
        }
      ]
    },
    {
      "metadata": {
        "id": "quqe6z4WzmXQ",
        "colab_type": "code",
        "outputId": "6c491d53-3415-43db-fc68-24241efe872e",
        "colab": {
          "base_uri": "https://localhost:8080/",
          "height": 462
        }
      },
      "cell_type": "code",
      "source": [
        "plt.figure(figsize=(12,6))\n",
        "prod_by_occ = bf_data.groupby(by='Occupation').nunique()['Product_ID']\n",
        "\n",
        "sns.barplot(x=prod_by_occ.index,y=prod_by_occ.values)\n",
        "plt.title('Unique Products by Occupation')\n",
        "plt.show()"
      ],
      "execution_count": 0,
      "outputs": [
        {
          "output_type": "stream",
          "text": [
            "/usr/local/lib/python3.6/dist-packages/seaborn/categorical.py:1428: FutureWarning: remove_na is deprecated and is a private function. Do not use.\n",
            "  stat_data = remove_na(group_data)\n"
          ],
          "name": "stderr"
        },
        {
          "output_type": "display_data",
          "data": {
            "image/png": "[encoded data removed]",
            "text/plain": [
              "<matplotlib.figure.Figure at 0x7efc840c5048>"
            ]
          },
          "metadata": {
            "tags": []
          }
        }
      ]
    },
    {
      "metadata": {
        "id": "dGxwagfw1M9c",
        "colab_type": "code",
        "outputId": "2650147d-a850-483f-eeff-47b3d8f1c9b4",
        "colab": {
          "base_uri": "https://localhost:8080/",
          "height": 457
        }
      },
      "cell_type": "code",
      "source": [
        "spent_by_occ = bf_data.groupby(by='Occupation').sum()['Purchase']\n",
        "plt.figure(figsize=(12,6))\n",
        "\n",
        "sns.barplot(x=spent_by_occ.index,y=spent_by_occ.values)\n",
        "plt.title('Total Money Spent per Occupation')\n",
        "plt.show()"
      ],
      "execution_count": 0,
      "outputs": [
        {
          "output_type": "stream",
          "text": [
            "/usr/local/lib/python3.6/dist-packages/seaborn/categorical.py:1428: FutureWarning: remove_na is deprecated and is a private function. Do not use.\n",
            "  stat_data = remove_na(group_data)\n"
          ],
          "name": "stderr"
        },
        {
          "output_type": "display_data",
          "data": {
            "image/png": "[encoded data removed]",
            "text/plain": [
              "<matplotlib.figure.Figure at 0x7efc84323d30>"
            ]
          },
          "metadata": {
            "tags": []
          }
        }
      ]
    },
    {
      "metadata": {
        "id": "Ar-X75Kn1guX",
        "colab_type": "code",
        "outputId": "2e52cbf6-8efc-4c90-e38f-47db6b7ae7b5",
        "colab": {
          "base_uri": "https://localhost:8080/",
          "height": 457
        }
      },
      "cell_type": "code",
      "source": [
        "plt.figure(figsize=(12,6))\n",
        "prod_by_cat = bf_data.groupby('Product_Category_1')['Product_ID'].nunique()\n",
        "\n",
        "sns.barplot(x=prod_by_cat.index,y=prod_by_cat.values, palette=\"Blues_d\")\n",
        "plt.title('Number of Unique Items per Category')\n",
        "plt.show()"
      ],
      "execution_count": 0,
      "outputs": [
        {
          "output_type": "stream",
          "text": [
            "/usr/local/lib/python3.6/dist-packages/seaborn/categorical.py:1428: FutureWarning: remove_na is deprecated and is a private function. Do not use.\n",
            "  stat_data = remove_na(group_data)\n"
          ],
          "name": "stderr"
        },
        {
          "output_type": "display_data",
          "data": {
            "image/png": "[encoded data removed]",
            "text/plain": [
              "<matplotlib.figure.Figure at 0x7efc8408df60>"
            ]
          },
          "metadata": {
            "tags": []
          }
        }
      ]
    },
    {
      "metadata": {
        "id": "KW-ApZ_L10Vd",
        "colab_type": "code",
        "outputId": "fcc55810-0bd6-4d60-c8e5-5495ed8d448e",
        "colab": {
          "base_uri": "https://localhost:8080/",
          "height": 457
        }
      },
      "cell_type": "code",
      "source": [
        "category = []\n",
        "mean_purchase = []\n",
        "\n",
        "\n",
        "for i in bf_data['Product_Category_1'].unique():\n",
        "    category.append(i)\n",
        "category.sort()\n",
        "\n",
        "for e in category:\n",
        "    mean_purchase.append(bf_data[bf_data['Product_Category_1']==e]['Purchase'].mean())\n",
        "\n",
        "plt.figure(figsize=(12,6))\n",
        "\n",
        "sns.barplot(x=category,y=mean_purchase)\n",
        "plt.title('Mean of the Purchases per Category')\n",
        "plt.xlabel('Product Category')\n",
        "plt.ylabel('Mean Purchase')\n",
        "plt.show()"
      ],
      "execution_count": 0,
      "outputs": [
        {
          "output_type": "stream",
          "text": [
            "/usr/local/lib/python3.6/dist-packages/seaborn/categorical.py:1428: FutureWarning: remove_na is deprecated and is a private function. Do not use.\n",
            "  stat_data = remove_na(group_data)\n"
          ],
          "name": "stderr"
        },
        {
          "output_type": "display_data",
          "data": {
            "image/png": "[encoded data removed]",
            "text/plain": [
              "<matplotlib.figure.Figure at 0x7efc83fc07b8>"
            ]
          },
          "metadata": {
            "tags": []
          }
        }
      ]
    },
    {
      "metadata": {
        "id": "0UsKfh082ejn",
        "colab_type": "text"
      },
      "cell_type": "markdown",
      "source": [
        "### Estimate of price and quantity of purchase \n",
        "\n",
        "Since the Purchases feature alludes to how much a customer paid for an unknown amount of a certain item, let's make a bold assumption that the lowest purchase paid by product is the price of said item:"
      ]
    },
    {
      "metadata": {
        "id": "qMareyUY290-",
        "colab_type": "code",
        "colab": {}
      },
      "cell_type": "code",
      "source": [
        "# Dictionary of product IDs with minimum purchase\n",
        "\n",
        "prod_prices = bf_data.groupby('Product_ID').min()['Purchase'].to_dict()"
      ],
      "execution_count": 0,
      "outputs": []
    },
    {
      "metadata": {
        "id": "gc4GD5R_3n-b",
        "colab_type": "text"
      },
      "cell_type": "markdown",
      "source": [
        "Now, the purchase value for each item ID is grouped by what one could assume is the amount of items purchased. Then, the prices and quantities calculated below are an estimate, but it is a very good one:"
      ]
    },
    {
      "metadata": {
        "id": "WxHX_IZo4uFJ",
        "colab_type": "code",
        "outputId": "d0853454-462d-4907-f134-2d4cfe23680e",
        "colab": {
          "base_uri": "https://localhost:8080/",
          "height": 34
        }
      },
      "cell_type": "code",
      "source": [
        "print(prod_prices.keys)"
      ],
      "execution_count": 0,
      "outputs": [
        {
          "output_type": "stream",
          "text": [
            "<built-in method keys of dict object at 0x7efc8413e090>\n"
          ],
          "name": "stdout"
        }
      ]
    },
    {
      "metadata": {
        "id": "-o0esIeBsprw",
        "colab_type": "text"
      },
      "cell_type": "markdown",
      "source": [
        "### Correlation matrix for target variable $y$, 'Purchase'."
      ]
    },
    {
      "metadata": {
        "id": "i2GLAVzRtCFc",
        "colab_type": "code",
        "outputId": "6734e011-cde5-47e9-8b6f-dcb59349dbbc",
        "colab": {
          "base_uri": "https://localhost:8080/",
          "height": 153
        }
      },
      "cell_type": "code",
      "source": [
        "corr_matrix = bf_data.corr()\n",
        "corr_matrix['Purchase'].sort_values(ascending = False)"
      ],
      "execution_count": 0,
      "outputs": [
        {
          "output_type": "execute_result",
          "data": {
            "text/plain": [
              "Purchase              1.000000\n",
              "Occupation            0.021104\n",
              "User_ID               0.005389\n",
              "Marital_Status        0.000129\n",
              "Product_Category_3   -0.022257\n",
              "Product_Category_2   -0.209973\n",
              "Product_Category_1   -0.314125\n",
              "Name: Purchase, dtype: float64"
            ]
          },
          "metadata": {
            "tags": []
          },
          "execution_count": 53
        }
      ]
    },
    {
      "metadata": {
        "id": "-I4a2b7sM7Lb",
        "colab_type": "text"
      },
      "cell_type": "markdown",
      "source": [
        "### Non-numerical (categorical) variables that will need to be numerically coded are:\n",
        "\n",
        "\n",
        "*   Product_ID\n",
        "*   Gender\n",
        "*   Age\n",
        "*   City_Category\n",
        "*   Stay_In_Current_City_Years\n",
        "\n",
        "\n"
      ]
    },
    {
      "metadata": {
        "id": "w12DjwsbP-s8",
        "colab_type": "text"
      },
      "cell_type": "markdown",
      "source": [
        "### Let's separate the Black Friday dataset into the independent variable matrix 'X' and dependent variable 'y'."
      ]
    },
    {
      "metadata": {
        "id": "JIkh2FenaguY",
        "colab_type": "code",
        "colab": {}
      },
      "cell_type": "code",
      "source": [
        "X = bf_data.drop('Purchase',axis=1)\n",
        "y = bf_data['Purchase']"
      ],
      "execution_count": 0,
      "outputs": []
    },
    {
      "metadata": {
        "id": "AB_-kDqimjEQ",
        "colab_type": "text"
      },
      "cell_type": "markdown",
      "source": [
        "Lets get some stats on the target variable, $y$, which has a label of purchase."
      ]
    },
    {
      "metadata": {
        "id": "sNcEiHTfAbhu",
        "colab_type": "code",
        "outputId": "4fc7c7cf-bd16-4a48-ce36-9640481393db",
        "colab": {
          "base_uri": "https://localhost:8080/",
          "height": 170
        }
      },
      "cell_type": "code",
      "source": [
        "y.describe()"
      ],
      "execution_count": 0,
      "outputs": [
        {
          "output_type": "execute_result",
          "data": {
            "text/plain": [
              "count    537577.000000\n",
              "mean       9333.859853\n",
              "std        4981.022133\n",
              "min         185.000000\n",
              "25%        5866.000000\n",
              "50%        8062.000000\n",
              "75%       12073.000000\n",
              "max       23961.000000\n",
              "Name: Purchase, dtype: float64"
            ]
          },
          "metadata": {
            "tags": []
          },
          "execution_count": 55
        }
      ]
    },
    {
      "metadata": {
        "id": "uzd7W2-vvOhq",
        "colab_type": "text"
      },
      "cell_type": "markdown",
      "source": [
        "### Now, let's separate the numerical and categorical variables so that we can perform data preparation techniques on each variable type."
      ]
    },
    {
      "metadata": {
        "id": "H5Wvu_BkvNQ5",
        "colab_type": "code",
        "colab": {}
      },
      "cell_type": "code",
      "source": [
        "def separate_num_cat(dataset):\n",
        "  num_cols = [col for col in dataset.columns if col not in ['Product_ID','Gender','Age','City_Category','Stay_In_Current_City_Years']]\n",
        "  cat_cols = [col for col in dataset.columns if col in ['Product_ID','Gender','Age','City_Category','Stay_In_Current_City_Years']]\n",
        "  dataset_num = dataset[num_cols]\n",
        "  dataset_cat = dataset[cat_cols]\n",
        "  # dataset_num = dataset_num.drop('Purchase',axis=1)  # Remove the target variable column in dataset_num                \n",
        "  \n",
        "  return dataset_num,dataset_cat"
      ],
      "execution_count": 0,
      "outputs": []
    },
    {
      "metadata": {
        "id": "JAYuub6hhG11",
        "colab_type": "code",
        "colab": {}
      },
      "cell_type": "code",
      "source": [
        "X_num,X_cat = separate_num_cat(X)"
      ],
      "execution_count": 0,
      "outputs": []
    },
    {
      "metadata": {
        "id": "vdsW-d0CUAAU",
        "colab_type": "text"
      },
      "cell_type": "markdown",
      "source": [
        "### Let's code the categorical variables into One Hot Vectors using sklearn's 'OrdinalEncoder' and 'OneHotEncoder' functions..."
      ]
    },
    {
      "metadata": {
        "id": "KoIhRcETRjgZ",
        "colab_type": "code",
        "colab": {}
      },
      "cell_type": "code",
      "source": [
        "from sklearn.preprocessing import OrdinalEncoder,OneHotEncoder\n",
        "ordinal_encoder = OrdinalEncoder()\n",
        "one_hot_encoder = OneHotEncoder(categories='auto')"
      ],
      "execution_count": 0,
      "outputs": []
    },
    {
      "metadata": {
        "id": "dONHK8nvlkVT",
        "colab_type": "code",
        "colab": {}
      },
      "cell_type": "code",
      "source": [
        "def transform_cat_feature(dataset,cat_column_label):\n",
        "  dataset_cat_column_label = dataset[cat_column_label].values.reshape(-1,1)\n",
        "  dataset_cat_column_label_encoded = ordinal_encoder.fit_transform(dataset_cat_column_label)\n",
        "  dataset_cat_column_label_1hot = one_hot_encoder.fit_transform(dataset_cat_column_label_encoded.reshape(-1,1))\n",
        "  return dataset_cat_column_label_1hot"
      ],
      "execution_count": 0,
      "outputs": []
    },
    {
      "metadata": {
        "id": "EHvNOvMkm6JA",
        "colab_type": "code",
        "outputId": "9359e2c9-bb72-42b8-adab-bc83184e568a",
        "colab": {
          "base_uri": "https://localhost:8080/",
          "height": 187
        }
      },
      "cell_type": "code",
      "source": [
        "X_productid_1hot = transform_cat_feature(X,'Product_ID')\n",
        "X_gender_1hot = transform_cat_feature(X,'Gender')\n",
        "X_age_1hot = transform_cat_feature(X,'Age')\n",
        "X_city_category_1hot = transform_cat_feature(X,'City_Category')\n",
        "X_stay_in_current_city_years_1hot = transform_cat_feature(X,'Stay_In_Current_City_Years')\n",
        "\n",
        "X_productid_1hot,X_gender_1hot,X_age_1hot,X_city_category_1hot,X_stay_in_current_city_years_1hot"
      ],
      "execution_count": 0,
      "outputs": [
        {
          "output_type": "execute_result",
          "data": {
            "text/plain": [
              "(<537577x3623 sparse matrix of type '<class 'numpy.float64'>'\n",
              " \twith 537577 stored elements in Compressed Sparse Row format>,\n",
              " <537577x2 sparse matrix of type '<class 'numpy.float64'>'\n",
              " \twith 537577 stored elements in Compressed Sparse Row format>,\n",
              " <537577x7 sparse matrix of type '<class 'numpy.float64'>'\n",
              " \twith 537577 stored elements in Compressed Sparse Row format>,\n",
              " <537577x3 sparse matrix of type '<class 'numpy.float64'>'\n",
              " \twith 537577 stored elements in Compressed Sparse Row format>,\n",
              " <537577x5 sparse matrix of type '<class 'numpy.float64'>'\n",
              " \twith 537577 stored elements in Compressed Sparse Row format>)"
            ]
          },
          "metadata": {
            "tags": []
          },
          "execution_count": 60
        }
      ]
    },
    {
      "metadata": {
        "id": "KuXcJqFxmpkX",
        "colab_type": "text"
      },
      "cell_type": "markdown",
      "source": [
        "### Notice that the outputs are SciPy sparse matrices, instead of a NumPy arrays. \n",
        "\n",
        "This is very useful when we have categorical attributes with thousands of categories. After one-hot encoding we get a matrix with thousands of columns, and the matrix is full of zeros except for a single 1 per row. Using up tons of memory mostly to store zeros would be very wasteful, so instead, a sparse matrix only stores the location of the nonzero elements. We can use it mostly like a normal 2D array,"
      ]
    },
    {
      "metadata": {
        "id": "5E03nrztFvZU",
        "colab_type": "text"
      },
      "cell_type": "markdown",
      "source": [
        "### Now, let's apply standard scaling to the numerical variables.  This includes imputing the median for all missing values.  Not sure if this is the right thing to do, but we can always change it later."
      ]
    },
    {
      "metadata": {
        "id": "2epU2MQ9plM1",
        "colab_type": "code",
        "outputId": "6851e4b5-881d-4538-904f-af79b70ff79e",
        "colab": {
          "base_uri": "https://localhost:8080/",
          "height": 119
        }
      },
      "cell_type": "code",
      "source": [
        "X_num_attribs = list(X_num) \n",
        "X_num_attribs"
      ],
      "execution_count": 0,
      "outputs": [
        {
          "output_type": "execute_result",
          "data": {
            "text/plain": [
              "['User_ID',\n",
              " 'Occupation',\n",
              " 'Marital_Status',\n",
              " 'Product_Category_1',\n",
              " 'Product_Category_2',\n",
              " 'Product_Category_3']"
            ]
          },
          "metadata": {
            "tags": []
          },
          "execution_count": 35
        }
      ]
    },
    {
      "metadata": {
        "id": "97FN5Q31pchQ",
        "colab_type": "code",
        "colab": {}
      },
      "cell_type": "code",
      "source": [
        "\n",
        "from sklearn.impute import SimpleImputer\n",
        "from sklearn.pipeline import Pipeline\n",
        "from sklearn.preprocessing import StandardScaler"
      ],
      "execution_count": 0,
      "outputs": []
    },
    {
      "metadata": {
        "id": "lwRe9HTMFpOG",
        "colab_type": "code",
        "colab": {}
      },
      "cell_type": "code",
      "source": [
        "num_pipeline = Pipeline([\n",
        "        ('imputer', SimpleImputer(strategy=\"median\")),\n",
        "        ('std_scaler', StandardScaler()),\n",
        "    ])\n",
        "\n",
        "X_num_tr = num_pipeline.fit_transform(X_num)"
      ],
      "execution_count": 0,
      "outputs": []
    },
    {
      "metadata": {
        "id": "Lo_0A-M5ENFl",
        "colab_type": "text"
      },
      "cell_type": "markdown",
      "source": [
        "### Recall the label names of the OneHotEncoded categorical variables..."
      ]
    },
    {
      "metadata": {
        "id": "yeYDMhZW5NpH",
        "colab_type": "code",
        "outputId": "d3b3a79b-9c93-47b1-f8d1-9b20ea8928d9",
        "colab": {
          "base_uri": "https://localhost:8080/",
          "height": 34
        }
      },
      "cell_type": "code",
      "source": [
        "X_cat_attribs = ['Product_ID','Gender','Age','City_Category','Stay_In_Current_City_Years'] \n",
        "X_cat_attribs"
      ],
      "execution_count": 0,
      "outputs": [
        {
          "output_type": "execute_result",
          "data": {
            "text/plain": [
              "['Product_ID', 'Gender', 'Age', 'City_Category', 'Stay_In_Current_City_Years']"
            ]
          },
          "metadata": {
            "tags": []
          },
          "execution_count": 38
        }
      ]
    },
    {
      "metadata": {
        "id": "oXTRh5wPpHSx",
        "colab_type": "text"
      },
      "cell_type": "markdown",
      "source": [
        "### Now it would be nice if we could feed a Pandas DataFrame containing both numerical and non-numerical coded columns directly into our pipeline, instead of having to first manually extract the numerical columns into a NumPy array. Now we can use the recently-introduced sklearn function **'ColumnTransformer'** to do this work for us."
      ]
    },
    {
      "metadata": {
        "id": "BEuHpWEXISwO",
        "colab_type": "code",
        "colab": {}
      },
      "cell_type": "code",
      "source": [
        "from sklearn.compose import ColumnTransformer\n",
        "\n",
        "\n",
        "full_pipeline = ColumnTransformer([\n",
        "        (\"num\", num_pipeline, X_num_attribs),\n",
        "        (\"cat\", OneHotEncoder(), X_cat_attribs),\n",
        "    ])\n",
        "\n",
        "X_prepared = full_pipeline.fit_transform(X)"
      ],
      "execution_count": 0,
      "outputs": []
    },
    {
      "metadata": {
        "id": "5IRbfKETbp-H",
        "colab_type": "text"
      },
      "cell_type": "markdown",
      "source": [
        "### We will now shuffle the dataset rows and define the train and test sets. The train-test split will be 80% - 20%"
      ]
    },
    {
      "metadata": {
        "id": "MQZtD0IgV4Rp",
        "colab_type": "code",
        "colab": {}
      },
      "cell_type": "code",
      "source": [
        "from sklearn.model_selection import train_test_split \n",
        "\n",
        "X_train, X_test, y_train, y_test = train_test_split(X_prepared,y,test_size=0.2,random_state=42)"
      ],
      "execution_count": 0,
      "outputs": []
    },
    {
      "metadata": {
        "id": "5z4yWRUWwWR8",
        "colab_type": "text"
      },
      "cell_type": "markdown",
      "source": [
        "## Now we are ready to train some models!!"
      ]
    },
    {
      "metadata": {
        "id": "MLuaQQj4wrFF",
        "colab_type": "text"
      },
      "cell_type": "markdown",
      "source": [
        "### Let's first look at a Linear Regression...."
      ]
    },
    {
      "metadata": {
        "id": "zBGl5_88w0_T",
        "colab_type": "code",
        "outputId": "622a055b-072b-41e7-e210-05c25d2ab586",
        "colab": {
          "base_uri": "https://localhost:8080/",
          "height": 51
        }
      },
      "cell_type": "code",
      "source": [
        "from sklearn.linear_model import LinearRegression \n",
        "lin_reg = LinearRegression() \n",
        "lin_reg.fit(X_train,y_train)"
      ],
      "execution_count": 0,
      "outputs": [
        {
          "output_type": "execute_result",
          "data": {
            "text/plain": [
              "LinearRegression(copy_X=True, fit_intercept=True, n_jobs=None,\n",
              "         normalize=False)"
            ]
          },
          "metadata": {
            "tags": []
          },
          "execution_count": 41
        }
      ]
    },
    {
      "metadata": {
        "id": "5lvRs-vqxQaY",
        "colab_type": "text"
      },
      "cell_type": "markdown",
      "source": [
        "Let’s measure this regression model’s **RMSE** on the training and test sets using **Scikit-Learn’s mean_squared_error function**:"
      ]
    },
    {
      "metadata": {
        "id": "2ViyYLdK42R6",
        "colab_type": "code",
        "colab": {}
      },
      "cell_type": "code",
      "source": [
        "from sklearn.metrics import mean_squared_error\n",
        "\n",
        "def Calculate_RMSE(X,y,model):\n",
        "  predictions = model.predict(X)\n",
        "  lin_mse = mean_squared_error(y,predictions)\n",
        "  lin_rmse = np.sqrt(lin_mse)\n",
        "  return lin_rmse"
      ],
      "execution_count": 0,
      "outputs": []
    },
    {
      "metadata": {
        "id": "NtKNON0bjuir",
        "colab_type": "code",
        "outputId": "8479ecd4-29f5-440c-fa07-8e9bec421866",
        "colab": {
          "base_uri": "https://localhost:8080/",
          "height": 34
        }
      },
      "cell_type": "code",
      "source": [
        "Calculate_RMSE(X_train,y_train,lin_reg)"
      ],
      "execution_count": 0,
      "outputs": [
        {
          "output_type": "execute_result",
          "data": {
            "text/plain": [
              "2652.01099492523"
            ]
          },
          "metadata": {
            "tags": []
          },
          "execution_count": 43
        }
      ]
    },
    {
      "metadata": {
        "id": "EWbQdCDGkCb3",
        "colab_type": "code",
        "outputId": "e50c4d07-80f0-4ca5-e2b4-7c9d5e29285b",
        "colab": {
          "base_uri": "https://localhost:8080/",
          "height": 34
        }
      },
      "cell_type": "code",
      "source": [
        "Calculate_RMSE(X_test,y_test,lin_reg)"
      ],
      "execution_count": 0,
      "outputs": [
        {
          "output_type": "execute_result",
          "data": {
            "text/plain": [
              "2677.6907488552465"
            ]
          },
          "metadata": {
            "tags": []
          },
          "execution_count": 44
        }
      ]
    },
    {
      "metadata": {
        "id": "PJ6VN8Dqxi4L",
        "colab_type": "text"
      },
      "cell_type": "markdown",
      "source": [
        "### Wow, the RMSE is pretty high for both the training and test sets! The linear regression algorithm is most likely *underfitting* the dataset. "
      ]
    },
    {
      "metadata": {
        "id": "vILTgl-ixgFa",
        "colab_type": "code",
        "outputId": "24d30ad3-ec37-43b1-a147-1f399dbd321d",
        "colab": {
          "base_uri": "https://localhost:8080/",
          "height": 697
        }
      },
      "cell_type": "code",
      "source": [
        "some_predictions = lin_reg.predict(X_train[:30])\n",
        "some_labels = y_train[:30]\n",
        "    \n",
        "print(some_predictions,'\\n\\n',some_labels)"
      ],
      "execution_count": 0,
      "outputs": [
        {
          "output_type": "stream",
          "text": [
            "[ 6799.96035853 12127.74531091  7297.34719445 15027.37680851\n",
            " 12447.5434375  10691.06048926  7822.589656    6590.91887052\n",
            "  6242.19044876  5639.94056676  7417.02070476 15334.43628236\n",
            "  7164.59670129  1998.79342085 19212.78165111  7275.56784539\n",
            "  7144.02903088  8189.95175867  6936.09079673 11955.54569666\n",
            "  8287.12713204 12626.60181343 11460.8426351  17317.51173495\n",
            " 20064.73852234 17578.81829259  6045.89346737  6338.04810105\n",
            "  8239.2417941  12505.80655055] \n",
            "\n",
            " 80541      8757\n",
            "469742     8644\n",
            "477144     6129\n",
            "139704    11585\n",
            "52739     15273\n",
            "322207     7787\n",
            "262956     9825\n",
            "156549     8600\n",
            "56966      4003\n",
            "124924     3483\n",
            "420522     4219\n",
            "401414    19323\n",
            "101287     7081\n",
            "529154     2061\n",
            "342117    23395\n",
            "332687     6933\n",
            "463950     7056\n",
            "380697     4185\n",
            "36130      4018\n",
            "3627      13033\n",
            "332722     7835\n",
            "37968     13050\n",
            "178800    19173\n",
            "295231    19150\n",
            "161884    19242\n",
            "95734     20411\n",
            "201830     7149\n",
            "268806     8874\n",
            "352126     9921\n",
            "211141    15467\n",
            "Name: Purchase, dtype: int64\n"
          ],
          "name": "stdout"
        }
      ]
    },
    {
      "metadata": {
        "id": "bYMCnEfyDtgG",
        "colab_type": "code",
        "outputId": "7cf1e4bf-cd36-47e3-8677-b3375e6a1019",
        "colab": {
          "base_uri": "https://localhost:8080/",
          "height": 364
        }
      },
      "cell_type": "code",
      "source": [
        "#Creating pandas dataframe from numpy array\n",
        "\n",
        "df = pd.DataFrame({'Predictions':some_predictions,'Actual':some_labels})\n",
        "scatter(df.index,some_predictions,marker='o', c='b')\n",
        "scatter(df.index,some_labels,marker='x', c='r')\n",
        "plt.figure(); \n",
        "# df.plot(); \n",
        "# plt.legend(loc='best')"
      ],
      "execution_count": 0,
      "outputs": [
        {
          "output_type": "display_data",
          "data": {
            "image/png": "[encoded data removed]",
            "text/plain": [
              "<matplotlib.figure.Figure at 0x7efc80985358>"
            ]
          },
          "metadata": {
            "tags": []
          }
        },
        {
          "output_type": "display_data",
          "data": {
            "text/plain": [
              "<matplotlib.figure.Figure at 0x7efc809396a0>"
            ]
          },
          "metadata": {
            "tags": []
          }
        }
      ]
    },
    {
      "metadata": {
        "id": "RjZct9z6XZIU",
        "colab_type": "text"
      },
      "cell_type": "markdown",
      "source": [
        "### Let’s train a **DecisionTreeRegressor.** This is a powerful model, capable of finding complex nonlinear relationships in the data."
      ]
    },
    {
      "metadata": {
        "id": "VdYChMLOXfGG",
        "colab_type": "code",
        "outputId": "44947d96-bdaa-405b-969e-44fe75d0aea8",
        "colab": {
          "base_uri": "https://localhost:8080/",
          "height": 102
        }
      },
      "cell_type": "code",
      "source": [
        "from sklearn.tree import DecisionTreeRegressor \n",
        "tree_reg = DecisionTreeRegressor() \n",
        "tree_reg.fit(X_train,y_train) "
      ],
      "execution_count": 0,
      "outputs": [
        {
          "output_type": "execute_result",
          "data": {
            "text/plain": [
              "DecisionTreeRegressor(criterion='mse', max_depth=None, max_features=None,\n",
              "           max_leaf_nodes=None, min_impurity_decrease=0.0,\n",
              "           min_impurity_split=None, min_samples_leaf=1,\n",
              "           min_samples_split=2, min_weight_fraction_leaf=0.0,\n",
              "           presort=False, random_state=None, splitter='best')"
            ]
          },
          "metadata": {
            "tags": []
          },
          "execution_count": 47
        }
      ]
    },
    {
      "metadata": {
        "id": "eZdkUkuJYneJ",
        "colab_type": "text"
      },
      "cell_type": "markdown",
      "source": [
        "Let's measure the DecisionTreeRegressor model's RMSE..."
      ]
    },
    {
      "metadata": {
        "id": "HGpvx5gvlkJo",
        "colab_type": "code",
        "outputId": "d0112a93-6ac3-45be-ec4d-25d46924ca96",
        "colab": {
          "base_uri": "https://localhost:8080/",
          "height": 34
        }
      },
      "cell_type": "code",
      "source": [
        "Calculate_RMSE(X_train,y_train,tree_reg)"
      ],
      "execution_count": 0,
      "outputs": [
        {
          "output_type": "execute_result",
          "data": {
            "text/plain": [
              "0.0"
            ]
          },
          "metadata": {
            "tags": []
          },
          "execution_count": 48
        }
      ]
    },
    {
      "metadata": {
        "id": "fCjpNgPnlsaL",
        "colab_type": "code",
        "outputId": "36f4eb26-7ef3-4d74-f786-d31d592961c5",
        "colab": {
          "base_uri": "https://localhost:8080/",
          "height": 34
        }
      },
      "cell_type": "code",
      "source": [
        "Calculate_RMSE(X_test,y_test,tree_reg)"
      ],
      "execution_count": 0,
      "outputs": [
        {
          "output_type": "execute_result",
          "data": {
            "text/plain": [
              "3650.902222341959"
            ]
          },
          "metadata": {
            "tags": []
          },
          "execution_count": 49
        }
      ]
    },
    {
      "metadata": {
        "id": "9nnsrEM8b6K_",
        "colab_type": "text"
      },
      "cell_type": "markdown",
      "source": [
        "\n",
        "###Wow, RMSE = 0 for the training set?  Really??!! But the RMSE for the test set is 3651, which is *higher* than what we calculated for the Linear Regression. Let's perform some further tests to determine whether the DecisionTreeRegressor model is badly overfitting the training set.\n",
        "\n",
        "A great strategy is to use Scikit-Learn’s **cross-validation** feature. The following code performs a K-fold cross-validation: it randomly splits the training set into 3 distinct subsets called folds, then it trains and evaluates the Decision Tree model 3 times, picking a different fold for evaluation every time and training on the other 2 folds.  We have decided on 3 folds in order to speed up the computation time.  The result is an array containing the 3 evaluation scores:"
      ]
    },
    {
      "metadata": {
        "id": "A83B0fSgcIx8",
        "colab_type": "code",
        "colab": {}
      },
      "cell_type": "code",
      "source": [
        "from sklearn.model_selection import cross_val_score\n",
        "\n",
        "scores = cross_val_score(tree_reg,X_train,y_train,scoring=\"neg_mean_squared_error\", cv=3)\n",
        "tree_rmse_scores = np.sqrt(-scores)"
      ],
      "execution_count": 0,
      "outputs": []
    },
    {
      "metadata": {
        "id": "hADmDLVEgB2j",
        "colab_type": "code",
        "colab": {}
      },
      "cell_type": "code",
      "source": [
        "def display_scores(scores):\n",
        "    print(\"Scores:\", scores)\n",
        "    print(\"Mean:\", scores.mean())\n",
        "    print(\"Standard deviation:\", scores.std())\n",
        "    \n",
        "  "
      ],
      "execution_count": 0,
      "outputs": []
    },
    {
      "metadata": {
        "id": "7av1OAyP4gpa",
        "colab_type": "code",
        "outputId": "2e5a1b10-0082-4999-d309-9271f750db44",
        "colab": {
          "base_uri": "https://localhost:8080/",
          "height": 164
        }
      },
      "cell_type": "code",
      "source": [
        "display_scores(tree_rmse_scores) "
      ],
      "execution_count": 0,
      "outputs": [
        {
          "output_type": "error",
          "ename": "NameError",
          "evalue": "ignored",
          "traceback": [
            "\u001b[0;31m---------------------------------------------------------------------------\u001b[0m",
            "\u001b[0;31mNameError\u001b[0m                                 Traceback (most recent call last)",
            "\u001b[0;32m<ipython-input-4-1cba6cb7d329>\u001b[0m in \u001b[0;36m<module>\u001b[0;34m()\u001b[0m\n\u001b[0;32m----> 1\u001b[0;31m \u001b[0mdisplay_scores\u001b[0m\u001b[0;34m(\u001b[0m\u001b[0mtree_rmse_scores\u001b[0m\u001b[0;34m)\u001b[0m\u001b[0;34m\u001b[0m\u001b[0;34m\u001b[0m\u001b[0m\n\u001b[0m",
            "\u001b[0;31mNameError\u001b[0m: name 'tree_rmse_scores' is not defined"
          ]
        }
      ]
    },
    {
      "metadata": {
        "id": "t7_aT4p9slLR",
        "colab_type": "text"
      },
      "cell_type": "markdown",
      "source": [
        "### Based on these scores, it looks like the DecisionTreeRegressor performs worse than the Linear Regression."
      ]
    },
    {
      "metadata": {
        "id": "oRVFW5Ly-XN4",
        "colab_type": "text"
      },
      "cell_type": "markdown",
      "source": [
        "Let's try one more model: the **RandomForestRegressor**. Random Forests work by training many Decision Trees on random subsets of the features, then averaging out their predictions. **Building a model on top of many other models is called Ensemble Learning , and it is often a great way to push ML algorithms even further.**\n"
      ]
    },
    {
      "metadata": {
        "id": "tgQ-Gic6AEaY",
        "colab_type": "code",
        "outputId": "3bc5bc98-9ded-4885-edf4-72e7f853ecd2",
        "colab": {
          "base_uri": "https://localhost:8080/",
          "height": 178
        }
      },
      "cell_type": "code",
      "source": [
        "from sklearn.ensemble import RandomForestRegressor\n",
        "\n",
        "forest_reg = RandomForestRegressor(random_state = 42)\n",
        "forest_reg.fit(X_train,y_train)"
      ],
      "execution_count": 0,
      "outputs": [
        {
          "output_type": "stream",
          "text": [
            "/usr/local/lib/python3.6/dist-packages/sklearn/ensemble/forest.py:246: FutureWarning: The default value of n_estimators will change from 10 in version 0.20 to 100 in 0.22.\n",
            "  \"10 in version 0.20 to 100 in 0.22.\", FutureWarning)\n"
          ],
          "name": "stderr"
        },
        {
          "output_type": "execute_result",
          "data": {
            "text/plain": [
              "RandomForestRegressor(bootstrap=True, criterion='mse', max_depth=None,\n",
              "           max_features='auto', max_leaf_nodes=None,\n",
              "           min_impurity_decrease=0.0, min_impurity_split=None,\n",
              "           min_samples_leaf=1, min_samples_split=2,\n",
              "           min_weight_fraction_leaf=0.0, n_estimators=10, n_jobs=None,\n",
              "           oob_score=False, random_state=42, verbose=0, warm_start=False)"
            ]
          },
          "metadata": {
            "tags": []
          },
          "execution_count": 64
        }
      ]
    },
    {
      "metadata": {
        "id": "scmMHgRAWAu3",
        "colab_type": "code",
        "outputId": "80ab1bfa-458d-47cb-b3e6-8ad9b9789553",
        "colab": {
          "base_uri": "https://localhost:8080/",
          "height": 51
        }
      },
      "cell_type": "code",
      "source": [
        "train_set_RSME = Calculate_RMSE(X_train,y_train,forest_reg)\n",
        "print(train_set_RSME)\n",
        "forest_reg.score(X_train,y_train)    # R-squared for the train set"
      ],
      "execution_count": 0,
      "outputs": [
        {
          "output_type": "stream",
          "text": [
            "1166.7859226294356\n"
          ],
          "name": "stdout"
        },
        {
          "output_type": "execute_result",
          "data": {
            "text/plain": [
              "0.9451156729733368"
            ]
          },
          "metadata": {
            "tags": []
          },
          "execution_count": 65
        }
      ]
    },
    {
      "metadata": {
        "id": "tOhVr227cvsV",
        "colab_type": "text"
      },
      "cell_type": "markdown",
      "source": [
        "### Perform a K-fold cross-validation on the training set with K=3"
      ]
    },
    {
      "metadata": {
        "id": "Cw8NN7DkcIot",
        "colab_type": "code",
        "colab": {}
      },
      "cell_type": "code",
      "source": [
        "scores = cross_val_score(forest_reg,X_train,y_train,scoring=\"neg_mean_squared_error\", cv=3)\n",
        "forest_rmse_scores = np.sqrt(-scores)"
      ],
      "execution_count": 0,
      "outputs": []
    },
    {
      "metadata": {
        "id": "YWfAnIV5VyLo",
        "colab_type": "code",
        "colab": {}
      },
      "cell_type": "code",
      "source": [
        "display_scores(forest_rmse_scores)  "
      ],
      "execution_count": 0,
      "outputs": []
    },
    {
      "metadata": {
        "id": "-kmKlnG-L3DP",
        "colab_type": "text"
      },
      "cell_type": "markdown",
      "source": [
        "### Now, let's fine tune the Random Forest model by doing a 'GridSearchCV' on the hyperparameters."
      ]
    },
    {
      "metadata": {
        "id": "VWoBqPSLMUU_",
        "colab_type": "code",
        "colab": {}
      },
      "cell_type": "code",
      "source": [
        "from sklearn.model_selection import GridSearchCV\n",
        "\n",
        "param_grid = [\n",
        "    # try 12 (3×4) combinations of hyperparameters\n",
        "    {'n_estimators': [3, 10, 30], 'max_features': [2, 4, 6, 8]},\n",
        "    # then try 6 (2×3) combinations with bootstrap set as False\n",
        "    {'bootstrap': [False], 'n_estimators': [3, 10], 'max_features': [2, 3, 4]},\n",
        "  ]\n",
        "\n",
        "forest_reg = RandomForestRegressor(random_state=42)\n",
        "\n",
        "# train across 3 folds, that's a total of (12+6)*3 = 54 rounds of training \n",
        "\n",
        "grid_search = GridSearchCV(forest_reg, param_grid, cv=3,scoring='neg_mean_squared_error', return_train_score=True)\n",
        "grid_search.fit(housing_prepared, housing_labels)"
      ],
      "execution_count": 0,
      "outputs": []
    },
    {
      "metadata": {
        "id": "sIiAgVwDi_m5",
        "colab_type": "code",
        "colab": {}
      },
      "cell_type": "code",
      "source": [
        ""
      ],
      "execution_count": 0,
      "outputs": []
    }
  ]
}