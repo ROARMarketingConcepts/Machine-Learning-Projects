{
  "nbformat": 4,
  "nbformat_minor": 0,
  "metadata": {
    "colab": {
      "name": "Google PlayStore Apps Analysis - SVM.ipynb",
      "version": "0.3.2",
      "provenance": [],
      "collapsed_sections": [],
      "include_colab_link": true
    },
    "kernelspec": {
      "name": "python3",
      "display_name": "Python 3"
    },
    "accelerator": "TPU"
  },
  "cells": [
    {
      "cell_type": "markdown",
      "metadata": {
        "id": "view-in-github",
        "colab_type": "text"
      },
      "source": [
        "<a href=\"https://colab.research.google.com/github/ROARMarketingConcepts/Machine-Learning-Projects/blob/master/Google_PlayStore_Apps_Analysis_SVM.ipynb\" target=\"_parent\"><img src=\"https://colab.research.google.com/assets/colab-badge.svg\" alt=\"Open In Colab\"/></a>"
      ]
    },
    {
      "metadata": {
        "id": "xrdB4Pvew0ah",
        "colab_type": "text"
      },
      "cell_type": "markdown",
      "source": [
        "##Google PlayStore Apps Analysis\n",
        "\n",
        "### Using a Support Vector Machine Classifier (SVM) algorithm to predict the sentiments (Positive, Neutral, Negative) of Google PlayStore App user reviews.\n",
        "\n",
        "Performed by\n",
        "Ken Wood\n",
        "\n",
        "ROAR Marketing Concepts LLC\n",
        "\n",
        "ken@roarmarketingconcepts.com\n"
      ]
    },
    {
      "metadata": {
        "id": "Q_Brip-8tdjE",
        "colab_type": "text"
      },
      "cell_type": "markdown",
      "source": [
        "### Content\n",
        "\n",
        "Each app (row) has values for catergory, rating, size, and more.\n",
        "\n",
        "### Acknowledgements\n",
        "\n",
        "This information is scraped from the Google Play Store. This app information would not be available without it.\n",
        "\n",
        "### Inspiration\n",
        "\n",
        "The Play Store apps data has enormous potential to drive app-making businesses to success. Actionable insights can be drawn for developers to work on and capture the Android market!"
      ]
    },
    {
      "metadata": {
        "id": "9ALCkfYuqrTZ",
        "colab_type": "text"
      },
      "cell_type": "markdown",
      "source": [
        "### Mount the Google Drive where the datasets are located..."
      ]
    },
    {
      "metadata": {
        "id": "JyLPUciaJavv",
        "colab_type": "code",
        "outputId": "6947fe9b-684f-4bb0-c23f-680d692c67ed",
        "colab": {
          "base_uri": "https://localhost:8080/",
          "height": 34
        }
      },
      "cell_type": "code",
      "source": [
        "from google.colab import drive\n",
        "drive.mount('/gdrive')"
      ],
      "execution_count": 1,
      "outputs": [
        {
          "output_type": "stream",
          "text": [
            "Drive already mounted at /gdrive; to attempt to forcibly remount, call drive.mount(\"/gdrive\", force_remount=True).\n"
          ],
          "name": "stdout"
        }
      ]
    },
    {
      "metadata": {
        "id": "CaqrF3-Zq2PC",
        "colab_type": "text"
      },
      "cell_type": "markdown",
      "source": [
        "### Install some necessary packages to perform the required analysis..."
      ]
    },
    {
      "metadata": {
        "id": "fXW19Ug6MF-W",
        "colab_type": "code",
        "outputId": "2580374a-ed2c-4538-ffbf-18a706e3e908",
        "colab": {
          "base_uri": "https://localhost:8080/",
          "height": 167
        }
      },
      "cell_type": "code",
      "source": [
        "!pip install -U scikit-learn\n",
        "!pip install --user --upgrade tables\n",
        "\n",
        "import numpy as np\n",
        "import pandas as pd\n",
        "import matplotlib.pyplot as plt\n",
        "import seaborn as sns\n",
        "\n",
        "from datetime import datetime, date\n",
        "from dateutil.relativedelta import relativedelta\n",
        "\n",
        "from sklearn.preprocessing import StandardScaler\n",
        "\n",
        "from math import ceil\n",
        "\n",
        "from keras.callbacks import LambdaCallback\n",
        "from keras.models import Sequential\n",
        "from keras.layers import Dense, Activation\n",
        "from keras.layers import LSTM\n",
        "from keras.optimizers import RMSprop\n",
        "\n",
        "%matplotlib inline\n",
        "\n",
        "# Ignore useless warnings (see SciPy issue #5998)\n",
        "import warnings\n",
        "warnings.filterwarnings(action=\"ignore\", message=\"^internal gelsd\")"
      ],
      "execution_count": 2,
      "outputs": [
        {
          "output_type": "stream",
          "text": [
            "Requirement already up-to-date: scikit-learn in /usr/local/lib/python3.6/dist-packages (0.20.2)\n",
            "Requirement already satisfied, skipping upgrade: scipy>=0.13.3 in /usr/local/lib/python3.6/dist-packages (from scikit-learn) (1.1.0)\n",
            "Requirement already satisfied, skipping upgrade: numpy>=1.8.2 in /usr/local/lib/python3.6/dist-packages (from scikit-learn) (1.14.6)\n",
            "Requirement already up-to-date: tables in /usr/local/lib/python3.6/dist-packages (3.4.4)\n",
            "Requirement already satisfied, skipping upgrade: six>=1.9.0 in /usr/local/lib/python3.6/dist-packages (from tables) (1.11.0)\n",
            "Requirement already satisfied, skipping upgrade: numexpr>=2.5.2 in /usr/local/lib/python3.6/dist-packages (from tables) (2.6.9)\n",
            "Requirement already satisfied, skipping upgrade: numpy>=1.8.0 in /usr/local/lib/python3.6/dist-packages (from tables) (1.14.6)\n"
          ],
          "name": "stdout"
        },
        {
          "output_type": "stream",
          "text": [
            "Using TensorFlow backend.\n"
          ],
          "name": "stderr"
        }
      ]
    },
    {
      "metadata": {
        "id": "YsUIKTNDq_JY",
        "colab_type": "text"
      },
      "cell_type": "markdown",
      "source": [
        "### Load the datasets.."
      ]
    },
    {
      "metadata": {
        "id": "RpQYnzQpMOTm",
        "colab_type": "code",
        "colab": {}
      },
      "cell_type": "code",
      "source": [
        "reviews = pd.read_csv('/gdrive/My Drive/Colab Notebooks/Google Play Store Apps/google-play-store-apps/googleplaystore_user_reviews.csv')\n",
        "# store = pd.read_csv('/gdrive/My Drive/Colab Notebooks/Google Play Store Apps/google-play-store-apps/googleplaystore.csv')"
      ],
      "execution_count": 0,
      "outputs": []
    },
    {
      "metadata": {
        "id": "_XpoAyf2rFaL",
        "colab_type": "text"
      },
      "cell_type": "markdown",
      "source": [
        "### Let's look at some properties of the datasets..."
      ]
    },
    {
      "metadata": {
        "id": "rz_LftjrQoZh",
        "colab_type": "code",
        "outputId": "1c068e63-e8e8-4b69-b76b-79da7c1bc809",
        "colab": {
          "base_uri": "https://localhost:8080/",
          "height": 187
        }
      },
      "cell_type": "code",
      "source": [
        "reviews.info()"
      ],
      "execution_count": 4,
      "outputs": [
        {
          "output_type": "stream",
          "text": [
            "<class 'pandas.core.frame.DataFrame'>\n",
            "RangeIndex: 64295 entries, 0 to 64294\n",
            "Data columns (total 5 columns):\n",
            "App                       64295 non-null object\n",
            "Translated_Review         37427 non-null object\n",
            "Sentiment                 37432 non-null object\n",
            "Sentiment_Polarity        37432 non-null float64\n",
            "Sentiment_Subjectivity    37432 non-null float64\n",
            "dtypes: float64(2), object(3)\n",
            "memory usage: 2.5+ MB\n"
          ],
          "name": "stdout"
        }
      ]
    },
    {
      "metadata": {
        "id": "sOa-KMef4FJo",
        "colab_type": "code",
        "outputId": "d4c5ce54-4be4-4b7e-bd81-e7c44b73923f",
        "colab": {
          "base_uri": "https://localhost:8080/",
          "height": 204
        }
      },
      "cell_type": "code",
      "source": [
        "reviews.head()"
      ],
      "execution_count": 5,
      "outputs": [
        {
          "output_type": "execute_result",
          "data": {
            "text/html": [
              "<div>\n",
              "<style scoped>\n",
              "    .dataframe tbody tr th:only-of-type {\n",
              "        vertical-align: middle;\n",
              "    }\n",
              "\n",
              "    .dataframe tbody tr th {\n",
              "        vertical-align: top;\n",
              "    }\n",
              "\n",
              "    .dataframe thead th {\n",
              "        text-align: right;\n",
              "    }\n",
              "</style>\n",
              "<table border=\"1\" class=\"dataframe\">\n",
              "  <thead>\n",
              "    <tr style=\"text-align: right;\">\n",
              "      <th></th>\n",
              "      <th>App</th>\n",
              "      <th>Translated_Review</th>\n",
              "      <th>Sentiment</th>\n",
              "      <th>Sentiment_Polarity</th>\n",
              "      <th>Sentiment_Subjectivity</th>\n",
              "    </tr>\n",
              "  </thead>\n",
              "  <tbody>\n",
              "    <tr>\n",
              "      <th>0</th>\n",
              "      <td>10 Best Foods for You</td>\n",
              "      <td>I like eat delicious food. That's I'm cooking ...</td>\n",
              "      <td>Positive</td>\n",
              "      <td>1.00</td>\n",
              "      <td>0.533333</td>\n",
              "    </tr>\n",
              "    <tr>\n",
              "      <th>1</th>\n",
              "      <td>10 Best Foods for You</td>\n",
              "      <td>This help eating healthy exercise regular basis</td>\n",
              "      <td>Positive</td>\n",
              "      <td>0.25</td>\n",
              "      <td>0.288462</td>\n",
              "    </tr>\n",
              "    <tr>\n",
              "      <th>2</th>\n",
              "      <td>10 Best Foods for You</td>\n",
              "      <td>NaN</td>\n",
              "      <td>NaN</td>\n",
              "      <td>NaN</td>\n",
              "      <td>NaN</td>\n",
              "    </tr>\n",
              "    <tr>\n",
              "      <th>3</th>\n",
              "      <td>10 Best Foods for You</td>\n",
              "      <td>Works great especially going grocery store</td>\n",
              "      <td>Positive</td>\n",
              "      <td>0.40</td>\n",
              "      <td>0.875000</td>\n",
              "    </tr>\n",
              "    <tr>\n",
              "      <th>4</th>\n",
              "      <td>10 Best Foods for You</td>\n",
              "      <td>Best idea us</td>\n",
              "      <td>Positive</td>\n",
              "      <td>1.00</td>\n",
              "      <td>0.300000</td>\n",
              "    </tr>\n",
              "  </tbody>\n",
              "</table>\n",
              "</div>"
            ],
            "text/plain": [
              "                     App                                  Translated_Review  \\\n",
              "0  10 Best Foods for You  I like eat delicious food. That's I'm cooking ...   \n",
              "1  10 Best Foods for You    This help eating healthy exercise regular basis   \n",
              "2  10 Best Foods for You                                                NaN   \n",
              "3  10 Best Foods for You         Works great especially going grocery store   \n",
              "4  10 Best Foods for You                                       Best idea us   \n",
              "\n",
              "  Sentiment  Sentiment_Polarity  Sentiment_Subjectivity  \n",
              "0  Positive                1.00                0.533333  \n",
              "1  Positive                0.25                0.288462  \n",
              "2       NaN                 NaN                     NaN  \n",
              "3  Positive                0.40                0.875000  \n",
              "4  Positive                1.00                0.300000  "
            ]
          },
          "metadata": {
            "tags": []
          },
          "execution_count": 5
        }
      ]
    },
    {
      "metadata": {
        "id": "jvkx_RlwUkcE",
        "colab_type": "code",
        "colab": {}
      },
      "cell_type": "code",
      "source": [
        "# store.info()"
      ],
      "execution_count": 0,
      "outputs": []
    },
    {
      "metadata": {
        "id": "wS9Q7j0OUrim",
        "colab_type": "code",
        "colab": {}
      },
      "cell_type": "code",
      "source": [
        "# store.head()"
      ],
      "execution_count": 0,
      "outputs": []
    },
    {
      "metadata": {
        "id": "yCN6ylBKUzMQ",
        "colab_type": "code",
        "outputId": "7f07f1ce-b3ce-4814-de2d-96206e765abf",
        "colab": {
          "base_uri": "https://localhost:8080/",
          "height": 59
        }
      },
      "cell_type": "code",
      "source": [
        "\"\"\"row = store.loc[store['Installs'] == 'Free']\n",
        "row = row.shift(1,axis='columns')\n",
        "row['App']=row['Category']\n",
        "row['Rating'] = row['Reviews']\n",
        "row['Category'] = np.nan\n",
        "row['Reviews'] = 19.0\n",
        "store.loc[store['Installs'] == 'Free'] = row\"\"\""
      ],
      "execution_count": 8,
      "outputs": [
        {
          "output_type": "execute_result",
          "data": {
            "text/plain": [
              "\"row = store.loc[store['Installs'] == 'Free']\\nrow = row.shift(1,axis='columns')\\nrow['App']=row['Category']\\nrow['Rating'] = row['Reviews']\\nrow['Category'] = np.nan\\nrow['Reviews'] = 19.0\\nstore.loc[store['Installs'] == 'Free'] = row\""
            ]
          },
          "metadata": {
            "tags": []
          },
          "execution_count": 8
        }
      ]
    },
    {
      "metadata": {
        "id": "Gs0YOOhk39I7",
        "colab_type": "code",
        "colab": {}
      },
      "cell_type": "code",
      "source": [
        "# store.Installs.value_counts()"
      ],
      "execution_count": 0,
      "outputs": []
    },
    {
      "metadata": {
        "id": "FIprNKHsqOu1",
        "colab_type": "code",
        "outputId": "b6102740-1c64-4e5d-e8f4-d979a600cece",
        "colab": {
          "base_uri": "https://localhost:8080/",
          "height": 59
        }
      },
      "cell_type": "code",
      "source": [
        "\"\"\"store['Installs'] = store['Installs'].map(lambda x: x.rstrip('+'))\n",
        "store['Installs'] = store['Installs'].str.replace(',', '').astype(float) \n",
        "store['Installs'].head()\"\"\""
      ],
      "execution_count": 10,
      "outputs": [
        {
          "output_type": "execute_result",
          "data": {
            "text/plain": [
              "\"store['Installs'] = store['Installs'].map(lambda x: x.rstrip('+'))\\nstore['Installs'] = store['Installs'].str.replace(',', '').astype(float) \\nstore['Installs'].head()\""
            ]
          },
          "metadata": {
            "tags": []
          },
          "execution_count": 10
        }
      ]
    },
    {
      "metadata": {
        "id": "jRtcN_N14vV3",
        "colab_type": "text"
      },
      "cell_type": "markdown",
      "source": [
        "### Change the 'Last Updated' column to a pandas datetime variable..."
      ]
    },
    {
      "metadata": {
        "id": "0JbnjrxxUzYi",
        "colab_type": "code",
        "colab": {}
      },
      "cell_type": "code",
      "source": [
        "# store['Last Updated'] = store['Last Updated'].apply(lambda x: datetime.strptime(x, '%B %d, %Y'))"
      ],
      "execution_count": 0,
      "outputs": []
    },
    {
      "metadata": {
        "id": "m3Zs7Fy5Uzm7",
        "colab_type": "code",
        "colab": {}
      },
      "cell_type": "code",
      "source": [
        "# merged = reviews.merge(store, how='left', on = 'App')\n",
        "# merged.head()"
      ],
      "execution_count": 0,
      "outputs": []
    },
    {
      "metadata": {
        "id": "wpeNs2uKBgbc",
        "colab_type": "code",
        "outputId": "3d565628-4ff6-4855-b942-40b534206404",
        "colab": {
          "base_uri": "https://localhost:8080/",
          "height": 85
        }
      },
      "cell_type": "code",
      "source": [
        "review_sentiment = reviews[['Translated_Review','Sentiment']].copy()\n",
        "review_sentiment.dropna(inplace=True)\n",
        "review_sentiment.drop_duplicates(subset = 'Translated_Review',inplace=True )\n",
        "review_sentiment.Sentiment.value_counts()"
      ],
      "execution_count": 13,
      "outputs": [
        {
          "output_type": "execute_result",
          "data": {
            "text/plain": [
              "Positive    17593\n",
              "Negative     6240\n",
              "Neutral      4161\n",
              "Name: Sentiment, dtype: int64"
            ]
          },
          "metadata": {
            "tags": []
          },
          "execution_count": 13
        }
      ]
    },
    {
      "metadata": {
        "id": "Uqgs3k3g5_ic",
        "colab_type": "text"
      },
      "cell_type": "markdown",
      "source": [
        "### Let's code the 'Sentiment' column using sklearn's OrdinalEncoder function...\n",
        "\n"
      ]
    },
    {
      "metadata": {
        "id": "rKmsXkFv5-4k",
        "colab_type": "code",
        "colab": {}
      },
      "cell_type": "code",
      "source": [
        "from sklearn.preprocessing import OrdinalEncoder\n",
        "\n",
        "sentiment = review_sentiment.Sentiment.values.reshape(-1,1)\n",
        "ordinal_encoder = OrdinalEncoder()\n",
        "sentiment_coded = ordinal_encoder.fit_transform(sentiment)\n",
        "sentiment_coded = sentiment_coded.reshape(27994,)\n"
      ],
      "execution_count": 0,
      "outputs": []
    },
    {
      "metadata": {
        "id": "k_2eRclgqEPI",
        "colab_type": "text"
      },
      "cell_type": "markdown",
      "source": [
        "### Let's do some data cleaning work on the app review text...."
      ]
    },
    {
      "metadata": {
        "id": "yFas1VWnqUWI",
        "colab_type": "code",
        "colab": {}
      },
      "cell_type": "code",
      "source": [
        "import re     # regular expression module\n",
        "\n",
        "first_text=review_sentiment.Translated_Review[0]\n",
        "text=re.sub(\"[^a-zA-Z]\",\" \",first_text) #changing characters with space\n",
        "text=text.lower()"
      ],
      "execution_count": 0,
      "outputs": []
    },
    {
      "metadata": {
        "id": "n6VXKqFzqdUG",
        "colab_type": "code",
        "outputId": "e7876e24-8fe7-40db-e9fb-4b12e32a02c7",
        "colab": {
          "base_uri": "https://localhost:8080/",
          "height": 51
        }
      },
      "cell_type": "code",
      "source": [
        "print(review_sentiment.Translated_Review[0]) #lets review of changings\n",
        "print(text)\n"
      ],
      "execution_count": 16,
      "outputs": [
        {
          "output_type": "stream",
          "text": [
            "I like eat delicious food. That's I'm cooking food myself, case \"10 Best Foods\" helps lot, also \"Best Before (Shelf Life)\"\n",
            "i like eat delicious food  that s i m cooking food myself  case     best foods  helps lot  also  best before  shelf life  \n"
          ],
          "name": "stdout"
        }
      ]
    },
    {
      "metadata": {
        "id": "CKcGx0BRrpXt",
        "colab_type": "text"
      },
      "cell_type": "markdown",
      "source": [
        "### Let's separate each word and then get rid of words that add no value to the review..."
      ]
    },
    {
      "metadata": {
        "id": "fkG_KUJAsz2z",
        "colab_type": "code",
        "outputId": "92733184-2856-493a-8384-bbb700004d03",
        "colab": {
          "base_uri": "https://localhost:8080/",
          "height": 85
        }
      },
      "cell_type": "code",
      "source": [
        "import nltk as nlp  # Natural Language ToolKit\n",
        "nlp.download('punkt')\n",
        "nlp.download('wordnet')\n",
        "\n",
        "from nltk.corpus import stopwords\n",
        "\n",
        "def ConvertTextString(text_string):\n",
        "  text=nlp.word_tokenize(text_string)         #separate all words\n",
        "  lemma=nlp.WordNetLemmatizer()\n",
        "  text=[lemma.lemmatize(i) for i in text]\n",
        "  text=\" \".join(text)\n",
        "  text_list.append(text)\n",
        "  return text_list"
      ],
      "execution_count": 17,
      "outputs": [
        {
          "output_type": "stream",
          "text": [
            "[nltk_data] Downloading package punkt to /root/nltk_data...\n",
            "[nltk_data]   Package punkt is already up-to-date!\n",
            "[nltk_data] Downloading package wordnet to /root/nltk_data...\n",
            "[nltk_data]   Package wordnet is already up-to-date!\n"
          ],
          "name": "stdout"
        }
      ]
    },
    {
      "metadata": {
        "id": "v9gP8-F-vMmz",
        "colab_type": "code",
        "outputId": "4f14d689-0d6e-44f6-fae5-45138eaf3fc8",
        "colab": {
          "base_uri": "https://localhost:8080/",
          "height": 212
        }
      },
      "cell_type": "code",
      "source": [
        "text_list = []\n",
        "\n",
        "for i in review_sentiment.Translated_Review:\n",
        "  ConvertTextString(i)\n",
        "  \n",
        "  \n",
        "text_list[:10]"
      ],
      "execution_count": 18,
      "outputs": [
        {
          "output_type": "execute_result",
          "data": {
            "text/plain": [
              "[\"I like eat delicious food . That 's I 'm cooking food myself , case `` 10 Best Foods '' help lot , also `` Best Before ( Shelf Life ) ''\",\n",
              " 'This help eating healthy exercise regular basis',\n",
              " 'Works great especially going grocery store',\n",
              " 'Best idea u',\n",
              " 'Best way',\n",
              " 'Amazing',\n",
              " 'Looking forward app ,',\n",
              " 'It helpful site ! It help food get !',\n",
              " 'good you .',\n",
              " 'Useful information The amount spelling error question validity information shared . Once fixed , 5 star given .']"
            ]
          },
          "metadata": {
            "tags": []
          },
          "execution_count": 18
        }
      ]
    },
    {
      "metadata": {
        "id": "bB2JrpoBwSjF",
        "colab_type": "text"
      },
      "cell_type": "markdown",
      "source": [
        "### Create a 'bag' of words..."
      ]
    },
    {
      "metadata": {
        "id": "p7aypWdywQ1y",
        "colab_type": "code",
        "colab": {}
      },
      "cell_type": "code",
      "source": [
        "from sklearn.feature_extraction.text import CountVectorizer\n",
        "\n",
        "max_features=200000\n",
        "count_vec=CountVectorizer(max_features=max_features,stop_words=\"english\")\n",
        "sparce_matrix=count_vec.fit_transform(text_list).toarray()\n",
        "# all_words=count_vec.get_feature_names()\n",
        "# print(\"Most used words: \",all_words[2000:2500])\n"
      ],
      "execution_count": 0,
      "outputs": []
    },
    {
      "metadata": {
        "id": "gT9xBWkoyR9W",
        "colab_type": "code",
        "outputId": "c974c8e1-d7bd-40eb-b4e9-f668180af839",
        "colab": {
          "base_uri": "https://localhost:8080/",
          "height": 59
        }
      },
      "cell_type": "code",
      "source": [
        "\"\"\"from wordcloud import WordCloud\n",
        "\n",
        "plt.subplots(figsize=(12,12))\n",
        "wordcloud=WordCloud(background_color=\"white\",width=1024,height=768).generate(\" \".join(all_words[2000:2500]))\n",
        "plt.imshow(wordcloud)\n",
        "plt.axis(\"off\")\n",
        "plt.show()\"\"\""
      ],
      "execution_count": 22,
      "outputs": [
        {
          "output_type": "execute_result",
          "data": {
            "text/plain": [
              "'from wordcloud import WordCloud\\n\\nplt.subplots(figsize=(12,12))\\nwordcloud=WordCloud(background_color=\"white\",width=1024,height=768).generate(\" \".join(all_words[2000:2500]))\\nplt.imshow(wordcloud)\\nplt.axis(\"off\")\\nplt.show()'"
            ]
          },
          "metadata": {
            "tags": []
          },
          "execution_count": 22
        }
      ]
    },
    {
      "metadata": {
        "id": "nmCYkNl7BIoH",
        "colab_type": "code",
        "outputId": "556588ee-a5f8-43ee-9286-04004dd77f62",
        "colab": {
          "base_uri": "https://localhost:8080/",
          "height": 51
        }
      },
      "cell_type": "code",
      "source": [
        "#classification\n",
        "\n",
        "y = sentiment_coded\n",
        "x=sparce_matrix\n",
        "\n",
        "from sklearn.model_selection import train_test_split\n",
        "\n",
        "x_train,x_test,y_train,y_test=train_test_split(x,y,test_size=0.2,random_state=42)\n",
        "print(type(x_train),type(x_test),type(y_train),type(y_test))\n",
        "x_train.shape,x_test.shape,y_train.shape,y_test.shape"
      ],
      "execution_count": 23,
      "outputs": [
        {
          "output_type": "stream",
          "text": [
            "<class 'numpy.ndarray'> <class 'numpy.ndarray'> <class 'numpy.ndarray'> <class 'numpy.ndarray'>\n"
          ],
          "name": "stdout"
        },
        {
          "output_type": "execute_result",
          "data": {
            "text/plain": [
              "((22395, 19345), (5599, 19345), (22395,), (5599,))"
            ]
          },
          "metadata": {
            "tags": []
          },
          "execution_count": 23
        }
      ]
    },
    {
      "metadata": {
        "id": "7U-CqMj7UIOk",
        "colab_type": "text"
      },
      "cell_type": "markdown",
      "source": [
        "### Let's try a Support Vector Machine (SVM) algorithm...we will train on the first 3000 samples to conserve computation time and memory."
      ]
    },
    {
      "metadata": {
        "id": "_exjxxNOOIVt",
        "colab_type": "code",
        "outputId": "a879b159-3210-4b44-d3f3-94e6158e3cae",
        "colab": {
          "base_uri": "https://localhost:8080/",
          "height": 85
        }
      },
      "cell_type": "code",
      "source": [
        "from sklearn.svm import SVC\n",
        "\n",
        "svm_clf = SVC(decision_function_shape=\"ovr\", gamma=\"auto\")\n",
        "svm_clf.fit(x_train[:3000], y_train[:3000])"
      ],
      "execution_count": 24,
      "outputs": [
        {
          "output_type": "execute_result",
          "data": {
            "text/plain": [
              "SVC(C=1.0, cache_size=200, class_weight=None, coef0=0.0,\n",
              "  decision_function_shape='ovr', degree=3, gamma='auto', kernel='rbf',\n",
              "  max_iter=-1, probability=False, random_state=None, shrinking=True,\n",
              "  tol=0.001, verbose=False)"
            ]
          },
          "metadata": {
            "tags": []
          },
          "execution_count": 24
        }
      ]
    },
    {
      "metadata": {
        "id": "dCUbp-1aVlds",
        "colab_type": "code",
        "outputId": "b6508748-ab6d-4bbc-8391-3cd04a88abb0",
        "colab": {
          "base_uri": "https://localhost:8080/",
          "height": 34
        }
      },
      "cell_type": "code",
      "source": [
        "print(\"SVM train set accuracy: \",svm_clf.score(x_train[:3000],y_train[:3000]))"
      ],
      "execution_count": 25,
      "outputs": [
        {
          "output_type": "stream",
          "text": [
            "SVM train set accuracy:  0.623\n"
          ],
          "name": "stdout"
        }
      ]
    },
    {
      "metadata": {
        "id": "-e0bqMr7Vv6P",
        "colab_type": "code",
        "outputId": "e7441d9f-5f14-431b-a011-1851828188ac",
        "colab": {
          "base_uri": "https://localhost:8080/",
          "height": 34
        }
      },
      "cell_type": "code",
      "source": [
        "print(\"SVM test set accuracy: \",svm_clf.score(x_test,y_test))"
      ],
      "execution_count": 26,
      "outputs": [
        {
          "output_type": "stream",
          "text": [
            "SVM test set accuracy:  0.6301125200928738\n"
          ],
          "name": "stdout"
        }
      ]
    },
    {
      "metadata": {
        "id": "XLWUwalNeHQ-",
        "colab_type": "code",
        "colab": {}
      },
      "cell_type": "code",
      "source": [
        "y_pred = svm_clf.predict(x_test)\n",
        "# y_pred = y_pred.argmax(axis=1)\n",
        "y_true = y_test\n",
        "\n",
        "from sklearn.metrics import confusion_matrix\n",
        "import seaborn as sns\n",
        "\n",
        "names=[\"Positive\",\"Negative\",\"Neutral\"]\n",
        "cm=confusion_matrix(y_true,y_pred)\n",
        "f,ax=plt.subplots(figsize=(5,5))\n",
        "sns.heatmap(cm,annot=True,linewidth=.5,linecolor=\"r\",fmt=\".0f\",ax=ax)\n",
        "plt.xlabel(\"y_pred\")\n",
        "plt.ylabel(\"y_true\")\n",
        "ax.set_xticklabels(names)\n",
        "ax.set_yticklabels(names)\n",
        "plt.show()"
      ],
      "execution_count": 0,
      "outputs": []
    },
    {
      "metadata": {
        "id": "5ehyURbnIZlu",
        "colab_type": "code",
        "colab": {}
      },
      "cell_type": "code",
      "source": [
        "from sklearn.metrics import classification_report\n",
        "print(classification_report(y_true, y_pred))"
      ],
      "execution_count": 0,
      "outputs": []
    },
    {
      "metadata": {
        "id": "h5O8GtyjXFut",
        "colab_type": "text"
      },
      "cell_type": "markdown",
      "source": [
        "### Let's do a GridSearchCV varying the value of C, the penalty parameter. To avoid memory overrun errors, we will do the search using the first 10000 samples of the training set."
      ]
    },
    {
      "metadata": {
        "id": "o8jWycGVCmjg",
        "colab_type": "code",
        "colab": {}
      },
      "cell_type": "code",
      "source": [
        "from sklearn.model_selection import GridSearchCV\n",
        "from scipy.stats import randint\n",
        "from sklearn.metrics import make_scorer,accuracy_score\n",
        "\n",
        "score = make_scorer(accuracy_score)\n",
        "\n",
        "param_grid = [{'C': [.01,.025,.05,.075,.1,.25,.5,.75]}]\n",
        "    \n",
        "\n",
        "grid_search = GridSearchCV(svm_clf, param_grid,cv=5, scoring=score)\n",
        "grid_search.fit(x_train[:10000], y_train[:10000])"
      ],
      "execution_count": 0,
      "outputs": []
    },
    {
      "metadata": {
        "id": "-NcHU-r2VSu_",
        "colab_type": "text"
      },
      "cell_type": "markdown",
      "source": [
        "### Let's find out which value of C provided the best score..."
      ]
    },
    {
      "metadata": {
        "id": "sXuMeVLMUFAG",
        "colab_type": "code",
        "colab": {}
      },
      "cell_type": "code",
      "source": [
        "grid_search.best_params_"
      ],
      "execution_count": 0,
      "outputs": []
    },
    {
      "metadata": {
        "id": "blNGhW-KUZr2",
        "colab_type": "code",
        "colab": {}
      },
      "cell_type": "code",
      "source": [
        "from sklearn.svm import LinearSVC\n",
        "\n",
        "svm_clf = LinearSVC(C=0.25, random_state=42)\n",
        "svm_clf.fit(x_train,y_train)"
      ],
      "execution_count": 0,
      "outputs": []
    },
    {
      "metadata": {
        "id": "bV04UFvJVeYw",
        "colab_type": "text"
      },
      "cell_type": "markdown",
      "source": [
        "### We then retrain the Linear SVC model on the training set using C=0.25."
      ]
    },
    {
      "metadata": {
        "id": "ihVHnSPIUmEo",
        "colab_type": "code",
        "colab": {}
      },
      "cell_type": "code",
      "source": [
        "print(\"Linear SVC train set accuracy: \",svm_clf.score(x_train,y_train))"
      ],
      "execution_count": 0,
      "outputs": []
    },
    {
      "metadata": {
        "id": "61F_Hcd7Ur2p",
        "colab_type": "code",
        "colab": {}
      },
      "cell_type": "code",
      "source": [
        "print(\"Linear SVC test set accuracy: \",svm_clf.score(x_test,y_test))"
      ],
      "execution_count": 0,
      "outputs": []
    },
    {
      "metadata": {
        "id": "ny-bCGTrVwK7",
        "colab_type": "text"
      },
      "cell_type": "markdown",
      "source": [
        "### The tuned Linear SVC algorithm provides us with 88.5 percent accuracy on the test set.  This is probably the best we will be able to achieve with a  linearized model."
      ]
    },
    {
      "metadata": {
        "id": "EYZfynxoWKeu",
        "colab_type": "code",
        "colab": {}
      },
      "cell_type": "code",
      "source": [
        "y_pred = svm_clf.predict(x_test)\n",
        "# y_pred = y_pred.argmax(axis=1)\n",
        "y_true = y_test\n",
        "\n",
        "from sklearn.metrics import confusion_matrix\n",
        "import seaborn as sns\n",
        "\n",
        "names=[\"Positive\",\"Negative\",\"Neutral\"]\n",
        "cm=confusion_matrix(y_true,y_pred)\n",
        "f,ax=plt.subplots(figsize=(5,5))\n",
        "sns.heatmap(cm,annot=True,linewidth=.5,linecolor=\"r\",fmt=\".0f\",ax=ax)\n",
        "plt.xlabel(\"y_pred\")\n",
        "plt.ylabel(\"y_true\")\n",
        "ax.set_xticklabels(names)\n",
        "ax.set_yticklabels(names)\n",
        "plt.show()"
      ],
      "execution_count": 0,
      "outputs": []
    },
    {
      "metadata": {
        "id": "ot6SA3iRWUYn",
        "colab_type": "code",
        "colab": {}
      },
      "cell_type": "code",
      "source": [
        "print(classification_report(y_true, y_pred))"
      ],
      "execution_count": 0,
      "outputs": []
    }
  ]
}