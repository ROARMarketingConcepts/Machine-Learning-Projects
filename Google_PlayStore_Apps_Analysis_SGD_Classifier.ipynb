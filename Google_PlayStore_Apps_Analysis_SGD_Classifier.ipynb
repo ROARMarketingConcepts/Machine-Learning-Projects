{
  "nbformat": 4,
  "nbformat_minor": 0,
  "metadata": {
    "colab": {
      "name": "Google PlayStore Apps Analysis - SGD Classifier.ipynb",
      "version": "0.3.2",
      "provenance": [],
      "collapsed_sections": [],
      "include_colab_link": true
    },
    "kernelspec": {
      "name": "python3",
      "display_name": "Python 3"
    },
    "accelerator": "TPU"
  },
  "cells": [
    {
      "cell_type": "markdown",
      "metadata": {
        "id": "view-in-github",
        "colab_type": "text"
      },
      "source": [
        "<a href=\"https://colab.research.google.com/github/ROARMarketingConcepts/Machine-Learning-Projects/blob/master/Google_PlayStore_Apps_Analysis_SGD_Classifier.ipynb\" target=\"_parent\"><img src=\"https://colab.research.google.com/assets/colab-badge.svg\" alt=\"Open In Colab\"/></a>"
      ]
    },
    {
      "metadata": {
        "id": "xrdB4Pvew0ah",
        "colab_type": "text"
      },
      "cell_type": "markdown",
      "source": [
        "##Google PlayStore Apps Analysis\n",
        "\n",
        "### Using a Stochastic Gradient Descent (SGD) Classifier algorithm to predict the sentiments (Positive, Neutral, Negative) of Google PlayStore App user reviews.\n",
        "\n",
        "Performed by\n",
        "Ken Wood\n",
        "\n",
        "ROAR Marketing Concepts LLC\n",
        "\n",
        "ken@roarmarketingconcepts.com\n"
      ]
    },
    {
      "metadata": {
        "id": "Q_Brip-8tdjE",
        "colab_type": "text"
      },
      "cell_type": "markdown",
      "source": [
        "### Content\n",
        "\n",
        "Each app (row) has values for catergory, rating, size, and more.\n",
        "\n",
        "### Acknowledgements\n",
        "\n",
        "This information is scraped from the Google Play Store. This app information would not be available without it.\n",
        "\n",
        "### Inspiration\n",
        "\n",
        "The Play Store apps data has enormous potential to drive app-making businesses to success. Actionable insights can be drawn for developers to work on and capture the Android market!"
      ]
    },
    {
      "metadata": {
        "id": "9ALCkfYuqrTZ",
        "colab_type": "text"
      },
      "cell_type": "markdown",
      "source": [
        "### Mount the Google Drive where the datasets are located..."
      ]
    },
    {
      "metadata": {
        "id": "JyLPUciaJavv",
        "colab_type": "code",
        "outputId": "0b84682a-d721-4f6b-b5e2-7277bf6b86e3",
        "colab": {
          "base_uri": "https://localhost:8080/",
          "height": 34
        }
      },
      "cell_type": "code",
      "source": [
        "from google.colab import drive\n",
        "drive.mount('/gdrive')"
      ],
      "execution_count": 1,
      "outputs": [
        {
          "output_type": "stream",
          "text": [
            "Drive already mounted at /gdrive; to attempt to forcibly remount, call drive.mount(\"/gdrive\", force_remount=True).\n"
          ],
          "name": "stdout"
        }
      ]
    },
    {
      "metadata": {
        "id": "CaqrF3-Zq2PC",
        "colab_type": "text"
      },
      "cell_type": "markdown",
      "source": [
        "### Install some necessary packages to perform the required analysis..."
      ]
    },
    {
      "metadata": {
        "id": "fXW19Ug6MF-W",
        "colab_type": "code",
        "outputId": "81e05ea9-95d3-481c-f0f5-446c763c520e",
        "colab": {
          "base_uri": "https://localhost:8080/",
          "height": 167
        }
      },
      "cell_type": "code",
      "source": [
        "!pip install -U scikit-learn\n",
        "!pip install --user --upgrade tables\n",
        "\n",
        "import numpy as np\n",
        "import pandas as pd\n",
        "import matplotlib.pyplot as plt\n",
        "import seaborn as sns\n",
        "\n",
        "from datetime import datetime, date\n",
        "from dateutil.relativedelta import relativedelta\n",
        "\n",
        "from sklearn.preprocessing import StandardScaler\n",
        "\n",
        "from math import ceil\n",
        "\n",
        "from keras.callbacks import LambdaCallback\n",
        "from keras.models import Sequential\n",
        "from keras.layers import Dense, Activation\n",
        "from keras.layers import LSTM\n",
        "from keras.optimizers import RMSprop\n",
        "\n",
        "%matplotlib inline\n",
        "\n",
        "# Ignore useless warnings (see SciPy issue #5998)\n",
        "import warnings\n",
        "warnings.filterwarnings(action=\"ignore\", message=\"^internal gelsd\")"
      ],
      "execution_count": 2,
      "outputs": [
        {
          "output_type": "stream",
          "text": [
            "Requirement already up-to-date: scikit-learn in /usr/local/lib/python3.6/dist-packages (0.20.2)\n",
            "Requirement already satisfied, skipping upgrade: numpy>=1.8.2 in /usr/local/lib/python3.6/dist-packages (from scikit-learn) (1.14.6)\n",
            "Requirement already satisfied, skipping upgrade: scipy>=0.13.3 in /usr/local/lib/python3.6/dist-packages (from scikit-learn) (1.1.0)\n",
            "Requirement already up-to-date: tables in /usr/local/lib/python3.6/dist-packages (3.4.4)\n",
            "Requirement already satisfied, skipping upgrade: numexpr>=2.5.2 in /usr/local/lib/python3.6/dist-packages (from tables) (2.6.9)\n",
            "Requirement already satisfied, skipping upgrade: six>=1.9.0 in /usr/local/lib/python3.6/dist-packages (from tables) (1.11.0)\n",
            "Requirement already satisfied, skipping upgrade: numpy>=1.8.0 in /usr/local/lib/python3.6/dist-packages (from tables) (1.14.6)\n"
          ],
          "name": "stdout"
        },
        {
          "output_type": "stream",
          "text": [
            "Using TensorFlow backend.\n"
          ],
          "name": "stderr"
        }
      ]
    },
    {
      "metadata": {
        "id": "YsUIKTNDq_JY",
        "colab_type": "text"
      },
      "cell_type": "markdown",
      "source": [
        "### Load the datasets.."
      ]
    },
    {
      "metadata": {
        "id": "RpQYnzQpMOTm",
        "colab_type": "code",
        "colab": {}
      },
      "cell_type": "code",
      "source": [
        "reviews = pd.read_csv('/gdrive/My Drive/Colab Notebooks/Google Play Store Apps/google-play-store-apps/googleplaystore_user_reviews.csv')\n",
        "# store = pd.read_csv('/gdrive/My Drive/Colab Notebooks/Google Play Store Apps/google-play-store-apps/googleplaystore.csv')"
      ],
      "execution_count": 0,
      "outputs": []
    },
    {
      "metadata": {
        "id": "_XpoAyf2rFaL",
        "colab_type": "text"
      },
      "cell_type": "markdown",
      "source": [
        "### Let's look at some properties of the datasets..."
      ]
    },
    {
      "metadata": {
        "id": "rz_LftjrQoZh",
        "colab_type": "code",
        "outputId": "8681b751-14da-46d3-fbf8-ca1ee1ad87bc",
        "colab": {
          "base_uri": "https://localhost:8080/",
          "height": 187
        }
      },
      "cell_type": "code",
      "source": [
        "reviews.info()"
      ],
      "execution_count": 4,
      "outputs": [
        {
          "output_type": "stream",
          "text": [
            "<class 'pandas.core.frame.DataFrame'>\n",
            "RangeIndex: 64295 entries, 0 to 64294\n",
            "Data columns (total 5 columns):\n",
            "App                       64295 non-null object\n",
            "Translated_Review         37427 non-null object\n",
            "Sentiment                 37432 non-null object\n",
            "Sentiment_Polarity        37432 non-null float64\n",
            "Sentiment_Subjectivity    37432 non-null float64\n",
            "dtypes: float64(2), object(3)\n",
            "memory usage: 2.5+ MB\n"
          ],
          "name": "stdout"
        }
      ]
    },
    {
      "metadata": {
        "id": "sOa-KMef4FJo",
        "colab_type": "code",
        "outputId": "6005d7b5-78df-4e16-dd26-d81e9c9f3ff3",
        "colab": {
          "base_uri": "https://localhost:8080/",
          "height": 204
        }
      },
      "cell_type": "code",
      "source": [
        "reviews.head()"
      ],
      "execution_count": 5,
      "outputs": [
        {
          "output_type": "execute_result",
          "data": {
            "text/html": [
              "<div>\n",
              "<style scoped>\n",
              "    .dataframe tbody tr th:only-of-type {\n",
              "        vertical-align: middle;\n",
              "    }\n",
              "\n",
              "    .dataframe tbody tr th {\n",
              "        vertical-align: top;\n",
              "    }\n",
              "\n",
              "    .dataframe thead th {\n",
              "        text-align: right;\n",
              "    }\n",
              "</style>\n",
              "<table border=\"1\" class=\"dataframe\">\n",
              "  <thead>\n",
              "    <tr style=\"text-align: right;\">\n",
              "      <th></th>\n",
              "      <th>App</th>\n",
              "      <th>Translated_Review</th>\n",
              "      <th>Sentiment</th>\n",
              "      <th>Sentiment_Polarity</th>\n",
              "      <th>Sentiment_Subjectivity</th>\n",
              "    </tr>\n",
              "  </thead>\n",
              "  <tbody>\n",
              "    <tr>\n",
              "      <th>0</th>\n",
              "      <td>10 Best Foods for You</td>\n",
              "      <td>I like eat delicious food. That's I'm cooking ...</td>\n",
              "      <td>Positive</td>\n",
              "      <td>1.00</td>\n",
              "      <td>0.533333</td>\n",
              "    </tr>\n",
              "    <tr>\n",
              "      <th>1</th>\n",
              "      <td>10 Best Foods for You</td>\n",
              "      <td>This help eating healthy exercise regular basis</td>\n",
              "      <td>Positive</td>\n",
              "      <td>0.25</td>\n",
              "      <td>0.288462</td>\n",
              "    </tr>\n",
              "    <tr>\n",
              "      <th>2</th>\n",
              "      <td>10 Best Foods for You</td>\n",
              "      <td>NaN</td>\n",
              "      <td>NaN</td>\n",
              "      <td>NaN</td>\n",
              "      <td>NaN</td>\n",
              "    </tr>\n",
              "    <tr>\n",
              "      <th>3</th>\n",
              "      <td>10 Best Foods for You</td>\n",
              "      <td>Works great especially going grocery store</td>\n",
              "      <td>Positive</td>\n",
              "      <td>0.40</td>\n",
              "      <td>0.875000</td>\n",
              "    </tr>\n",
              "    <tr>\n",
              "      <th>4</th>\n",
              "      <td>10 Best Foods for You</td>\n",
              "      <td>Best idea us</td>\n",
              "      <td>Positive</td>\n",
              "      <td>1.00</td>\n",
              "      <td>0.300000</td>\n",
              "    </tr>\n",
              "  </tbody>\n",
              "</table>\n",
              "</div>"
            ],
            "text/plain": [
              "                     App                                  Translated_Review  \\\n",
              "0  10 Best Foods for You  I like eat delicious food. That's I'm cooking ...   \n",
              "1  10 Best Foods for You    This help eating healthy exercise regular basis   \n",
              "2  10 Best Foods for You                                                NaN   \n",
              "3  10 Best Foods for You         Works great especially going grocery store   \n",
              "4  10 Best Foods for You                                       Best idea us   \n",
              "\n",
              "  Sentiment  Sentiment_Polarity  Sentiment_Subjectivity  \n",
              "0  Positive                1.00                0.533333  \n",
              "1  Positive                0.25                0.288462  \n",
              "2       NaN                 NaN                     NaN  \n",
              "3  Positive                0.40                0.875000  \n",
              "4  Positive                1.00                0.300000  "
            ]
          },
          "metadata": {
            "tags": []
          },
          "execution_count": 5
        }
      ]
    },
    {
      "metadata": {
        "id": "jvkx_RlwUkcE",
        "colab_type": "code",
        "colab": {}
      },
      "cell_type": "code",
      "source": [
        "# store.info()"
      ],
      "execution_count": 0,
      "outputs": []
    },
    {
      "metadata": {
        "id": "wS9Q7j0OUrim",
        "colab_type": "code",
        "colab": {}
      },
      "cell_type": "code",
      "source": [
        "# store.head()"
      ],
      "execution_count": 0,
      "outputs": []
    },
    {
      "metadata": {
        "id": "yCN6ylBKUzMQ",
        "colab_type": "code",
        "outputId": "513e8aab-ebec-49e1-ac27-7abc87b218f9",
        "colab": {
          "base_uri": "https://localhost:8080/",
          "height": 59
        }
      },
      "cell_type": "code",
      "source": [
        "\"\"\"row = store.loc[store['Installs'] == 'Free']\n",
        "row = row.shift(1,axis='columns')\n",
        "row['App']=row['Category']\n",
        "row['Rating'] = row['Reviews']\n",
        "row['Category'] = np.nan\n",
        "row['Reviews'] = 19.0\n",
        "store.loc[store['Installs'] == 'Free'] = row\"\"\""
      ],
      "execution_count": 8,
      "outputs": [
        {
          "output_type": "execute_result",
          "data": {
            "text/plain": [
              "\"row = store.loc[store['Installs'] == 'Free']\\nrow = row.shift(1,axis='columns')\\nrow['App']=row['Category']\\nrow['Rating'] = row['Reviews']\\nrow['Category'] = np.nan\\nrow['Reviews'] = 19.0\\nstore.loc[store['Installs'] == 'Free'] = row\""
            ]
          },
          "metadata": {
            "tags": []
          },
          "execution_count": 8
        }
      ]
    },
    {
      "metadata": {
        "id": "Gs0YOOhk39I7",
        "colab_type": "code",
        "colab": {}
      },
      "cell_type": "code",
      "source": [
        "# store.Installs.value_counts()"
      ],
      "execution_count": 0,
      "outputs": []
    },
    {
      "metadata": {
        "id": "FIprNKHsqOu1",
        "colab_type": "code",
        "outputId": "50a1dd7b-9f2d-400b-d328-8f16dac5821e",
        "colab": {
          "base_uri": "https://localhost:8080/",
          "height": 59
        }
      },
      "cell_type": "code",
      "source": [
        "\"\"\"store['Installs'] = store['Installs'].map(lambda x: x.rstrip('+'))\n",
        "store['Installs'] = store['Installs'].str.replace(',', '').astype(float) \n",
        "store['Installs'].head()\"\"\""
      ],
      "execution_count": 10,
      "outputs": [
        {
          "output_type": "execute_result",
          "data": {
            "text/plain": [
              "\"store['Installs'] = store['Installs'].map(lambda x: x.rstrip('+'))\\nstore['Installs'] = store['Installs'].str.replace(',', '').astype(float) \\nstore['Installs'].head()\""
            ]
          },
          "metadata": {
            "tags": []
          },
          "execution_count": 10
        }
      ]
    },
    {
      "metadata": {
        "id": "jRtcN_N14vV3",
        "colab_type": "text"
      },
      "cell_type": "markdown",
      "source": [
        "### Change the 'Last Updated' column to a pandas datetime variable..."
      ]
    },
    {
      "metadata": {
        "id": "0JbnjrxxUzYi",
        "colab_type": "code",
        "colab": {}
      },
      "cell_type": "code",
      "source": [
        "# store['Last Updated'] = store['Last Updated'].apply(lambda x: datetime.strptime(x, '%B %d, %Y'))"
      ],
      "execution_count": 0,
      "outputs": []
    },
    {
      "metadata": {
        "id": "m3Zs7Fy5Uzm7",
        "colab_type": "code",
        "colab": {}
      },
      "cell_type": "code",
      "source": [
        "# merged = reviews.merge(store, how='left', on = 'App')\n",
        "# merged.head()"
      ],
      "execution_count": 0,
      "outputs": []
    },
    {
      "metadata": {
        "id": "wpeNs2uKBgbc",
        "colab_type": "code",
        "outputId": "4d9279ea-201d-499a-ea8f-9070eefafac6",
        "colab": {
          "base_uri": "https://localhost:8080/",
          "height": 85
        }
      },
      "cell_type": "code",
      "source": [
        "review_sentiment = reviews[['Translated_Review','Sentiment']].copy()\n",
        "review_sentiment.dropna(inplace=True)\n",
        "review_sentiment.drop_duplicates(subset = 'Translated_Review',inplace=True )\n",
        "review_sentiment.Sentiment.value_counts()"
      ],
      "execution_count": 13,
      "outputs": [
        {
          "output_type": "execute_result",
          "data": {
            "text/plain": [
              "Positive    17593\n",
              "Negative     6240\n",
              "Neutral      4161\n",
              "Name: Sentiment, dtype: int64"
            ]
          },
          "metadata": {
            "tags": []
          },
          "execution_count": 13
        }
      ]
    },
    {
      "metadata": {
        "id": "Uqgs3k3g5_ic",
        "colab_type": "text"
      },
      "cell_type": "markdown",
      "source": [
        "### Let's code the 'Sentiment' column using sklearn's OrdinalEncoder function...\n",
        "\n"
      ]
    },
    {
      "metadata": {
        "id": "rKmsXkFv5-4k",
        "colab_type": "code",
        "colab": {}
      },
      "cell_type": "code",
      "source": [
        "from sklearn.preprocessing import OrdinalEncoder\n",
        "\n",
        "sentiment = review_sentiment.Sentiment.values.reshape(-1,1)\n",
        "ordinal_encoder = OrdinalEncoder()\n",
        "sentiment_coded = ordinal_encoder.fit_transform(sentiment)\n",
        "sentiment_coded = sentiment_coded.reshape(27994,)\n"
      ],
      "execution_count": 0,
      "outputs": []
    },
    {
      "metadata": {
        "id": "k_2eRclgqEPI",
        "colab_type": "text"
      },
      "cell_type": "markdown",
      "source": [
        "### Let's do some data cleaning work on the app review text...."
      ]
    },
    {
      "metadata": {
        "id": "yFas1VWnqUWI",
        "colab_type": "code",
        "colab": {}
      },
      "cell_type": "code",
      "source": [
        "import re     # regular expression module\n",
        "\n",
        "first_text=review_sentiment.Translated_Review[0]\n",
        "text=re.sub(\"[^a-zA-Z]\",\" \",first_text) #changing characters with space\n",
        "text=text.lower()"
      ],
      "execution_count": 0,
      "outputs": []
    },
    {
      "metadata": {
        "id": "n6VXKqFzqdUG",
        "colab_type": "code",
        "outputId": "f64f20dc-3231-4328-f181-5f1e25c88ea0",
        "colab": {
          "base_uri": "https://localhost:8080/",
          "height": 51
        }
      },
      "cell_type": "code",
      "source": [
        "print(review_sentiment.Translated_Review[0]) #lets review of changings\n",
        "print(text)\n"
      ],
      "execution_count": 16,
      "outputs": [
        {
          "output_type": "stream",
          "text": [
            "I like eat delicious food. That's I'm cooking food myself, case \"10 Best Foods\" helps lot, also \"Best Before (Shelf Life)\"\n",
            "i like eat delicious food  that s i m cooking food myself  case     best foods  helps lot  also  best before  shelf life  \n"
          ],
          "name": "stdout"
        }
      ]
    },
    {
      "metadata": {
        "id": "CKcGx0BRrpXt",
        "colab_type": "text"
      },
      "cell_type": "markdown",
      "source": [
        "### Let's separate each word and then get rid of words that add no value to the review..."
      ]
    },
    {
      "metadata": {
        "id": "fkG_KUJAsz2z",
        "colab_type": "code",
        "outputId": "71b37225-4304-4904-8d96-cfef272fe70a",
        "colab": {
          "base_uri": "https://localhost:8080/",
          "height": 85
        }
      },
      "cell_type": "code",
      "source": [
        "import nltk as nlp  # Natural Language ToolKit\n",
        "nlp.download('punkt')\n",
        "nlp.download('wordnet')\n",
        "\n",
        "from nltk.corpus import stopwords\n",
        "\n",
        "def ConvertTextString(text_string):\n",
        "  text=nlp.word_tokenize(text_string)         #separate all words\n",
        "  lemma=nlp.WordNetLemmatizer()\n",
        "  text=[lemma.lemmatize(i) for i in text]\n",
        "  text=\" \".join(text)\n",
        "  text_list.append(text)\n",
        "  return text_list"
      ],
      "execution_count": 17,
      "outputs": [
        {
          "output_type": "stream",
          "text": [
            "[nltk_data] Downloading package punkt to /root/nltk_data...\n",
            "[nltk_data]   Package punkt is already up-to-date!\n",
            "[nltk_data] Downloading package wordnet to /root/nltk_data...\n",
            "[nltk_data]   Package wordnet is already up-to-date!\n"
          ],
          "name": "stdout"
        }
      ]
    },
    {
      "metadata": {
        "id": "v9gP8-F-vMmz",
        "colab_type": "code",
        "outputId": "49f6875c-cbc1-4b04-ca30-6ac7218a38e7",
        "colab": {
          "base_uri": "https://localhost:8080/",
          "height": 212
        }
      },
      "cell_type": "code",
      "source": [
        "text_list = []\n",
        "\n",
        "for i in review_sentiment.Translated_Review:\n",
        "  ConvertTextString(i)\n",
        "  \n",
        "  \n",
        "text_list[:10]"
      ],
      "execution_count": 18,
      "outputs": [
        {
          "output_type": "execute_result",
          "data": {
            "text/plain": [
              "[\"I like eat delicious food . That 's I 'm cooking food myself , case `` 10 Best Foods '' help lot , also `` Best Before ( Shelf Life ) ''\",\n",
              " 'This help eating healthy exercise regular basis',\n",
              " 'Works great especially going grocery store',\n",
              " 'Best idea u',\n",
              " 'Best way',\n",
              " 'Amazing',\n",
              " 'Looking forward app ,',\n",
              " 'It helpful site ! It help food get !',\n",
              " 'good you .',\n",
              " 'Useful information The amount spelling error question validity information shared . Once fixed , 5 star given .']"
            ]
          },
          "metadata": {
            "tags": []
          },
          "execution_count": 18
        }
      ]
    },
    {
      "metadata": {
        "id": "bB2JrpoBwSjF",
        "colab_type": "text"
      },
      "cell_type": "markdown",
      "source": [
        "### Create a 'bag' of words..."
      ]
    },
    {
      "metadata": {
        "id": "p7aypWdywQ1y",
        "colab_type": "code",
        "colab": {}
      },
      "cell_type": "code",
      "source": [
        "from sklearn.feature_extraction.text import CountVectorizer\n",
        "\n",
        "max_features=200000\n",
        "count_vec=CountVectorizer(max_features=max_features,stop_words=\"english\")\n",
        "sparce_matrix=count_vec.fit_transform(text_list).toarray()\n",
        "# all_words=count_vec.get_feature_names()\n",
        "# print(\"Most used words: \",all_words[2000:2500])\n"
      ],
      "execution_count": 0,
      "outputs": []
    },
    {
      "metadata": {
        "id": "gT9xBWkoyR9W",
        "colab_type": "code",
        "outputId": "f76dbb2e-007d-4f41-bedc-6a719bb8919e",
        "colab": {
          "base_uri": "https://localhost:8080/",
          "height": 59
        }
      },
      "cell_type": "code",
      "source": [
        "\"\"\"from wordcloud import WordCloud\n",
        "\n",
        "plt.subplots(figsize=(12,12))\n",
        "wordcloud=WordCloud(background_color=\"white\",width=1024,height=768).generate(\" \".join(all_words[2000:2500]))\n",
        "plt.imshow(wordcloud)\n",
        "plt.axis(\"off\")\n",
        "plt.show()\"\"\""
      ],
      "execution_count": 20,
      "outputs": [
        {
          "output_type": "execute_result",
          "data": {
            "text/plain": [
              "'from wordcloud import WordCloud\\n\\nplt.subplots(figsize=(12,12))\\nwordcloud=WordCloud(background_color=\"white\",width=1024,height=768).generate(\" \".join(all_words[2000:2500]))\\nplt.imshow(wordcloud)\\nplt.axis(\"off\")\\nplt.show()'"
            ]
          },
          "metadata": {
            "tags": []
          },
          "execution_count": 20
        }
      ]
    },
    {
      "metadata": {
        "id": "nmCYkNl7BIoH",
        "colab_type": "code",
        "outputId": "9901cbae-a26e-4fab-f3fc-8a1f2841d248",
        "colab": {
          "base_uri": "https://localhost:8080/",
          "height": 51
        }
      },
      "cell_type": "code",
      "source": [
        "#classification\n",
        "\n",
        "y = sentiment_coded\n",
        "x=sparce_matrix\n",
        "\n",
        "from sklearn.model_selection import train_test_split\n",
        "\n",
        "x_train,x_test,y_train,y_test=train_test_split(x,y,test_size=0.2,random_state=42)\n",
        "print(type(x_train),type(x_test),type(y_train),type(y_test))\n",
        "x_train.shape,x_test.shape,y_train.shape,y_test.shape"
      ],
      "execution_count": 21,
      "outputs": [
        {
          "output_type": "stream",
          "text": [
            "<class 'numpy.ndarray'> <class 'numpy.ndarray'> <class 'numpy.ndarray'> <class 'numpy.ndarray'>\n"
          ],
          "name": "stdout"
        },
        {
          "output_type": "execute_result",
          "data": {
            "text/plain": [
              "((22395, 19345), (5599, 19345), (22395,), (5599,))"
            ]
          },
          "metadata": {
            "tags": []
          },
          "execution_count": 21
        }
      ]
    },
    {
      "metadata": {
        "id": "7U-CqMj7UIOk",
        "colab_type": "text"
      },
      "cell_type": "markdown",
      "source": [
        "### Let's try a SGD Classifier algorithm..."
      ]
    },
    {
      "metadata": {
        "id": "_exjxxNOOIVt",
        "colab_type": "code",
        "outputId": "c07a0a81-2915-4b31-dcf6-a12f606ac95d",
        "colab": {
          "base_uri": "https://localhost:8080/",
          "height": 173
        }
      },
      "cell_type": "code",
      "source": [
        "from sklearn.linear_model import SGDClassifier\n",
        "\n",
        "sgd_clf = SGDClassifier(max_iter=250,random_state=42)\n",
        "sgd_clf.fit(x_train, y_train)"
      ],
      "execution_count": 22,
      "outputs": [
        {
          "output_type": "stream",
          "text": [
            "/usr/local/lib/python3.6/dist-packages/sklearn/linear_model/stochastic_gradient.py:183: FutureWarning: max_iter and tol parameters have been added in SGDClassifier in 0.19. If max_iter is set but tol is left unset, the default value for tol in 0.19 and 0.20 will be None (which is equivalent to -infinity, so it has no effect) but will change in 0.21 to 1e-3. Specify tol to silence this warning.\n",
            "  FutureWarning)\n"
          ],
          "name": "stderr"
        },
        {
          "output_type": "execute_result",
          "data": {
            "text/plain": [
              "SGDClassifier(alpha=0.0001, average=False, class_weight=None,\n",
              "       early_stopping=False, epsilon=0.1, eta0=0.0, fit_intercept=True,\n",
              "       l1_ratio=0.15, learning_rate='optimal', loss='hinge', max_iter=250,\n",
              "       n_iter=None, n_iter_no_change=5, n_jobs=None, penalty='l2',\n",
              "       power_t=0.5, random_state=42, shuffle=True, tol=None,\n",
              "       validation_fraction=0.1, verbose=0, warm_start=False)"
            ]
          },
          "metadata": {
            "tags": []
          },
          "execution_count": 22
        }
      ]
    },
    {
      "metadata": {
        "id": "dCUbp-1aVlds",
        "colab_type": "code",
        "outputId": "5647cce4-8f8c-4c73-a761-281cfd551bb1",
        "colab": {
          "base_uri": "https://localhost:8080/",
          "height": 34
        }
      },
      "cell_type": "code",
      "source": [
        "print(\"SGD train set accuracy: \",sgd_clf.score(x_train,y_train))"
      ],
      "execution_count": 23,
      "outputs": [
        {
          "output_type": "stream",
          "text": [
            "SGD train set accuracy:  0.9582496092877875\n"
          ],
          "name": "stdout"
        }
      ]
    },
    {
      "metadata": {
        "id": "-e0bqMr7Vv6P",
        "colab_type": "code",
        "colab": {
          "base_uri": "https://localhost:8080/",
          "height": 34
        },
        "outputId": "e02901dd-12b3-48be-bc48-bd5365036fc5"
      },
      "cell_type": "code",
      "source": [
        "print(\"SGD test set accuracy: \",sgd_clf.score(x_test,y_test))"
      ],
      "execution_count": 24,
      "outputs": [
        {
          "output_type": "stream",
          "text": [
            "SGD test set accuracy:  0.8892659403464904\n"
          ],
          "name": "stdout"
        }
      ]
    },
    {
      "metadata": {
        "id": "XLWUwalNeHQ-",
        "colab_type": "code",
        "colab": {
          "base_uri": "https://localhost:8080/",
          "height": 334
        },
        "outputId": "abe4af34-5eb1-4eea-b72e-66784e8abf5c"
      },
      "cell_type": "code",
      "source": [
        "y_pred = sgd_clf.predict(x_test)\n",
        "# y_pred = y_pred.argmax(axis=1)\n",
        "y_true = y_test\n",
        "\n",
        "from sklearn.metrics import confusion_matrix\n",
        "import seaborn as sns\n",
        "\n",
        "names=[\"Positive\",\"Negative\",\"Neutral\"]\n",
        "cm=confusion_matrix(y_pred,y_true)\n",
        "f,ax=plt.subplots(figsize=(5,5))\n",
        "sns.heatmap(cm,annot=True,linewidth=.5,linecolor=\"r\",fmt=\".0f\",ax=ax)\n",
        "plt.xlabel(\"y_pred\")\n",
        "plt.ylabel(\"y_true\")\n",
        "ax.set_xticklabels(names)\n",
        "ax.set_yticklabels(names)\n",
        "plt.show()"
      ],
      "execution_count": 25,
      "outputs": [
        {
          "output_type": "display_data",
          "data": {
            "image/png": "[encoded data removed]",
            "text/plain": [
              "<Figure size 360x360 with 2 Axes>"
            ]
          },
          "metadata": {
            "tags": []
          }
        }
      ]
    },
    {
      "metadata": {
        "id": "5ehyURbnIZlu",
        "colab_type": "code",
        "colab": {
          "base_uri": "https://localhost:8080/",
          "height": 187
        },
        "outputId": "582a57dc-6103-4882-850d-44e25a221c33"
      },
      "cell_type": "code",
      "source": [
        "from sklearn.metrics import classification_report\n",
        "print(classification_report(y_true, y_pred))"
      ],
      "execution_count": 26,
      "outputs": [
        {
          "output_type": "stream",
          "text": [
            "              precision    recall  f1-score   support\n",
            "\n",
            "         0.0       0.84      0.78      0.81      1222\n",
            "         1.0       0.79      0.92      0.85       849\n",
            "         2.0       0.93      0.92      0.93      3528\n",
            "\n",
            "   micro avg       0.89      0.89      0.89      5599\n",
            "   macro avg       0.86      0.87      0.86      5599\n",
            "weighted avg       0.89      0.89      0.89      5599\n",
            "\n"
          ],
          "name": "stdout"
        }
      ]
    },
    {
      "metadata": {
        "id": "h5O8GtyjXFut",
        "colab_type": "text"
      },
      "cell_type": "markdown",
      "source": [
        "### Let's do a GridSearchCV varying the value of alpha, the regularization coefficient. "
      ]
    },
    {
      "metadata": {
        "id": "o8jWycGVCmjg",
        "colab_type": "code",
        "colab": {
          "base_uri": "https://localhost:8080/",
          "height": 76
        },
        "outputId": "37b09234-4fda-47ce-966d-cdf3ec354a51"
      },
      "cell_type": "code",
      "source": [
        "from sklearn.model_selection import GridSearchCV\n",
        "from scipy.stats import randint\n",
        "from sklearn.metrics import make_scorer,accuracy_score\n",
        "\n",
        "score = make_scorer(accuracy_score)\n",
        "\n",
        "param_grid = [{'alpha': [.0001,.0005,.001,.005,.01,.05,.1,.5]}]\n",
        "    \n",
        "\n",
        "grid_search = GridSearchCV(sgd_clf, param_grid,cv=3, scoring=score)\n",
        "grid_search.fit(x_train, y_train)"
      ],
      "execution_count": 0,
      "outputs": [
        {
          "output_type": "stream",
          "text": [
            "/usr/local/lib/python3.6/dist-packages/sklearn/linear_model/stochastic_gradient.py:183: FutureWarning: max_iter and tol parameters have been added in SGDClassifier in 0.19. If max_iter is set but tol is left unset, the default value for tol in 0.19 and 0.20 will be None (which is equivalent to -infinity, so it has no effect) but will change in 0.21 to 1e-3. Specify tol to silence this warning.\n",
            "  FutureWarning)\n"
          ],
          "name": "stderr"
        }
      ]
    }
  ]
}