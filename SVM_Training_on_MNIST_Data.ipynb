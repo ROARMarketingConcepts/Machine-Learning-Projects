{
  "nbformat": 4,
  "nbformat_minor": 0,
  "metadata": {
    "colab": {
      "name": "SVM Training on MNIST Data.ipynb",
      "version": "0.3.2",
      "provenance": []
    },
    "kernelspec": {
      "name": "python3",
      "display_name": "Python 3"
    },
    "accelerator": "TPU"
  },
  "cells": [
    {
      "metadata": {
        "id": "8pJ8_YnJ2iX0",
        "colab_type": "text"
      },
      "cell_type": "markdown",
      "source": [
        "## Training a Support Vector Machine (SVM) algorithm to classify hand-written digit samples in the MNIST dataset.\n",
        "\n",
        "\n",
        "Performed by\n",
        "Ken Wood\n",
        "\n",
        "ken@roarmarketingconcepts.com"
      ]
    },
    {
      "metadata": {
        "id": "eF8yeZtWk_BZ",
        "colab_type": "code",
        "colab": {}
      },
      "cell_type": "code",
      "source": [
        "# To support both python 2 and python 3\n",
        "from __future__ import division, print_function, unicode_literals\n",
        "\n",
        "# Common imports\n",
        "import numpy as np\n",
        "import os\n",
        "\n",
        "# to make this notebook's output stable across runs\n",
        "np.random.seed(42)\n",
        "\n",
        "# To plot pretty figures\n",
        "%matplotlib inline\n",
        "import matplotlib\n",
        "import matplotlib.pyplot as plt\n",
        "plt.rcParams['axes.labelsize'] = 14\n",
        "plt.rcParams['xtick.labelsize'] = 12\n",
        "plt.rcParams['ytick.labelsize'] = 12\n",
        "\n",
        "# Where to save the figures\n",
        "PROJECT_ROOT_DIR = \".\"\n",
        "CHAPTER_ID = \"svm\"\n",
        "\n",
        "def save_fig(fig_id, tight_layout=True):\n",
        "    path = os.path.join(PROJECT_ROOT_DIR, \"images\", CHAPTER_ID, fig_id + \".png\")\n",
        "    print(\"Saving figure\", fig_id)\n",
        "    if tight_layout:\n",
        "        plt.tight_layout()\n",
        "    plt.savefig(path, format='png', dpi=300)"
      ],
      "execution_count": 0,
      "outputs": []
    },
    {
      "metadata": {
        "id": "Juty5qVsskbQ",
        "colab_type": "text"
      },
      "cell_type": "markdown",
      "source": [
        "###Load the MNIST dataset..."
      ]
    },
    {
      "metadata": {
        "id": "sr7VhQwik2z-",
        "colab_type": "code",
        "outputId": "ddce58e8-26af-4634-b6a4-34dd9adb93ba",
        "colab": {
          "base_uri": "https://localhost:8080/",
          "height": 321
        }
      },
      "cell_type": "code",
      "source": [
        "from keras.datasets import mnist\n",
        "\n",
        "# load (downloaded if needed) the MNIST dataset\n",
        "(X_train, y_train), (X_test, y_test) = mnist.load_data()\n",
        "# plot 4 images as gray scale\n",
        "plt.subplot(221)\n",
        "plt.imshow(X_train[0], cmap=plt.get_cmap('gray'))\n",
        "plt.subplot(222)\n",
        "plt.imshow(X_train[1], cmap=plt.get_cmap('gray'))\n",
        "plt.subplot(223)\n",
        "plt.imshow(X_train[2], cmap=plt.get_cmap('gray'))\n",
        "plt.subplot(224)\n",
        "plt.imshow(X_train[3], cmap=plt.get_cmap('gray'))\n",
        "# show the plot\n",
        "plt.show()"
      ],
      "execution_count": 0,
      "outputs": [
        {
          "output_type": "stream",
          "text": [
            "Using TensorFlow backend.\n"
          ],
          "name": "stderr"
        },
        {
          "output_type": "stream",
          "text": [
            "Downloading data from https://s3.amazonaws.com/img-datasets/mnist.npz\n",
            "11493376/11490434 [==============================] - 0s 0us/step\n"
          ],
          "name": "stdout"
        },
        {
          "output_type": "display_data",
          "data": {
            "image/png": "[encoded data removed]",
            "text/plain": [
              "<matplotlib.figure.Figure at 0x7fd296646780>"
            ]
          },
          "metadata": {
            "tags": []
          }
        }
      ]
    },
    {
      "metadata": {
        "id": "zjxzxuL8aykB",
        "colab_type": "text"
      },
      "cell_type": "markdown",
      "source": [
        "### We start the data processing by specifying the training and test sets and then shuffling the data."
      ]
    },
    {
      "metadata": {
        "id": "8T8I5MFYlWaz",
        "colab_type": "code",
        "outputId": "4158cf6f-1da7-4aa2-e236-0044a69eb513",
        "colab": {
          "base_uri": "https://localhost:8080/",
          "height": 85
        }
      },
      "cell_type": "code",
      "source": [
        "np.random.seed(42)\n",
        "rnd_idx_train = np.random.permutation(60000)\n",
        "rnd_idx_test = np.random.permutation(10000)\n",
        "X_train = X_train[rnd_idx_train]\n",
        "print('X_train shape:',X_train.shape)\n",
        "X_test = X_test[rnd_idx_test]\n",
        "print('X_test shape:',X_test.shape)\n",
        "y_train = y_train[rnd_idx_train]\n",
        "print('y_train shape:',y_train.shape)\n",
        "y_test = y_test[rnd_idx_test]\n",
        "print('y_test shape:',y_test.shape)\n"
      ],
      "execution_count": 0,
      "outputs": [
        {
          "output_type": "stream",
          "text": [
            "X_train shape: (60000, 28, 28)\n",
            "X_test shape: (10000, 28, 28)\n",
            "y_train shape: (60000,)\n",
            "y_test shape: (10000,)\n"
          ],
          "name": "stdout"
        }
      ]
    },
    {
      "metadata": {
        "id": "Haen-LJDl3gd",
        "colab_type": "text"
      },
      "cell_type": "markdown",
      "source": [
        "### We need to flatten X_train and X_test from 3D to 2D before inputting them into the SVM models.\n"
      ]
    },
    {
      "metadata": {
        "id": "XQP7N9-pmPc2",
        "colab_type": "code",
        "outputId": "fd426118-6960-4117-8e38-d7e18d6c9a49",
        "colab": {
          "base_uri": "https://localhost:8080/",
          "height": 34
        }
      },
      "cell_type": "code",
      "source": [
        "X_train = X_train.reshape(*X_train.shape[:1], -1)\n",
        "print(X_train.shape)"
      ],
      "execution_count": 0,
      "outputs": [
        {
          "output_type": "stream",
          "text": [
            "(60000, 784)\n"
          ],
          "name": "stdout"
        }
      ]
    },
    {
      "metadata": {
        "id": "LDLKCIIXpqtz",
        "colab_type": "code",
        "outputId": "dd17c557-42dc-4ab1-eab3-165b97dec99f",
        "colab": {
          "base_uri": "https://localhost:8080/",
          "height": 34
        }
      },
      "cell_type": "code",
      "source": [
        "X_test = X_test.reshape(*X_test.shape[:1], -1)\n",
        "print(X_test.shape)"
      ],
      "execution_count": 0,
      "outputs": [
        {
          "output_type": "stream",
          "text": [
            "(10000, 784)\n"
          ],
          "name": "stdout"
        }
      ]
    },
    {
      "metadata": {
        "id": "S82RayGnb00j",
        "colab_type": "text"
      },
      "cell_type": "markdown",
      "source": [
        "### Let's train the Linear Support Vector Classifier ('LinearSVC') which employs one-versus-all to classify all 10 digits. "
      ]
    },
    {
      "metadata": {
        "id": "X0IT5QMm72nN",
        "colab_type": "code",
        "outputId": "39212d14-974f-4627-8c1f-f747d5472a03",
        "colab": {
          "base_uri": "https://localhost:8080/",
          "height": 139
        }
      },
      "cell_type": "code",
      "source": [
        "from sklearn.svm import LinearSVC\n",
        "\n",
        "lin_svc_clf = LinearSVC(random_state=42)\n",
        "lin_svc_clf.fit(X_train,y_train)"
      ],
      "execution_count": 0,
      "outputs": [
        {
          "output_type": "stream",
          "text": [
            "/usr/local/lib/python3.6/dist-packages/sklearn/svm/base.py:922: ConvergenceWarning: Liblinear failed to converge, increase the number of iterations.\n",
            "  \"the number of iterations.\", ConvergenceWarning)\n"
          ],
          "name": "stderr"
        },
        {
          "output_type": "execute_result",
          "data": {
            "text/plain": [
              "LinearSVC(C=1.0, class_weight=None, dual=True, fit_intercept=True,\n",
              "     intercept_scaling=1, loss='squared_hinge', max_iter=1000,\n",
              "     multi_class='ovr', penalty='l2', random_state=42, tol=0.0001,\n",
              "     verbose=0)"
            ]
          },
          "metadata": {
            "tags": []
          },
          "execution_count": 7
        }
      ]
    },
    {
      "metadata": {
        "id": "esWni9Vt_vhz",
        "colab_type": "text"
      },
      "cell_type": "markdown",
      "source": [
        "### Let's make predictions on the training set and measure the accuracy between the predicted value $\\hat{y}$ and actual value $y$."
      ]
    },
    {
      "metadata": {
        "id": "f_cGN78imGN-",
        "colab_type": "code",
        "outputId": "0735e5dd-eae5-4516-e372-65932e09145b",
        "colab": {
          "base_uri": "https://localhost:8080/",
          "height": 34
        }
      },
      "cell_type": "code",
      "source": [
        "from sklearn.metrics import accuracy_score\n",
        "\n",
        "y_pred = lin_svc_clf.predict(X_train)\n",
        "accuracy_score(y_train, y_pred)"
      ],
      "execution_count": 0,
      "outputs": [
        {
          "output_type": "execute_result",
          "data": {
            "text/plain": [
              "0.8946"
            ]
          },
          "metadata": {
            "tags": []
          },
          "execution_count": 8
        }
      ]
    },
    {
      "metadata": {
        "id": "0FPAJpuPmglo",
        "colab_type": "text"
      },
      "cell_type": "markdown",
      "source": [
        "### 89.46% accuracy is not particularly good.  Let's try scaling the data."
      ]
    },
    {
      "metadata": {
        "id": "0mzb1UMfni-T",
        "colab_type": "code",
        "outputId": "0fb99e00-1c3c-4946-e4d9-96e4bfea972d",
        "colab": {
          "base_uri": "https://localhost:8080/",
          "height": 139
        }
      },
      "cell_type": "code",
      "source": [
        "from sklearn.preprocessing import StandardScaler\n",
        "\n",
        "scaler = StandardScaler()\n",
        "X_train_scaled = scaler.fit_transform(X_train.astype(np.float32))\n",
        "X_test_scaled = scaler.transform(X_test.astype(np.float32))\n",
        "\n",
        "lin_svc_clf.fit(X_train_scaled,y_train)"
      ],
      "execution_count": 0,
      "outputs": [
        {
          "output_type": "stream",
          "text": [
            "/usr/local/lib/python3.6/dist-packages/sklearn/svm/base.py:922: ConvergenceWarning: Liblinear failed to converge, increase the number of iterations.\n",
            "  \"the number of iterations.\", ConvergenceWarning)\n"
          ],
          "name": "stderr"
        },
        {
          "output_type": "execute_result",
          "data": {
            "text/plain": [
              "LinearSVC(C=1.0, class_weight=None, dual=True, fit_intercept=True,\n",
              "     intercept_scaling=1, loss='squared_hinge', max_iter=1000,\n",
              "     multi_class='ovr', penalty='l2', random_state=42, tol=0.0001,\n",
              "     verbose=0)"
            ]
          },
          "metadata": {
            "tags": []
          },
          "execution_count": 9
        }
      ]
    },
    {
      "metadata": {
        "id": "-KXVvpl8pMpm",
        "colab_type": "code",
        "outputId": "be5873d6-d47b-42ef-ff65-8f1f1c947778",
        "colab": {
          "base_uri": "https://localhost:8080/",
          "height": 34
        }
      },
      "cell_type": "code",
      "source": [
        "y_pred = lin_svc_clf.predict(X_train_scaled)\n",
        "accuracy_score(y_train, y_pred)"
      ],
      "execution_count": 0,
      "outputs": [
        {
          "output_type": "execute_result",
          "data": {
            "text/plain": [
              "0.9222"
            ]
          },
          "metadata": {
            "tags": []
          },
          "execution_count": 10
        }
      ]
    },
    {
      "metadata": {
        "id": "9p93ZveVyXW8",
        "colab_type": "text"
      },
      "cell_type": "markdown",
      "source": [
        "### Well, we realized almost a 3% improvement by scaling the data. That's definitely better, but still not great for MNIST. If we want to use an SVM, we will have to use a kernel. Let's try an `SVC` with an RBF kernel (the default).\n",
        "\n",
        "**Note**: We are using Scikit-Learn ≤ 0.19, the `SVC` class will use the One-vs-One (OvO) strategy by default, so we must explicitly set `decision_function_shape=\"ovr\"."
      ]
    },
    {
      "metadata": {
        "id": "Y2j2jjtLqqo1",
        "colab_type": "text"
      },
      "cell_type": "markdown",
      "source": [
        "### Now, let's train a regular Support Vector Classifier (SVC) on 10000 training samples (to save computation processing time) and see what kind of results are produced."
      ]
    },
    {
      "metadata": {
        "id": "qvGqNxNH0HMC",
        "colab_type": "code",
        "outputId": "ce917842-3f6d-4914-95fb-a61f4c4504bf",
        "colab": {
          "base_uri": "https://localhost:8080/",
          "height": 85
        }
      },
      "cell_type": "code",
      "source": [
        "from sklearn.svm import SVC\n",
        "\n",
        "svm_clf = SVC(decision_function_shape=\"ovr\", gamma=\"auto\")\n",
        "svm_clf.fit(X_train_scaled[:10000], y_train[:10000])"
      ],
      "execution_count": 0,
      "outputs": [
        {
          "output_type": "execute_result",
          "data": {
            "text/plain": [
              "SVC(C=1.0, cache_size=200, class_weight=None, coef0=0.0,\n",
              "  decision_function_shape='ovr', degree=3, gamma='auto', kernel='rbf',\n",
              "  max_iter=-1, probability=False, random_state=None, shrinking=True,\n",
              "  tol=0.001, verbose=False)"
            ]
          },
          "metadata": {
            "tags": []
          },
          "execution_count": 11
        }
      ]
    },
    {
      "metadata": {
        "id": "m_0ARrFg66kB",
        "colab_type": "code",
        "outputId": "1bafd607-754f-45bb-cd51-49ee0bcd5268",
        "colab": {
          "base_uri": "https://localhost:8080/",
          "height": 34
        }
      },
      "cell_type": "code",
      "source": [
        "y_pred = svm_clf.predict(X_train_scaled)\n",
        "accuracy_score(y_train, y_pred)"
      ],
      "execution_count": 0,
      "outputs": [
        {
          "output_type": "execute_result",
          "data": {
            "text/plain": [
              "0.9475833333333333"
            ]
          },
          "metadata": {
            "tags": []
          },
          "execution_count": 12
        }
      ]
    },
    {
      "metadata": {
        "id": "eXQ4m4I6rIyv",
        "colab_type": "text"
      },
      "cell_type": "markdown",
      "source": [
        "### Let's fine tune the model by performing a Randomized search on the hyperparameters 'gamma' and 'C'."
      ]
    },
    {
      "metadata": {
        "id": "J9JGkWH7EUBQ",
        "colab_type": "code",
        "outputId": "9bd61c14-2476-4a7e-9dd1-cefe4caf7695",
        "colab": {
          "base_uri": "https://localhost:8080/",
          "height": 1312
        }
      },
      "cell_type": "code",
      "source": [
        "from sklearn.model_selection import RandomizedSearchCV\n",
        "from scipy.stats import reciprocal, uniform\n",
        "\n",
        "param_distributions = {\"gamma\": reciprocal(0.001, 0.1), \"C\": uniform(1, 10)}\n",
        "rnd_search_cv = RandomizedSearchCV(svm_clf, param_distributions, n_iter=10, verbose=2)\n",
        "rnd_search_cv.fit(X_train_scaled[:1000], y_train[:1000])"
      ],
      "execution_count": 0,
      "outputs": [
        {
          "output_type": "stream",
          "text": [
            "/usr/local/lib/python3.6/dist-packages/sklearn/model_selection/_split.py:2053: FutureWarning: You should specify a value for 'cv' instead of relying on the default value. The default value will change from 3 to 5 in version 0.22.\n",
            "  warnings.warn(CV_WARNING, FutureWarning)\n",
            "[Parallel(n_jobs=1)]: Using backend SequentialBackend with 1 concurrent workers.\n"
          ],
          "name": "stderr"
        },
        {
          "output_type": "stream",
          "text": [
            "Fitting 3 folds for each of 10 candidates, totalling 30 fits\n",
            "[CV] C=1.323581987935686, gamma=0.009416876185304573 .................\n",
            "[CV] .. C=1.323581987935686, gamma=0.009416876185304573, total=   1.4s\n",
            "[CV] C=1.323581987935686, gamma=0.009416876185304573 .................\n"
          ],
          "name": "stdout"
        },
        {
          "output_type": "stream",
          "text": [
            "[Parallel(n_jobs=1)]: Done   1 out of   1 | elapsed:    1.9s remaining:    0.0s\n"
          ],
          "name": "stderr"
        },
        {
          "output_type": "stream",
          "text": [
            "[CV] .. C=1.323581987935686, gamma=0.009416876185304573, total=   1.4s\n",
            "[CV] C=1.323581987935686, gamma=0.009416876185304573 .................\n",
            "[CV] .. C=1.323581987935686, gamma=0.009416876185304573, total=   1.4s\n",
            "[CV] C=3.267681882860957, gamma=0.0041198777997363675 ................\n",
            "[CV] . C=3.267681882860957, gamma=0.0041198777997363675, total=   1.3s\n",
            "[CV] C=3.267681882860957, gamma=0.0041198777997363675 ................\n",
            "[CV] . C=3.267681882860957, gamma=0.0041198777997363675, total=   1.3s\n",
            "[CV] C=3.267681882860957, gamma=0.0041198777997363675 ................\n",
            "[CV] . C=3.267681882860957, gamma=0.0041198777997363675, total=   1.3s\n",
            "[CV] C=7.843574023603832, gamma=0.011455375062142517 .................\n",
            "[CV] .. C=7.843574023603832, gamma=0.011455375062142517, total=   1.3s\n",
            "[CV] C=7.843574023603832, gamma=0.011455375062142517 .................\n",
            "[CV] .. C=7.843574023603832, gamma=0.011455375062142517, total=   1.3s\n",
            "[CV] C=7.843574023603832, gamma=0.011455375062142517 .................\n",
            "[CV] .. C=7.843574023603832, gamma=0.011455375062142517, total=   1.4s\n",
            "[CV] C=9.886124994634162, gamma=0.0744576480981987 ...................\n",
            "[CV] .... C=9.886124994634162, gamma=0.0744576480981987, total=   1.4s\n",
            "[CV] C=9.886124994634162, gamma=0.0744576480981987 ...................\n",
            "[CV] .... C=9.886124994634162, gamma=0.0744576480981987, total=   1.4s\n",
            "[CV] C=9.886124994634162, gamma=0.0744576480981987 ...................\n",
            "[CV] .... C=9.886124994634162, gamma=0.0744576480981987, total=   1.4s\n",
            "[CV] C=7.909573800902767, gamma=0.05334218812979001 ..................\n",
            "[CV] ... C=7.909573800902767, gamma=0.05334218812979001, total=   1.4s\n",
            "[CV] C=7.909573800902767, gamma=0.05334218812979001 ..................\n",
            "[CV] ... C=7.909573800902767, gamma=0.05334218812979001, total=   1.4s\n",
            "[CV] C=7.909573800902767, gamma=0.05334218812979001 ..................\n",
            "[CV] ... C=7.909573800902767, gamma=0.05334218812979001, total=   1.4s\n",
            "[CV] C=2.950743920248147, gamma=0.0014406183951122377 ................\n",
            "[CV] . C=2.950743920248147, gamma=0.0014406183951122377, total=   1.1s\n",
            "[CV] C=2.950743920248147, gamma=0.0014406183951122377 ................\n",
            "[CV] . C=2.950743920248147, gamma=0.0014406183951122377, total=   1.1s\n",
            "[CV] C=2.950743920248147, gamma=0.0014406183951122377 ................\n",
            "[CV] . C=2.950743920248147, gamma=0.0014406183951122377, total=   1.1s\n",
            "[CV] C=4.329691083909729, gamma=0.0044815948480266205 ................\n",
            "[CV] . C=4.329691083909729, gamma=0.0044815948480266205, total=   1.3s\n",
            "[CV] C=4.329691083909729, gamma=0.0044815948480266205 ................\n",
            "[CV] . C=4.329691083909729, gamma=0.0044815948480266205, total=   1.3s\n",
            "[CV] C=4.329691083909729, gamma=0.0044815948480266205 ................\n",
            "[CV] . C=4.329691083909729, gamma=0.0044815948480266205, total=   1.4s\n",
            "[CV] C=7.650925179406087, gamma=0.04794237241301308 ..................\n",
            "[CV] ... C=7.650925179406087, gamma=0.04794237241301308, total=   1.4s\n",
            "[CV] C=7.650925179406087, gamma=0.04794237241301308 ..................\n",
            "[CV] ... C=7.650925179406087, gamma=0.04794237241301308, total=   1.4s\n",
            "[CV] C=7.650925179406087, gamma=0.04794237241301308 ..................\n",
            "[CV] ... C=7.650925179406087, gamma=0.04794237241301308, total=   1.4s\n",
            "[CV] C=3.968823431566514, gamma=0.007072061053550839 .................\n",
            "[CV] .. C=3.968823431566514, gamma=0.007072061053550839, total=   1.3s\n",
            "[CV] C=3.968823431566514, gamma=0.007072061053550839 .................\n",
            "[CV] .. C=3.968823431566514, gamma=0.007072061053550839, total=   1.4s\n",
            "[CV] C=3.968823431566514, gamma=0.007072061053550839 .................\n",
            "[CV] .. C=3.968823431566514, gamma=0.007072061053550839, total=   1.4s\n",
            "[CV] C=2.0495536057657997, gamma=0.006690859032472225 ................\n",
            "[CV] . C=2.0495536057657997, gamma=0.006690859032472225, total=   1.4s\n",
            "[CV] C=2.0495536057657997, gamma=0.006690859032472225 ................\n",
            "[CV] . C=2.0495536057657997, gamma=0.006690859032472225, total=   1.4s\n",
            "[CV] C=2.0495536057657997, gamma=0.006690859032472225 ................\n",
            "[CV] . C=2.0495536057657997, gamma=0.006690859032472225, total=   1.4s\n"
          ],
          "name": "stdout"
        },
        {
          "output_type": "stream",
          "text": [
            "[Parallel(n_jobs=1)]: Done  30 out of  30 | elapsed:   56.8s finished\n"
          ],
          "name": "stderr"
        },
        {
          "output_type": "execute_result",
          "data": {
            "text/plain": [
              "RandomizedSearchCV(cv='warn', error_score='raise-deprecating',\n",
              "          estimator=SVC(C=1.0, cache_size=200, class_weight=None, coef0=0.0,\n",
              "  decision_function_shape='ovr', degree=3, gamma='auto', kernel='rbf',\n",
              "  max_iter=-1, probability=False, random_state=None, shrinking=True,\n",
              "  tol=0.001, verbose=False),\n",
              "          fit_params=None, iid='warn', n_iter=10, n_jobs=None,\n",
              "          param_distributions={'gamma': <scipy.stats._distn_infrastructure.rv_frozen object at 0x7fd282703400>, 'C': <scipy.stats._distn_infrastructure.rv_frozen object at 0x7fd282703908>},\n",
              "          pre_dispatch='2*n_jobs', random_state=None, refit=True,\n",
              "          return_train_score='warn', scoring=None, verbose=2)"
            ]
          },
          "metadata": {
            "tags": []
          },
          "execution_count": 13
        }
      ]
    },
    {
      "metadata": {
        "id": "Eb1bcFuuE2_-",
        "colab_type": "code",
        "outputId": "97d39866-aef4-4f3b-98ce-39827759caed",
        "colab": {
          "base_uri": "https://localhost:8080/",
          "height": 85
        }
      },
      "cell_type": "code",
      "source": [
        "rnd_search_cv.best_estimator_"
      ],
      "execution_count": 0,
      "outputs": [
        {
          "output_type": "execute_result",
          "data": {
            "text/plain": [
              "SVC(C=2.950743920248147, cache_size=200, class_weight=None, coef0=0.0,\n",
              "  decision_function_shape='ovr', degree=3, gamma=0.0014406183951122377,\n",
              "  kernel='rbf', max_iter=-1, probability=False, random_state=None,\n",
              "  shrinking=True, tol=0.001, verbose=False)"
            ]
          },
          "metadata": {
            "tags": []
          },
          "execution_count": 14
        }
      ]
    },
    {
      "metadata": {
        "id": "nMe7sDK0FLPT",
        "colab_type": "code",
        "outputId": "3e022fe5-4469-4266-cfd4-7670370040eb",
        "colab": {
          "base_uri": "https://localhost:8080/",
          "height": 34
        }
      },
      "cell_type": "code",
      "source": [
        "rnd_search_cv.best_score_"
      ],
      "execution_count": 0,
      "outputs": [
        {
          "output_type": "execute_result",
          "data": {
            "text/plain": [
              "0.859"
            ]
          },
          "metadata": {
            "tags": []
          },
          "execution_count": 15
        }
      ]
    },
    {
      "metadata": {
        "id": "uwIt11naGAM4",
        "colab_type": "text"
      },
      "cell_type": "markdown",
      "source": [
        "### To improve this score, let's tune the SVC hyperparameters using the entire training dataset."
      ]
    },
    {
      "metadata": {
        "id": "DXnOoJygFXha",
        "colab_type": "code",
        "outputId": "a132ebd1-1366-469a-f807-e40d7a8b19e2",
        "colab": {
          "base_uri": "https://localhost:8080/",
          "height": 85
        }
      },
      "cell_type": "code",
      "source": [
        "rnd_search_cv.best_estimator_.fit(X_train_scaled, y_train)"
      ],
      "execution_count": 0,
      "outputs": [
        {
          "output_type": "execute_result",
          "data": {
            "text/plain": [
              "SVC(C=2.950743920248147, cache_size=200, class_weight=None, coef0=0.0,\n",
              "  decision_function_shape='ovr', degree=3, gamma=0.0014406183951122377,\n",
              "  kernel='rbf', max_iter=-1, probability=False, random_state=None,\n",
              "  shrinking=True, tol=0.001, verbose=False)"
            ]
          },
          "metadata": {
            "tags": []
          },
          "execution_count": 16
        }
      ]
    },
    {
      "metadata": {
        "id": "wBdN3JznFhVK",
        "colab_type": "code",
        "outputId": "3428a483-16b7-4f76-95ea-5119ca86beea",
        "colab": {
          "base_uri": "https://localhost:8080/",
          "height": 34
        }
      },
      "cell_type": "code",
      "source": [
        "y_pred = rnd_search_cv.best_estimator_.predict(X_train_scaled)\n",
        "accuracy_score(y_train, y_pred)"
      ],
      "execution_count": 0,
      "outputs": [
        {
          "output_type": "execute_result",
          "data": {
            "text/plain": [
              "0.99555"
            ]
          },
          "metadata": {
            "tags": []
          },
          "execution_count": 17
        }
      ]
    },
    {
      "metadata": {
        "id": "cfEOJmjcC4HP",
        "colab_type": "text"
      },
      "cell_type": "markdown",
      "source": [
        "### This accuracy number looks great! Now let's see how the model performs on the test set."
      ]
    },
    {
      "metadata": {
        "id": "jKIJFq4yCvu0",
        "colab_type": "code",
        "outputId": "3f7e0146-aade-4f5f-fc16-ee64a5862d39",
        "colab": {
          "base_uri": "https://localhost:8080/",
          "height": 34
        }
      },
      "cell_type": "code",
      "source": [
        "y_pred = rnd_search_cv.best_estimator_.predict(X_test_scaled)\n",
        "accuracy_score(y_test, y_pred)"
      ],
      "execution_count": 0,
      "outputs": [
        {
          "output_type": "execute_result",
          "data": {
            "text/plain": [
              "0.9724"
            ]
          },
          "metadata": {
            "tags": []
          },
          "execution_count": 18
        }
      ]
    },
    {
      "metadata": {
        "id": "uDXIzEgfIJSb",
        "colab_type": "text"
      },
      "cell_type": "markdown",
      "source": [
        "### Not too bad, but it appears the model is slightly overfitting the training set.  We could adjust the hyperparameters slightly to fix this....  . However, since the accuracies between the train and test sets are quite close, we will consder the mission accomplished!"
      ]
    }
  ]
}