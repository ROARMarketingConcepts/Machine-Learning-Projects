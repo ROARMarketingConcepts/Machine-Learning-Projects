{
  "nbformat": 4,
  "nbformat_minor": 0,
  "metadata": {
    "colab": {
      "name": "Mall Customer Segmentation Analysis.ipynb",
      "version": "0.3.2",
      "provenance": [],
      "collapsed_sections": [],
      "include_colab_link": true
    },
    "kernelspec": {
      "name": "python3",
      "display_name": "Python 3"
    },
    "accelerator": "TPU"
  },
  "cells": [
    {
      "cell_type": "markdown",
      "metadata": {
        "id": "view-in-github",
        "colab_type": "text"
      },
      "source": [
        "<a href=\"https://colab.research.google.com/github/ROARMarketingConcepts/Machine-Learning-Projects/blob/master/Mall_Customer_Segmentation_Analysis.ipynb\" target=\"_parent\"><img src=\"https://colab.research.google.com/assets/colab-badge.svg\" alt=\"Open In Colab\"/></a>"
      ]
    },
    {
      "metadata": {
        "id": "xrdB4Pvew0ah",
        "colab_type": "text"
      },
      "cell_type": "markdown",
      "source": [
        "## Mall Customer Segmentation Analysis\n",
        "\n",
        "### Background\n",
        "\n",
        "We own a supermarket mall and through membership cards , we have some basic data about our customers like Customer ID, age, gender, annual income and spending score. Spending Score is something we assign to each customer based on our defined parameters like customer behavior and purchasing data.\n",
        "\n",
        "### Problem Statement \n",
        "\n",
        "We want to understand which customers can easily be converted (Target Customers) so that we can relay this information to the marketing team and plan the strategy accordingly.\n",
        "\n",
        "### Inspiration\n",
        "\n",
        "By the end of this analysis, we will be able to answer the following questions. \n",
        "\n",
        "1- How to achieve customer segmentation using machine learning algorithm (KMeans Clustering) in Python. \n",
        "\n",
        "2- Who are our target customers to whom we can start marketing? \n",
        "\n",
        "\n",
        "### Analysis performed by:\n",
        "\n",
        "Ken Wood\n",
        "\n",
        "Senior Marketing Strategist\n",
        "\n",
        "ken@roarmarketingconcepts.com"
      ]
    },
    {
      "metadata": {
        "id": "Q_Brip-8tdjE",
        "colab_type": "text"
      },
      "cell_type": "markdown",
      "source": [
        "\n",
        "\n",
        "\n",
        "---\n",
        "\n"
      ]
    },
    {
      "metadata": {
        "id": "9ALCkfYuqrTZ",
        "colab_type": "text"
      },
      "cell_type": "markdown",
      "source": [
        "### Mount the Google Drive where the dataset is located..."
      ]
    },
    {
      "metadata": {
        "id": "Op1VaBbmzAds",
        "colab_type": "code",
        "outputId": "f1255d4e-d4a8-43c0-c604-9359ab5b4b20",
        "colab": {
          "base_uri": "https://localhost:8080/",
          "height": 34
        }
      },
      "cell_type": "code",
      "source": [
        "from google.colab import drive\n",
        "drive.mount('/gdrive')"
      ],
      "execution_count": 1,
      "outputs": [
        {
          "output_type": "stream",
          "text": [
            "Drive already mounted at /gdrive; to attempt to forcibly remount, call drive.mount(\"/gdrive\", force_remount=True).\n"
          ],
          "name": "stdout"
        }
      ]
    },
    {
      "metadata": {
        "id": "DrdaZhEvlliM",
        "colab_type": "code",
        "outputId": "4c942a99-d0b2-4fcd-81d1-65554abc9bfa",
        "colab": {
          "base_uri": "https://localhost:8080/",
          "height": 554
        }
      },
      "cell_type": "code",
      "source": [
        "!apt install proj-bin libproj-dev libgeos-dev\n",
        "!pip install git+https://github.com/thearn/pygmaps-extended\n",
        "!pip install gmplot"
      ],
      "execution_count": 2,
      "outputs": [
        {
          "output_type": "stream",
          "text": [
            "Reading package lists... Done\n",
            "Building dependency tree       \n",
            "Reading state information... Done\n",
            "libgeos-dev is already the newest version (3.6.2-1build2).\n",
            "libproj-dev is already the newest version (4.9.3-2).\n",
            "proj-bin is already the newest version (4.9.3-2).\n",
            "0 upgraded, 0 newly installed, 0 to remove and 13 not upgraded.\n",
            "Collecting git+https://github.com/thearn/pygmaps-extended\n",
            "  Cloning https://github.com/thearn/pygmaps-extended to /tmp/pip-req-build-b97txq39\n",
            "Requirement already satisfied (use --upgrade to upgrade): pygmaps-enhanced==0.2.0 from git+https://github.com/thearn/pygmaps-extended in /usr/local/lib/python3.6/dist-packages\n",
            "Requirement already satisfied: numpy in /usr/local/lib/python3.6/dist-packages (from pygmaps-enhanced==0.2.0) (1.14.6)\n",
            "Requirement already satisfied: matplotlib in /usr/local/lib/python3.6/dist-packages (from pygmaps-enhanced==0.2.0) (3.0.2)\n",
            "Requirement already satisfied: kiwisolver>=1.0.1 in /usr/local/lib/python3.6/dist-packages (from matplotlib->pygmaps-enhanced==0.2.0) (1.0.1)\n",
            "Requirement already satisfied: cycler>=0.10 in /usr/local/lib/python3.6/dist-packages (from matplotlib->pygmaps-enhanced==0.2.0) (0.10.0)\n",
            "Requirement already satisfied: python-dateutil>=2.1 in /usr/local/lib/python3.6/dist-packages (from matplotlib->pygmaps-enhanced==0.2.0) (2.5.3)\n",
            "Requirement already satisfied: pyparsing!=2.0.4,!=2.1.2,!=2.1.6,>=2.0.1 in /usr/local/lib/python3.6/dist-packages (from matplotlib->pygmaps-enhanced==0.2.0) (2.3.1)\n",
            "Requirement already satisfied: setuptools in /usr/local/lib/python3.6/dist-packages (from kiwisolver>=1.0.1->matplotlib->pygmaps-enhanced==0.2.0) (40.7.0)\n",
            "Requirement already satisfied: six in /usr/local/lib/python3.6/dist-packages (from cycler>=0.10->matplotlib->pygmaps-enhanced==0.2.0) (1.11.0)\n",
            "Building wheels for collected packages: pygmaps-enhanced\n",
            "  Building wheel for pygmaps-enhanced (setup.py) ... \u001b[?25ldone\n",
            "\u001b[?25h  Stored in directory: /tmp/pip-ephem-wheel-cache-_98_7nnh/wheels/3e/73/23/3a7fd54a762fa8d2305b95499c22de36c493fcfa63074cf397\n",
            "Successfully built pygmaps-enhanced\n",
            "Requirement already satisfied: gmplot in /usr/local/lib/python3.6/dist-packages (1.2.0)\n",
            "Requirement already satisfied: requests in /usr/local/lib/python3.6/dist-packages (from gmplot) (2.18.4)\n",
            "Requirement already satisfied: urllib3<1.23,>=1.21.1 in /usr/local/lib/python3.6/dist-packages (from requests->gmplot) (1.22)\n",
            "Requirement already satisfied: certifi>=2017.4.17 in /usr/local/lib/python3.6/dist-packages (from requests->gmplot) (2018.11.29)\n",
            "Requirement already satisfied: chardet<3.1.0,>=3.0.2 in /usr/local/lib/python3.6/dist-packages (from requests->gmplot) (3.0.4)\n",
            "Requirement already satisfied: idna<2.7,>=2.5 in /usr/local/lib/python3.6/dist-packages (from requests->gmplot) (2.6)\n"
          ],
          "name": "stdout"
        }
      ]
    },
    {
      "metadata": {
        "id": "twm5n0jglxFD",
        "colab_type": "code",
        "colab": {}
      },
      "cell_type": "code",
      "source": [
        "# !pip install https://github.com/matplotlib/basemap/archive/v1.1.0.tar.gz\n",
        "# !sudo pip install -U git+https://github.com/matplotlib/basemap.git"
      ],
      "execution_count": 0,
      "outputs": []
    },
    {
      "metadata": {
        "id": "CaqrF3-Zq2PC",
        "colab_type": "text"
      },
      "cell_type": "markdown",
      "source": [
        "### Install some necessary packages to perform the required analysis..."
      ]
    },
    {
      "metadata": {
        "id": "fXW19Ug6MF-W",
        "colab_type": "code",
        "outputId": "6168029e-2722-4e35-8e54-5f3c89724248",
        "colab": {
          "base_uri": "https://localhost:8080/",
          "height": 167
        }
      },
      "cell_type": "code",
      "source": [
        "!pip install -U scikit-learn\n",
        "!pip install --user --upgrade tables\n",
        "# !pip install pyproj\n",
        "\n",
        "import pandas as pd\n",
        "import numpy as np\n",
        "import sklearn\n",
        "import scipy\n",
        "import calendar\n",
        "from datetime import datetime as dt\n",
        "\n",
        "import matplotlib as mpl\n",
        "import matplotlib.pyplot as plt\n",
        "from matplotlib import interactive\n",
        "from matplotlib import colors\n",
        "from matplotlib.ticker import PercentFormatter\n",
        "plt.rc(\"font\", size=14)\n",
        "from pylab import scatter, show, legend, xlabel, ylabel\n",
        "\n",
        "# from mpl_toolkits.basemap import Basemap\n",
        "\n",
        "import seaborn as sns\n",
        "sns.set(style=\"white\")\n",
        "sns.set(style=\"whitegrid\", color_codes=True)\n",
        "\n",
        "# Ignore useless warnings (see SciPy issue #5998)\n",
        "import warnings\n",
        "warnings.filterwarnings(action=\"ignore\", message=\"^internal gelsd\")"
      ],
      "execution_count": 4,
      "outputs": [
        {
          "output_type": "stream",
          "text": [
            "Requirement already up-to-date: scikit-learn in /usr/local/lib/python3.6/dist-packages (0.20.2)\n",
            "Requirement already satisfied, skipping upgrade: scipy>=0.13.3 in /usr/local/lib/python3.6/dist-packages (from scikit-learn) (1.1.0)\n",
            "Requirement already satisfied, skipping upgrade: numpy>=1.8.2 in /usr/local/lib/python3.6/dist-packages (from scikit-learn) (1.14.6)\n",
            "Requirement already up-to-date: tables in /usr/local/lib/python3.6/dist-packages (3.4.4)\n",
            "Requirement already satisfied, skipping upgrade: numexpr>=2.5.2 in /usr/local/lib/python3.6/dist-packages (from tables) (2.6.9)\n",
            "Requirement already satisfied, skipping upgrade: numpy>=1.8.0 in /usr/local/lib/python3.6/dist-packages (from tables) (1.14.6)\n",
            "Requirement already satisfied, skipping upgrade: six>=1.9.0 in /usr/local/lib/python3.6/dist-packages (from tables) (1.11.0)\n"
          ],
          "name": "stdout"
        }
      ]
    },
    {
      "metadata": {
        "id": "UrkGvrxrDxb4",
        "colab_type": "code",
        "outputId": "ee73c36d-17b1-433e-b292-22684cc551af",
        "colab": {
          "base_uri": "https://localhost:8080/",
          "height": 59
        }
      },
      "cell_type": "code",
      "source": [
        "\"\"\"width = 28000000; lon_0 = -105; lat_0 = 40\n",
        "m = Basemap(width=width,height=width,projection='aeqd',\n",
        "            lat_0=lat_0,lon_0=lon_0)\n",
        "# fill background.\n",
        "m.drawmapboundary(fill_color='aqua')\n",
        "# draw coasts and fill continents.\n",
        "m.drawcoastlines(linewidth=0.5)\n",
        "m.fillcontinents(color='coral',lake_color='aqua')\n",
        "# 20 degree graticule.\n",
        "m.drawparallels(np.arange(-80,81,20))\n",
        "m.drawmeridians(np.arange(-180,180,20))\n",
        "# draw a black dot at the center.\n",
        "xpt, ypt = m(lon_0, lat_0)\n",
        "m.plot([xpt],[ypt],'ko')\n",
        "# draw the title.\n",
        "plt.title('Azimuthal Equidistant Projection')\n",
        "plt.show()\"\"\""
      ],
      "execution_count": 5,
      "outputs": [
        {
          "output_type": "execute_result",
          "data": {
            "text/plain": [
              "\"width = 28000000; lon_0 = -105; lat_0 = 40\\nm = Basemap(width=width,height=width,projection='aeqd',\\n            lat_0=lat_0,lon_0=lon_0)\\n# fill background.\\nm.drawmapboundary(fill_color='aqua')\\n# draw coasts and fill continents.\\nm.drawcoastlines(linewidth=0.5)\\nm.fillcontinents(color='coral',lake_color='aqua')\\n# 20 degree graticule.\\nm.drawparallels(np.arange(-80,81,20))\\nm.drawmeridians(np.arange(-180,180,20))\\n# draw a black dot at the center.\\nxpt, ypt = m(lon_0, lat_0)\\nm.plot([xpt],[ypt],'ko')\\n# draw the title.\\nplt.title('Azimuthal Equidistant Projection')\\nplt.show()\""
            ]
          },
          "metadata": {
            "tags": []
          },
          "execution_count": 5
        }
      ]
    },
    {
      "metadata": {
        "id": "58of5Ft_3qQ_",
        "colab_type": "code",
        "colab": {}
      },
      "cell_type": "code",
      "source": [
        "class color:\n",
        "   PURPLE = '\\033[95m'\n",
        "   CYAN = '\\033[96m'\n",
        "   DARKCYAN = '\\033[36m'\n",
        "   BLUE = '\\033[94m'\n",
        "   GREEN = '\\033[92m'\n",
        "   YELLOW = '\\033[93m'\n",
        "   RED = '\\033[91m'\n",
        "   BOLD = '\\033[1m'\n",
        "   UNDERLINE = '\\033[4m'\n",
        "   END = '\\033[0m'"
      ],
      "execution_count": 0,
      "outputs": []
    },
    {
      "metadata": {
        "id": "YsUIKTNDq_JY",
        "colab_type": "text"
      },
      "cell_type": "markdown",
      "source": [
        "### Load the dataset..."
      ]
    },
    {
      "metadata": {
        "id": "RpQYnzQpMOTm",
        "colab_type": "code",
        "colab": {}
      },
      "cell_type": "code",
      "source": [
        "df = pd.read_csv('/gdrive/My Drive/Colab Notebooks/Mall Customer Analysis/Mall_Customers.csv')"
      ],
      "execution_count": 0,
      "outputs": []
    },
    {
      "metadata": {
        "id": "4zVpmEQNIdMa",
        "colab_type": "text"
      },
      "cell_type": "markdown",
      "source": [
        "### Let's take a quick look at a few lines of the dataset..."
      ]
    },
    {
      "metadata": {
        "id": "cjaBbs9E51OF",
        "colab_type": "code",
        "outputId": "d4a0d1dc-a248-4cae-e08d-7010f15d3443",
        "colab": {
          "base_uri": "https://localhost:8080/",
          "height": 204
        }
      },
      "cell_type": "code",
      "source": [
        "df.head()"
      ],
      "execution_count": 8,
      "outputs": [
        {
          "output_type": "execute_result",
          "data": {
            "text/html": [
              "<div>\n",
              "<style scoped>\n",
              "    .dataframe tbody tr th:only-of-type {\n",
              "        vertical-align: middle;\n",
              "    }\n",
              "\n",
              "    .dataframe tbody tr th {\n",
              "        vertical-align: top;\n",
              "    }\n",
              "\n",
              "    .dataframe thead th {\n",
              "        text-align: right;\n",
              "    }\n",
              "</style>\n",
              "<table border=\"1\" class=\"dataframe\">\n",
              "  <thead>\n",
              "    <tr style=\"text-align: right;\">\n",
              "      <th></th>\n",
              "      <th>CustomerID</th>\n",
              "      <th>Gender</th>\n",
              "      <th>Age</th>\n",
              "      <th>Annual Income (k$)</th>\n",
              "      <th>Spending Score (1-100)</th>\n",
              "    </tr>\n",
              "  </thead>\n",
              "  <tbody>\n",
              "    <tr>\n",
              "      <th>0</th>\n",
              "      <td>1</td>\n",
              "      <td>Male</td>\n",
              "      <td>19</td>\n",
              "      <td>15</td>\n",
              "      <td>39</td>\n",
              "    </tr>\n",
              "    <tr>\n",
              "      <th>1</th>\n",
              "      <td>2</td>\n",
              "      <td>Male</td>\n",
              "      <td>21</td>\n",
              "      <td>15</td>\n",
              "      <td>81</td>\n",
              "    </tr>\n",
              "    <tr>\n",
              "      <th>2</th>\n",
              "      <td>3</td>\n",
              "      <td>Female</td>\n",
              "      <td>20</td>\n",
              "      <td>16</td>\n",
              "      <td>6</td>\n",
              "    </tr>\n",
              "    <tr>\n",
              "      <th>3</th>\n",
              "      <td>4</td>\n",
              "      <td>Female</td>\n",
              "      <td>23</td>\n",
              "      <td>16</td>\n",
              "      <td>77</td>\n",
              "    </tr>\n",
              "    <tr>\n",
              "      <th>4</th>\n",
              "      <td>5</td>\n",
              "      <td>Female</td>\n",
              "      <td>31</td>\n",
              "      <td>17</td>\n",
              "      <td>40</td>\n",
              "    </tr>\n",
              "  </tbody>\n",
              "</table>\n",
              "</div>"
            ],
            "text/plain": [
              "   CustomerID  Gender  Age  Annual Income (k$)  Spending Score (1-100)\n",
              "0           1    Male   19                  15                      39\n",
              "1           2    Male   21                  15                      81\n",
              "2           3  Female   20                  16                       6\n",
              "3           4  Female   23                  16                      77\n",
              "4           5  Female   31                  17                      40"
            ]
          },
          "metadata": {
            "tags": []
          },
          "execution_count": 8
        }
      ]
    },
    {
      "metadata": {
        "id": "J8xuLH_bAM79",
        "colab_type": "code",
        "outputId": "80ec958e-e1af-4d2a-b13d-17c827697630",
        "colab": {
          "base_uri": "https://localhost:8080/",
          "height": 187
        }
      },
      "cell_type": "code",
      "source": [
        "df.info()"
      ],
      "execution_count": 9,
      "outputs": [
        {
          "output_type": "stream",
          "text": [
            "<class 'pandas.core.frame.DataFrame'>\n",
            "RangeIndex: 200 entries, 0 to 199\n",
            "Data columns (total 5 columns):\n",
            "CustomerID                200 non-null int64\n",
            "Gender                    200 non-null object\n",
            "Age                       200 non-null int64\n",
            "Annual Income (k$)        200 non-null int64\n",
            "Spending Score (1-100)    200 non-null int64\n",
            "dtypes: int64(4), object(1)\n",
            "memory usage: 7.9+ KB\n"
          ],
          "name": "stdout"
        }
      ]
    },
    {
      "metadata": {
        "id": "0inEwh12IRRy",
        "colab_type": "text"
      },
      "cell_type": "markdown",
      "source": [
        "### How many values in the dataset are missing?"
      ]
    },
    {
      "metadata": {
        "id": "MRexXkMLlA_E",
        "colab_type": "code",
        "outputId": "7831630e-385a-4d44-fa08-5a3181a2737c",
        "colab": {
          "base_uri": "https://localhost:8080/",
          "height": 119
        }
      },
      "cell_type": "code",
      "source": [
        "df.isnull().sum()"
      ],
      "execution_count": 10,
      "outputs": [
        {
          "output_type": "execute_result",
          "data": {
            "text/plain": [
              "CustomerID                0\n",
              "Gender                    0\n",
              "Age                       0\n",
              "Annual Income (k$)        0\n",
              "Spending Score (1-100)    0\n",
              "dtype: int64"
            ]
          },
          "metadata": {
            "tags": []
          },
          "execution_count": 10
        }
      ]
    },
    {
      "metadata": {
        "id": "n2EBITrV42iX",
        "colab_type": "text"
      },
      "cell_type": "markdown",
      "source": [
        "### Let's use 'CustomerID' as the index for the dataset."
      ]
    },
    {
      "metadata": {
        "id": "KnjrPTMrtfPg",
        "colab_type": "code",
        "colab": {}
      },
      "cell_type": "code",
      "source": [
        "df.set_index('CustomerID',inplace=True)"
      ],
      "execution_count": 0,
      "outputs": []
    },
    {
      "metadata": {
        "id": "sOT3BwjyIoUD",
        "colab_type": "text"
      },
      "cell_type": "markdown",
      "source": [
        "### Let's change the column 'Gender' to a categorical variable and then code it."
      ]
    },
    {
      "metadata": {
        "id": "BrjdDTehJH1U",
        "colab_type": "code",
        "outputId": "526ba45e-de92-473e-c59d-455da0fe5ea5",
        "colab": {
          "base_uri": "https://localhost:8080/",
          "height": 235
        }
      },
      "cell_type": "code",
      "source": [
        "df['Gender'] = df['Gender'].astype('category')\n",
        "df['Gender'] = df['Gender'].cat.codes\n",
        "df.head()"
      ],
      "execution_count": 12,
      "outputs": [
        {
          "output_type": "execute_result",
          "data": {
            "text/html": [
              "<div>\n",
              "<style scoped>\n",
              "    .dataframe tbody tr th:only-of-type {\n",
              "        vertical-align: middle;\n",
              "    }\n",
              "\n",
              "    .dataframe tbody tr th {\n",
              "        vertical-align: top;\n",
              "    }\n",
              "\n",
              "    .dataframe thead th {\n",
              "        text-align: right;\n",
              "    }\n",
              "</style>\n",
              "<table border=\"1\" class=\"dataframe\">\n",
              "  <thead>\n",
              "    <tr style=\"text-align: right;\">\n",
              "      <th></th>\n",
              "      <th>Gender</th>\n",
              "      <th>Age</th>\n",
              "      <th>Annual Income (k$)</th>\n",
              "      <th>Spending Score (1-100)</th>\n",
              "    </tr>\n",
              "    <tr>\n",
              "      <th>CustomerID</th>\n",
              "      <th></th>\n",
              "      <th></th>\n",
              "      <th></th>\n",
              "      <th></th>\n",
              "    </tr>\n",
              "  </thead>\n",
              "  <tbody>\n",
              "    <tr>\n",
              "      <th>1</th>\n",
              "      <td>1</td>\n",
              "      <td>19</td>\n",
              "      <td>15</td>\n",
              "      <td>39</td>\n",
              "    </tr>\n",
              "    <tr>\n",
              "      <th>2</th>\n",
              "      <td>1</td>\n",
              "      <td>21</td>\n",
              "      <td>15</td>\n",
              "      <td>81</td>\n",
              "    </tr>\n",
              "    <tr>\n",
              "      <th>3</th>\n",
              "      <td>0</td>\n",
              "      <td>20</td>\n",
              "      <td>16</td>\n",
              "      <td>6</td>\n",
              "    </tr>\n",
              "    <tr>\n",
              "      <th>4</th>\n",
              "      <td>0</td>\n",
              "      <td>23</td>\n",
              "      <td>16</td>\n",
              "      <td>77</td>\n",
              "    </tr>\n",
              "    <tr>\n",
              "      <th>5</th>\n",
              "      <td>0</td>\n",
              "      <td>31</td>\n",
              "      <td>17</td>\n",
              "      <td>40</td>\n",
              "    </tr>\n",
              "  </tbody>\n",
              "</table>\n",
              "</div>"
            ],
            "text/plain": [
              "            Gender  Age  Annual Income (k$)  Spending Score (1-100)\n",
              "CustomerID                                                         \n",
              "1                1   19                  15                      39\n",
              "2                1   21                  15                      81\n",
              "3                0   20                  16                       6\n",
              "4                0   23                  16                      77\n",
              "5                0   31                  17                      40"
            ]
          },
          "metadata": {
            "tags": []
          },
          "execution_count": 12
        }
      ]
    },
    {
      "metadata": {
        "id": "8W62WTMVCksm",
        "colab_type": "code",
        "outputId": "9d8154b4-b592-4aaa-9862-267fce55d6a8",
        "colab": {
          "base_uri": "https://localhost:8080/",
          "height": 297
        }
      },
      "cell_type": "code",
      "source": [
        "df.describe()"
      ],
      "execution_count": 13,
      "outputs": [
        {
          "output_type": "execute_result",
          "data": {
            "text/html": [
              "<div>\n",
              "<style scoped>\n",
              "    .dataframe tbody tr th:only-of-type {\n",
              "        vertical-align: middle;\n",
              "    }\n",
              "\n",
              "    .dataframe tbody tr th {\n",
              "        vertical-align: top;\n",
              "    }\n",
              "\n",
              "    .dataframe thead th {\n",
              "        text-align: right;\n",
              "    }\n",
              "</style>\n",
              "<table border=\"1\" class=\"dataframe\">\n",
              "  <thead>\n",
              "    <tr style=\"text-align: right;\">\n",
              "      <th></th>\n",
              "      <th>Gender</th>\n",
              "      <th>Age</th>\n",
              "      <th>Annual Income (k$)</th>\n",
              "      <th>Spending Score (1-100)</th>\n",
              "    </tr>\n",
              "  </thead>\n",
              "  <tbody>\n",
              "    <tr>\n",
              "      <th>count</th>\n",
              "      <td>200.000000</td>\n",
              "      <td>200.000000</td>\n",
              "      <td>200.000000</td>\n",
              "      <td>200.000000</td>\n",
              "    </tr>\n",
              "    <tr>\n",
              "      <th>mean</th>\n",
              "      <td>0.440000</td>\n",
              "      <td>38.850000</td>\n",
              "      <td>60.560000</td>\n",
              "      <td>50.200000</td>\n",
              "    </tr>\n",
              "    <tr>\n",
              "      <th>std</th>\n",
              "      <td>0.497633</td>\n",
              "      <td>13.969007</td>\n",
              "      <td>26.264721</td>\n",
              "      <td>25.823522</td>\n",
              "    </tr>\n",
              "    <tr>\n",
              "      <th>min</th>\n",
              "      <td>0.000000</td>\n",
              "      <td>18.000000</td>\n",
              "      <td>15.000000</td>\n",
              "      <td>1.000000</td>\n",
              "    </tr>\n",
              "    <tr>\n",
              "      <th>25%</th>\n",
              "      <td>0.000000</td>\n",
              "      <td>28.750000</td>\n",
              "      <td>41.500000</td>\n",
              "      <td>34.750000</td>\n",
              "    </tr>\n",
              "    <tr>\n",
              "      <th>50%</th>\n",
              "      <td>0.000000</td>\n",
              "      <td>36.000000</td>\n",
              "      <td>61.500000</td>\n",
              "      <td>50.000000</td>\n",
              "    </tr>\n",
              "    <tr>\n",
              "      <th>75%</th>\n",
              "      <td>1.000000</td>\n",
              "      <td>49.000000</td>\n",
              "      <td>78.000000</td>\n",
              "      <td>73.000000</td>\n",
              "    </tr>\n",
              "    <tr>\n",
              "      <th>max</th>\n",
              "      <td>1.000000</td>\n",
              "      <td>70.000000</td>\n",
              "      <td>137.000000</td>\n",
              "      <td>99.000000</td>\n",
              "    </tr>\n",
              "  </tbody>\n",
              "</table>\n",
              "</div>"
            ],
            "text/plain": [
              "           Gender         Age  Annual Income (k$)  Spending Score (1-100)\n",
              "count  200.000000  200.000000          200.000000              200.000000\n",
              "mean     0.440000   38.850000           60.560000               50.200000\n",
              "std      0.497633   13.969007           26.264721               25.823522\n",
              "min      0.000000   18.000000           15.000000                1.000000\n",
              "25%      0.000000   28.750000           41.500000               34.750000\n",
              "50%      0.000000   36.000000           61.500000               50.000000\n",
              "75%      1.000000   49.000000           78.000000               73.000000\n",
              "max      1.000000   70.000000          137.000000               99.000000"
            ]
          },
          "metadata": {
            "tags": []
          },
          "execution_count": 13
        }
      ]
    },
    {
      "metadata": {
        "id": "_XpoAyf2rFaL",
        "colab_type": "text"
      },
      "cell_type": "markdown",
      "source": [
        "### Let's get a histogram distribution of annual income.\n",
        "\n",
        "\n"
      ]
    },
    {
      "metadata": {
        "id": "pEaJMQskGHT-",
        "colab_type": "code",
        "colab": {
          "base_uri": "https://localhost:8080/",
          "height": 395
        },
        "outputId": "412a32af-3227-405a-c2dc-87bd7ea8d3fe"
      },
      "cell_type": "code",
      "source": [
        "n_bins = 10\n",
        "x = df['Annual Income (k$)']\n",
        "\n",
        "fig, axs = plt.subplots()\n",
        "\n",
        "# N is the count in each bin, bins is the lower-limit of the bin\n",
        "N, bins, patches = axs.hist(x, bins=n_bins)\n",
        "\n",
        "# We'll color code by height, but you could use any scalar\n",
        "fracs = N / N.max()\n",
        "\n",
        "# we need to normalize the data to 0..1 for the full range of the colormap\n",
        "norm = colors.Normalize(fracs.min(), fracs.max())\n",
        "\n",
        "# Now, we'll loop through our objects and set the color of each accordingly\n",
        "for thisfrac, thispatch in zip(fracs, patches):\n",
        "    color = plt.cm.viridis(norm(thisfrac))\n",
        "    thispatch.set_facecolor(color)\n",
        "    \n",
        "plt.xlabel('Annual Income (k$)',fontweight='bold')\n",
        "plt.ylabel('Count',fontweight='bold')\n",
        "plt.title('Histogram - Annual Income',fontsize = 15,fontweight='bold')"
      ],
      "execution_count": 14,
      "outputs": [
        {
          "output_type": "execute_result",
          "data": {
            "text/plain": [
              "Text(0.5, 1.0, 'Histogram - Annual Income')"
            ]
          },
          "metadata": {
            "tags": []
          },
          "execution_count": 14
        },
        {
          "output_type": "display_data",
          "data": {
            "image/png": "[encoded data removed]",
            "text/plain": [
              "<Figure size 576x396 with 1 Axes>"
            ]
          },
          "metadata": {
            "tags": []
          }
        }
      ]
    },
    {
      "metadata": {
        "id": "BEDpOrjGsPkm",
        "colab_type": "text"
      },
      "cell_type": "markdown",
      "source": [
        "### Let's plot a histogram of the age distribution."
      ]
    },
    {
      "metadata": {
        "id": "IVrf-LRnsZzT",
        "colab_type": "code",
        "colab": {
          "base_uri": "https://localhost:8080/",
          "height": 395
        },
        "outputId": "820c0a87-f00e-4ecc-d79f-fefaad98dad7"
      },
      "cell_type": "code",
      "source": [
        "n_bins = 20\n",
        "x = df['Age']\n",
        "\n",
        "fig, axs = plt.subplots()\n",
        "\n",
        "# N is the count in each bin, bins is the lower-limit of the bin\n",
        "N, bins, patches = axs.hist(x, bins=n_bins)\n",
        "\n",
        "# We'll color code by height, but you could use any scalar\n",
        "fracs = N / N.max()\n",
        "\n",
        "# we need to normalize the data to 0..1 for the full range of the colormap\n",
        "norm = colors.Normalize(fracs.min(), fracs.max())\n",
        "\n",
        "# Now, we'll loop through our objects and set the color of each accordingly\n",
        "for thisfrac, thispatch in zip(fracs, patches):\n",
        "    color = plt.cm.viridis(norm(thisfrac))\n",
        "    thispatch.set_facecolor(color)\n",
        "    \n",
        "plt.xlabel('Age',fontweight='bold')\n",
        "plt.ylabel('Count',fontweight='bold')\n",
        "plt.title('Histogram - Age',fontsize = 15,fontweight='bold')"
      ],
      "execution_count": 15,
      "outputs": [
        {
          "output_type": "execute_result",
          "data": {
            "text/plain": [
              "Text(0.5, 1.0, 'Histogram - Age')"
            ]
          },
          "metadata": {
            "tags": []
          },
          "execution_count": 15
        },
        {
          "output_type": "display_data",
          "data": {
            "image/png": "[encoded data removed]",
            "text/plain": [
              "<Figure size 576x396 with 1 Axes>"
            ]
          },
          "metadata": {
            "tags": []
          }
        }
      ]
    },
    {
      "metadata": {
        "id": "Vv1BiGbSs9QZ",
        "colab_type": "text"
      },
      "cell_type": "markdown",
      "source": [
        "### Let's plot a histogram of the spending score."
      ]
    },
    {
      "metadata": {
        "id": "wGj0OeCYc0Zr",
        "colab_type": "code",
        "outputId": "1e4e143d-42d8-44df-f935-1f6525eb1e20",
        "colab": {
          "base_uri": "https://localhost:8080/",
          "height": 395
        }
      },
      "cell_type": "code",
      "source": [
        "n_bins = 20\n",
        "x = df['Spending Score (1-100)']\n",
        "\n",
        "fig, axs = plt.subplots()\n",
        "\n",
        "# N is the count in each bin, bins is the lower-limit of the bin\n",
        "N, bins, patches = axs.hist(x, bins=n_bins)\n",
        "\n",
        "# We'll color code by height, but you could use any scalar\n",
        "fracs = N / N.max()\n",
        "\n",
        "# we need to normalize the data to 0..1 for the full range of the colormap\n",
        "norm = colors.Normalize(fracs.min(), fracs.max())\n",
        "\n",
        "# Now, we'll loop through our objects and set the color of each accordingly\n",
        "for thisfrac, thispatch in zip(fracs, patches):\n",
        "    color = plt.cm.viridis(norm(thisfrac))\n",
        "    thispatch.set_facecolor(color)\n",
        "    \n",
        "plt.xlabel('Spending Score',fontweight='bold')\n",
        "plt.ylabel('Count',fontweight='bold')\n",
        "plt.title('Histogram - Spending Score',fontsize = 15,fontweight='bold')"
      ],
      "execution_count": 16,
      "outputs": [
        {
          "output_type": "execute_result",
          "data": {
            "text/plain": [
              "Text(0.5, 1.0, 'Histogram - Spending Score')"
            ]
          },
          "metadata": {
            "tags": []
          },
          "execution_count": 16
        },
        {
          "output_type": "display_data",
          "data": {
            "image/png": "[encoded data removed]",
            "text/plain": [
              "<Figure size 576x396 with 1 Axes>"
            ]
          },
          "metadata": {
            "tags": []
          }
        }
      ]
    },
    {
      "metadata": {
        "id": "W4E4EcL8wBj-",
        "colab_type": "text"
      },
      "cell_type": "markdown",
      "source": [
        "### Separate the dataset into train and test sets...."
      ]
    },
    {
      "metadata": {
        "id": "U3KzGRwpupr-",
        "colab_type": "code",
        "colab": {}
      },
      "cell_type": "code",
      "source": [
        "from sklearn.model_selection import train_test_split\n",
        "\n",
        "y=df['Spending Score (1-100)']\n",
        "X = df[['Gender','Age','Annual Income (k$)']].copy()\n",
        "\n",
        "X_train, X_test, y_train, y_test = train_test_split(X, y, test_size=0.33, random_state=42)"
      ],
      "execution_count": 0,
      "outputs": []
    },
    {
      "metadata": {
        "id": "WtDFv_pB1ZvQ",
        "colab_type": "text"
      },
      "cell_type": "markdown",
      "source": [
        "### Use sklearn's StandardScaler to feature scale X_train and y."
      ]
    },
    {
      "metadata": {
        "id": "mchL7bzAwyRt",
        "colab_type": "code",
        "colab": {
          "base_uri": "https://localhost:8080/",
          "height": 93
        },
        "outputId": "34200731-70f2-499f-dee8-7004223151ed"
      },
      "cell_type": "code",
      "source": [
        "from sklearn.preprocessing import StandardScaler\n",
        "\n",
        "scaler = StandardScaler()\n",
        "scaler.fit(X_train)\n",
        "X_train_mean = scaler.mean_\n",
        "X_train_std_dev = scaler.scale_\n",
        "print(X_train_mean,X_train_std_dev)"
      ],
      "execution_count": 19,
      "outputs": [
        {
          "output_type": "stream",
          "text": [
            "[ 0.47014925 38.88059701 60.76865672] [ 0.49910814 14.05057219 27.2188242 ]\n"
          ],
          "name": "stdout"
        },
        {
          "output_type": "stream",
          "text": [
            "/usr/local/lib/python3.6/dist-packages/sklearn/preprocessing/data.py:625: DataConversionWarning: Data with input dtype int8, int64 were all converted to float64 by StandardScaler.\n",
            "  return self.partial_fit(X, y)\n"
          ],
          "name": "stderr"
        }
      ]
    },
    {
      "metadata": {
        "id": "vK2WWOll0r56",
        "colab_type": "code",
        "colab": {
          "base_uri": "https://localhost:8080/",
          "height": 93
        },
        "outputId": "4d0faada-a5ca-47c4-e004-a0e4606c5a91"
      },
      "cell_type": "code",
      "source": [
        "y_train = y_train.reshape(-1,1)\n",
        "scaler.fit(y_train)\n",
        "y_train_mean = scaler.mean_\n",
        "y_train_std_dev = scaler.scale_\n",
        "print(y_train_mean,y_train_std_dev)"
      ],
      "execution_count": 26,
      "outputs": [
        {
          "output_type": "stream",
          "text": [
            "[51.13432836] [26.39843704]\n"
          ],
          "name": "stdout"
        },
        {
          "output_type": "stream",
          "text": [
            "/usr/local/lib/python3.6/dist-packages/sklearn/utils/validation.py:595: DataConversionWarning: Data with input dtype int64 was converted to float64 by StandardScaler.\n",
            "  warnings.warn(msg, DataConversionWarning)\n"
          ],
          "name": "stderr"
        }
      ]
    }
  ]
}