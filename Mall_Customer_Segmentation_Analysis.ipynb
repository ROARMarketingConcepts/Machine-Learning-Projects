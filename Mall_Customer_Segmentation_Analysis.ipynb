{
  "nbformat": 4,
  "nbformat_minor": 0,
  "metadata": {
    "colab": {
      "name": "Mall Customer Segmentation Analysis.ipynb",
      "version": "0.3.2",
      "provenance": [],
      "collapsed_sections": [],
      "include_colab_link": true
    },
    "kernelspec": {
      "name": "python3",
      "display_name": "Python 3"
    },
    "accelerator": "TPU"
  },
  "cells": [
    {
      "cell_type": "markdown",
      "metadata": {
        "id": "view-in-github",
        "colab_type": "text"
      },
      "source": [
        "<a href=\"https://colab.research.google.com/github/ROARMarketingConcepts/Machine-Learning-Projects/blob/master/Mall_Customer_Segmentation_Analysis.ipynb\" target=\"_parent\"><img src=\"https://colab.research.google.com/assets/colab-badge.svg\" alt=\"Open In Colab\"/></a>"
      ]
    },
    {
      "metadata": {
        "id": "xrdB4Pvew0ah",
        "colab_type": "text"
      },
      "cell_type": "markdown",
      "source": [
        "## Mall Customer Segmentation Analysis\n",
        "\n",
        "### Background\n",
        "\n",
        "We own a supermarket mall and through membership cards , we have some basic data about our customers like Customer ID, age, gender, annual income and spending score. Spending Score is something we assign to each customer based on our defined parameters like customer behavior and purchasing data.\n",
        "\n",
        "### Problem Statement \n",
        "\n",
        "We want to understand which customers can easily be converted (Target Customers) so that we can relay this information to the marketing team and plan the strategy accordingly.\n",
        "\n",
        "### Inspiration\n",
        "\n",
        "By the end of this analysis, we will be able to answer the following questions. \n",
        "\n",
        "1- How to achieve customer segmentation using machine learning algorithm (KMeans Clustering) in Python. \n",
        "\n",
        "2- Who are our target customers to whom we can start marketing? \n",
        "\n",
        "\n",
        "### Analysis performed by:\n",
        "\n",
        "Ken Wood\n",
        "\n",
        "Senior Marketing Strategist\n",
        "\n",
        "ken@roarmarketingconcepts.com"
      ]
    },
    {
      "metadata": {
        "id": "Q_Brip-8tdjE",
        "colab_type": "text"
      },
      "cell_type": "markdown",
      "source": [
        "\n",
        "\n",
        "\n",
        "---\n",
        "\n"
      ]
    },
    {
      "metadata": {
        "id": "9ALCkfYuqrTZ",
        "colab_type": "text"
      },
      "cell_type": "markdown",
      "source": [
        "### Mount the Google Drive where the dataset is located..."
      ]
    },
    {
      "metadata": {
        "id": "Op1VaBbmzAds",
        "colab_type": "code",
        "outputId": "6b832dc3-6db5-43df-b94b-720ab232dfa7",
        "colab": {
          "base_uri": "https://localhost:8080/",
          "height": 34
        }
      },
      "cell_type": "code",
      "source": [
        "from google.colab import drive\n",
        "drive.mount('/gdrive')"
      ],
      "execution_count": 1,
      "outputs": [
        {
          "output_type": "stream",
          "text": [
            "Drive already mounted at /gdrive; to attempt to forcibly remount, call drive.mount(\"/gdrive\", force_remount=True).\n"
          ],
          "name": "stdout"
        }
      ]
    },
    {
      "metadata": {
        "id": "DrdaZhEvlliM",
        "colab_type": "code",
        "colab": {}
      },
      "cell_type": "code",
      "source": [
        "# !apt install proj-bin libproj-dev libgeos-dev\n",
        "# !pip install git+https://github.com/thearn/pygmaps-extended\n",
        "# !pip install gmplot"
      ],
      "execution_count": 0,
      "outputs": []
    },
    {
      "metadata": {
        "id": "twm5n0jglxFD",
        "colab_type": "code",
        "colab": {}
      },
      "cell_type": "code",
      "source": [
        "# !pip install https://github.com/matplotlib/basemap/archive/v1.1.0.tar.gz\n",
        "# !sudo pip install -U git+https://github.com/matplotlib/basemap.git"
      ],
      "execution_count": 0,
      "outputs": []
    },
    {
      "metadata": {
        "id": "CaqrF3-Zq2PC",
        "colab_type": "text"
      },
      "cell_type": "markdown",
      "source": [
        "### Install some necessary packages to perform the required analysis..."
      ]
    },
    {
      "metadata": {
        "id": "fXW19Ug6MF-W",
        "colab_type": "code",
        "colab": {}
      },
      "cell_type": "code",
      "source": [
        "# !pip install -U scikit-learn\n",
        "# !pip install --user --upgrade tables\n",
        "# !sudo -H pip install seaborn==0.9.0\n",
        "\n",
        "# !pip install pyproj\n",
        "\n",
        "import pandas as pd\n",
        "import numpy as np\n",
        "import sklearn\n",
        "import scipy\n",
        "import calendar\n",
        "from datetime import datetime as dt\n",
        "\n",
        "import matplotlib as mpl\n",
        "import matplotlib.pyplot as plt\n",
        "from matplotlib import interactive\n",
        "from matplotlib import colors\n",
        "from matplotlib.ticker import PercentFormatter\n",
        "plt.rc(\"font\", size=14)\n",
        "from pylab import scatter, show, legend, xlabel, ylabel\n",
        "\n",
        "# from mpl_toolkits.basemap import Basemap\n",
        "\n",
        "import seaborn as sns\n",
        "sns.set(style=\"white\")\n",
        "sns.set(style=\"whitegrid\", color_codes=True)\n",
        "\n",
        "# Ignore useless warnings (see SciPy issue #5998)\n",
        "import warnings\n",
        "warnings.filterwarnings(action=\"ignore\", message=\"^internal gelsd\")"
      ],
      "execution_count": 0,
      "outputs": []
    },
    {
      "metadata": {
        "id": "UrkGvrxrDxb4",
        "colab_type": "code",
        "outputId": "590935bb-2262-43b9-ab69-c1a42ebbb1e3",
        "colab": {
          "base_uri": "https://localhost:8080/",
          "height": 59
        }
      },
      "cell_type": "code",
      "source": [
        "\"\"\"width = 28000000; lon_0 = -105; lat_0 = 40\n",
        "m = Basemap(width=width,height=width,projection='aeqd',\n",
        "            lat_0=lat_0,lon_0=lon_0)\n",
        "# fill background.\n",
        "m.drawmapboundary(fill_color='aqua')\n",
        "# draw coasts and fill continents.\n",
        "m.drawcoastlines(linewidth=0.5)\n",
        "m.fillcontinents(color='coral',lake_color='aqua')\n",
        "# 20 degree graticule.\n",
        "m.drawparallels(np.arange(-80,81,20))\n",
        "m.drawmeridians(np.arange(-180,180,20))\n",
        "# draw a black dot at the center.\n",
        "xpt, ypt = m(lon_0, lat_0)\n",
        "m.plot([xpt],[ypt],'ko')\n",
        "# draw the title.\n",
        "plt.title('Azimuthal Equidistant Projection')\n",
        "plt.show()\"\"\""
      ],
      "execution_count": 5,
      "outputs": [
        {
          "output_type": "execute_result",
          "data": {
            "text/plain": [
              "\"width = 28000000; lon_0 = -105; lat_0 = 40\\nm = Basemap(width=width,height=width,projection='aeqd',\\n            lat_0=lat_0,lon_0=lon_0)\\n# fill background.\\nm.drawmapboundary(fill_color='aqua')\\n# draw coasts and fill continents.\\nm.drawcoastlines(linewidth=0.5)\\nm.fillcontinents(color='coral',lake_color='aqua')\\n# 20 degree graticule.\\nm.drawparallels(np.arange(-80,81,20))\\nm.drawmeridians(np.arange(-180,180,20))\\n# draw a black dot at the center.\\nxpt, ypt = m(lon_0, lat_0)\\nm.plot([xpt],[ypt],'ko')\\n# draw the title.\\nplt.title('Azimuthal Equidistant Projection')\\nplt.show()\""
            ]
          },
          "metadata": {
            "tags": []
          },
          "execution_count": 5
        }
      ]
    },
    {
      "metadata": {
        "id": "58of5Ft_3qQ_",
        "colab_type": "code",
        "colab": {}
      },
      "cell_type": "code",
      "source": [
        "class color:\n",
        "   PURPLE = '\\033[95m'\n",
        "   CYAN = '\\033[96m'\n",
        "   DARKCYAN = '\\033[36m'\n",
        "   BLUE = '\\033[94m'\n",
        "   GREEN = '\\033[92m'\n",
        "   YELLOW = '\\033[93m'\n",
        "   RED = '\\033[91m'\n",
        "   BOLD = '\\033[1m'\n",
        "   UNDERLINE = '\\033[4m'\n",
        "   END = '\\033[0m'"
      ],
      "execution_count": 0,
      "outputs": []
    },
    {
      "metadata": {
        "id": "YsUIKTNDq_JY",
        "colab_type": "text"
      },
      "cell_type": "markdown",
      "source": [
        "### Load the dataset..."
      ]
    },
    {
      "metadata": {
        "id": "RpQYnzQpMOTm",
        "colab_type": "code",
        "colab": {}
      },
      "cell_type": "code",
      "source": [
        "df = pd.read_csv('/gdrive/My Drive/Colab Notebooks/Mall Customer Analysis/Mall_Customers.csv')"
      ],
      "execution_count": 0,
      "outputs": []
    },
    {
      "metadata": {
        "id": "4zVpmEQNIdMa",
        "colab_type": "text"
      },
      "cell_type": "markdown",
      "source": [
        "### Let's take a quick look at a few lines of the dataset..."
      ]
    },
    {
      "metadata": {
        "id": "cjaBbs9E51OF",
        "colab_type": "code",
        "outputId": "3bfaaa72-ff9c-41a2-fb4e-8df7305e398e",
        "colab": {
          "base_uri": "https://localhost:8080/",
          "height": 204
        }
      },
      "cell_type": "code",
      "source": [
        "df.head()"
      ],
      "execution_count": 8,
      "outputs": [
        {
          "output_type": "execute_result",
          "data": {
            "text/html": [
              "<div>\n",
              "<style scoped>\n",
              "    .dataframe tbody tr th:only-of-type {\n",
              "        vertical-align: middle;\n",
              "    }\n",
              "\n",
              "    .dataframe tbody tr th {\n",
              "        vertical-align: top;\n",
              "    }\n",
              "\n",
              "    .dataframe thead th {\n",
              "        text-align: right;\n",
              "    }\n",
              "</style>\n",
              "<table border=\"1\" class=\"dataframe\">\n",
              "  <thead>\n",
              "    <tr style=\"text-align: right;\">\n",
              "      <th></th>\n",
              "      <th>CustomerID</th>\n",
              "      <th>Gender</th>\n",
              "      <th>Age</th>\n",
              "      <th>Annual Income (k$)</th>\n",
              "      <th>Spending Score (1-100)</th>\n",
              "    </tr>\n",
              "  </thead>\n",
              "  <tbody>\n",
              "    <tr>\n",
              "      <th>0</th>\n",
              "      <td>1</td>\n",
              "      <td>Male</td>\n",
              "      <td>19</td>\n",
              "      <td>15</td>\n",
              "      <td>39</td>\n",
              "    </tr>\n",
              "    <tr>\n",
              "      <th>1</th>\n",
              "      <td>2</td>\n",
              "      <td>Male</td>\n",
              "      <td>21</td>\n",
              "      <td>15</td>\n",
              "      <td>81</td>\n",
              "    </tr>\n",
              "    <tr>\n",
              "      <th>2</th>\n",
              "      <td>3</td>\n",
              "      <td>Female</td>\n",
              "      <td>20</td>\n",
              "      <td>16</td>\n",
              "      <td>6</td>\n",
              "    </tr>\n",
              "    <tr>\n",
              "      <th>3</th>\n",
              "      <td>4</td>\n",
              "      <td>Female</td>\n",
              "      <td>23</td>\n",
              "      <td>16</td>\n",
              "      <td>77</td>\n",
              "    </tr>\n",
              "    <tr>\n",
              "      <th>4</th>\n",
              "      <td>5</td>\n",
              "      <td>Female</td>\n",
              "      <td>31</td>\n",
              "      <td>17</td>\n",
              "      <td>40</td>\n",
              "    </tr>\n",
              "  </tbody>\n",
              "</table>\n",
              "</div>"
            ],
            "text/plain": [
              "   CustomerID  Gender  Age  Annual Income (k$)  Spending Score (1-100)\n",
              "0           1    Male   19                  15                      39\n",
              "1           2    Male   21                  15                      81\n",
              "2           3  Female   20                  16                       6\n",
              "3           4  Female   23                  16                      77\n",
              "4           5  Female   31                  17                      40"
            ]
          },
          "metadata": {
            "tags": []
          },
          "execution_count": 8
        }
      ]
    },
    {
      "metadata": {
        "id": "0inEwh12IRRy",
        "colab_type": "text"
      },
      "cell_type": "markdown",
      "source": [
        "### How many values in the dataset are missing?"
      ]
    },
    {
      "metadata": {
        "id": "MRexXkMLlA_E",
        "colab_type": "code",
        "outputId": "b3c74139-892f-40fe-9e3a-01438348e476",
        "colab": {
          "base_uri": "https://localhost:8080/",
          "height": 119
        }
      },
      "cell_type": "code",
      "source": [
        "df.isnull().sum()"
      ],
      "execution_count": 9,
      "outputs": [
        {
          "output_type": "execute_result",
          "data": {
            "text/plain": [
              "CustomerID                0\n",
              "Gender                    0\n",
              "Age                       0\n",
              "Annual Income (k$)        0\n",
              "Spending Score (1-100)    0\n",
              "dtype: int64"
            ]
          },
          "metadata": {
            "tags": []
          },
          "execution_count": 9
        }
      ]
    },
    {
      "metadata": {
        "id": "n2EBITrV42iX",
        "colab_type": "text"
      },
      "cell_type": "markdown",
      "source": [
        "### Let's use 'CustomerID' as the index for the dataset."
      ]
    },
    {
      "metadata": {
        "id": "KnjrPTMrtfPg",
        "colab_type": "code",
        "colab": {}
      },
      "cell_type": "code",
      "source": [
        "df.set_index('CustomerID',inplace=True)"
      ],
      "execution_count": 0,
      "outputs": []
    },
    {
      "metadata": {
        "id": "dlFCJaWDz6SL",
        "colab_type": "text"
      },
      "cell_type": "markdown",
      "source": [
        "### Let's color code the 'Gender' feature for plotting..."
      ]
    },
    {
      "metadata": {
        "id": "578btGQUypkJ",
        "colab_type": "code",
        "colab": {}
      },
      "cell_type": "code",
      "source": [
        "df['Gender Color'] = df.Gender.map({'Female':'#3498db', 'Male':'#9b59b6'})"
      ],
      "execution_count": 0,
      "outputs": []
    },
    {
      "metadata": {
        "id": "J8xuLH_bAM79",
        "colab_type": "code",
        "outputId": "7ba4e23b-fc98-4b7e-a77c-46f806355574",
        "colab": {
          "base_uri": "https://localhost:8080/",
          "height": 235
        }
      },
      "cell_type": "code",
      "source": [
        "df.head()"
      ],
      "execution_count": 12,
      "outputs": [
        {
          "output_type": "execute_result",
          "data": {
            "text/html": [
              "<div>\n",
              "<style scoped>\n",
              "    .dataframe tbody tr th:only-of-type {\n",
              "        vertical-align: middle;\n",
              "    }\n",
              "\n",
              "    .dataframe tbody tr th {\n",
              "        vertical-align: top;\n",
              "    }\n",
              "\n",
              "    .dataframe thead th {\n",
              "        text-align: right;\n",
              "    }\n",
              "</style>\n",
              "<table border=\"1\" class=\"dataframe\">\n",
              "  <thead>\n",
              "    <tr style=\"text-align: right;\">\n",
              "      <th></th>\n",
              "      <th>Gender</th>\n",
              "      <th>Age</th>\n",
              "      <th>Annual Income (k$)</th>\n",
              "      <th>Spending Score (1-100)</th>\n",
              "      <th>Gender Color</th>\n",
              "    </tr>\n",
              "    <tr>\n",
              "      <th>CustomerID</th>\n",
              "      <th></th>\n",
              "      <th></th>\n",
              "      <th></th>\n",
              "      <th></th>\n",
              "      <th></th>\n",
              "    </tr>\n",
              "  </thead>\n",
              "  <tbody>\n",
              "    <tr>\n",
              "      <th>1</th>\n",
              "      <td>Male</td>\n",
              "      <td>19</td>\n",
              "      <td>15</td>\n",
              "      <td>39</td>\n",
              "      <td>#9b59b6</td>\n",
              "    </tr>\n",
              "    <tr>\n",
              "      <th>2</th>\n",
              "      <td>Male</td>\n",
              "      <td>21</td>\n",
              "      <td>15</td>\n",
              "      <td>81</td>\n",
              "      <td>#9b59b6</td>\n",
              "    </tr>\n",
              "    <tr>\n",
              "      <th>3</th>\n",
              "      <td>Female</td>\n",
              "      <td>20</td>\n",
              "      <td>16</td>\n",
              "      <td>6</td>\n",
              "      <td>#3498db</td>\n",
              "    </tr>\n",
              "    <tr>\n",
              "      <th>4</th>\n",
              "      <td>Female</td>\n",
              "      <td>23</td>\n",
              "      <td>16</td>\n",
              "      <td>77</td>\n",
              "      <td>#3498db</td>\n",
              "    </tr>\n",
              "    <tr>\n",
              "      <th>5</th>\n",
              "      <td>Female</td>\n",
              "      <td>31</td>\n",
              "      <td>17</td>\n",
              "      <td>40</td>\n",
              "      <td>#3498db</td>\n",
              "    </tr>\n",
              "  </tbody>\n",
              "</table>\n",
              "</div>"
            ],
            "text/plain": [
              "            Gender  Age  Annual Income (k$)  Spending Score (1-100)  \\\n",
              "CustomerID                                                            \n",
              "1             Male   19                  15                      39   \n",
              "2             Male   21                  15                      81   \n",
              "3           Female   20                  16                       6   \n",
              "4           Female   23                  16                      77   \n",
              "5           Female   31                  17                      40   \n",
              "\n",
              "           Gender Color  \n",
              "CustomerID               \n",
              "1               #9b59b6  \n",
              "2               #9b59b6  \n",
              "3               #3498db  \n",
              "4               #3498db  \n",
              "5               #3498db  "
            ]
          },
          "metadata": {
            "tags": []
          },
          "execution_count": 12
        }
      ]
    },
    {
      "metadata": {
        "id": "c_nAf04vjOAI",
        "colab_type": "code",
        "outputId": "c27179ad-e2e1-4f51-bbf9-d482cf34a12a",
        "colab": {
          "base_uri": "https://localhost:8080/",
          "height": 297
        }
      },
      "cell_type": "code",
      "source": [
        "df.describe()"
      ],
      "execution_count": 13,
      "outputs": [
        {
          "output_type": "execute_result",
          "data": {
            "text/html": [
              "<div>\n",
              "<style scoped>\n",
              "    .dataframe tbody tr th:only-of-type {\n",
              "        vertical-align: middle;\n",
              "    }\n",
              "\n",
              "    .dataframe tbody tr th {\n",
              "        vertical-align: top;\n",
              "    }\n",
              "\n",
              "    .dataframe thead th {\n",
              "        text-align: right;\n",
              "    }\n",
              "</style>\n",
              "<table border=\"1\" class=\"dataframe\">\n",
              "  <thead>\n",
              "    <tr style=\"text-align: right;\">\n",
              "      <th></th>\n",
              "      <th>Age</th>\n",
              "      <th>Annual Income (k$)</th>\n",
              "      <th>Spending Score (1-100)</th>\n",
              "    </tr>\n",
              "  </thead>\n",
              "  <tbody>\n",
              "    <tr>\n",
              "      <th>count</th>\n",
              "      <td>200.000000</td>\n",
              "      <td>200.000000</td>\n",
              "      <td>200.000000</td>\n",
              "    </tr>\n",
              "    <tr>\n",
              "      <th>mean</th>\n",
              "      <td>38.850000</td>\n",
              "      <td>60.560000</td>\n",
              "      <td>50.200000</td>\n",
              "    </tr>\n",
              "    <tr>\n",
              "      <th>std</th>\n",
              "      <td>13.969007</td>\n",
              "      <td>26.264721</td>\n",
              "      <td>25.823522</td>\n",
              "    </tr>\n",
              "    <tr>\n",
              "      <th>min</th>\n",
              "      <td>18.000000</td>\n",
              "      <td>15.000000</td>\n",
              "      <td>1.000000</td>\n",
              "    </tr>\n",
              "    <tr>\n",
              "      <th>25%</th>\n",
              "      <td>28.750000</td>\n",
              "      <td>41.500000</td>\n",
              "      <td>34.750000</td>\n",
              "    </tr>\n",
              "    <tr>\n",
              "      <th>50%</th>\n",
              "      <td>36.000000</td>\n",
              "      <td>61.500000</td>\n",
              "      <td>50.000000</td>\n",
              "    </tr>\n",
              "    <tr>\n",
              "      <th>75%</th>\n",
              "      <td>49.000000</td>\n",
              "      <td>78.000000</td>\n",
              "      <td>73.000000</td>\n",
              "    </tr>\n",
              "    <tr>\n",
              "      <th>max</th>\n",
              "      <td>70.000000</td>\n",
              "      <td>137.000000</td>\n",
              "      <td>99.000000</td>\n",
              "    </tr>\n",
              "  </tbody>\n",
              "</table>\n",
              "</div>"
            ],
            "text/plain": [
              "              Age  Annual Income (k$)  Spending Score (1-100)\n",
              "count  200.000000          200.000000              200.000000\n",
              "mean    38.850000           60.560000               50.200000\n",
              "std     13.969007           26.264721               25.823522\n",
              "min     18.000000           15.000000                1.000000\n",
              "25%     28.750000           41.500000               34.750000\n",
              "50%     36.000000           61.500000               50.000000\n",
              "75%     49.000000           78.000000               73.000000\n",
              "max     70.000000          137.000000               99.000000"
            ]
          },
          "metadata": {
            "tags": []
          },
          "execution_count": 13
        }
      ]
    },
    {
      "metadata": {
        "id": "0AtaQvrn1TNf",
        "colab_type": "code",
        "colab": {}
      },
      "cell_type": "code",
      "source": [
        "df['Age Groups'] = pd.cut(df.Age,bins=[10, 20, 30, 40, 50, 60, 70],include_lowest=False)\n",
        "df_plot1 = df.groupby(['Age Groups','Gender']).count().reset_index()\n",
        "df_plot1.rename(columns={'Age':'Number'},inplace=True)"
      ],
      "execution_count": 0,
      "outputs": []
    },
    {
      "metadata": {
        "id": "1IrSqYCQ7Unq",
        "colab_type": "text"
      },
      "cell_type": "markdown",
      "source": [
        "### Let's plot the number of males and females by age group."
      ]
    },
    {
      "metadata": {
        "id": "vgwYaeXnVeof",
        "colab_type": "code",
        "outputId": "d9774868-8389-421e-cf4e-900b6ded7f9c",
        "colab": {
          "base_uri": "https://localhost:8080/",
          "height": 506
        }
      },
      "cell_type": "code",
      "source": [
        "fig = plt.gcf()\n",
        "fig.set_size_inches(10.5, 6.5)\n",
        "ax = sns.barplot(x=\"Age Groups\", y='Number', hue=\"Gender\", data=df_plot1)\n",
        "plt.title('Age Group Distribution by Gender')"
      ],
      "execution_count": 15,
      "outputs": [
        {
          "output_type": "stream",
          "text": [
            "/usr/local/lib/python3.6/dist-packages/seaborn/categorical.py:1468: FutureWarning: remove_na is deprecated and is a private function. Do not use.\n",
            "  stat_data = remove_na(group_data[hue_mask])\n"
          ],
          "name": "stderr"
        },
        {
          "output_type": "execute_result",
          "data": {
            "text/plain": [
              "Text(0.5, 1.0, 'Age Group Distribution by Gender')"
            ]
          },
          "metadata": {
            "tags": []
          },
          "execution_count": 15
        },
        {
          "output_type": "display_data",
          "data": {
            "image/png": "[encoded data removed]",
            "text/plain": [
              "<Figure size 756x468 with 1 Axes>"
            ]
          },
          "metadata": {
            "tags": []
          }
        }
      ]
    },
    {
      "metadata": {
        "id": "noKQR6A8InE1",
        "colab_type": "text"
      },
      "cell_type": "markdown",
      "source": [
        "### Let's plot the number of males and females by Annual Income."
      ]
    },
    {
      "metadata": {
        "id": "jiNrvbDJIzEE",
        "colab_type": "code",
        "colab": {}
      },
      "cell_type": "code",
      "source": [
        "df['Income Groups'] = pd.cut(df['Annual Income (k$)'],bins=[10, 20, 30, 40, 50, 60, 70, 80, 90, 100, 110, 120, 130, 140],include_lowest=False)\n",
        "df_plot2 = df.groupby(['Income Groups','Gender']).count().reset_index()\n",
        "df_plot2.rename(columns={'Age':'Number'},inplace=True)"
      ],
      "execution_count": 0,
      "outputs": []
    },
    {
      "metadata": {
        "id": "lP0NJzVgJJH1",
        "colab_type": "code",
        "colab": {
          "base_uri": "https://localhost:8080/",
          "height": 506
        },
        "outputId": "72ff0228-9826-45e9-c5c2-18013c2ea6af"
      },
      "cell_type": "code",
      "source": [
        "fig = plt.gcf()\n",
        "fig.set_size_inches(18.5, 6.5)\n",
        "ax = sns.barplot(x=\"Income Groups\", y='Number', hue=\"Gender\", data=df_plot2)\n",
        "plt.title('Income Group Distribution by Gender')"
      ],
      "execution_count": 17,
      "outputs": [
        {
          "output_type": "stream",
          "text": [
            "/usr/local/lib/python3.6/dist-packages/seaborn/categorical.py:1468: FutureWarning: remove_na is deprecated and is a private function. Do not use.\n",
            "  stat_data = remove_na(group_data[hue_mask])\n"
          ],
          "name": "stderr"
        },
        {
          "output_type": "execute_result",
          "data": {
            "text/plain": [
              "Text(0.5, 1.0, 'Income Group Distribution by Gender')"
            ]
          },
          "metadata": {
            "tags": []
          },
          "execution_count": 17
        },
        {
          "output_type": "display_data",
          "data": {
            "image/png": "[encoded data removed]",
            "text/plain": [
              "<Figure size 1332x468 with 1 Axes>"
            ]
          },
          "metadata": {
            "tags": []
          }
        }
      ]
    },
    {
      "metadata": {
        "id": "NwaKdxHU8AEY",
        "colab_type": "text"
      },
      "cell_type": "markdown",
      "source": [
        "### Let's plot the number of males and females by Spending Score."
      ]
    },
    {
      "metadata": {
        "id": "9arYSh5f8Y7e",
        "colab_type": "code",
        "colab": {}
      },
      "cell_type": "code",
      "source": [
        "df['Spending Score Groups'] = pd.cut(df['Spending Score (1-100)'],bins=[0, 10, 20, 30, 40, 50, 60, 70, 80, 90, 100],include_lowest=False)\n",
        "df_plot3 = df.groupby(['Spending Score Groups','Gender']).count().reset_index()\n",
        "df_plot3.rename(columns={'Age':'Number'},inplace=True)\n"
      ],
      "execution_count": 0,
      "outputs": []
    },
    {
      "metadata": {
        "id": "VEah4SCv9fNh",
        "colab_type": "code",
        "colab": {
          "base_uri": "https://localhost:8080/",
          "height": 506
        },
        "outputId": "7aa27618-d2c8-4dd5-92d7-ac21ff74544d"
      },
      "cell_type": "code",
      "source": [
        "fig = plt.gcf()\n",
        "fig.set_size_inches(10.5, 6.5)\n",
        "ax = sns.barplot(x=\"Spending Score Groups\", y='Number', hue=\"Gender\", data=df_plot3)\n",
        "plt.title('Spending Score Distribution by Gender')"
      ],
      "execution_count": 19,
      "outputs": [
        {
          "output_type": "stream",
          "text": [
            "/usr/local/lib/python3.6/dist-packages/seaborn/categorical.py:1468: FutureWarning: remove_na is deprecated and is a private function. Do not use.\n",
            "  stat_data = remove_na(group_data[hue_mask])\n"
          ],
          "name": "stderr"
        },
        {
          "output_type": "execute_result",
          "data": {
            "text/plain": [
              "Text(0.5, 1.0, 'Spending Score Distribution by Gender')"
            ]
          },
          "metadata": {
            "tags": []
          },
          "execution_count": 19
        },
        {
          "output_type": "display_data",
          "data": {
            "image/png": "[encoded data removed]",
            "text/plain": [
              "<Figure size 756x468 with 1 Axes>"
            ]
          },
          "metadata": {
            "tags": []
          }
        }
      ]
    },
    {
      "metadata": {
        "id": "3T1tvw8mwjVZ",
        "colab_type": "code",
        "colab": {
          "base_uri": "https://localhost:8080/",
          "height": 235
        },
        "outputId": "4061de06-7f3b-4b76-ac3c-387c5f838386"
      },
      "cell_type": "code",
      "source": [
        "df.head()"
      ],
      "execution_count": 20,
      "outputs": [
        {
          "output_type": "execute_result",
          "data": {
            "text/html": [
              "<div>\n",
              "<style scoped>\n",
              "    .dataframe tbody tr th:only-of-type {\n",
              "        vertical-align: middle;\n",
              "    }\n",
              "\n",
              "    .dataframe tbody tr th {\n",
              "        vertical-align: top;\n",
              "    }\n",
              "\n",
              "    .dataframe thead th {\n",
              "        text-align: right;\n",
              "    }\n",
              "</style>\n",
              "<table border=\"1\" class=\"dataframe\">\n",
              "  <thead>\n",
              "    <tr style=\"text-align: right;\">\n",
              "      <th></th>\n",
              "      <th>Gender</th>\n",
              "      <th>Age</th>\n",
              "      <th>Annual Income (k$)</th>\n",
              "      <th>Spending Score (1-100)</th>\n",
              "      <th>Gender Color</th>\n",
              "      <th>Age Groups</th>\n",
              "      <th>Income Groups</th>\n",
              "      <th>Spending Score Groups</th>\n",
              "    </tr>\n",
              "    <tr>\n",
              "      <th>CustomerID</th>\n",
              "      <th></th>\n",
              "      <th></th>\n",
              "      <th></th>\n",
              "      <th></th>\n",
              "      <th></th>\n",
              "      <th></th>\n",
              "      <th></th>\n",
              "      <th></th>\n",
              "    </tr>\n",
              "  </thead>\n",
              "  <tbody>\n",
              "    <tr>\n",
              "      <th>1</th>\n",
              "      <td>Male</td>\n",
              "      <td>19</td>\n",
              "      <td>15</td>\n",
              "      <td>39</td>\n",
              "      <td>#9b59b6</td>\n",
              "      <td>(10, 20]</td>\n",
              "      <td>(10, 20]</td>\n",
              "      <td>(30, 40]</td>\n",
              "    </tr>\n",
              "    <tr>\n",
              "      <th>2</th>\n",
              "      <td>Male</td>\n",
              "      <td>21</td>\n",
              "      <td>15</td>\n",
              "      <td>81</td>\n",
              "      <td>#9b59b6</td>\n",
              "      <td>(20, 30]</td>\n",
              "      <td>(10, 20]</td>\n",
              "      <td>(80, 90]</td>\n",
              "    </tr>\n",
              "    <tr>\n",
              "      <th>3</th>\n",
              "      <td>Female</td>\n",
              "      <td>20</td>\n",
              "      <td>16</td>\n",
              "      <td>6</td>\n",
              "      <td>#3498db</td>\n",
              "      <td>(10, 20]</td>\n",
              "      <td>(10, 20]</td>\n",
              "      <td>(0, 10]</td>\n",
              "    </tr>\n",
              "    <tr>\n",
              "      <th>4</th>\n",
              "      <td>Female</td>\n",
              "      <td>23</td>\n",
              "      <td>16</td>\n",
              "      <td>77</td>\n",
              "      <td>#3498db</td>\n",
              "      <td>(20, 30]</td>\n",
              "      <td>(10, 20]</td>\n",
              "      <td>(70, 80]</td>\n",
              "    </tr>\n",
              "    <tr>\n",
              "      <th>5</th>\n",
              "      <td>Female</td>\n",
              "      <td>31</td>\n",
              "      <td>17</td>\n",
              "      <td>40</td>\n",
              "      <td>#3498db</td>\n",
              "      <td>(30, 40]</td>\n",
              "      <td>(10, 20]</td>\n",
              "      <td>(30, 40]</td>\n",
              "    </tr>\n",
              "  </tbody>\n",
              "</table>\n",
              "</div>"
            ],
            "text/plain": [
              "            Gender  Age  Annual Income (k$)  Spending Score (1-100)  \\\n",
              "CustomerID                                                            \n",
              "1             Male   19                  15                      39   \n",
              "2             Male   21                  15                      81   \n",
              "3           Female   20                  16                       6   \n",
              "4           Female   23                  16                      77   \n",
              "5           Female   31                  17                      40   \n",
              "\n",
              "           Gender Color Age Groups Income Groups Spending Score Groups  \n",
              "CustomerID                                                              \n",
              "1               #9b59b6   (10, 20]      (10, 20]              (30, 40]  \n",
              "2               #9b59b6   (20, 30]      (10, 20]              (80, 90]  \n",
              "3               #3498db   (10, 20]      (10, 20]               (0, 10]  \n",
              "4               #3498db   (20, 30]      (10, 20]              (70, 80]  \n",
              "5               #3498db   (30, 40]      (10, 20]              (30, 40]  "
            ]
          },
          "metadata": {
            "tags": []
          },
          "execution_count": 20
        }
      ]
    },
    {
      "metadata": {
        "id": "GkRSkqvWBQlo",
        "colab_type": "text"
      },
      "cell_type": "markdown",
      "source": [
        "### Let's produce a scatter plot of annual income vs. spending score..."
      ]
    },
    {
      "metadata": {
        "id": "XgyCSOraBpN6",
        "colab_type": "code",
        "colab": {
          "base_uri": "https://localhost:8080/",
          "height": 388
        },
        "outputId": "24280bfb-bfdc-4035-ee46-921829951aa9"
      },
      "cell_type": "code",
      "source": [
        "# Set style of scatterplot\n",
        "\n",
        "sns.set_context(\"notebook\", font_scale=1.1)\n",
        "sns.set_style(\"ticks\")\n",
        "\n",
        "# Create scatterplot of dataframe\n",
        "sns.lmplot('Annual Income (k$)', # Horizontal axis\n",
        "           'Spending Score (1-100)', # Vertical axis\n",
        "           data=df, # Data source\n",
        "           hue='Gender', # Different color markers for 'Male' & 'Female'\n",
        "           fit_reg=False, # Don't fix a regression line\n",
        "           scatter_kws={\"marker\": \"D\", # Set marker style\n",
        "                        \"s\": 50, }) # S marker size\n",
        "\n",
        "#sns.plt.show()\n",
        "\n",
        "\n",
        "# Set title\n",
        "plt.title('Spending Score vs. Annual Income')\n",
        "\n",
        "# Set x-axis label\n",
        "plt.xlabel('Annual Income (k$)')\n",
        "\n",
        "# Set y-axis label\n",
        "plt.ylabel('Spending Score')"
      ],
      "execution_count": 21,
      "outputs": [
        {
          "output_type": "execute_result",
          "data": {
            "text/plain": [
              "Text(39.3269079166667, 0.5, 'Spending Score')"
            ]
          },
          "metadata": {
            "tags": []
          },
          "execution_count": 21
        },
        {
          "output_type": "display_data",
          "data": {
            "image/png": "[encoded data removed]",
            "text/plain": [
              "<Figure size 436.35x360 with 1 Axes>"
            ]
          },
          "metadata": {
            "tags": []
          }
        }
      ]
    },
    {
      "metadata": {
        "id": "jVQiEBL4BvF4",
        "colab_type": "text"
      },
      "cell_type": "markdown",
      "source": [
        "### Let's produce a scatter plot of age vs. spending score..."
      ]
    },
    {
      "metadata": {
        "id": "PP9iqBWRrQJ9",
        "colab_type": "code",
        "colab": {
          "base_uri": "https://localhost:8080/",
          "height": 388
        },
        "outputId": "0873cc5d-1e60-482f-ad79-ea3a0b2132cc"
      },
      "cell_type": "code",
      "source": [
        "# Set style of scatterplot\n",
        "\n",
        "sns.set_context(\"notebook\", font_scale=1.1)\n",
        "sns.set_style(\"ticks\")\n",
        "\n",
        "# Create scatterplot of dataframe\n",
        "sns.lmplot('Age', # Horizontal axis\n",
        "           'Spending Score (1-100)', # Vertical axis\n",
        "           data=df, # Data source\n",
        "           hue = 'Gender', # Different color markers for 'Male' & 'Female'\n",
        "           fit_reg=False, # Don't fix a regression line\n",
        "           scatter_kws={\"marker\": \"D\", # Set marker style\n",
        "                        \"s\": 50}) # S marker size\n",
        "\n",
        "# Set title\n",
        "plt.title('Spending Score vs. Age')\n",
        "\n",
        "# Set x-axis label\n",
        "plt.xlabel('Age')\n",
        "\n",
        "# Set y-axis label\n",
        "plt.ylabel('Spending Score')"
      ],
      "execution_count": 22,
      "outputs": [
        {
          "output_type": "execute_result",
          "data": {
            "text/plain": [
              "Text(39.3269079166667, 0.5, 'Spending Score')"
            ]
          },
          "metadata": {
            "tags": []
          },
          "execution_count": 22
        },
        {
          "output_type": "display_data",
          "data": {
            "image/png": "[encoded data removed]",
            "text/plain": [
              "<Figure size 436.35x360 with 1 Axes>"
            ]
          },
          "metadata": {
            "tags": []
          }
        }
      ]
    },
    {
      "metadata": {
        "id": "sOT3BwjyIoUD",
        "colab_type": "text"
      },
      "cell_type": "markdown",
      "source": [
        "### Let's change the column 'Gender' to a categorical variable and then code it."
      ]
    },
    {
      "metadata": {
        "id": "BrjdDTehJH1U",
        "colab_type": "code",
        "colab": {
          "base_uri": "https://localhost:8080/",
          "height": 235
        },
        "outputId": "c9e089ca-52e9-4687-e6ac-9987cce2cd06"
      },
      "cell_type": "code",
      "source": [
        "df['Gender'] = df['Gender'].astype('category')\n",
        "df['Gender'] = df['Gender'].cat.codes\n",
        "df.head()"
      ],
      "execution_count": 23,
      "outputs": [
        {
          "output_type": "execute_result",
          "data": {
            "text/html": [
              "<div>\n",
              "<style scoped>\n",
              "    .dataframe tbody tr th:only-of-type {\n",
              "        vertical-align: middle;\n",
              "    }\n",
              "\n",
              "    .dataframe tbody tr th {\n",
              "        vertical-align: top;\n",
              "    }\n",
              "\n",
              "    .dataframe thead th {\n",
              "        text-align: right;\n",
              "    }\n",
              "</style>\n",
              "<table border=\"1\" class=\"dataframe\">\n",
              "  <thead>\n",
              "    <tr style=\"text-align: right;\">\n",
              "      <th></th>\n",
              "      <th>Gender</th>\n",
              "      <th>Age</th>\n",
              "      <th>Annual Income (k$)</th>\n",
              "      <th>Spending Score (1-100)</th>\n",
              "      <th>Gender Color</th>\n",
              "      <th>Age Groups</th>\n",
              "      <th>Income Groups</th>\n",
              "      <th>Spending Score Groups</th>\n",
              "    </tr>\n",
              "    <tr>\n",
              "      <th>CustomerID</th>\n",
              "      <th></th>\n",
              "      <th></th>\n",
              "      <th></th>\n",
              "      <th></th>\n",
              "      <th></th>\n",
              "      <th></th>\n",
              "      <th></th>\n",
              "      <th></th>\n",
              "    </tr>\n",
              "  </thead>\n",
              "  <tbody>\n",
              "    <tr>\n",
              "      <th>1</th>\n",
              "      <td>1</td>\n",
              "      <td>19</td>\n",
              "      <td>15</td>\n",
              "      <td>39</td>\n",
              "      <td>#9b59b6</td>\n",
              "      <td>(10, 20]</td>\n",
              "      <td>(10, 20]</td>\n",
              "      <td>(30, 40]</td>\n",
              "    </tr>\n",
              "    <tr>\n",
              "      <th>2</th>\n",
              "      <td>1</td>\n",
              "      <td>21</td>\n",
              "      <td>15</td>\n",
              "      <td>81</td>\n",
              "      <td>#9b59b6</td>\n",
              "      <td>(20, 30]</td>\n",
              "      <td>(10, 20]</td>\n",
              "      <td>(80, 90]</td>\n",
              "    </tr>\n",
              "    <tr>\n",
              "      <th>3</th>\n",
              "      <td>0</td>\n",
              "      <td>20</td>\n",
              "      <td>16</td>\n",
              "      <td>6</td>\n",
              "      <td>#3498db</td>\n",
              "      <td>(10, 20]</td>\n",
              "      <td>(10, 20]</td>\n",
              "      <td>(0, 10]</td>\n",
              "    </tr>\n",
              "    <tr>\n",
              "      <th>4</th>\n",
              "      <td>0</td>\n",
              "      <td>23</td>\n",
              "      <td>16</td>\n",
              "      <td>77</td>\n",
              "      <td>#3498db</td>\n",
              "      <td>(20, 30]</td>\n",
              "      <td>(10, 20]</td>\n",
              "      <td>(70, 80]</td>\n",
              "    </tr>\n",
              "    <tr>\n",
              "      <th>5</th>\n",
              "      <td>0</td>\n",
              "      <td>31</td>\n",
              "      <td>17</td>\n",
              "      <td>40</td>\n",
              "      <td>#3498db</td>\n",
              "      <td>(30, 40]</td>\n",
              "      <td>(10, 20]</td>\n",
              "      <td>(30, 40]</td>\n",
              "    </tr>\n",
              "  </tbody>\n",
              "</table>\n",
              "</div>"
            ],
            "text/plain": [
              "            Gender  Age  Annual Income (k$)  Spending Score (1-100)  \\\n",
              "CustomerID                                                            \n",
              "1                1   19                  15                      39   \n",
              "2                1   21                  15                      81   \n",
              "3                0   20                  16                       6   \n",
              "4                0   23                  16                      77   \n",
              "5                0   31                  17                      40   \n",
              "\n",
              "           Gender Color Age Groups Income Groups Spending Score Groups  \n",
              "CustomerID                                                              \n",
              "1               #9b59b6   (10, 20]      (10, 20]              (30, 40]  \n",
              "2               #9b59b6   (20, 30]      (10, 20]              (80, 90]  \n",
              "3               #3498db   (10, 20]      (10, 20]               (0, 10]  \n",
              "4               #3498db   (20, 30]      (10, 20]              (70, 80]  \n",
              "5               #3498db   (30, 40]      (10, 20]              (30, 40]  "
            ]
          },
          "metadata": {
            "tags": []
          },
          "execution_count": 23
        }
      ]
    },
    {
      "metadata": {
        "id": "_XpoAyf2rFaL",
        "colab_type": "text"
      },
      "cell_type": "markdown",
      "source": [
        "### Let's get a histogram distribution of annual income.\n",
        "\n",
        "\n"
      ]
    },
    {
      "metadata": {
        "id": "pEaJMQskGHT-",
        "colab_type": "code",
        "colab": {
          "base_uri": "https://localhost:8080/",
          "height": 457
        },
        "outputId": "39def630-2f74-4d0f-d01a-426e0af27c63"
      },
      "cell_type": "code",
      "source": [
        "n_bins = 10\n",
        "x = df['Annual Income (k$)']\n",
        "\n",
        "fig, axs = plt.subplots()\n",
        "fig.set_size_inches(10.5, 6.5)\n",
        "\n",
        "# N is the count in each bin, bins is the lower-limit of the bin\n",
        "N, bins, patches = axs.hist(x, bins=n_bins)\n",
        "\n",
        "# We'll color code by height, but you could use any scalar\n",
        "fracs = N / N.max()\n",
        "\n",
        "# we need to normalize the data to 0..1 for the full range of the colormap\n",
        "norm = colors.Normalize(fracs.min(), fracs.max())\n",
        "\n",
        "# Now, we'll loop through our objects and set the color of each accordingly\n",
        "for thisfrac, thispatch in zip(fracs, patches):\n",
        "    color = plt.cm.viridis(norm(thisfrac))\n",
        "    thispatch.set_facecolor(color)\n",
        "    \n",
        "# sns.set_context(\"notebook\", font_scale=1.1)\n",
        "# sns.set_style(\"ticks\")    \n",
        "    \n",
        "plt.xlabel('Annual Income (k$)',fontweight='bold')\n",
        "plt.ylabel('Count',fontweight='bold')\n",
        "plt.title('Histogram - Annual Income',fontsize = 15,fontweight='bold')"
      ],
      "execution_count": 24,
      "outputs": [
        {
          "output_type": "execute_result",
          "data": {
            "text/plain": [
              "Text(0.5, 1.0, 'Histogram - Annual Income')"
            ]
          },
          "metadata": {
            "tags": []
          },
          "execution_count": 24
        },
        {
          "output_type": "display_data",
          "data": {
            "image/png": "[encoded data removed]",
            "text/plain": [
              "<Figure size 756x468 with 1 Axes>"
            ]
          },
          "metadata": {
            "tags": []
          }
        }
      ]
    },
    {
      "metadata": {
        "id": "BEDpOrjGsPkm",
        "colab_type": "text"
      },
      "cell_type": "markdown",
      "source": [
        "### Let's plot a histogram of the age distribution."
      ]
    },
    {
      "metadata": {
        "id": "IVrf-LRnsZzT",
        "colab_type": "code",
        "colab": {
          "base_uri": "https://localhost:8080/",
          "height": 457
        },
        "outputId": "00d2bf2f-16fe-4089-f8e0-e1d0e5f3cd22"
      },
      "cell_type": "code",
      "source": [
        "n_bins = 20\n",
        "x = df['Age']\n",
        "\n",
        "fig, axs = plt.subplots()\n",
        "fig.set_size_inches(10.5, 6.5)\n",
        "\n",
        "# N is the count in each bin, bins is the lower-limit of the bin\n",
        "N, bins, patches = axs.hist(x, bins=n_bins)\n",
        "\n",
        "# We'll color code by height, but you could use any scalar\n",
        "fracs = N / N.max()\n",
        "\n",
        "# we need to normalize the data to 0..1 for the full range of the colormap\n",
        "norm = colors.Normalize(fracs.min(), fracs.max())\n",
        "\n",
        "# Now, we'll loop through our objects and set the color of each accordingly\n",
        "for thisfrac, thispatch in zip(fracs, patches):\n",
        "    color = plt.cm.viridis(norm(thisfrac))\n",
        "    thispatch.set_facecolor(color)\n",
        "    \n",
        "# sns.set_context(\"notebook\", font_scale=1.1)\n",
        "# sns.set_style(\"ticks\") \n",
        "    \n",
        "plt.xlabel('Age',fontweight='bold')\n",
        "plt.ylabel('Count',fontweight='bold')\n",
        "plt.title('Histogram - Age',fontsize = 15,fontweight='bold')"
      ],
      "execution_count": 25,
      "outputs": [
        {
          "output_type": "execute_result",
          "data": {
            "text/plain": [
              "Text(0.5, 1.0, 'Histogram - Age')"
            ]
          },
          "metadata": {
            "tags": []
          },
          "execution_count": 25
        },
        {
          "output_type": "display_data",
          "data": {
            "image/png": "[encoded data removed]",
            "text/plain": [
              "<Figure size 756x468 with 1 Axes>"
            ]
          },
          "metadata": {
            "tags": []
          }
        }
      ]
    },
    {
      "metadata": {
        "id": "Vv1BiGbSs9QZ",
        "colab_type": "text"
      },
      "cell_type": "markdown",
      "source": [
        "### Let's plot a histogram of the spending score."
      ]
    },
    {
      "metadata": {
        "id": "wGj0OeCYc0Zr",
        "colab_type": "code",
        "colab": {
          "base_uri": "https://localhost:8080/",
          "height": 457
        },
        "outputId": "84c3405b-f03d-41cd-bca5-5e2a308f7975"
      },
      "cell_type": "code",
      "source": [
        "n_bins = 20\n",
        "x = df['Spending Score (1-100)']\n",
        "\n",
        "fig, axs = plt.subplots()\n",
        "fig.set_size_inches(10.5, 6.5)\n",
        "\n",
        "# N is the count in each bin, bins is the lower-limit of the bin\n",
        "N, bins, patches = axs.hist(x, bins=n_bins)\n",
        "\n",
        "# We'll color code by height, but you could use any scalar\n",
        "fracs = N / N.max()\n",
        "\n",
        "# we need to normalize the data to 0..1 for the full range of the colormap\n",
        "norm = colors.Normalize(fracs.min(), fracs.max())\n",
        "\n",
        "# Now, we'll loop through our objects and set the color of each accordingly\n",
        "for thisfrac, thispatch in zip(fracs, patches):\n",
        "    color = plt.cm.viridis(norm(thisfrac))\n",
        "    thispatch.set_facecolor(color)\n",
        "    \n",
        "sns.set_context(\"notebook\", font_scale=1.1)\n",
        "sns.set_style(\"ticks\")    \n",
        "    \n",
        "plt.xlabel('Spending Score',fontweight='bold')\n",
        "plt.ylabel('Count',fontweight='bold')\n",
        "plt.title('Histogram - Spending Score',fontsize = 15,fontweight='bold')"
      ],
      "execution_count": 26,
      "outputs": [
        {
          "output_type": "execute_result",
          "data": {
            "text/plain": [
              "Text(0.5, 1.0, 'Histogram - Spending Score')"
            ]
          },
          "metadata": {
            "tags": []
          },
          "execution_count": 26
        },
        {
          "output_type": "display_data",
          "data": {
            "image/png": "[encoded data removed]",
            "text/plain": [
              "<Figure size 756x468 with 1 Axes>"
            ]
          },
          "metadata": {
            "tags": []
          }
        }
      ]
    },
    {
      "metadata": {
        "id": "ZgUVmd-Mu9VK",
        "colab_type": "code",
        "colab": {
          "base_uri": "https://localhost:8080/",
          "height": 238
        },
        "outputId": "ae98c72b-e83a-4b84-ddb7-19601593b1ad"
      },
      "cell_type": "code",
      "source": [
        "df.info()"
      ],
      "execution_count": 27,
      "outputs": [
        {
          "output_type": "stream",
          "text": [
            "<class 'pandas.core.frame.DataFrame'>\n",
            "Int64Index: 200 entries, 1 to 200\n",
            "Data columns (total 8 columns):\n",
            "Gender                    200 non-null int8\n",
            "Age                       200 non-null int64\n",
            "Annual Income (k$)        200 non-null int64\n",
            "Spending Score (1-100)    200 non-null int64\n",
            "Gender Color              200 non-null object\n",
            "Age Groups                200 non-null category\n",
            "Income Groups             200 non-null category\n",
            "Spending Score Groups     200 non-null category\n",
            "dtypes: category(3), int64(3), int8(1), object(1)\n",
            "memory usage: 19.0+ KB\n"
          ],
          "name": "stdout"
        }
      ]
    },
    {
      "metadata": {
        "id": "W4E4EcL8wBj-",
        "colab_type": "text"
      },
      "cell_type": "markdown",
      "source": [
        "### Separate the dataset into train and test sets...."
      ]
    },
    {
      "metadata": {
        "id": "U3KzGRwpupr-",
        "colab_type": "code",
        "colab": {}
      },
      "cell_type": "code",
      "source": [
        "from sklearn.model_selection import train_test_split\n",
        "\n",
        "y=df['Spending Score (1-100)']\n",
        "X = df[['Gender','Age','Annual Income (k$)']].copy()\n",
        "\n",
        "X_train, X_test, y_train, y_test = train_test_split(X, y, test_size=0.33, random_state=42)"
      ],
      "execution_count": 0,
      "outputs": []
    },
    {
      "metadata": {
        "id": "WtDFv_pB1ZvQ",
        "colab_type": "text"
      },
      "cell_type": "markdown",
      "source": [
        "### Use sklearn's StandardScaler to feature scale X_train and y."
      ]
    },
    {
      "metadata": {
        "id": "mchL7bzAwyRt",
        "colab_type": "code",
        "colab": {
          "base_uri": "https://localhost:8080/",
          "height": 93
        },
        "outputId": "af0ae770-37e3-4640-bcb7-8b865a9dfcd0"
      },
      "cell_type": "code",
      "source": [
        "from sklearn.preprocessing import StandardScaler\n",
        "\n",
        "scaler = StandardScaler()\n",
        "scaler.fit(X_train)\n",
        "X_train_mean = scaler.mean_\n",
        "X_train_std_dev = scaler.scale_\n",
        "print(X_train_mean,X_train_std_dev)"
      ],
      "execution_count": 29,
      "outputs": [
        {
          "output_type": "stream",
          "text": [
            "[ 0.47014925 38.88059701 60.76865672] [ 0.49910814 14.05057219 27.2188242 ]\n"
          ],
          "name": "stdout"
        },
        {
          "output_type": "stream",
          "text": [
            "/usr/local/lib/python3.6/dist-packages/sklearn/preprocessing/data.py:625: DataConversionWarning: Data with input dtype int8, int64 were all converted to float64 by StandardScaler.\n",
            "  return self.partial_fit(X, y)\n"
          ],
          "name": "stderr"
        }
      ]
    },
    {
      "metadata": {
        "id": "vK2WWOll0r56",
        "colab_type": "code",
        "colab": {
          "base_uri": "https://localhost:8080/",
          "height": 127
        },
        "outputId": "bc12d552-ebd7-49fd-b673-643118762d4b"
      },
      "cell_type": "code",
      "source": [
        "y_train = y_train.reshape(-1,1)\n",
        "scaler.fit(y_train)\n",
        "y_train_mean = scaler.mean_\n",
        "y_train_std_dev = scaler.scale_\n",
        "print(y_train_mean,y_train_std_dev)"
      ],
      "execution_count": 30,
      "outputs": [
        {
          "output_type": "stream",
          "text": [
            "[51.13432836] [26.39843704]\n"
          ],
          "name": "stdout"
        },
        {
          "output_type": "stream",
          "text": [
            "/usr/local/lib/python3.6/dist-packages/ipykernel_launcher.py:1: FutureWarning: reshape is deprecated and will raise in a subsequent release. Please use .values.reshape(...) instead\n",
            "  \"\"\"Entry point for launching an IPython kernel.\n",
            "/usr/local/lib/python3.6/dist-packages/sklearn/utils/validation.py:595: DataConversionWarning: Data with input dtype int64 was converted to float64 by StandardScaler.\n",
            "  warnings.warn(msg, DataConversionWarning)\n"
          ],
          "name": "stderr"
        }
      ]
    }
  ]
}